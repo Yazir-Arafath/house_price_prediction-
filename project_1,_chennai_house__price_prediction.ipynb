{
  "nbformat": 4,
  "nbformat_minor": 0,
  "metadata": {
    "colab": {
      "name": "project-1, chennai_house _price_prediction.ipynb",
      "provenance": [],
      "collapsed_sections": []
    },
    "kernelspec": {
      "name": "python3",
      "display_name": "Python 3"
    },
    "language_info": {
      "name": "python"
    }
  },
  "cells": [
    {
      "cell_type": "markdown",
      "source": [
        "\n",
        "\n",
        "# **House Price prediction**"
      ],
      "metadata": {
        "id": "5DtRfas4pH0d"
      }
    },
    {
      "cell_type": "markdown",
      "source": [
        "#**import Labraries**"
      ],
      "metadata": {
        "id": "3OnDpkY31eGN"
      }
    },
    {
      "cell_type": "code",
      "source": [
        "import pandas as pd\n",
        "import numpy as np\n",
        "from matplotlib import pyplot as plt\n",
        "%matplotlib inline \n",
        "import matplotlib\n",
        "import os\n",
        "import seaborn as sns\n",
        "import plotly.express as px\n",
        "matplotlib.rcParams[\"figure.figsize\"] = (20,10)"
      ],
      "metadata": {
        "id": "0zee6qeWp__c"
      },
      "execution_count": 303,
      "outputs": []
    },
    {
      "cell_type": "markdown",
      "source": [
        "# **Getting the data**\n",
        "\n"
      ],
      "metadata": {
        "id": "VexvNmOErTIJ"
      }
    },
    {
      "cell_type": "code",
      "source": [
        "df1 = pd.read_csv(\"/content/train-chennai-sale.csv\")\n",
        "df1.head()"
      ],
      "metadata": {
        "colab": {
          "base_uri": "https://localhost:8080/",
          "height": 386
        },
        "id": "ciL2rMMyqgIl",
        "outputId": "48867c1a-89e1-4b2d-fe56-6aae72ffd4ed"
      },
      "execution_count": 227,
      "outputs": [
        {
          "output_type": "execute_result",
          "data": {
            "text/plain": [
              "   PRT_ID        AREA  INT_SQFT   DATE_SALE  DIST_MAINROAD  N_BEDROOM  \\\n",
              "0  P03210  Karapakkam      1004  04-05-2011            131        1.0   \n",
              "1  P09411  Anna Nagar      1986  19-12-2006             26        2.0   \n",
              "2  P01812       Adyar       909  04-02-2012             70        1.0   \n",
              "3  P05346   Velachery      1855  13-03-2010             14        3.0   \n",
              "4  P06210  Karapakkam      1226  05-10-2009             84        1.0   \n",
              "\n",
              "   N_BATHROOM  N_ROOM SALE_COND PARK_FACIL  ... UTILITY_AVAIL  STREET MZZONE  \\\n",
              "0         1.0       3  AbNormal        Yes  ...        AllPub   Paved      A   \n",
              "1         1.0       5  AbNormal         No  ...        AllPub  Gravel     RH   \n",
              "2         1.0       3  AbNormal        Yes  ...           ELO  Gravel     RL   \n",
              "3         2.0       5    Family         No  ...       NoSewr    Paved      I   \n",
              "4         1.0       3  AbNormal        Yes  ...        AllPub  Gravel      C   \n",
              "\n",
              "  QS_ROOMS QS_BATHROOM  QS_BEDROOM  QS_OVERALL  REG_FEE  COMMIS  SALES_PRICE  \n",
              "0      4.0         3.9         4.9       4.330   380000  144400      7600000  \n",
              "1      4.9         4.2         2.5       3.765   760122  304049     21717770  \n",
              "2      4.1         3.8         2.2       3.090   421094   92114     13159200  \n",
              "3      4.7         3.9         3.6       4.010   356321   77042      9630290  \n",
              "4      3.0         2.5         4.1       3.290   237000   74063      7406250  \n",
              "\n",
              "[5 rows x 22 columns]"
            ],
            "text/html": [
              "\n",
              "  <div id=\"df-408c40e2-367d-4281-826b-21b9eb56291f\">\n",
              "    <div class=\"colab-df-container\">\n",
              "      <div>\n",
              "<style scoped>\n",
              "    .dataframe tbody tr th:only-of-type {\n",
              "        vertical-align: middle;\n",
              "    }\n",
              "\n",
              "    .dataframe tbody tr th {\n",
              "        vertical-align: top;\n",
              "    }\n",
              "\n",
              "    .dataframe thead th {\n",
              "        text-align: right;\n",
              "    }\n",
              "</style>\n",
              "<table border=\"1\" class=\"dataframe\">\n",
              "  <thead>\n",
              "    <tr style=\"text-align: right;\">\n",
              "      <th></th>\n",
              "      <th>PRT_ID</th>\n",
              "      <th>AREA</th>\n",
              "      <th>INT_SQFT</th>\n",
              "      <th>DATE_SALE</th>\n",
              "      <th>DIST_MAINROAD</th>\n",
              "      <th>N_BEDROOM</th>\n",
              "      <th>N_BATHROOM</th>\n",
              "      <th>N_ROOM</th>\n",
              "      <th>SALE_COND</th>\n",
              "      <th>PARK_FACIL</th>\n",
              "      <th>...</th>\n",
              "      <th>UTILITY_AVAIL</th>\n",
              "      <th>STREET</th>\n",
              "      <th>MZZONE</th>\n",
              "      <th>QS_ROOMS</th>\n",
              "      <th>QS_BATHROOM</th>\n",
              "      <th>QS_BEDROOM</th>\n",
              "      <th>QS_OVERALL</th>\n",
              "      <th>REG_FEE</th>\n",
              "      <th>COMMIS</th>\n",
              "      <th>SALES_PRICE</th>\n",
              "    </tr>\n",
              "  </thead>\n",
              "  <tbody>\n",
              "    <tr>\n",
              "      <th>0</th>\n",
              "      <td>P03210</td>\n",
              "      <td>Karapakkam</td>\n",
              "      <td>1004</td>\n",
              "      <td>04-05-2011</td>\n",
              "      <td>131</td>\n",
              "      <td>1.0</td>\n",
              "      <td>1.0</td>\n",
              "      <td>3</td>\n",
              "      <td>AbNormal</td>\n",
              "      <td>Yes</td>\n",
              "      <td>...</td>\n",
              "      <td>AllPub</td>\n",
              "      <td>Paved</td>\n",
              "      <td>A</td>\n",
              "      <td>4.0</td>\n",
              "      <td>3.9</td>\n",
              "      <td>4.9</td>\n",
              "      <td>4.330</td>\n",
              "      <td>380000</td>\n",
              "      <td>144400</td>\n",
              "      <td>7600000</td>\n",
              "    </tr>\n",
              "    <tr>\n",
              "      <th>1</th>\n",
              "      <td>P09411</td>\n",
              "      <td>Anna Nagar</td>\n",
              "      <td>1986</td>\n",
              "      <td>19-12-2006</td>\n",
              "      <td>26</td>\n",
              "      <td>2.0</td>\n",
              "      <td>1.0</td>\n",
              "      <td>5</td>\n",
              "      <td>AbNormal</td>\n",
              "      <td>No</td>\n",
              "      <td>...</td>\n",
              "      <td>AllPub</td>\n",
              "      <td>Gravel</td>\n",
              "      <td>RH</td>\n",
              "      <td>4.9</td>\n",
              "      <td>4.2</td>\n",
              "      <td>2.5</td>\n",
              "      <td>3.765</td>\n",
              "      <td>760122</td>\n",
              "      <td>304049</td>\n",
              "      <td>21717770</td>\n",
              "    </tr>\n",
              "    <tr>\n",
              "      <th>2</th>\n",
              "      <td>P01812</td>\n",
              "      <td>Adyar</td>\n",
              "      <td>909</td>\n",
              "      <td>04-02-2012</td>\n",
              "      <td>70</td>\n",
              "      <td>1.0</td>\n",
              "      <td>1.0</td>\n",
              "      <td>3</td>\n",
              "      <td>AbNormal</td>\n",
              "      <td>Yes</td>\n",
              "      <td>...</td>\n",
              "      <td>ELO</td>\n",
              "      <td>Gravel</td>\n",
              "      <td>RL</td>\n",
              "      <td>4.1</td>\n",
              "      <td>3.8</td>\n",
              "      <td>2.2</td>\n",
              "      <td>3.090</td>\n",
              "      <td>421094</td>\n",
              "      <td>92114</td>\n",
              "      <td>13159200</td>\n",
              "    </tr>\n",
              "    <tr>\n",
              "      <th>3</th>\n",
              "      <td>P05346</td>\n",
              "      <td>Velachery</td>\n",
              "      <td>1855</td>\n",
              "      <td>13-03-2010</td>\n",
              "      <td>14</td>\n",
              "      <td>3.0</td>\n",
              "      <td>2.0</td>\n",
              "      <td>5</td>\n",
              "      <td>Family</td>\n",
              "      <td>No</td>\n",
              "      <td>...</td>\n",
              "      <td>NoSewr</td>\n",
              "      <td>Paved</td>\n",
              "      <td>I</td>\n",
              "      <td>4.7</td>\n",
              "      <td>3.9</td>\n",
              "      <td>3.6</td>\n",
              "      <td>4.010</td>\n",
              "      <td>356321</td>\n",
              "      <td>77042</td>\n",
              "      <td>9630290</td>\n",
              "    </tr>\n",
              "    <tr>\n",
              "      <th>4</th>\n",
              "      <td>P06210</td>\n",
              "      <td>Karapakkam</td>\n",
              "      <td>1226</td>\n",
              "      <td>05-10-2009</td>\n",
              "      <td>84</td>\n",
              "      <td>1.0</td>\n",
              "      <td>1.0</td>\n",
              "      <td>3</td>\n",
              "      <td>AbNormal</td>\n",
              "      <td>Yes</td>\n",
              "      <td>...</td>\n",
              "      <td>AllPub</td>\n",
              "      <td>Gravel</td>\n",
              "      <td>C</td>\n",
              "      <td>3.0</td>\n",
              "      <td>2.5</td>\n",
              "      <td>4.1</td>\n",
              "      <td>3.290</td>\n",
              "      <td>237000</td>\n",
              "      <td>74063</td>\n",
              "      <td>7406250</td>\n",
              "    </tr>\n",
              "  </tbody>\n",
              "</table>\n",
              "<p>5 rows × 22 columns</p>\n",
              "</div>\n",
              "      <button class=\"colab-df-convert\" onclick=\"convertToInteractive('df-408c40e2-367d-4281-826b-21b9eb56291f')\"\n",
              "              title=\"Convert this dataframe to an interactive table.\"\n",
              "              style=\"display:none;\">\n",
              "        \n",
              "  <svg xmlns=\"http://www.w3.org/2000/svg\" height=\"24px\"viewBox=\"0 0 24 24\"\n",
              "       width=\"24px\">\n",
              "    <path d=\"M0 0h24v24H0V0z\" fill=\"none\"/>\n",
              "    <path d=\"M18.56 5.44l.94 2.06.94-2.06 2.06-.94-2.06-.94-.94-2.06-.94 2.06-2.06.94zm-11 1L8.5 8.5l.94-2.06 2.06-.94-2.06-.94L8.5 2.5l-.94 2.06-2.06.94zm10 10l.94 2.06.94-2.06 2.06-.94-2.06-.94-.94-2.06-.94 2.06-2.06.94z\"/><path d=\"M17.41 7.96l-1.37-1.37c-.4-.4-.92-.59-1.43-.59-.52 0-1.04.2-1.43.59L10.3 9.45l-7.72 7.72c-.78.78-.78 2.05 0 2.83L4 21.41c.39.39.9.59 1.41.59.51 0 1.02-.2 1.41-.59l7.78-7.78 2.81-2.81c.8-.78.8-2.07 0-2.86zM5.41 20L4 18.59l7.72-7.72 1.47 1.35L5.41 20z\"/>\n",
              "  </svg>\n",
              "      </button>\n",
              "      \n",
              "  <style>\n",
              "    .colab-df-container {\n",
              "      display:flex;\n",
              "      flex-wrap:wrap;\n",
              "      gap: 12px;\n",
              "    }\n",
              "\n",
              "    .colab-df-convert {\n",
              "      background-color: #E8F0FE;\n",
              "      border: none;\n",
              "      border-radius: 50%;\n",
              "      cursor: pointer;\n",
              "      display: none;\n",
              "      fill: #1967D2;\n",
              "      height: 32px;\n",
              "      padding: 0 0 0 0;\n",
              "      width: 32px;\n",
              "    }\n",
              "\n",
              "    .colab-df-convert:hover {\n",
              "      background-color: #E2EBFA;\n",
              "      box-shadow: 0px 1px 2px rgba(60, 64, 67, 0.3), 0px 1px 3px 1px rgba(60, 64, 67, 0.15);\n",
              "      fill: #174EA6;\n",
              "    }\n",
              "\n",
              "    [theme=dark] .colab-df-convert {\n",
              "      background-color: #3B4455;\n",
              "      fill: #D2E3FC;\n",
              "    }\n",
              "\n",
              "    [theme=dark] .colab-df-convert:hover {\n",
              "      background-color: #434B5C;\n",
              "      box-shadow: 0px 1px 3px 1px rgba(0, 0, 0, 0.15);\n",
              "      filter: drop-shadow(0px 1px 2px rgba(0, 0, 0, 0.3));\n",
              "      fill: #FFFFFF;\n",
              "    }\n",
              "  </style>\n",
              "\n",
              "      <script>\n",
              "        const buttonEl =\n",
              "          document.querySelector('#df-408c40e2-367d-4281-826b-21b9eb56291f button.colab-df-convert');\n",
              "        buttonEl.style.display =\n",
              "          google.colab.kernel.accessAllowed ? 'block' : 'none';\n",
              "\n",
              "        async function convertToInteractive(key) {\n",
              "          const element = document.querySelector('#df-408c40e2-367d-4281-826b-21b9eb56291f');\n",
              "          const dataTable =\n",
              "            await google.colab.kernel.invokeFunction('convertToInteractive',\n",
              "                                                     [key], {});\n",
              "          if (!dataTable) return;\n",
              "\n",
              "          const docLinkHtml = 'Like what you see? Visit the ' +\n",
              "            '<a target=\"_blank\" href=https://colab.research.google.com/notebooks/data_table.ipynb>data table notebook</a>'\n",
              "            + ' to learn more about interactive tables.';\n",
              "          element.innerHTML = '';\n",
              "          dataTable['output_type'] = 'display_data';\n",
              "          await google.colab.output.renderOutput(dataTable, element);\n",
              "          const docLink = document.createElement('div');\n",
              "          docLink.innerHTML = docLinkHtml;\n",
              "          element.appendChild(docLink);\n",
              "        }\n",
              "      </script>\n",
              "    </div>\n",
              "  </div>\n",
              "  "
            ]
          },
          "metadata": {},
          "execution_count": 227
        }
      ]
    },
    {
      "cell_type": "markdown",
      "source": [
        "#**Data cleaning**"
      ],
      "metadata": {
        "id": "wpAC2nser3Et"
      }
    },
    {
      "cell_type": "code",
      "source": [
        "df1.head()"
      ],
      "metadata": {
        "colab": {
          "base_uri": "https://localhost:8080/",
          "height": 386
        },
        "id": "uMB69wpmr-xY",
        "outputId": "4cbccc1c-2fc2-4663-a6b8-227d0cae9674"
      },
      "execution_count": 228,
      "outputs": [
        {
          "output_type": "execute_result",
          "data": {
            "text/plain": [
              "   PRT_ID        AREA  INT_SQFT   DATE_SALE  DIST_MAINROAD  N_BEDROOM  \\\n",
              "0  P03210  Karapakkam      1004  04-05-2011            131        1.0   \n",
              "1  P09411  Anna Nagar      1986  19-12-2006             26        2.0   \n",
              "2  P01812       Adyar       909  04-02-2012             70        1.0   \n",
              "3  P05346   Velachery      1855  13-03-2010             14        3.0   \n",
              "4  P06210  Karapakkam      1226  05-10-2009             84        1.0   \n",
              "\n",
              "   N_BATHROOM  N_ROOM SALE_COND PARK_FACIL  ... UTILITY_AVAIL  STREET MZZONE  \\\n",
              "0         1.0       3  AbNormal        Yes  ...        AllPub   Paved      A   \n",
              "1         1.0       5  AbNormal         No  ...        AllPub  Gravel     RH   \n",
              "2         1.0       3  AbNormal        Yes  ...           ELO  Gravel     RL   \n",
              "3         2.0       5    Family         No  ...       NoSewr    Paved      I   \n",
              "4         1.0       3  AbNormal        Yes  ...        AllPub  Gravel      C   \n",
              "\n",
              "  QS_ROOMS QS_BATHROOM  QS_BEDROOM  QS_OVERALL  REG_FEE  COMMIS  SALES_PRICE  \n",
              "0      4.0         3.9         4.9       4.330   380000  144400      7600000  \n",
              "1      4.9         4.2         2.5       3.765   760122  304049     21717770  \n",
              "2      4.1         3.8         2.2       3.090   421094   92114     13159200  \n",
              "3      4.7         3.9         3.6       4.010   356321   77042      9630290  \n",
              "4      3.0         2.5         4.1       3.290   237000   74063      7406250  \n",
              "\n",
              "[5 rows x 22 columns]"
            ],
            "text/html": [
              "\n",
              "  <div id=\"df-e66341e3-9380-4417-ac3e-b4471351f022\">\n",
              "    <div class=\"colab-df-container\">\n",
              "      <div>\n",
              "<style scoped>\n",
              "    .dataframe tbody tr th:only-of-type {\n",
              "        vertical-align: middle;\n",
              "    }\n",
              "\n",
              "    .dataframe tbody tr th {\n",
              "        vertical-align: top;\n",
              "    }\n",
              "\n",
              "    .dataframe thead th {\n",
              "        text-align: right;\n",
              "    }\n",
              "</style>\n",
              "<table border=\"1\" class=\"dataframe\">\n",
              "  <thead>\n",
              "    <tr style=\"text-align: right;\">\n",
              "      <th></th>\n",
              "      <th>PRT_ID</th>\n",
              "      <th>AREA</th>\n",
              "      <th>INT_SQFT</th>\n",
              "      <th>DATE_SALE</th>\n",
              "      <th>DIST_MAINROAD</th>\n",
              "      <th>N_BEDROOM</th>\n",
              "      <th>N_BATHROOM</th>\n",
              "      <th>N_ROOM</th>\n",
              "      <th>SALE_COND</th>\n",
              "      <th>PARK_FACIL</th>\n",
              "      <th>...</th>\n",
              "      <th>UTILITY_AVAIL</th>\n",
              "      <th>STREET</th>\n",
              "      <th>MZZONE</th>\n",
              "      <th>QS_ROOMS</th>\n",
              "      <th>QS_BATHROOM</th>\n",
              "      <th>QS_BEDROOM</th>\n",
              "      <th>QS_OVERALL</th>\n",
              "      <th>REG_FEE</th>\n",
              "      <th>COMMIS</th>\n",
              "      <th>SALES_PRICE</th>\n",
              "    </tr>\n",
              "  </thead>\n",
              "  <tbody>\n",
              "    <tr>\n",
              "      <th>0</th>\n",
              "      <td>P03210</td>\n",
              "      <td>Karapakkam</td>\n",
              "      <td>1004</td>\n",
              "      <td>04-05-2011</td>\n",
              "      <td>131</td>\n",
              "      <td>1.0</td>\n",
              "      <td>1.0</td>\n",
              "      <td>3</td>\n",
              "      <td>AbNormal</td>\n",
              "      <td>Yes</td>\n",
              "      <td>...</td>\n",
              "      <td>AllPub</td>\n",
              "      <td>Paved</td>\n",
              "      <td>A</td>\n",
              "      <td>4.0</td>\n",
              "      <td>3.9</td>\n",
              "      <td>4.9</td>\n",
              "      <td>4.330</td>\n",
              "      <td>380000</td>\n",
              "      <td>144400</td>\n",
              "      <td>7600000</td>\n",
              "    </tr>\n",
              "    <tr>\n",
              "      <th>1</th>\n",
              "      <td>P09411</td>\n",
              "      <td>Anna Nagar</td>\n",
              "      <td>1986</td>\n",
              "      <td>19-12-2006</td>\n",
              "      <td>26</td>\n",
              "      <td>2.0</td>\n",
              "      <td>1.0</td>\n",
              "      <td>5</td>\n",
              "      <td>AbNormal</td>\n",
              "      <td>No</td>\n",
              "      <td>...</td>\n",
              "      <td>AllPub</td>\n",
              "      <td>Gravel</td>\n",
              "      <td>RH</td>\n",
              "      <td>4.9</td>\n",
              "      <td>4.2</td>\n",
              "      <td>2.5</td>\n",
              "      <td>3.765</td>\n",
              "      <td>760122</td>\n",
              "      <td>304049</td>\n",
              "      <td>21717770</td>\n",
              "    </tr>\n",
              "    <tr>\n",
              "      <th>2</th>\n",
              "      <td>P01812</td>\n",
              "      <td>Adyar</td>\n",
              "      <td>909</td>\n",
              "      <td>04-02-2012</td>\n",
              "      <td>70</td>\n",
              "      <td>1.0</td>\n",
              "      <td>1.0</td>\n",
              "      <td>3</td>\n",
              "      <td>AbNormal</td>\n",
              "      <td>Yes</td>\n",
              "      <td>...</td>\n",
              "      <td>ELO</td>\n",
              "      <td>Gravel</td>\n",
              "      <td>RL</td>\n",
              "      <td>4.1</td>\n",
              "      <td>3.8</td>\n",
              "      <td>2.2</td>\n",
              "      <td>3.090</td>\n",
              "      <td>421094</td>\n",
              "      <td>92114</td>\n",
              "      <td>13159200</td>\n",
              "    </tr>\n",
              "    <tr>\n",
              "      <th>3</th>\n",
              "      <td>P05346</td>\n",
              "      <td>Velachery</td>\n",
              "      <td>1855</td>\n",
              "      <td>13-03-2010</td>\n",
              "      <td>14</td>\n",
              "      <td>3.0</td>\n",
              "      <td>2.0</td>\n",
              "      <td>5</td>\n",
              "      <td>Family</td>\n",
              "      <td>No</td>\n",
              "      <td>...</td>\n",
              "      <td>NoSewr</td>\n",
              "      <td>Paved</td>\n",
              "      <td>I</td>\n",
              "      <td>4.7</td>\n",
              "      <td>3.9</td>\n",
              "      <td>3.6</td>\n",
              "      <td>4.010</td>\n",
              "      <td>356321</td>\n",
              "      <td>77042</td>\n",
              "      <td>9630290</td>\n",
              "    </tr>\n",
              "    <tr>\n",
              "      <th>4</th>\n",
              "      <td>P06210</td>\n",
              "      <td>Karapakkam</td>\n",
              "      <td>1226</td>\n",
              "      <td>05-10-2009</td>\n",
              "      <td>84</td>\n",
              "      <td>1.0</td>\n",
              "      <td>1.0</td>\n",
              "      <td>3</td>\n",
              "      <td>AbNormal</td>\n",
              "      <td>Yes</td>\n",
              "      <td>...</td>\n",
              "      <td>AllPub</td>\n",
              "      <td>Gravel</td>\n",
              "      <td>C</td>\n",
              "      <td>3.0</td>\n",
              "      <td>2.5</td>\n",
              "      <td>4.1</td>\n",
              "      <td>3.290</td>\n",
              "      <td>237000</td>\n",
              "      <td>74063</td>\n",
              "      <td>7406250</td>\n",
              "    </tr>\n",
              "  </tbody>\n",
              "</table>\n",
              "<p>5 rows × 22 columns</p>\n",
              "</div>\n",
              "      <button class=\"colab-df-convert\" onclick=\"convertToInteractive('df-e66341e3-9380-4417-ac3e-b4471351f022')\"\n",
              "              title=\"Convert this dataframe to an interactive table.\"\n",
              "              style=\"display:none;\">\n",
              "        \n",
              "  <svg xmlns=\"http://www.w3.org/2000/svg\" height=\"24px\"viewBox=\"0 0 24 24\"\n",
              "       width=\"24px\">\n",
              "    <path d=\"M0 0h24v24H0V0z\" fill=\"none\"/>\n",
              "    <path d=\"M18.56 5.44l.94 2.06.94-2.06 2.06-.94-2.06-.94-.94-2.06-.94 2.06-2.06.94zm-11 1L8.5 8.5l.94-2.06 2.06-.94-2.06-.94L8.5 2.5l-.94 2.06-2.06.94zm10 10l.94 2.06.94-2.06 2.06-.94-2.06-.94-.94-2.06-.94 2.06-2.06.94z\"/><path d=\"M17.41 7.96l-1.37-1.37c-.4-.4-.92-.59-1.43-.59-.52 0-1.04.2-1.43.59L10.3 9.45l-7.72 7.72c-.78.78-.78 2.05 0 2.83L4 21.41c.39.39.9.59 1.41.59.51 0 1.02-.2 1.41-.59l7.78-7.78 2.81-2.81c.8-.78.8-2.07 0-2.86zM5.41 20L4 18.59l7.72-7.72 1.47 1.35L5.41 20z\"/>\n",
              "  </svg>\n",
              "      </button>\n",
              "      \n",
              "  <style>\n",
              "    .colab-df-container {\n",
              "      display:flex;\n",
              "      flex-wrap:wrap;\n",
              "      gap: 12px;\n",
              "    }\n",
              "\n",
              "    .colab-df-convert {\n",
              "      background-color: #E8F0FE;\n",
              "      border: none;\n",
              "      border-radius: 50%;\n",
              "      cursor: pointer;\n",
              "      display: none;\n",
              "      fill: #1967D2;\n",
              "      height: 32px;\n",
              "      padding: 0 0 0 0;\n",
              "      width: 32px;\n",
              "    }\n",
              "\n",
              "    .colab-df-convert:hover {\n",
              "      background-color: #E2EBFA;\n",
              "      box-shadow: 0px 1px 2px rgba(60, 64, 67, 0.3), 0px 1px 3px 1px rgba(60, 64, 67, 0.15);\n",
              "      fill: #174EA6;\n",
              "    }\n",
              "\n",
              "    [theme=dark] .colab-df-convert {\n",
              "      background-color: #3B4455;\n",
              "      fill: #D2E3FC;\n",
              "    }\n",
              "\n",
              "    [theme=dark] .colab-df-convert:hover {\n",
              "      background-color: #434B5C;\n",
              "      box-shadow: 0px 1px 3px 1px rgba(0, 0, 0, 0.15);\n",
              "      filter: drop-shadow(0px 1px 2px rgba(0, 0, 0, 0.3));\n",
              "      fill: #FFFFFF;\n",
              "    }\n",
              "  </style>\n",
              "\n",
              "      <script>\n",
              "        const buttonEl =\n",
              "          document.querySelector('#df-e66341e3-9380-4417-ac3e-b4471351f022 button.colab-df-convert');\n",
              "        buttonEl.style.display =\n",
              "          google.colab.kernel.accessAllowed ? 'block' : 'none';\n",
              "\n",
              "        async function convertToInteractive(key) {\n",
              "          const element = document.querySelector('#df-e66341e3-9380-4417-ac3e-b4471351f022');\n",
              "          const dataTable =\n",
              "            await google.colab.kernel.invokeFunction('convertToInteractive',\n",
              "                                                     [key], {});\n",
              "          if (!dataTable) return;\n",
              "\n",
              "          const docLinkHtml = 'Like what you see? Visit the ' +\n",
              "            '<a target=\"_blank\" href=https://colab.research.google.com/notebooks/data_table.ipynb>data table notebook</a>'\n",
              "            + ' to learn more about interactive tables.';\n",
              "          element.innerHTML = '';\n",
              "          dataTable['output_type'] = 'display_data';\n",
              "          await google.colab.output.renderOutput(dataTable, element);\n",
              "          const docLink = document.createElement('div');\n",
              "          docLink.innerHTML = docLinkHtml;\n",
              "          element.appendChild(docLink);\n",
              "        }\n",
              "      </script>\n",
              "    </div>\n",
              "  </div>\n",
              "  "
            ]
          },
          "metadata": {},
          "execution_count": 228
        }
      ]
    },
    {
      "cell_type": "code",
      "source": [
        "df1.shape"
      ],
      "metadata": {
        "colab": {
          "base_uri": "https://localhost:8080/"
        },
        "id": "KR_8w-gqsmE3",
        "outputId": "a13ca78c-b29f-4980-9a07-a07cbdbf0b6e"
      },
      "execution_count": 229,
      "outputs": [
        {
          "output_type": "execute_result",
          "data": {
            "text/plain": [
              "(7109, 22)"
            ]
          },
          "metadata": {},
          "execution_count": 229
        }
      ]
    },
    {
      "cell_type": "code",
      "source": [
        "df1.info()"
      ],
      "metadata": {
        "colab": {
          "base_uri": "https://localhost:8080/"
        },
        "id": "gwGrbsC_spMj",
        "outputId": "92046911-4a77-42e9-99d6-aae9eced656b"
      },
      "execution_count": 230,
      "outputs": [
        {
          "output_type": "stream",
          "name": "stdout",
          "text": [
            "<class 'pandas.core.frame.DataFrame'>\n",
            "RangeIndex: 7109 entries, 0 to 7108\n",
            "Data columns (total 22 columns):\n",
            " #   Column         Non-Null Count  Dtype  \n",
            "---  ------         --------------  -----  \n",
            " 0   PRT_ID         7109 non-null   object \n",
            " 1   AREA           7109 non-null   object \n",
            " 2   INT_SQFT       7109 non-null   int64  \n",
            " 3   DATE_SALE      7109 non-null   object \n",
            " 4   DIST_MAINROAD  7109 non-null   int64  \n",
            " 5   N_BEDROOM      7108 non-null   float64\n",
            " 6   N_BATHROOM     7104 non-null   float64\n",
            " 7   N_ROOM         7109 non-null   int64  \n",
            " 8   SALE_COND      7109 non-null   object \n",
            " 9   PARK_FACIL     7109 non-null   object \n",
            " 10  DATE_BUILD     7109 non-null   object \n",
            " 11  BUILDTYPE      7109 non-null   object \n",
            " 12  UTILITY_AVAIL  7109 non-null   object \n",
            " 13  STREET         7109 non-null   object \n",
            " 14  MZZONE         7109 non-null   object \n",
            " 15  QS_ROOMS       7109 non-null   float64\n",
            " 16  QS_BATHROOM    7109 non-null   float64\n",
            " 17  QS_BEDROOM     7109 non-null   float64\n",
            " 18  QS_OVERALL     7061 non-null   float64\n",
            " 19  REG_FEE        7109 non-null   int64  \n",
            " 20  COMMIS         7109 non-null   int64  \n",
            " 21  SALES_PRICE    7109 non-null   int64  \n",
            "dtypes: float64(6), int64(6), object(10)\n",
            "memory usage: 1.2+ MB\n"
          ]
        }
      ]
    },
    {
      "cell_type": "markdown",
      "source": [
        "**Finding null values**"
      ],
      "metadata": {
        "id": "84rZ3NnGvE8N"
      }
    },
    {
      "cell_type": "code",
      "source": [
        "df1.isnull().sum ()"
      ],
      "metadata": {
        "colab": {
          "base_uri": "https://localhost:8080/"
        },
        "id": "YE0UB8HtsufE",
        "outputId": "6aff2a3e-68df-44c7-ec75-4cc9f4c0b377"
      },
      "execution_count": 231,
      "outputs": [
        {
          "output_type": "execute_result",
          "data": {
            "text/plain": [
              "PRT_ID            0\n",
              "AREA              0\n",
              "INT_SQFT          0\n",
              "DATE_SALE         0\n",
              "DIST_MAINROAD     0\n",
              "N_BEDROOM         1\n",
              "N_BATHROOM        5\n",
              "N_ROOM            0\n",
              "SALE_COND         0\n",
              "PARK_FACIL        0\n",
              "DATE_BUILD        0\n",
              "BUILDTYPE         0\n",
              "UTILITY_AVAIL     0\n",
              "STREET            0\n",
              "MZZONE            0\n",
              "QS_ROOMS          0\n",
              "QS_BATHROOM       0\n",
              "QS_BEDROOM        0\n",
              "QS_OVERALL       48\n",
              "REG_FEE           0\n",
              "COMMIS            0\n",
              "SALES_PRICE       0\n",
              "dtype: int64"
            ]
          },
          "metadata": {},
          "execution_count": 231
        }
      ]
    },
    {
      "cell_type": "markdown",
      "source": [
        "**Filling the null values**"
      ],
      "metadata": {
        "id": "ARAz8dUpvPXd"
      }
    },
    {
      "cell_type": "code",
      "source": [
        "#null values are occur in N_BEDROOM and N_BATHROOM\n",
        "#date datatype was wrong\n",
        "#change room dtype to int"
      ],
      "metadata": {
        "id": "Rq7GvzV3tthQ"
      },
      "execution_count": 232,
      "outputs": []
    },
    {
      "cell_type": "code",
      "source": [
        "mode_bath=df1[\"N_BATHROOM\"].mode()[0]\n",
        "mode_bed=df1[\"N_BEDROOM\"].mode()[0]"
      ],
      "metadata": {
        "id": "whv-M7OLt_fE"
      },
      "execution_count": 233,
      "outputs": []
    },
    {
      "cell_type": "code",
      "source": [
        "df1[\"N_BATHROOM\"].fillna(mode_bath,inplace=True)\n",
        "df1[\"N_BEDROOM\"].fillna(mode_bed,inplace=True)"
      ],
      "metadata": {
        "id": "gvlhUCmkualk"
      },
      "execution_count": 234,
      "outputs": []
    },
    {
      "cell_type": "code",
      "source": [
        "df1.isnull().sum ()"
      ],
      "metadata": {
        "colab": {
          "base_uri": "https://localhost:8080/"
        },
        "id": "fY_6wnKuuzET",
        "outputId": "948b663a-ca1f-4e61-beed-b372256df7e7"
      },
      "execution_count": 235,
      "outputs": [
        {
          "output_type": "execute_result",
          "data": {
            "text/plain": [
              "PRT_ID            0\n",
              "AREA              0\n",
              "INT_SQFT          0\n",
              "DATE_SALE         0\n",
              "DIST_MAINROAD     0\n",
              "N_BEDROOM         0\n",
              "N_BATHROOM        0\n",
              "N_ROOM            0\n",
              "SALE_COND         0\n",
              "PARK_FACIL        0\n",
              "DATE_BUILD        0\n",
              "BUILDTYPE         0\n",
              "UTILITY_AVAIL     0\n",
              "STREET            0\n",
              "MZZONE            0\n",
              "QS_ROOMS          0\n",
              "QS_BATHROOM       0\n",
              "QS_BEDROOM        0\n",
              "QS_OVERALL       48\n",
              "REG_FEE           0\n",
              "COMMIS            0\n",
              "SALES_PRICE       0\n",
              "dtype: int64"
            ]
          },
          "metadata": {},
          "execution_count": 235
        }
      ]
    },
    {
      "cell_type": "code",
      "source": [
        "df2 = df1.dropna()\n",
        "df2.isnull().sum()"
      ],
      "metadata": {
        "colab": {
          "base_uri": "https://localhost:8080/"
        },
        "id": "romIeiOvu25V",
        "outputId": "40db0df2-af51-4bbf-968e-5e6c2752c0a6"
      },
      "execution_count": 236,
      "outputs": [
        {
          "output_type": "execute_result",
          "data": {
            "text/plain": [
              "PRT_ID           0\n",
              "AREA             0\n",
              "INT_SQFT         0\n",
              "DATE_SALE        0\n",
              "DIST_MAINROAD    0\n",
              "N_BEDROOM        0\n",
              "N_BATHROOM       0\n",
              "N_ROOM           0\n",
              "SALE_COND        0\n",
              "PARK_FACIL       0\n",
              "DATE_BUILD       0\n",
              "BUILDTYPE        0\n",
              "UTILITY_AVAIL    0\n",
              "STREET           0\n",
              "MZZONE           0\n",
              "QS_ROOMS         0\n",
              "QS_BATHROOM      0\n",
              "QS_BEDROOM       0\n",
              "QS_OVERALL       0\n",
              "REG_FEE          0\n",
              "COMMIS           0\n",
              "SALES_PRICE      0\n",
              "dtype: int64"
            ]
          },
          "metadata": {},
          "execution_count": 236
        }
      ]
    },
    {
      "cell_type": "code",
      "source": [
        "#changing the datatype\n",
        "df2[\"DATE_BUILD\"]=pd.to_datetime(df2[\"DATE_BUILD\"])\n",
        "df2[\"DATE_SALE\"]=pd.to_datetime(df2[\"DATE_SALE\"])\n",
        "df2[\"N_BEDROOM\"]=df2[\"N_BEDROOM\"].astype(int)\n",
        "df2[\"N_BATHROOM\"]=df2[\"N_BATHROOM\"].astype(int)\n"
      ],
      "metadata": {
        "colab": {
          "base_uri": "https://localhost:8080/"
        },
        "id": "qybC-_c5vjbF",
        "outputId": "ba19a667-c067-4ca1-d543-fb595abbfcbc"
      },
      "execution_count": 237,
      "outputs": [
        {
          "output_type": "stream",
          "name": "stderr",
          "text": [
            "/usr/local/lib/python3.7/dist-packages/ipykernel_launcher.py:2: SettingWithCopyWarning:\n",
            "\n",
            "\n",
            "A value is trying to be set on a copy of a slice from a DataFrame.\n",
            "Try using .loc[row_indexer,col_indexer] = value instead\n",
            "\n",
            "See the caveats in the documentation: https://pandas.pydata.org/pandas-docs/stable/user_guide/indexing.html#returning-a-view-versus-a-copy\n",
            "\n",
            "/usr/local/lib/python3.7/dist-packages/ipykernel_launcher.py:3: SettingWithCopyWarning:\n",
            "\n",
            "\n",
            "A value is trying to be set on a copy of a slice from a DataFrame.\n",
            "Try using .loc[row_indexer,col_indexer] = value instead\n",
            "\n",
            "See the caveats in the documentation: https://pandas.pydata.org/pandas-docs/stable/user_guide/indexing.html#returning-a-view-versus-a-copy\n",
            "\n",
            "/usr/local/lib/python3.7/dist-packages/ipykernel_launcher.py:4: SettingWithCopyWarning:\n",
            "\n",
            "\n",
            "A value is trying to be set on a copy of a slice from a DataFrame.\n",
            "Try using .loc[row_indexer,col_indexer] = value instead\n",
            "\n",
            "See the caveats in the documentation: https://pandas.pydata.org/pandas-docs/stable/user_guide/indexing.html#returning-a-view-versus-a-copy\n",
            "\n",
            "/usr/local/lib/python3.7/dist-packages/ipykernel_launcher.py:5: SettingWithCopyWarning:\n",
            "\n",
            "\n",
            "A value is trying to be set on a copy of a slice from a DataFrame.\n",
            "Try using .loc[row_indexer,col_indexer] = value instead\n",
            "\n",
            "See the caveats in the documentation: https://pandas.pydata.org/pandas-docs/stable/user_guide/indexing.html#returning-a-view-versus-a-copy\n",
            "\n"
          ]
        }
      ]
    },
    {
      "cell_type": "code",
      "source": [
        "df2[\"HOUSE_AGE\"] = df2[\"DATE_SALE\"].dt.year-df2[\"DATE_BUILD\"].dt.year\n"
      ],
      "metadata": {
        "colab": {
          "base_uri": "https://localhost:8080/"
        },
        "id": "UWwofkBAwGP0",
        "outputId": "f623e96b-5816-4701-d9aa-f9cb7cd081d7"
      },
      "execution_count": 238,
      "outputs": [
        {
          "output_type": "stream",
          "name": "stderr",
          "text": [
            "/usr/local/lib/python3.7/dist-packages/ipykernel_launcher.py:1: SettingWithCopyWarning:\n",
            "\n",
            "\n",
            "A value is trying to be set on a copy of a slice from a DataFrame.\n",
            "Try using .loc[row_indexer,col_indexer] = value instead\n",
            "\n",
            "See the caveats in the documentation: https://pandas.pydata.org/pandas-docs/stable/user_guide/indexing.html#returning-a-view-versus-a-copy\n",
            "\n"
          ]
        }
      ]
    },
    {
      "cell_type": "code",
      "source": [
        "df2.info()"
      ],
      "metadata": {
        "colab": {
          "base_uri": "https://localhost:8080/"
        },
        "id": "PdkqdByvxEUv",
        "outputId": "c50dc5ed-0d6c-4b68-b5a4-cd72693ab745"
      },
      "execution_count": 239,
      "outputs": [
        {
          "output_type": "stream",
          "name": "stdout",
          "text": [
            "<class 'pandas.core.frame.DataFrame'>\n",
            "Int64Index: 7061 entries, 0 to 7108\n",
            "Data columns (total 23 columns):\n",
            " #   Column         Non-Null Count  Dtype         \n",
            "---  ------         --------------  -----         \n",
            " 0   PRT_ID         7061 non-null   object        \n",
            " 1   AREA           7061 non-null   object        \n",
            " 2   INT_SQFT       7061 non-null   int64         \n",
            " 3   DATE_SALE      7061 non-null   datetime64[ns]\n",
            " 4   DIST_MAINROAD  7061 non-null   int64         \n",
            " 5   N_BEDROOM      7061 non-null   int64         \n",
            " 6   N_BATHROOM     7061 non-null   int64         \n",
            " 7   N_ROOM         7061 non-null   int64         \n",
            " 8   SALE_COND      7061 non-null   object        \n",
            " 9   PARK_FACIL     7061 non-null   object        \n",
            " 10  DATE_BUILD     7061 non-null   datetime64[ns]\n",
            " 11  BUILDTYPE      7061 non-null   object        \n",
            " 12  UTILITY_AVAIL  7061 non-null   object        \n",
            " 13  STREET         7061 non-null   object        \n",
            " 14  MZZONE         7061 non-null   object        \n",
            " 15  QS_ROOMS       7061 non-null   float64       \n",
            " 16  QS_BATHROOM    7061 non-null   float64       \n",
            " 17  QS_BEDROOM     7061 non-null   float64       \n",
            " 18  QS_OVERALL     7061 non-null   float64       \n",
            " 19  REG_FEE        7061 non-null   int64         \n",
            " 20  COMMIS         7061 non-null   int64         \n",
            " 21  SALES_PRICE    7061 non-null   int64         \n",
            " 22  HOUSE_AGE      7061 non-null   int64         \n",
            "dtypes: datetime64[ns](2), float64(4), int64(9), object(8)\n",
            "memory usage: 1.3+ MB\n"
          ]
        }
      ]
    },
    {
      "cell_type": "code",
      "source": [
        "df2['AREA'].unique()"
      ],
      "metadata": {
        "colab": {
          "base_uri": "https://localhost:8080/"
        },
        "id": "M2XLR-kjxVtH",
        "outputId": "729ea2a6-2c47-4e53-9d29-1d80ab319760"
      },
      "execution_count": 240,
      "outputs": [
        {
          "output_type": "execute_result",
          "data": {
            "text/plain": [
              "array(['Karapakkam', 'Anna Nagar', 'Adyar', 'Velachery', 'Chrompet',\n",
              "       'KK Nagar', 'T Nagar'], dtype=object)"
            ]
          },
          "metadata": {},
          "execution_count": 240
        }
      ]
    },
    {
      "cell_type": "markdown",
      "source": [
        "**Same place with speeling mistake**"
      ],
      "metadata": {
        "id": "t-Wt48b4yHqP"
      }
    },
    {
      "cell_type": "code",
      "source": [
        "df2['AREA'] = df2['AREA'].replace({'TNagar':'T Nagar','Chrompt':'Chrompet','Chrmpet':'Chrompet','Chormpet':'Chrompet','Karapakam':'Karapakkam','Adyr':'Adyar','Ann Nagar':'Anna Nagar','Ana Nagar':'Anna Nagar','Velchery':'Velachery','KKNagar':'KK Nagar'})\n",
        "df2"
      ],
      "metadata": {
        "colab": {
          "base_uri": "https://localhost:8080/",
          "height": 800
        },
        "id": "BQhR6Hulxo3U",
        "outputId": "ca84a8eb-003b-4d1f-8b23-07531f83d08f"
      },
      "execution_count": 241,
      "outputs": [
        {
          "output_type": "stream",
          "name": "stderr",
          "text": [
            "/usr/local/lib/python3.7/dist-packages/ipykernel_launcher.py:1: SettingWithCopyWarning:\n",
            "\n",
            "\n",
            "A value is trying to be set on a copy of a slice from a DataFrame.\n",
            "Try using .loc[row_indexer,col_indexer] = value instead\n",
            "\n",
            "See the caveats in the documentation: https://pandas.pydata.org/pandas-docs/stable/user_guide/indexing.html#returning-a-view-versus-a-copy\n",
            "\n"
          ]
        },
        {
          "output_type": "execute_result",
          "data": {
            "text/plain": [
              "      PRT_ID        AREA  INT_SQFT  DATE_SALE  DIST_MAINROAD  N_BEDROOM  \\\n",
              "0     P03210  Karapakkam      1004 2011-04-05            131          1   \n",
              "1     P09411  Anna Nagar      1986 2006-12-19             26          2   \n",
              "2     P01812       Adyar       909 2012-04-02             70          1   \n",
              "3     P05346   Velachery      1855 2010-03-13             14          3   \n",
              "4     P06210  Karapakkam      1226 2009-05-10             84          1   \n",
              "...      ...         ...       ...        ...            ...        ...   \n",
              "7104  P03834  Karapakkam       598 2011-03-01             51          1   \n",
              "7105  P10000   Velachery      1897 2004-08-04             52          3   \n",
              "7106  P09594   Velachery      1614 2006-08-25            152          2   \n",
              "7107  P06508  Karapakkam       787 2009-03-08             40          1   \n",
              "7108  P09794   Velachery      1896 2005-07-13            156          3   \n",
              "\n",
              "      N_BATHROOM  N_ROOM    SALE_COND PARK_FACIL  ...     STREET MZZONE  \\\n",
              "0              1       3     AbNormal        Yes  ...      Paved      A   \n",
              "1              1       5     AbNormal         No  ...     Gravel     RH   \n",
              "2              1       3     AbNormal        Yes  ...     Gravel     RL   \n",
              "3              2       5       Family         No  ...      Paved      I   \n",
              "4              1       3     AbNormal        Yes  ...     Gravel      C   \n",
              "...          ...     ...          ...        ...  ...        ...    ...   \n",
              "7104           1       2      AdjLand         No  ...  No Access     RM   \n",
              "7105           2       5       Family        Yes  ...  No Access     RH   \n",
              "7106           1       4  Normal Sale         No  ...     Gravel      I   \n",
              "7107           1       2      Partial        Yes  ...      Paved     RL   \n",
              "7108           2       5      Partial        Yes  ...      Paved      I   \n",
              "\n",
              "     QS_ROOMS QS_BATHROOM QS_BEDROOM  QS_OVERALL  REG_FEE  COMMIS  \\\n",
              "0         4.0         3.9        4.9       4.330   380000  144400   \n",
              "1         4.9         4.2        2.5       3.765   760122  304049   \n",
              "2         4.1         3.8        2.2       3.090   421094   92114   \n",
              "3         4.7         3.9        3.6       4.010   356321   77042   \n",
              "4         3.0         2.5        4.1       3.290   237000   74063   \n",
              "...       ...         ...        ...         ...      ...     ...   \n",
              "7104      3.0         2.2        2.4       2.520   208767  107060   \n",
              "7105      3.6         4.5        3.3       3.920   346191  205551   \n",
              "7106      4.3         4.2        2.9       3.840   317354  167028   \n",
              "7107      4.6         3.8        4.1       4.160   425350  119098   \n",
              "7108      3.1         3.5        4.3       3.640   349177   79812   \n",
              "\n",
              "      SALES_PRICE  HOUSE_AGE  \n",
              "0         7600000         44  \n",
              "1        21717770         11  \n",
              "2        13159200         20  \n",
              "3         9630290         22  \n",
              "4         7406250         30  \n",
              "...           ...        ...  \n",
              "7104      5353000         49  \n",
              "7105     10818480          9  \n",
              "7106      8351410         28  \n",
              "7107      8507000         32  \n",
              "7108      9976480         44  \n",
              "\n",
              "[7061 rows x 23 columns]"
            ],
            "text/html": [
              "\n",
              "  <div id=\"df-4cea24a1-ced2-4c48-a5dc-6f590d5759fc\">\n",
              "    <div class=\"colab-df-container\">\n",
              "      <div>\n",
              "<style scoped>\n",
              "    .dataframe tbody tr th:only-of-type {\n",
              "        vertical-align: middle;\n",
              "    }\n",
              "\n",
              "    .dataframe tbody tr th {\n",
              "        vertical-align: top;\n",
              "    }\n",
              "\n",
              "    .dataframe thead th {\n",
              "        text-align: right;\n",
              "    }\n",
              "</style>\n",
              "<table border=\"1\" class=\"dataframe\">\n",
              "  <thead>\n",
              "    <tr style=\"text-align: right;\">\n",
              "      <th></th>\n",
              "      <th>PRT_ID</th>\n",
              "      <th>AREA</th>\n",
              "      <th>INT_SQFT</th>\n",
              "      <th>DATE_SALE</th>\n",
              "      <th>DIST_MAINROAD</th>\n",
              "      <th>N_BEDROOM</th>\n",
              "      <th>N_BATHROOM</th>\n",
              "      <th>N_ROOM</th>\n",
              "      <th>SALE_COND</th>\n",
              "      <th>PARK_FACIL</th>\n",
              "      <th>...</th>\n",
              "      <th>STREET</th>\n",
              "      <th>MZZONE</th>\n",
              "      <th>QS_ROOMS</th>\n",
              "      <th>QS_BATHROOM</th>\n",
              "      <th>QS_BEDROOM</th>\n",
              "      <th>QS_OVERALL</th>\n",
              "      <th>REG_FEE</th>\n",
              "      <th>COMMIS</th>\n",
              "      <th>SALES_PRICE</th>\n",
              "      <th>HOUSE_AGE</th>\n",
              "    </tr>\n",
              "  </thead>\n",
              "  <tbody>\n",
              "    <tr>\n",
              "      <th>0</th>\n",
              "      <td>P03210</td>\n",
              "      <td>Karapakkam</td>\n",
              "      <td>1004</td>\n",
              "      <td>2011-04-05</td>\n",
              "      <td>131</td>\n",
              "      <td>1</td>\n",
              "      <td>1</td>\n",
              "      <td>3</td>\n",
              "      <td>AbNormal</td>\n",
              "      <td>Yes</td>\n",
              "      <td>...</td>\n",
              "      <td>Paved</td>\n",
              "      <td>A</td>\n",
              "      <td>4.0</td>\n",
              "      <td>3.9</td>\n",
              "      <td>4.9</td>\n",
              "      <td>4.330</td>\n",
              "      <td>380000</td>\n",
              "      <td>144400</td>\n",
              "      <td>7600000</td>\n",
              "      <td>44</td>\n",
              "    </tr>\n",
              "    <tr>\n",
              "      <th>1</th>\n",
              "      <td>P09411</td>\n",
              "      <td>Anna Nagar</td>\n",
              "      <td>1986</td>\n",
              "      <td>2006-12-19</td>\n",
              "      <td>26</td>\n",
              "      <td>2</td>\n",
              "      <td>1</td>\n",
              "      <td>5</td>\n",
              "      <td>AbNormal</td>\n",
              "      <td>No</td>\n",
              "      <td>...</td>\n",
              "      <td>Gravel</td>\n",
              "      <td>RH</td>\n",
              "      <td>4.9</td>\n",
              "      <td>4.2</td>\n",
              "      <td>2.5</td>\n",
              "      <td>3.765</td>\n",
              "      <td>760122</td>\n",
              "      <td>304049</td>\n",
              "      <td>21717770</td>\n",
              "      <td>11</td>\n",
              "    </tr>\n",
              "    <tr>\n",
              "      <th>2</th>\n",
              "      <td>P01812</td>\n",
              "      <td>Adyar</td>\n",
              "      <td>909</td>\n",
              "      <td>2012-04-02</td>\n",
              "      <td>70</td>\n",
              "      <td>1</td>\n",
              "      <td>1</td>\n",
              "      <td>3</td>\n",
              "      <td>AbNormal</td>\n",
              "      <td>Yes</td>\n",
              "      <td>...</td>\n",
              "      <td>Gravel</td>\n",
              "      <td>RL</td>\n",
              "      <td>4.1</td>\n",
              "      <td>3.8</td>\n",
              "      <td>2.2</td>\n",
              "      <td>3.090</td>\n",
              "      <td>421094</td>\n",
              "      <td>92114</td>\n",
              "      <td>13159200</td>\n",
              "      <td>20</td>\n",
              "    </tr>\n",
              "    <tr>\n",
              "      <th>3</th>\n",
              "      <td>P05346</td>\n",
              "      <td>Velachery</td>\n",
              "      <td>1855</td>\n",
              "      <td>2010-03-13</td>\n",
              "      <td>14</td>\n",
              "      <td>3</td>\n",
              "      <td>2</td>\n",
              "      <td>5</td>\n",
              "      <td>Family</td>\n",
              "      <td>No</td>\n",
              "      <td>...</td>\n",
              "      <td>Paved</td>\n",
              "      <td>I</td>\n",
              "      <td>4.7</td>\n",
              "      <td>3.9</td>\n",
              "      <td>3.6</td>\n",
              "      <td>4.010</td>\n",
              "      <td>356321</td>\n",
              "      <td>77042</td>\n",
              "      <td>9630290</td>\n",
              "      <td>22</td>\n",
              "    </tr>\n",
              "    <tr>\n",
              "      <th>4</th>\n",
              "      <td>P06210</td>\n",
              "      <td>Karapakkam</td>\n",
              "      <td>1226</td>\n",
              "      <td>2009-05-10</td>\n",
              "      <td>84</td>\n",
              "      <td>1</td>\n",
              "      <td>1</td>\n",
              "      <td>3</td>\n",
              "      <td>AbNormal</td>\n",
              "      <td>Yes</td>\n",
              "      <td>...</td>\n",
              "      <td>Gravel</td>\n",
              "      <td>C</td>\n",
              "      <td>3.0</td>\n",
              "      <td>2.5</td>\n",
              "      <td>4.1</td>\n",
              "      <td>3.290</td>\n",
              "      <td>237000</td>\n",
              "      <td>74063</td>\n",
              "      <td>7406250</td>\n",
              "      <td>30</td>\n",
              "    </tr>\n",
              "    <tr>\n",
              "      <th>...</th>\n",
              "      <td>...</td>\n",
              "      <td>...</td>\n",
              "      <td>...</td>\n",
              "      <td>...</td>\n",
              "      <td>...</td>\n",
              "      <td>...</td>\n",
              "      <td>...</td>\n",
              "      <td>...</td>\n",
              "      <td>...</td>\n",
              "      <td>...</td>\n",
              "      <td>...</td>\n",
              "      <td>...</td>\n",
              "      <td>...</td>\n",
              "      <td>...</td>\n",
              "      <td>...</td>\n",
              "      <td>...</td>\n",
              "      <td>...</td>\n",
              "      <td>...</td>\n",
              "      <td>...</td>\n",
              "      <td>...</td>\n",
              "      <td>...</td>\n",
              "    </tr>\n",
              "    <tr>\n",
              "      <th>7104</th>\n",
              "      <td>P03834</td>\n",
              "      <td>Karapakkam</td>\n",
              "      <td>598</td>\n",
              "      <td>2011-03-01</td>\n",
              "      <td>51</td>\n",
              "      <td>1</td>\n",
              "      <td>1</td>\n",
              "      <td>2</td>\n",
              "      <td>AdjLand</td>\n",
              "      <td>No</td>\n",
              "      <td>...</td>\n",
              "      <td>No Access</td>\n",
              "      <td>RM</td>\n",
              "      <td>3.0</td>\n",
              "      <td>2.2</td>\n",
              "      <td>2.4</td>\n",
              "      <td>2.520</td>\n",
              "      <td>208767</td>\n",
              "      <td>107060</td>\n",
              "      <td>5353000</td>\n",
              "      <td>49</td>\n",
              "    </tr>\n",
              "    <tr>\n",
              "      <th>7105</th>\n",
              "      <td>P10000</td>\n",
              "      <td>Velachery</td>\n",
              "      <td>1897</td>\n",
              "      <td>2004-08-04</td>\n",
              "      <td>52</td>\n",
              "      <td>3</td>\n",
              "      <td>2</td>\n",
              "      <td>5</td>\n",
              "      <td>Family</td>\n",
              "      <td>Yes</td>\n",
              "      <td>...</td>\n",
              "      <td>No Access</td>\n",
              "      <td>RH</td>\n",
              "      <td>3.6</td>\n",
              "      <td>4.5</td>\n",
              "      <td>3.3</td>\n",
              "      <td>3.920</td>\n",
              "      <td>346191</td>\n",
              "      <td>205551</td>\n",
              "      <td>10818480</td>\n",
              "      <td>9</td>\n",
              "    </tr>\n",
              "    <tr>\n",
              "      <th>7106</th>\n",
              "      <td>P09594</td>\n",
              "      <td>Velachery</td>\n",
              "      <td>1614</td>\n",
              "      <td>2006-08-25</td>\n",
              "      <td>152</td>\n",
              "      <td>2</td>\n",
              "      <td>1</td>\n",
              "      <td>4</td>\n",
              "      <td>Normal Sale</td>\n",
              "      <td>No</td>\n",
              "      <td>...</td>\n",
              "      <td>Gravel</td>\n",
              "      <td>I</td>\n",
              "      <td>4.3</td>\n",
              "      <td>4.2</td>\n",
              "      <td>2.9</td>\n",
              "      <td>3.840</td>\n",
              "      <td>317354</td>\n",
              "      <td>167028</td>\n",
              "      <td>8351410</td>\n",
              "      <td>28</td>\n",
              "    </tr>\n",
              "    <tr>\n",
              "      <th>7107</th>\n",
              "      <td>P06508</td>\n",
              "      <td>Karapakkam</td>\n",
              "      <td>787</td>\n",
              "      <td>2009-03-08</td>\n",
              "      <td>40</td>\n",
              "      <td>1</td>\n",
              "      <td>1</td>\n",
              "      <td>2</td>\n",
              "      <td>Partial</td>\n",
              "      <td>Yes</td>\n",
              "      <td>...</td>\n",
              "      <td>Paved</td>\n",
              "      <td>RL</td>\n",
              "      <td>4.6</td>\n",
              "      <td>3.8</td>\n",
              "      <td>4.1</td>\n",
              "      <td>4.160</td>\n",
              "      <td>425350</td>\n",
              "      <td>119098</td>\n",
              "      <td>8507000</td>\n",
              "      <td>32</td>\n",
              "    </tr>\n",
              "    <tr>\n",
              "      <th>7108</th>\n",
              "      <td>P09794</td>\n",
              "      <td>Velachery</td>\n",
              "      <td>1896</td>\n",
              "      <td>2005-07-13</td>\n",
              "      <td>156</td>\n",
              "      <td>3</td>\n",
              "      <td>2</td>\n",
              "      <td>5</td>\n",
              "      <td>Partial</td>\n",
              "      <td>Yes</td>\n",
              "      <td>...</td>\n",
              "      <td>Paved</td>\n",
              "      <td>I</td>\n",
              "      <td>3.1</td>\n",
              "      <td>3.5</td>\n",
              "      <td>4.3</td>\n",
              "      <td>3.640</td>\n",
              "      <td>349177</td>\n",
              "      <td>79812</td>\n",
              "      <td>9976480</td>\n",
              "      <td>44</td>\n",
              "    </tr>\n",
              "  </tbody>\n",
              "</table>\n",
              "<p>7061 rows × 23 columns</p>\n",
              "</div>\n",
              "      <button class=\"colab-df-convert\" onclick=\"convertToInteractive('df-4cea24a1-ced2-4c48-a5dc-6f590d5759fc')\"\n",
              "              title=\"Convert this dataframe to an interactive table.\"\n",
              "              style=\"display:none;\">\n",
              "        \n",
              "  <svg xmlns=\"http://www.w3.org/2000/svg\" height=\"24px\"viewBox=\"0 0 24 24\"\n",
              "       width=\"24px\">\n",
              "    <path d=\"M0 0h24v24H0V0z\" fill=\"none\"/>\n",
              "    <path d=\"M18.56 5.44l.94 2.06.94-2.06 2.06-.94-2.06-.94-.94-2.06-.94 2.06-2.06.94zm-11 1L8.5 8.5l.94-2.06 2.06-.94-2.06-.94L8.5 2.5l-.94 2.06-2.06.94zm10 10l.94 2.06.94-2.06 2.06-.94-2.06-.94-.94-2.06-.94 2.06-2.06.94z\"/><path d=\"M17.41 7.96l-1.37-1.37c-.4-.4-.92-.59-1.43-.59-.52 0-1.04.2-1.43.59L10.3 9.45l-7.72 7.72c-.78.78-.78 2.05 0 2.83L4 21.41c.39.39.9.59 1.41.59.51 0 1.02-.2 1.41-.59l7.78-7.78 2.81-2.81c.8-.78.8-2.07 0-2.86zM5.41 20L4 18.59l7.72-7.72 1.47 1.35L5.41 20z\"/>\n",
              "  </svg>\n",
              "      </button>\n",
              "      \n",
              "  <style>\n",
              "    .colab-df-container {\n",
              "      display:flex;\n",
              "      flex-wrap:wrap;\n",
              "      gap: 12px;\n",
              "    }\n",
              "\n",
              "    .colab-df-convert {\n",
              "      background-color: #E8F0FE;\n",
              "      border: none;\n",
              "      border-radius: 50%;\n",
              "      cursor: pointer;\n",
              "      display: none;\n",
              "      fill: #1967D2;\n",
              "      height: 32px;\n",
              "      padding: 0 0 0 0;\n",
              "      width: 32px;\n",
              "    }\n",
              "\n",
              "    .colab-df-convert:hover {\n",
              "      background-color: #E2EBFA;\n",
              "      box-shadow: 0px 1px 2px rgba(60, 64, 67, 0.3), 0px 1px 3px 1px rgba(60, 64, 67, 0.15);\n",
              "      fill: #174EA6;\n",
              "    }\n",
              "\n",
              "    [theme=dark] .colab-df-convert {\n",
              "      background-color: #3B4455;\n",
              "      fill: #D2E3FC;\n",
              "    }\n",
              "\n",
              "    [theme=dark] .colab-df-convert:hover {\n",
              "      background-color: #434B5C;\n",
              "      box-shadow: 0px 1px 3px 1px rgba(0, 0, 0, 0.15);\n",
              "      filter: drop-shadow(0px 1px 2px rgba(0, 0, 0, 0.3));\n",
              "      fill: #FFFFFF;\n",
              "    }\n",
              "  </style>\n",
              "\n",
              "      <script>\n",
              "        const buttonEl =\n",
              "          document.querySelector('#df-4cea24a1-ced2-4c48-a5dc-6f590d5759fc button.colab-df-convert');\n",
              "        buttonEl.style.display =\n",
              "          google.colab.kernel.accessAllowed ? 'block' : 'none';\n",
              "\n",
              "        async function convertToInteractive(key) {\n",
              "          const element = document.querySelector('#df-4cea24a1-ced2-4c48-a5dc-6f590d5759fc');\n",
              "          const dataTable =\n",
              "            await google.colab.kernel.invokeFunction('convertToInteractive',\n",
              "                                                     [key], {});\n",
              "          if (!dataTable) return;\n",
              "\n",
              "          const docLinkHtml = 'Like what you see? Visit the ' +\n",
              "            '<a target=\"_blank\" href=https://colab.research.google.com/notebooks/data_table.ipynb>data table notebook</a>'\n",
              "            + ' to learn more about interactive tables.';\n",
              "          element.innerHTML = '';\n",
              "          dataTable['output_type'] = 'display_data';\n",
              "          await google.colab.output.renderOutput(dataTable, element);\n",
              "          const docLink = document.createElement('div');\n",
              "          docLink.innerHTML = docLinkHtml;\n",
              "          element.appendChild(docLink);\n",
              "        }\n",
              "      </script>\n",
              "    </div>\n",
              "  </div>\n",
              "  "
            ]
          },
          "metadata": {},
          "execution_count": 241
        }
      ]
    },
    {
      "cell_type": "code",
      "source": [
        "df2['PARK_FACIL'].unique()"
      ],
      "metadata": {
        "colab": {
          "base_uri": "https://localhost:8080/"
        },
        "id": "OJzdOcegySSs",
        "outputId": "22d84d28-dfe6-451a-8708-ddc0277832b2"
      },
      "execution_count": 242,
      "outputs": [
        {
          "output_type": "execute_result",
          "data": {
            "text/plain": [
              "array(['Yes', 'No', 'Noo'], dtype=object)"
            ]
          },
          "metadata": {},
          "execution_count": 242
        }
      ]
    },
    {
      "cell_type": "code",
      "source": [
        "df2['PARK_FACIL'] = df2['PARK_FACIL'].replace({'Noo':'No'})\n",
        "df2.head()"
      ],
      "metadata": {
        "colab": {
          "base_uri": "https://localhost:8080/",
          "height": 525
        },
        "id": "q9P5aAThyp1n",
        "outputId": "d25f3364-c9ef-4643-9f87-9192bb5acf9d"
      },
      "execution_count": 243,
      "outputs": [
        {
          "output_type": "stream",
          "name": "stderr",
          "text": [
            "/usr/local/lib/python3.7/dist-packages/ipykernel_launcher.py:1: SettingWithCopyWarning:\n",
            "\n",
            "\n",
            "A value is trying to be set on a copy of a slice from a DataFrame.\n",
            "Try using .loc[row_indexer,col_indexer] = value instead\n",
            "\n",
            "See the caveats in the documentation: https://pandas.pydata.org/pandas-docs/stable/user_guide/indexing.html#returning-a-view-versus-a-copy\n",
            "\n"
          ]
        },
        {
          "output_type": "execute_result",
          "data": {
            "text/plain": [
              "   PRT_ID        AREA  INT_SQFT  DATE_SALE  DIST_MAINROAD  N_BEDROOM  \\\n",
              "0  P03210  Karapakkam      1004 2011-04-05            131          1   \n",
              "1  P09411  Anna Nagar      1986 2006-12-19             26          2   \n",
              "2  P01812       Adyar       909 2012-04-02             70          1   \n",
              "3  P05346   Velachery      1855 2010-03-13             14          3   \n",
              "4  P06210  Karapakkam      1226 2009-05-10             84          1   \n",
              "\n",
              "   N_BATHROOM  N_ROOM SALE_COND PARK_FACIL  ...  STREET MZZONE QS_ROOMS  \\\n",
              "0           1       3  AbNormal        Yes  ...   Paved      A      4.0   \n",
              "1           1       5  AbNormal         No  ...  Gravel     RH      4.9   \n",
              "2           1       3  AbNormal        Yes  ...  Gravel     RL      4.1   \n",
              "3           2       5    Family         No  ...   Paved      I      4.7   \n",
              "4           1       3  AbNormal        Yes  ...  Gravel      C      3.0   \n",
              "\n",
              "  QS_BATHROOM QS_BEDROOM  QS_OVERALL  REG_FEE  COMMIS  SALES_PRICE  HOUSE_AGE  \n",
              "0         3.9        4.9       4.330   380000  144400      7600000         44  \n",
              "1         4.2        2.5       3.765   760122  304049     21717770         11  \n",
              "2         3.8        2.2       3.090   421094   92114     13159200         20  \n",
              "3         3.9        3.6       4.010   356321   77042      9630290         22  \n",
              "4         2.5        4.1       3.290   237000   74063      7406250         30  \n",
              "\n",
              "[5 rows x 23 columns]"
            ],
            "text/html": [
              "\n",
              "  <div id=\"df-845be723-817f-4558-bd9d-81a863e1df89\">\n",
              "    <div class=\"colab-df-container\">\n",
              "      <div>\n",
              "<style scoped>\n",
              "    .dataframe tbody tr th:only-of-type {\n",
              "        vertical-align: middle;\n",
              "    }\n",
              "\n",
              "    .dataframe tbody tr th {\n",
              "        vertical-align: top;\n",
              "    }\n",
              "\n",
              "    .dataframe thead th {\n",
              "        text-align: right;\n",
              "    }\n",
              "</style>\n",
              "<table border=\"1\" class=\"dataframe\">\n",
              "  <thead>\n",
              "    <tr style=\"text-align: right;\">\n",
              "      <th></th>\n",
              "      <th>PRT_ID</th>\n",
              "      <th>AREA</th>\n",
              "      <th>INT_SQFT</th>\n",
              "      <th>DATE_SALE</th>\n",
              "      <th>DIST_MAINROAD</th>\n",
              "      <th>N_BEDROOM</th>\n",
              "      <th>N_BATHROOM</th>\n",
              "      <th>N_ROOM</th>\n",
              "      <th>SALE_COND</th>\n",
              "      <th>PARK_FACIL</th>\n",
              "      <th>...</th>\n",
              "      <th>STREET</th>\n",
              "      <th>MZZONE</th>\n",
              "      <th>QS_ROOMS</th>\n",
              "      <th>QS_BATHROOM</th>\n",
              "      <th>QS_BEDROOM</th>\n",
              "      <th>QS_OVERALL</th>\n",
              "      <th>REG_FEE</th>\n",
              "      <th>COMMIS</th>\n",
              "      <th>SALES_PRICE</th>\n",
              "      <th>HOUSE_AGE</th>\n",
              "    </tr>\n",
              "  </thead>\n",
              "  <tbody>\n",
              "    <tr>\n",
              "      <th>0</th>\n",
              "      <td>P03210</td>\n",
              "      <td>Karapakkam</td>\n",
              "      <td>1004</td>\n",
              "      <td>2011-04-05</td>\n",
              "      <td>131</td>\n",
              "      <td>1</td>\n",
              "      <td>1</td>\n",
              "      <td>3</td>\n",
              "      <td>AbNormal</td>\n",
              "      <td>Yes</td>\n",
              "      <td>...</td>\n",
              "      <td>Paved</td>\n",
              "      <td>A</td>\n",
              "      <td>4.0</td>\n",
              "      <td>3.9</td>\n",
              "      <td>4.9</td>\n",
              "      <td>4.330</td>\n",
              "      <td>380000</td>\n",
              "      <td>144400</td>\n",
              "      <td>7600000</td>\n",
              "      <td>44</td>\n",
              "    </tr>\n",
              "    <tr>\n",
              "      <th>1</th>\n",
              "      <td>P09411</td>\n",
              "      <td>Anna Nagar</td>\n",
              "      <td>1986</td>\n",
              "      <td>2006-12-19</td>\n",
              "      <td>26</td>\n",
              "      <td>2</td>\n",
              "      <td>1</td>\n",
              "      <td>5</td>\n",
              "      <td>AbNormal</td>\n",
              "      <td>No</td>\n",
              "      <td>...</td>\n",
              "      <td>Gravel</td>\n",
              "      <td>RH</td>\n",
              "      <td>4.9</td>\n",
              "      <td>4.2</td>\n",
              "      <td>2.5</td>\n",
              "      <td>3.765</td>\n",
              "      <td>760122</td>\n",
              "      <td>304049</td>\n",
              "      <td>21717770</td>\n",
              "      <td>11</td>\n",
              "    </tr>\n",
              "    <tr>\n",
              "      <th>2</th>\n",
              "      <td>P01812</td>\n",
              "      <td>Adyar</td>\n",
              "      <td>909</td>\n",
              "      <td>2012-04-02</td>\n",
              "      <td>70</td>\n",
              "      <td>1</td>\n",
              "      <td>1</td>\n",
              "      <td>3</td>\n",
              "      <td>AbNormal</td>\n",
              "      <td>Yes</td>\n",
              "      <td>...</td>\n",
              "      <td>Gravel</td>\n",
              "      <td>RL</td>\n",
              "      <td>4.1</td>\n",
              "      <td>3.8</td>\n",
              "      <td>2.2</td>\n",
              "      <td>3.090</td>\n",
              "      <td>421094</td>\n",
              "      <td>92114</td>\n",
              "      <td>13159200</td>\n",
              "      <td>20</td>\n",
              "    </tr>\n",
              "    <tr>\n",
              "      <th>3</th>\n",
              "      <td>P05346</td>\n",
              "      <td>Velachery</td>\n",
              "      <td>1855</td>\n",
              "      <td>2010-03-13</td>\n",
              "      <td>14</td>\n",
              "      <td>3</td>\n",
              "      <td>2</td>\n",
              "      <td>5</td>\n",
              "      <td>Family</td>\n",
              "      <td>No</td>\n",
              "      <td>...</td>\n",
              "      <td>Paved</td>\n",
              "      <td>I</td>\n",
              "      <td>4.7</td>\n",
              "      <td>3.9</td>\n",
              "      <td>3.6</td>\n",
              "      <td>4.010</td>\n",
              "      <td>356321</td>\n",
              "      <td>77042</td>\n",
              "      <td>9630290</td>\n",
              "      <td>22</td>\n",
              "    </tr>\n",
              "    <tr>\n",
              "      <th>4</th>\n",
              "      <td>P06210</td>\n",
              "      <td>Karapakkam</td>\n",
              "      <td>1226</td>\n",
              "      <td>2009-05-10</td>\n",
              "      <td>84</td>\n",
              "      <td>1</td>\n",
              "      <td>1</td>\n",
              "      <td>3</td>\n",
              "      <td>AbNormal</td>\n",
              "      <td>Yes</td>\n",
              "      <td>...</td>\n",
              "      <td>Gravel</td>\n",
              "      <td>C</td>\n",
              "      <td>3.0</td>\n",
              "      <td>2.5</td>\n",
              "      <td>4.1</td>\n",
              "      <td>3.290</td>\n",
              "      <td>237000</td>\n",
              "      <td>74063</td>\n",
              "      <td>7406250</td>\n",
              "      <td>30</td>\n",
              "    </tr>\n",
              "  </tbody>\n",
              "</table>\n",
              "<p>5 rows × 23 columns</p>\n",
              "</div>\n",
              "      <button class=\"colab-df-convert\" onclick=\"convertToInteractive('df-845be723-817f-4558-bd9d-81a863e1df89')\"\n",
              "              title=\"Convert this dataframe to an interactive table.\"\n",
              "              style=\"display:none;\">\n",
              "        \n",
              "  <svg xmlns=\"http://www.w3.org/2000/svg\" height=\"24px\"viewBox=\"0 0 24 24\"\n",
              "       width=\"24px\">\n",
              "    <path d=\"M0 0h24v24H0V0z\" fill=\"none\"/>\n",
              "    <path d=\"M18.56 5.44l.94 2.06.94-2.06 2.06-.94-2.06-.94-.94-2.06-.94 2.06-2.06.94zm-11 1L8.5 8.5l.94-2.06 2.06-.94-2.06-.94L8.5 2.5l-.94 2.06-2.06.94zm10 10l.94 2.06.94-2.06 2.06-.94-2.06-.94-.94-2.06-.94 2.06-2.06.94z\"/><path d=\"M17.41 7.96l-1.37-1.37c-.4-.4-.92-.59-1.43-.59-.52 0-1.04.2-1.43.59L10.3 9.45l-7.72 7.72c-.78.78-.78 2.05 0 2.83L4 21.41c.39.39.9.59 1.41.59.51 0 1.02-.2 1.41-.59l7.78-7.78 2.81-2.81c.8-.78.8-2.07 0-2.86zM5.41 20L4 18.59l7.72-7.72 1.47 1.35L5.41 20z\"/>\n",
              "  </svg>\n",
              "      </button>\n",
              "      \n",
              "  <style>\n",
              "    .colab-df-container {\n",
              "      display:flex;\n",
              "      flex-wrap:wrap;\n",
              "      gap: 12px;\n",
              "    }\n",
              "\n",
              "    .colab-df-convert {\n",
              "      background-color: #E8F0FE;\n",
              "      border: none;\n",
              "      border-radius: 50%;\n",
              "      cursor: pointer;\n",
              "      display: none;\n",
              "      fill: #1967D2;\n",
              "      height: 32px;\n",
              "      padding: 0 0 0 0;\n",
              "      width: 32px;\n",
              "    }\n",
              "\n",
              "    .colab-df-convert:hover {\n",
              "      background-color: #E2EBFA;\n",
              "      box-shadow: 0px 1px 2px rgba(60, 64, 67, 0.3), 0px 1px 3px 1px rgba(60, 64, 67, 0.15);\n",
              "      fill: #174EA6;\n",
              "    }\n",
              "\n",
              "    [theme=dark] .colab-df-convert {\n",
              "      background-color: #3B4455;\n",
              "      fill: #D2E3FC;\n",
              "    }\n",
              "\n",
              "    [theme=dark] .colab-df-convert:hover {\n",
              "      background-color: #434B5C;\n",
              "      box-shadow: 0px 1px 3px 1px rgba(0, 0, 0, 0.15);\n",
              "      filter: drop-shadow(0px 1px 2px rgba(0, 0, 0, 0.3));\n",
              "      fill: #FFFFFF;\n",
              "    }\n",
              "  </style>\n",
              "\n",
              "      <script>\n",
              "        const buttonEl =\n",
              "          document.querySelector('#df-845be723-817f-4558-bd9d-81a863e1df89 button.colab-df-convert');\n",
              "        buttonEl.style.display =\n",
              "          google.colab.kernel.accessAllowed ? 'block' : 'none';\n",
              "\n",
              "        async function convertToInteractive(key) {\n",
              "          const element = document.querySelector('#df-845be723-817f-4558-bd9d-81a863e1df89');\n",
              "          const dataTable =\n",
              "            await google.colab.kernel.invokeFunction('convertToInteractive',\n",
              "                                                     [key], {});\n",
              "          if (!dataTable) return;\n",
              "\n",
              "          const docLinkHtml = 'Like what you see? Visit the ' +\n",
              "            '<a target=\"_blank\" href=https://colab.research.google.com/notebooks/data_table.ipynb>data table notebook</a>'\n",
              "            + ' to learn more about interactive tables.';\n",
              "          element.innerHTML = '';\n",
              "          dataTable['output_type'] = 'display_data';\n",
              "          await google.colab.output.renderOutput(dataTable, element);\n",
              "          const docLink = document.createElement('div');\n",
              "          docLink.innerHTML = docLinkHtml;\n",
              "          element.appendChild(docLink);\n",
              "        }\n",
              "      </script>\n",
              "    </div>\n",
              "  </div>\n",
              "  "
            ]
          },
          "metadata": {},
          "execution_count": 243
        }
      ]
    },
    {
      "cell_type": "code",
      "source": [
        "df2['SALE_COND'].unique()"
      ],
      "metadata": {
        "colab": {
          "base_uri": "https://localhost:8080/"
        },
        "id": "RUlySJoWzLOe",
        "outputId": "c9fff1b2-bd8f-4e77-8464-bb2f6c6815e0"
      },
      "execution_count": 244,
      "outputs": [
        {
          "output_type": "execute_result",
          "data": {
            "text/plain": [
              "array(['AbNormal', 'Family', 'Partial', 'AdjLand', 'Normal Sale',\n",
              "       'Ab Normal', 'Partiall', 'Adj Land', 'PartiaLl'], dtype=object)"
            ]
          },
          "metadata": {},
          "execution_count": 244
        }
      ]
    },
    {
      "cell_type": "code",
      "source": [
        "# Sale condition has spelling mistake\n",
        "df2['SALE_COND'] = df2['SALE_COND'].replace({'Adj Land':'AdjLand','Ab Normal':'AbNormal','PartiaLl':'Partial','Partiall':'Partial','Adjland':'AdjLand'})\n",
        "df2.head()"
      ],
      "metadata": {
        "colab": {
          "base_uri": "https://localhost:8080/",
          "height": 525
        },
        "id": "tVSaM0LxzvXl",
        "outputId": "a60a9f0e-d392-4c83-cf26-580a562a41e0"
      },
      "execution_count": 245,
      "outputs": [
        {
          "output_type": "stream",
          "name": "stderr",
          "text": [
            "/usr/local/lib/python3.7/dist-packages/ipykernel_launcher.py:2: SettingWithCopyWarning:\n",
            "\n",
            "\n",
            "A value is trying to be set on a copy of a slice from a DataFrame.\n",
            "Try using .loc[row_indexer,col_indexer] = value instead\n",
            "\n",
            "See the caveats in the documentation: https://pandas.pydata.org/pandas-docs/stable/user_guide/indexing.html#returning-a-view-versus-a-copy\n",
            "\n"
          ]
        },
        {
          "output_type": "execute_result",
          "data": {
            "text/plain": [
              "   PRT_ID        AREA  INT_SQFT  DATE_SALE  DIST_MAINROAD  N_BEDROOM  \\\n",
              "0  P03210  Karapakkam      1004 2011-04-05            131          1   \n",
              "1  P09411  Anna Nagar      1986 2006-12-19             26          2   \n",
              "2  P01812       Adyar       909 2012-04-02             70          1   \n",
              "3  P05346   Velachery      1855 2010-03-13             14          3   \n",
              "4  P06210  Karapakkam      1226 2009-05-10             84          1   \n",
              "\n",
              "   N_BATHROOM  N_ROOM SALE_COND PARK_FACIL  ...  STREET MZZONE QS_ROOMS  \\\n",
              "0           1       3  AbNormal        Yes  ...   Paved      A      4.0   \n",
              "1           1       5  AbNormal         No  ...  Gravel     RH      4.9   \n",
              "2           1       3  AbNormal        Yes  ...  Gravel     RL      4.1   \n",
              "3           2       5    Family         No  ...   Paved      I      4.7   \n",
              "4           1       3  AbNormal        Yes  ...  Gravel      C      3.0   \n",
              "\n",
              "  QS_BATHROOM QS_BEDROOM  QS_OVERALL  REG_FEE  COMMIS  SALES_PRICE  HOUSE_AGE  \n",
              "0         3.9        4.9       4.330   380000  144400      7600000         44  \n",
              "1         4.2        2.5       3.765   760122  304049     21717770         11  \n",
              "2         3.8        2.2       3.090   421094   92114     13159200         20  \n",
              "3         3.9        3.6       4.010   356321   77042      9630290         22  \n",
              "4         2.5        4.1       3.290   237000   74063      7406250         30  \n",
              "\n",
              "[5 rows x 23 columns]"
            ],
            "text/html": [
              "\n",
              "  <div id=\"df-7900627d-a792-4f9c-aa7d-ac5fa2c59abf\">\n",
              "    <div class=\"colab-df-container\">\n",
              "      <div>\n",
              "<style scoped>\n",
              "    .dataframe tbody tr th:only-of-type {\n",
              "        vertical-align: middle;\n",
              "    }\n",
              "\n",
              "    .dataframe tbody tr th {\n",
              "        vertical-align: top;\n",
              "    }\n",
              "\n",
              "    .dataframe thead th {\n",
              "        text-align: right;\n",
              "    }\n",
              "</style>\n",
              "<table border=\"1\" class=\"dataframe\">\n",
              "  <thead>\n",
              "    <tr style=\"text-align: right;\">\n",
              "      <th></th>\n",
              "      <th>PRT_ID</th>\n",
              "      <th>AREA</th>\n",
              "      <th>INT_SQFT</th>\n",
              "      <th>DATE_SALE</th>\n",
              "      <th>DIST_MAINROAD</th>\n",
              "      <th>N_BEDROOM</th>\n",
              "      <th>N_BATHROOM</th>\n",
              "      <th>N_ROOM</th>\n",
              "      <th>SALE_COND</th>\n",
              "      <th>PARK_FACIL</th>\n",
              "      <th>...</th>\n",
              "      <th>STREET</th>\n",
              "      <th>MZZONE</th>\n",
              "      <th>QS_ROOMS</th>\n",
              "      <th>QS_BATHROOM</th>\n",
              "      <th>QS_BEDROOM</th>\n",
              "      <th>QS_OVERALL</th>\n",
              "      <th>REG_FEE</th>\n",
              "      <th>COMMIS</th>\n",
              "      <th>SALES_PRICE</th>\n",
              "      <th>HOUSE_AGE</th>\n",
              "    </tr>\n",
              "  </thead>\n",
              "  <tbody>\n",
              "    <tr>\n",
              "      <th>0</th>\n",
              "      <td>P03210</td>\n",
              "      <td>Karapakkam</td>\n",
              "      <td>1004</td>\n",
              "      <td>2011-04-05</td>\n",
              "      <td>131</td>\n",
              "      <td>1</td>\n",
              "      <td>1</td>\n",
              "      <td>3</td>\n",
              "      <td>AbNormal</td>\n",
              "      <td>Yes</td>\n",
              "      <td>...</td>\n",
              "      <td>Paved</td>\n",
              "      <td>A</td>\n",
              "      <td>4.0</td>\n",
              "      <td>3.9</td>\n",
              "      <td>4.9</td>\n",
              "      <td>4.330</td>\n",
              "      <td>380000</td>\n",
              "      <td>144400</td>\n",
              "      <td>7600000</td>\n",
              "      <td>44</td>\n",
              "    </tr>\n",
              "    <tr>\n",
              "      <th>1</th>\n",
              "      <td>P09411</td>\n",
              "      <td>Anna Nagar</td>\n",
              "      <td>1986</td>\n",
              "      <td>2006-12-19</td>\n",
              "      <td>26</td>\n",
              "      <td>2</td>\n",
              "      <td>1</td>\n",
              "      <td>5</td>\n",
              "      <td>AbNormal</td>\n",
              "      <td>No</td>\n",
              "      <td>...</td>\n",
              "      <td>Gravel</td>\n",
              "      <td>RH</td>\n",
              "      <td>4.9</td>\n",
              "      <td>4.2</td>\n",
              "      <td>2.5</td>\n",
              "      <td>3.765</td>\n",
              "      <td>760122</td>\n",
              "      <td>304049</td>\n",
              "      <td>21717770</td>\n",
              "      <td>11</td>\n",
              "    </tr>\n",
              "    <tr>\n",
              "      <th>2</th>\n",
              "      <td>P01812</td>\n",
              "      <td>Adyar</td>\n",
              "      <td>909</td>\n",
              "      <td>2012-04-02</td>\n",
              "      <td>70</td>\n",
              "      <td>1</td>\n",
              "      <td>1</td>\n",
              "      <td>3</td>\n",
              "      <td>AbNormal</td>\n",
              "      <td>Yes</td>\n",
              "      <td>...</td>\n",
              "      <td>Gravel</td>\n",
              "      <td>RL</td>\n",
              "      <td>4.1</td>\n",
              "      <td>3.8</td>\n",
              "      <td>2.2</td>\n",
              "      <td>3.090</td>\n",
              "      <td>421094</td>\n",
              "      <td>92114</td>\n",
              "      <td>13159200</td>\n",
              "      <td>20</td>\n",
              "    </tr>\n",
              "    <tr>\n",
              "      <th>3</th>\n",
              "      <td>P05346</td>\n",
              "      <td>Velachery</td>\n",
              "      <td>1855</td>\n",
              "      <td>2010-03-13</td>\n",
              "      <td>14</td>\n",
              "      <td>3</td>\n",
              "      <td>2</td>\n",
              "      <td>5</td>\n",
              "      <td>Family</td>\n",
              "      <td>No</td>\n",
              "      <td>...</td>\n",
              "      <td>Paved</td>\n",
              "      <td>I</td>\n",
              "      <td>4.7</td>\n",
              "      <td>3.9</td>\n",
              "      <td>3.6</td>\n",
              "      <td>4.010</td>\n",
              "      <td>356321</td>\n",
              "      <td>77042</td>\n",
              "      <td>9630290</td>\n",
              "      <td>22</td>\n",
              "    </tr>\n",
              "    <tr>\n",
              "      <th>4</th>\n",
              "      <td>P06210</td>\n",
              "      <td>Karapakkam</td>\n",
              "      <td>1226</td>\n",
              "      <td>2009-05-10</td>\n",
              "      <td>84</td>\n",
              "      <td>1</td>\n",
              "      <td>1</td>\n",
              "      <td>3</td>\n",
              "      <td>AbNormal</td>\n",
              "      <td>Yes</td>\n",
              "      <td>...</td>\n",
              "      <td>Gravel</td>\n",
              "      <td>C</td>\n",
              "      <td>3.0</td>\n",
              "      <td>2.5</td>\n",
              "      <td>4.1</td>\n",
              "      <td>3.290</td>\n",
              "      <td>237000</td>\n",
              "      <td>74063</td>\n",
              "      <td>7406250</td>\n",
              "      <td>30</td>\n",
              "    </tr>\n",
              "  </tbody>\n",
              "</table>\n",
              "<p>5 rows × 23 columns</p>\n",
              "</div>\n",
              "      <button class=\"colab-df-convert\" onclick=\"convertToInteractive('df-7900627d-a792-4f9c-aa7d-ac5fa2c59abf')\"\n",
              "              title=\"Convert this dataframe to an interactive table.\"\n",
              "              style=\"display:none;\">\n",
              "        \n",
              "  <svg xmlns=\"http://www.w3.org/2000/svg\" height=\"24px\"viewBox=\"0 0 24 24\"\n",
              "       width=\"24px\">\n",
              "    <path d=\"M0 0h24v24H0V0z\" fill=\"none\"/>\n",
              "    <path d=\"M18.56 5.44l.94 2.06.94-2.06 2.06-.94-2.06-.94-.94-2.06-.94 2.06-2.06.94zm-11 1L8.5 8.5l.94-2.06 2.06-.94-2.06-.94L8.5 2.5l-.94 2.06-2.06.94zm10 10l.94 2.06.94-2.06 2.06-.94-2.06-.94-.94-2.06-.94 2.06-2.06.94z\"/><path d=\"M17.41 7.96l-1.37-1.37c-.4-.4-.92-.59-1.43-.59-.52 0-1.04.2-1.43.59L10.3 9.45l-7.72 7.72c-.78.78-.78 2.05 0 2.83L4 21.41c.39.39.9.59 1.41.59.51 0 1.02-.2 1.41-.59l7.78-7.78 2.81-2.81c.8-.78.8-2.07 0-2.86zM5.41 20L4 18.59l7.72-7.72 1.47 1.35L5.41 20z\"/>\n",
              "  </svg>\n",
              "      </button>\n",
              "      \n",
              "  <style>\n",
              "    .colab-df-container {\n",
              "      display:flex;\n",
              "      flex-wrap:wrap;\n",
              "      gap: 12px;\n",
              "    }\n",
              "\n",
              "    .colab-df-convert {\n",
              "      background-color: #E8F0FE;\n",
              "      border: none;\n",
              "      border-radius: 50%;\n",
              "      cursor: pointer;\n",
              "      display: none;\n",
              "      fill: #1967D2;\n",
              "      height: 32px;\n",
              "      padding: 0 0 0 0;\n",
              "      width: 32px;\n",
              "    }\n",
              "\n",
              "    .colab-df-convert:hover {\n",
              "      background-color: #E2EBFA;\n",
              "      box-shadow: 0px 1px 2px rgba(60, 64, 67, 0.3), 0px 1px 3px 1px rgba(60, 64, 67, 0.15);\n",
              "      fill: #174EA6;\n",
              "    }\n",
              "\n",
              "    [theme=dark] .colab-df-convert {\n",
              "      background-color: #3B4455;\n",
              "      fill: #D2E3FC;\n",
              "    }\n",
              "\n",
              "    [theme=dark] .colab-df-convert:hover {\n",
              "      background-color: #434B5C;\n",
              "      box-shadow: 0px 1px 3px 1px rgba(0, 0, 0, 0.15);\n",
              "      filter: drop-shadow(0px 1px 2px rgba(0, 0, 0, 0.3));\n",
              "      fill: #FFFFFF;\n",
              "    }\n",
              "  </style>\n",
              "\n",
              "      <script>\n",
              "        const buttonEl =\n",
              "          document.querySelector('#df-7900627d-a792-4f9c-aa7d-ac5fa2c59abf button.colab-df-convert');\n",
              "        buttonEl.style.display =\n",
              "          google.colab.kernel.accessAllowed ? 'block' : 'none';\n",
              "\n",
              "        async function convertToInteractive(key) {\n",
              "          const element = document.querySelector('#df-7900627d-a792-4f9c-aa7d-ac5fa2c59abf');\n",
              "          const dataTable =\n",
              "            await google.colab.kernel.invokeFunction('convertToInteractive',\n",
              "                                                     [key], {});\n",
              "          if (!dataTable) return;\n",
              "\n",
              "          const docLinkHtml = 'Like what you see? Visit the ' +\n",
              "            '<a target=\"_blank\" href=https://colab.research.google.com/notebooks/data_table.ipynb>data table notebook</a>'\n",
              "            + ' to learn more about interactive tables.';\n",
              "          element.innerHTML = '';\n",
              "          dataTable['output_type'] = 'display_data';\n",
              "          await google.colab.output.renderOutput(dataTable, element);\n",
              "          const docLink = document.createElement('div');\n",
              "          docLink.innerHTML = docLinkHtml;\n",
              "          element.appendChild(docLink);\n",
              "        }\n",
              "      </script>\n",
              "    </div>\n",
              "  </div>\n",
              "  "
            ]
          },
          "metadata": {},
          "execution_count": 245
        }
      ]
    },
    {
      "cell_type": "code",
      "source": [
        "df2['SALE_COND'].unique()"
      ],
      "metadata": {
        "colab": {
          "base_uri": "https://localhost:8080/"
        },
        "id": "yVNQH5v60pwi",
        "outputId": "fb30a337-2ef5-4461-a043-1e22c5e98f83"
      },
      "execution_count": 246,
      "outputs": [
        {
          "output_type": "execute_result",
          "data": {
            "text/plain": [
              "array(['AbNormal', 'Family', 'Partial', 'AdjLand', 'Normal Sale'],\n",
              "      dtype=object)"
            ]
          },
          "metadata": {},
          "execution_count": 246
        }
      ]
    },
    {
      "cell_type": "code",
      "source": [
        "#creating new column for tolal price\n",
        "df2['Total_price']= df2['REG_FEE'] + df2['COMMIS'] + df2['SALES_PRICE']\n",
        "df2['Total_price']"
      ],
      "metadata": {
        "colab": {
          "base_uri": "https://localhost:8080/"
        },
        "id": "CeP7EwUYiU01",
        "outputId": "9223508c-d9ad-49a4-8234-c0ed93ba8408"
      },
      "execution_count": 247,
      "outputs": [
        {
          "output_type": "stream",
          "name": "stderr",
          "text": [
            "/usr/local/lib/python3.7/dist-packages/ipykernel_launcher.py:2: SettingWithCopyWarning:\n",
            "\n",
            "\n",
            "A value is trying to be set on a copy of a slice from a DataFrame.\n",
            "Try using .loc[row_indexer,col_indexer] = value instead\n",
            "\n",
            "See the caveats in the documentation: https://pandas.pydata.org/pandas-docs/stable/user_guide/indexing.html#returning-a-view-versus-a-copy\n",
            "\n"
          ]
        },
        {
          "output_type": "execute_result",
          "data": {
            "text/plain": [
              "0        8124400\n",
              "1       22781941\n",
              "2       13672408\n",
              "3       10063653\n",
              "4        7717313\n",
              "          ...   \n",
              "7104     5668827\n",
              "7105    11370222\n",
              "7106     8835792\n",
              "7107     9051448\n",
              "7108    10405469\n",
              "Name: Total_price, Length: 7061, dtype: int64"
            ]
          },
          "metadata": {},
          "execution_count": 247
        }
      ]
    },
    {
      "cell_type": "markdown",
      "source": [
        "#**finding the ouliers and resolving them**"
      ],
      "metadata": {
        "id": "DANam_bKLkFt"
      }
    },
    {
      "cell_type": "code",
      "source": [
        "#outliers in sales price\n",
        "print(df2['SALES_PRICE'].quantile(0.25))\n",
        "print(df2['SALES_PRICE'].quantile(0.50))\n",
        "print(df2['SALES_PRICE'].quantile(0.75))\n",
        "print(df2['SALES_PRICE'].quantile(0.95))"
      ],
      "metadata": {
        "colab": {
          "base_uri": "https://localhost:8080/"
        },
        "id": "CiREi-nQL8F3",
        "outputId": "8965ee76-8b1d-485b-b96e-935724136a77"
      },
      "execution_count": 248,
      "outputs": [
        {
          "output_type": "stream",
          "name": "stdout",
          "text": [
            "8268875.0\n",
            "10320700.0\n",
            "12980150.0\n",
            "18787680.0\n"
          ]
        }
      ]
    },
    {
      "cell_type": "code",
      "source": [
        "df2['SALES_PRICE']= np.where(df2['SALES_PRICE']>12993900.0,12993900,df2['SALES_PRICE'])\n",
        "df2['SALES_PRICE']= np.where(df2['SALES_PRICE']<8272100.0,8272100.0,df2['SALES_PRICE'])\n",
        "print(df2['SALES_PRICE'].skew())"
      ],
      "metadata": {
        "colab": {
          "base_uri": "https://localhost:8080/"
        },
        "id": "Nz20MHc8MUDA",
        "outputId": "cc707d41-4815-4922-ece4-481a3f43620c"
      },
      "execution_count": 249,
      "outputs": [
        {
          "output_type": "stream",
          "name": "stdout",
          "text": [
            "0.10105060781587188\n"
          ]
        },
        {
          "output_type": "stream",
          "name": "stderr",
          "text": [
            "/usr/local/lib/python3.7/dist-packages/ipykernel_launcher.py:1: SettingWithCopyWarning:\n",
            "\n",
            "\n",
            "A value is trying to be set on a copy of a slice from a DataFrame.\n",
            "Try using .loc[row_indexer,col_indexer] = value instead\n",
            "\n",
            "See the caveats in the documentation: https://pandas.pydata.org/pandas-docs/stable/user_guide/indexing.html#returning-a-view-versus-a-copy\n",
            "\n",
            "/usr/local/lib/python3.7/dist-packages/ipykernel_launcher.py:2: SettingWithCopyWarning:\n",
            "\n",
            "\n",
            "A value is trying to be set on a copy of a slice from a DataFrame.\n",
            "Try using .loc[row_indexer,col_indexer] = value instead\n",
            "\n",
            "See the caveats in the documentation: https://pandas.pydata.org/pandas-docs/stable/user_guide/indexing.html#returning-a-view-versus-a-copy\n",
            "\n"
          ]
        }
      ]
    },
    {
      "cell_type": "code",
      "source": [
        "sns.boxplot(x='SALES_PRICE',data=df2)"
      ],
      "metadata": {
        "colab": {
          "base_uri": "https://localhost:8080/",
          "height": 623
        },
        "id": "MibiClF14ZFO",
        "outputId": "d0cbbd67-ec35-4e2e-d3c8-3837f7fdd04e"
      },
      "execution_count": 250,
      "outputs": [
        {
          "output_type": "execute_result",
          "data": {
            "text/plain": [
              "<matplotlib.axes._subplots.AxesSubplot at 0x7f5df1453410>"
            ]
          },
          "metadata": {},
          "execution_count": 250
        },
        {
          "output_type": "display_data",
          "data": {
            "text/plain": [
              "<Figure size 1440x720 with 1 Axes>"
            ],
            "image/png": "[encoded data removed]"
          },
          "metadata": {
            "needs_background": "light"
          }
        }
      ]
    },
    {
      "cell_type": "code",
      "source": [
        "print(df2['INT_SQFT'].skew())"
      ],
      "metadata": {
        "colab": {
          "base_uri": "https://localhost:8080/"
        },
        "id": "WaC0FTG16xbu",
        "outputId": "ef6190b8-a93e-4217-b8e5-595c09c05c7e"
      },
      "execution_count": 253,
      "outputs": [
        {
          "output_type": "stream",
          "name": "stdout",
          "text": [
            "-0.034144556393431995\n"
          ]
        }
      ]
    },
    {
      "cell_type": "code",
      "source": [
        "def remove_bhk_outliers(df2):\n",
        "    exclude_indices = np.array([])\n",
        "    for AREA, AREA_df2 in df2.groupby('AREA'):\n",
        "        N_BEDROOM_stats = {}\n",
        "        for N_BEDROOM, N_BEDROOM_df2 in AREA_df2.groupby('N_BEDROOM'):\n",
        "            N_BEDROOM_stats[N_BEDROOM] = {\n",
        "                'mean': np.mean(N_BEDROOM_df2.INT_SQFT),\n",
        "                'std': np.std(N_BEDROOM_df2.INT_SQFT),\n",
        "                'count': N_BEDROOM_df2.shape[0]\n",
        "            }\n",
        "        for N_BEDROOM, N_BEDROOM_df in AREA_df2.groupby('N_BEDROOM'):\n",
        "            stats = N_BEDROOM_stats.get(N_BEDROOM-1)\n",
        "            if stats and stats['count']>5:\n",
        "                exclude_indices = np.append(exclude_indices, N_BEDROOM_df[N_BEDROOM_df.INT_SQFT<(stats['mean'])].index.values)\n",
        "    return df2.drop(exclude_indices,axis='index')\n",
        "remove_bhk_outliers(df2)\n",
        "df2.shape"
      ],
      "metadata": {
        "colab": {
          "base_uri": "https://localhost:8080/"
        },
        "id": "t1FMtB7i7WSR",
        "outputId": "12a57d73-1e7a-460a-fc57-efbb31fe0482"
      },
      "execution_count": 254,
      "outputs": [
        {
          "output_type": "execute_result",
          "data": {
            "text/plain": [
              "(7061, 24)"
            ]
          },
          "metadata": {},
          "execution_count": 254
        }
      ]
    },
    {
      "cell_type": "code",
      "source": [
        "Q1=df2['HOUSE_AGE'].quantile(0.25)\n",
        "Q2=df2['HOUSE_AGE'].quantile(0.50)\n",
        "Q3=df2['HOUSE_AGE'].quantile(0.75)\n",
        "Q4=df2['HOUSE_AGE'].quantile(0.95)"
      ],
      "metadata": {
        "id": "SHAtB-G5DTJJ"
      },
      "execution_count": 310,
      "outputs": []
    },
    {
      "cell_type": "code",
      "source": [
        "IQR= Q3-Q1\n",
        "IQR"
      ],
      "metadata": {
        "colab": {
          "base_uri": "https://localhost:8080/"
        },
        "id": "KAPmwFwpD0HF",
        "outputId": "c45501f6-a294-4687-873f-ec714a954273"
      },
      "execution_count": 311,
      "outputs": [
        {
          "output_type": "execute_result",
          "data": {
            "text/plain": [
              "20.0"
            ]
          },
          "metadata": {},
          "execution_count": 311
        }
      ]
    },
    {
      "cell_type": "code",
      "source": [
        "lower_limit = Q1-1.5*IQR\n",
        "upper_limit = Q3+1.5*IQR\n",
        "lower_limit,upper_limit"
      ],
      "metadata": {
        "colab": {
          "base_uri": "https://localhost:8080/"
        },
        "id": "MPURD8wYGuPt",
        "outputId": "f37e0917-2c25-4d8d-f386-23874659ae43"
      },
      "execution_count": 312,
      "outputs": [
        {
          "output_type": "execute_result",
          "data": {
            "text/plain": [
              "(-16.0, 64.0)"
            ]
          },
          "metadata": {},
          "execution_count": 312
        }
      ]
    },
    {
      "cell_type": "code",
      "source": [
        "df2[(df2['HOUSE_AGE']<lower_limit) | (df2['HOUSE_AGE']>upper_limit)]\n",
        "df2_no_outlier = df2[(df2['HOUSE_AGE']<lower_limit) & (df2['HOUSE_AGE']<upper_limit)]\n",
        "df2_no_outlier"
      ],
      "metadata": {
        "colab": {
          "base_uri": "https://localhost:8080/",
          "height": 143
        },
        "id": "pUJXtRX6HS1j",
        "outputId": "bcc2dcac-d6f6-442c-94c7-c31479a427fc"
      },
      "execution_count": 315,
      "outputs": [
        {
          "output_type": "execute_result",
          "data": {
            "text/plain": [
              "Empty DataFrame\n",
              "Columns: [PRT_ID, AREA, INT_SQFT, DATE_SALE, DIST_MAINROAD, N_BEDROOM, N_BATHROOM, N_ROOM, SALE_COND, PARK_FACIL, DATE_BUILD, BUILDTYPE, UTILITY_AVAIL, STREET, MZZONE, QS_ROOMS, QS_BATHROOM, QS_BEDROOM, QS_OVERALL, REG_FEE, COMMIS, SALES_PRICE, HOUSE_AGE, Total_price]\n",
              "Index: []\n",
              "\n",
              "[0 rows x 24 columns]"
            ],
            "text/html": [
              "\n",
              "  <div id=\"df-809f1b63-2e80-4e91-89e5-1d521337765c\">\n",
              "    <div class=\"colab-df-container\">\n",
              "      <div>\n",
              "<style scoped>\n",
              "    .dataframe tbody tr th:only-of-type {\n",
              "        vertical-align: middle;\n",
              "    }\n",
              "\n",
              "    .dataframe tbody tr th {\n",
              "        vertical-align: top;\n",
              "    }\n",
              "\n",
              "    .dataframe thead th {\n",
              "        text-align: right;\n",
              "    }\n",
              "</style>\n",
              "<table border=\"1\" class=\"dataframe\">\n",
              "  <thead>\n",
              "    <tr style=\"text-align: right;\">\n",
              "      <th></th>\n",
              "      <th>PRT_ID</th>\n",
              "      <th>AREA</th>\n",
              "      <th>INT_SQFT</th>\n",
              "      <th>DATE_SALE</th>\n",
              "      <th>DIST_MAINROAD</th>\n",
              "      <th>N_BEDROOM</th>\n",
              "      <th>N_BATHROOM</th>\n",
              "      <th>N_ROOM</th>\n",
              "      <th>SALE_COND</th>\n",
              "      <th>PARK_FACIL</th>\n",
              "      <th>...</th>\n",
              "      <th>MZZONE</th>\n",
              "      <th>QS_ROOMS</th>\n",
              "      <th>QS_BATHROOM</th>\n",
              "      <th>QS_BEDROOM</th>\n",
              "      <th>QS_OVERALL</th>\n",
              "      <th>REG_FEE</th>\n",
              "      <th>COMMIS</th>\n",
              "      <th>SALES_PRICE</th>\n",
              "      <th>HOUSE_AGE</th>\n",
              "      <th>Total_price</th>\n",
              "    </tr>\n",
              "  </thead>\n",
              "  <tbody>\n",
              "  </tbody>\n",
              "</table>\n",
              "<p>0 rows × 24 columns</p>\n",
              "</div>\n",
              "      <button class=\"colab-df-convert\" onclick=\"convertToInteractive('df-809f1b63-2e80-4e91-89e5-1d521337765c')\"\n",
              "              title=\"Convert this dataframe to an interactive table.\"\n",
              "              style=\"display:none;\">\n",
              "        \n",
              "  <svg xmlns=\"http://www.w3.org/2000/svg\" height=\"24px\"viewBox=\"0 0 24 24\"\n",
              "       width=\"24px\">\n",
              "    <path d=\"M0 0h24v24H0V0z\" fill=\"none\"/>\n",
              "    <path d=\"M18.56 5.44l.94 2.06.94-2.06 2.06-.94-2.06-.94-.94-2.06-.94 2.06-2.06.94zm-11 1L8.5 8.5l.94-2.06 2.06-.94-2.06-.94L8.5 2.5l-.94 2.06-2.06.94zm10 10l.94 2.06.94-2.06 2.06-.94-2.06-.94-.94-2.06-.94 2.06-2.06.94z\"/><path d=\"M17.41 7.96l-1.37-1.37c-.4-.4-.92-.59-1.43-.59-.52 0-1.04.2-1.43.59L10.3 9.45l-7.72 7.72c-.78.78-.78 2.05 0 2.83L4 21.41c.39.39.9.59 1.41.59.51 0 1.02-.2 1.41-.59l7.78-7.78 2.81-2.81c.8-.78.8-2.07 0-2.86zM5.41 20L4 18.59l7.72-7.72 1.47 1.35L5.41 20z\"/>\n",
              "  </svg>\n",
              "      </button>\n",
              "      \n",
              "  <style>\n",
              "    .colab-df-container {\n",
              "      display:flex;\n",
              "      flex-wrap:wrap;\n",
              "      gap: 12px;\n",
              "    }\n",
              "\n",
              "    .colab-df-convert {\n",
              "      background-color: #E8F0FE;\n",
              "      border: none;\n",
              "      border-radius: 50%;\n",
              "      cursor: pointer;\n",
              "      display: none;\n",
              "      fill: #1967D2;\n",
              "      height: 32px;\n",
              "      padding: 0 0 0 0;\n",
              "      width: 32px;\n",
              "    }\n",
              "\n",
              "    .colab-df-convert:hover {\n",
              "      background-color: #E2EBFA;\n",
              "      box-shadow: 0px 1px 2px rgba(60, 64, 67, 0.3), 0px 1px 3px 1px rgba(60, 64, 67, 0.15);\n",
              "      fill: #174EA6;\n",
              "    }\n",
              "\n",
              "    [theme=dark] .colab-df-convert {\n",
              "      background-color: #3B4455;\n",
              "      fill: #D2E3FC;\n",
              "    }\n",
              "\n",
              "    [theme=dark] .colab-df-convert:hover {\n",
              "      background-color: #434B5C;\n",
              "      box-shadow: 0px 1px 3px 1px rgba(0, 0, 0, 0.15);\n",
              "      filter: drop-shadow(0px 1px 2px rgba(0, 0, 0, 0.3));\n",
              "      fill: #FFFFFF;\n",
              "    }\n",
              "  </style>\n",
              "\n",
              "      <script>\n",
              "        const buttonEl =\n",
              "          document.querySelector('#df-809f1b63-2e80-4e91-89e5-1d521337765c button.colab-df-convert');\n",
              "        buttonEl.style.display =\n",
              "          google.colab.kernel.accessAllowed ? 'block' : 'none';\n",
              "\n",
              "        async function convertToInteractive(key) {\n",
              "          const element = document.querySelector('#df-809f1b63-2e80-4e91-89e5-1d521337765c');\n",
              "          const dataTable =\n",
              "            await google.colab.kernel.invokeFunction('convertToInteractive',\n",
              "                                                     [key], {});\n",
              "          if (!dataTable) return;\n",
              "\n",
              "          const docLinkHtml = 'Like what you see? Visit the ' +\n",
              "            '<a target=\"_blank\" href=https://colab.research.google.com/notebooks/data_table.ipynb>data table notebook</a>'\n",
              "            + ' to learn more about interactive tables.';\n",
              "          element.innerHTML = '';\n",
              "          dataTable['output_type'] = 'display_data';\n",
              "          await google.colab.output.renderOutput(dataTable, element);\n",
              "          const docLink = document.createElement('div');\n",
              "          docLink.innerHTML = docLinkHtml;\n",
              "          element.appendChild(docLink);\n",
              "        }\n",
              "      </script>\n",
              "    </div>\n",
              "  </div>\n",
              "  "
            ]
          },
          "metadata": {},
          "execution_count": 315
        }
      ]
    },
    {
      "cell_type": "code",
      "source": [
        "Q1=df2['INT_SQFT'].quantile(0.25)\n",
        "Q2=df2['INT_SQFT'].quantile(0.50)\n",
        "Q3=df2['INT_SQFT'].quantile(0.75)\n",
        "Q4=df2['INT_SQFT'].quantile(0.95)"
      ],
      "metadata": {
        "id": "SmGrMFQSI2ia"
      },
      "execution_count": 316,
      "outputs": []
    },
    {
      "cell_type": "code",
      "source": [
        "IQR= Q3-Q1\n",
        "IQR"
      ],
      "metadata": {
        "colab": {
          "base_uri": "https://localhost:8080/"
        },
        "id": "vfPKV5r3JJXP",
        "outputId": "3ffbe082-d3af-4e37-fb59-997a32fb8275"
      },
      "execution_count": 317,
      "outputs": [
        {
          "output_type": "execute_result",
          "data": {
            "text/plain": [
              "753.0"
            ]
          },
          "metadata": {},
          "execution_count": 317
        }
      ]
    },
    {
      "cell_type": "code",
      "source": [
        "lower_limit = Q1-1.5*IQR\n",
        "upper_limit = Q3+1.5*IQR\n",
        "lower_limit,upper_limit"
      ],
      "metadata": {
        "colab": {
          "base_uri": "https://localhost:8080/"
        },
        "id": "75qhWt2FJKk8",
        "outputId": "91c473c0-d8a2-4d14-cd0a-a1a3650a3ce3"
      },
      "execution_count": 318,
      "outputs": [
        {
          "output_type": "execute_result",
          "data": {
            "text/plain": [
              "(-138.5, 2873.5)"
            ]
          },
          "metadata": {},
          "execution_count": 318
        }
      ]
    },
    {
      "cell_type": "code",
      "source": [
        "df2[(df2['INT_SQFT']<lower_limit) | (df2['INT_SQFT']>upper_limit)]\n",
        "df2_no_outlier = df2[(df2['INT_SQFT']<lower_limit) & (df2['INT_SQFT']<upper_limit)]\n",
        "df2_no_outlier"
      ],
      "metadata": {
        "colab": {
          "base_uri": "https://localhost:8080/",
          "height": 143
        },
        "id": "QGa0y3nuJKwK",
        "outputId": "e0884964-2660-4e30-9eda-00623e3612aa"
      },
      "execution_count": 326,
      "outputs": [
        {
          "output_type": "execute_result",
          "data": {
            "text/plain": [
              "Empty DataFrame\n",
              "Columns: [PRT_ID, AREA, INT_SQFT, DATE_SALE, DIST_MAINROAD, N_BEDROOM, N_BATHROOM, N_ROOM, SALE_COND, PARK_FACIL, DATE_BUILD, BUILDTYPE, UTILITY_AVAIL, STREET, MZZONE, QS_ROOMS, QS_BATHROOM, QS_BEDROOM, QS_OVERALL, REG_FEE, COMMIS, SALES_PRICE, HOUSE_AGE, Total_price]\n",
              "Index: []\n",
              "\n",
              "[0 rows x 24 columns]"
            ],
            "text/html": [
              "\n",
              "  <div id=\"df-62704a07-3d3b-468d-99e0-7bd6ece2fc2a\">\n",
              "    <div class=\"colab-df-container\">\n",
              "      <div>\n",
              "<style scoped>\n",
              "    .dataframe tbody tr th:only-of-type {\n",
              "        vertical-align: middle;\n",
              "    }\n",
              "\n",
              "    .dataframe tbody tr th {\n",
              "        vertical-align: top;\n",
              "    }\n",
              "\n",
              "    .dataframe thead th {\n",
              "        text-align: right;\n",
              "    }\n",
              "</style>\n",
              "<table border=\"1\" class=\"dataframe\">\n",
              "  <thead>\n",
              "    <tr style=\"text-align: right;\">\n",
              "      <th></th>\n",
              "      <th>PRT_ID</th>\n",
              "      <th>AREA</th>\n",
              "      <th>INT_SQFT</th>\n",
              "      <th>DATE_SALE</th>\n",
              "      <th>DIST_MAINROAD</th>\n",
              "      <th>N_BEDROOM</th>\n",
              "      <th>N_BATHROOM</th>\n",
              "      <th>N_ROOM</th>\n",
              "      <th>SALE_COND</th>\n",
              "      <th>PARK_FACIL</th>\n",
              "      <th>...</th>\n",
              "      <th>MZZONE</th>\n",
              "      <th>QS_ROOMS</th>\n",
              "      <th>QS_BATHROOM</th>\n",
              "      <th>QS_BEDROOM</th>\n",
              "      <th>QS_OVERALL</th>\n",
              "      <th>REG_FEE</th>\n",
              "      <th>COMMIS</th>\n",
              "      <th>SALES_PRICE</th>\n",
              "      <th>HOUSE_AGE</th>\n",
              "      <th>Total_price</th>\n",
              "    </tr>\n",
              "  </thead>\n",
              "  <tbody>\n",
              "  </tbody>\n",
              "</table>\n",
              "<p>0 rows × 24 columns</p>\n",
              "</div>\n",
              "      <button class=\"colab-df-convert\" onclick=\"convertToInteractive('df-62704a07-3d3b-468d-99e0-7bd6ece2fc2a')\"\n",
              "              title=\"Convert this dataframe to an interactive table.\"\n",
              "              style=\"display:none;\">\n",
              "        \n",
              "  <svg xmlns=\"http://www.w3.org/2000/svg\" height=\"24px\"viewBox=\"0 0 24 24\"\n",
              "       width=\"24px\">\n",
              "    <path d=\"M0 0h24v24H0V0z\" fill=\"none\"/>\n",
              "    <path d=\"M18.56 5.44l.94 2.06.94-2.06 2.06-.94-2.06-.94-.94-2.06-.94 2.06-2.06.94zm-11 1L8.5 8.5l.94-2.06 2.06-.94-2.06-.94L8.5 2.5l-.94 2.06-2.06.94zm10 10l.94 2.06.94-2.06 2.06-.94-2.06-.94-.94-2.06-.94 2.06-2.06.94z\"/><path d=\"M17.41 7.96l-1.37-1.37c-.4-.4-.92-.59-1.43-.59-.52 0-1.04.2-1.43.59L10.3 9.45l-7.72 7.72c-.78.78-.78 2.05 0 2.83L4 21.41c.39.39.9.59 1.41.59.51 0 1.02-.2 1.41-.59l7.78-7.78 2.81-2.81c.8-.78.8-2.07 0-2.86zM5.41 20L4 18.59l7.72-7.72 1.47 1.35L5.41 20z\"/>\n",
              "  </svg>\n",
              "      </button>\n",
              "      \n",
              "  <style>\n",
              "    .colab-df-container {\n",
              "      display:flex;\n",
              "      flex-wrap:wrap;\n",
              "      gap: 12px;\n",
              "    }\n",
              "\n",
              "    .colab-df-convert {\n",
              "      background-color: #E8F0FE;\n",
              "      border: none;\n",
              "      border-radius: 50%;\n",
              "      cursor: pointer;\n",
              "      display: none;\n",
              "      fill: #1967D2;\n",
              "      height: 32px;\n",
              "      padding: 0 0 0 0;\n",
              "      width: 32px;\n",
              "    }\n",
              "\n",
              "    .colab-df-convert:hover {\n",
              "      background-color: #E2EBFA;\n",
              "      box-shadow: 0px 1px 2px rgba(60, 64, 67, 0.3), 0px 1px 3px 1px rgba(60, 64, 67, 0.15);\n",
              "      fill: #174EA6;\n",
              "    }\n",
              "\n",
              "    [theme=dark] .colab-df-convert {\n",
              "      background-color: #3B4455;\n",
              "      fill: #D2E3FC;\n",
              "    }\n",
              "\n",
              "    [theme=dark] .colab-df-convert:hover {\n",
              "      background-color: #434B5C;\n",
              "      box-shadow: 0px 1px 3px 1px rgba(0, 0, 0, 0.15);\n",
              "      filter: drop-shadow(0px 1px 2px rgba(0, 0, 0, 0.3));\n",
              "      fill: #FFFFFF;\n",
              "    }\n",
              "  </style>\n",
              "\n",
              "      <script>\n",
              "        const buttonEl =\n",
              "          document.querySelector('#df-62704a07-3d3b-468d-99e0-7bd6ece2fc2a button.colab-df-convert');\n",
              "        buttonEl.style.display =\n",
              "          google.colab.kernel.accessAllowed ? 'block' : 'none';\n",
              "\n",
              "        async function convertToInteractive(key) {\n",
              "          const element = document.querySelector('#df-62704a07-3d3b-468d-99e0-7bd6ece2fc2a');\n",
              "          const dataTable =\n",
              "            await google.colab.kernel.invokeFunction('convertToInteractive',\n",
              "                                                     [key], {});\n",
              "          if (!dataTable) return;\n",
              "\n",
              "          const docLinkHtml = 'Like what you see? Visit the ' +\n",
              "            '<a target=\"_blank\" href=https://colab.research.google.com/notebooks/data_table.ipynb>data table notebook</a>'\n",
              "            + ' to learn more about interactive tables.';\n",
              "          element.innerHTML = '';\n",
              "          dataTable['output_type'] = 'display_data';\n",
              "          await google.colab.output.renderOutput(dataTable, element);\n",
              "          const docLink = document.createElement('div');\n",
              "          docLink.innerHTML = docLinkHtml;\n",
              "          element.appendChild(docLink);\n",
              "        }\n",
              "      </script>\n",
              "    </div>\n",
              "  </div>\n",
              "  "
            ]
          },
          "metadata": {},
          "execution_count": 326
        }
      ]
    },
    {
      "cell_type": "code",
      "source": [
        "#correlation\n",
        "#corrmatrix = df2.corr()\n",
        "#corrmatrix"
      ],
      "metadata": {
        "colab": {
          "base_uri": "https://localhost:8080/",
          "height": 678
        },
        "id": "j7JyLqeEMuGh",
        "outputId": "eb543f3e-6223-435f-be5d-d1b9bd1e4f98"
      },
      "execution_count": 320,
      "outputs": [
        {
          "output_type": "execute_result",
          "data": {
            "text/plain": [
              "                   AREA  INT_SQFT  DIST_MAINROAD  N_BEDROOM  N_BATHROOM  \\\n",
              "AREA           1.000000  0.420979      -0.015302   0.362740    0.222890   \n",
              "INT_SQFT       0.420979  1.000000      -0.002897   0.694150    0.436598   \n",
              "DIST_MAINROAD -0.015302 -0.002897       1.000000  -0.001875    0.002365   \n",
              "N_BEDROOM      0.362740  0.694150      -0.001875   1.000000    0.755998   \n",
              "N_BATHROOM     0.222890  0.436598       0.002365   0.755998    1.000000   \n",
              "N_ROOM         0.280152  0.879128       0.002602   0.840493    0.569903   \n",
              "SALE_COND     -0.008236 -0.002124       0.004440   0.009128    0.002381   \n",
              "PARK_FACIL     0.009274  0.004927      -0.009576  -0.009390   -0.013885   \n",
              "BUILDTYPE     -0.007251 -0.005700      -0.010014  -0.004200   -0.007058   \n",
              "QS_ROOMS       0.004427  0.020248       0.003239   0.015692    0.013635   \n",
              "QS_BATHROOM    0.000253 -0.007776      -0.030939  -0.006305   -0.011012   \n",
              "QS_BEDROOM     0.003203  0.010008       0.000903   0.016168    0.012354   \n",
              "QS_OVERALL     0.005708  0.013514      -0.017313   0.014282    0.007989   \n",
              "REG_FEE        0.074490  0.627189       0.011279   0.456790    0.262472   \n",
              "COMMIS         0.219913  0.551886       0.010204   0.431186    0.258357   \n",
              "SALES_PRICE   -0.001557  0.589519       0.015775   0.351293    0.130131   \n",
              "HOUSE_AGE      0.115201 -0.007303       0.001852  -0.082109   -0.042298   \n",
              "Total_price   -0.010540  0.598160       0.018065   0.342910    0.120615   \n",
              "\n",
              "                 N_ROOM  SALE_COND  PARK_FACIL  BUILDTYPE  QS_ROOMS  \\\n",
              "AREA           0.280152  -0.008236    0.009274  -0.007251  0.004427   \n",
              "INT_SQFT       0.879128  -0.002124    0.004927  -0.005700  0.020248   \n",
              "DIST_MAINROAD  0.002602   0.004440   -0.009576  -0.010014  0.003239   \n",
              "N_BEDROOM      0.840493   0.009128   -0.009390  -0.004200  0.015692   \n",
              "N_BATHROOM     0.569903   0.002381   -0.013885  -0.007058  0.013635   \n",
              "N_ROOM         1.000000   0.009449   -0.000853  -0.006746  0.016812   \n",
              "SALE_COND      0.009449   1.000000   -0.013629  -0.011630  0.004483   \n",
              "PARK_FACIL    -0.000853  -0.013629    1.000000  -0.004645 -0.008122   \n",
              "BUILDTYPE     -0.006746  -0.011630   -0.004645   1.000000  0.002165   \n",
              "QS_ROOMS       0.016812   0.004483   -0.008122   0.002165  1.000000   \n",
              "QS_BATHROOM   -0.006755  -0.014077   -0.011304   0.008880  0.009129   \n",
              "QS_BEDROOM     0.016022  -0.005067   -0.000887   0.000615  0.009061   \n",
              "QS_OVERALL     0.015459  -0.008107   -0.009634   0.005226  0.517741   \n",
              "REG_FEE        0.631681  -0.031391    0.140340  -0.331154  0.020651   \n",
              "COMMIS         0.533932  -0.036216    0.097411  -0.232515  0.009449   \n",
              "SALES_PRICE    0.598238  -0.022705    0.135441  -0.310414  0.026092   \n",
              "HOUSE_AGE     -0.060494  -0.004834   -0.004675   0.003707  0.015573   \n",
              "Total_price    0.610098  -0.030762    0.147573  -0.362154  0.022216   \n",
              "\n",
              "               QS_BATHROOM  QS_BEDROOM  QS_OVERALL   REG_FEE    COMMIS  \\\n",
              "AREA              0.000253    0.003203    0.005708  0.074490  0.219913   \n",
              "INT_SQFT         -0.007776    0.010008    0.013514  0.627189  0.551886   \n",
              "DIST_MAINROAD    -0.030939    0.000903   -0.017313  0.011279  0.010204   \n",
              "N_BEDROOM        -0.006305    0.016168    0.014282  0.456790  0.431186   \n",
              "N_BATHROOM       -0.011012    0.012354    0.007989  0.262472  0.258357   \n",
              "N_ROOM           -0.006755    0.016022    0.015459  0.631681  0.533932   \n",
              "SALE_COND        -0.014077   -0.005067   -0.008107 -0.031391 -0.036216   \n",
              "PARK_FACIL       -0.011304   -0.000887   -0.009634  0.140340  0.097411   \n",
              "BUILDTYPE         0.008880    0.000615    0.005226 -0.331154 -0.232515   \n",
              "QS_ROOMS          0.009129    0.009061    0.517741  0.020651  0.009449   \n",
              "QS_BATHROOM       1.000000   -0.012420    0.551125 -0.007160 -0.001268   \n",
              "QS_BEDROOM       -0.012420    1.000000    0.630447  0.022880  0.020758   \n",
              "QS_OVERALL        0.551125    0.630447    1.000000  0.022482  0.017004   \n",
              "REG_FEE          -0.007160    0.022880    0.022482  1.000000  0.660256   \n",
              "COMMIS           -0.001268    0.020758    0.017004  0.660256  1.000000   \n",
              "SALES_PRICE      -0.003327    0.025141    0.029193  0.780981  0.564541   \n",
              "HOUSE_AGE         0.018062   -0.012960    0.010207 -0.121060 -0.099085   \n",
              "Total_price      -0.012095    0.020744    0.020792  0.888463  0.642988   \n",
              "\n",
              "               SALES_PRICE  HOUSE_AGE  Total_price  \n",
              "AREA             -0.001557   0.115201    -0.010540  \n",
              "INT_SQFT          0.589519  -0.007303     0.598160  \n",
              "DIST_MAINROAD     0.015775   0.001852     0.018065  \n",
              "N_BEDROOM         0.351293  -0.082109     0.342910  \n",
              "N_BATHROOM        0.130131  -0.042298     0.120615  \n",
              "N_ROOM            0.598238  -0.060494     0.610098  \n",
              "SALE_COND        -0.022705  -0.004834    -0.030762  \n",
              "PARK_FACIL        0.135441  -0.004675     0.147573  \n",
              "BUILDTYPE        -0.310414   0.003707    -0.362154  \n",
              "QS_ROOMS          0.026092   0.015573     0.022216  \n",
              "QS_BATHROOM      -0.003327   0.018062    -0.012095  \n",
              "QS_BEDROOM        0.025141  -0.012960     0.020744  \n",
              "QS_OVERALL        0.029193   0.010207     0.020792  \n",
              "REG_FEE           0.780981  -0.121060     0.888463  \n",
              "COMMIS            0.564541  -0.099085     0.642988  \n",
              "SALES_PRICE       1.000000  -0.107149     0.887664  \n",
              "HOUSE_AGE        -0.107149   1.000000    -0.112742  \n",
              "Total_price       0.887664  -0.112742     1.000000  "
            ],
            "text/html": [
              "\n",
              "  <div id=\"df-4ca8cdda-130d-4aa1-a3c8-e9be9ca48689\">\n",
              "    <div class=\"colab-df-container\">\n",
              "      <div>\n",
              "<style scoped>\n",
              "    .dataframe tbody tr th:only-of-type {\n",
              "        vertical-align: middle;\n",
              "    }\n",
              "\n",
              "    .dataframe tbody tr th {\n",
              "        vertical-align: top;\n",
              "    }\n",
              "\n",
              "    .dataframe thead th {\n",
              "        text-align: right;\n",
              "    }\n",
              "</style>\n",
              "<table border=\"1\" class=\"dataframe\">\n",
              "  <thead>\n",
              "    <tr style=\"text-align: right;\">\n",
              "      <th></th>\n",
              "      <th>AREA</th>\n",
              "      <th>INT_SQFT</th>\n",
              "      <th>DIST_MAINROAD</th>\n",
              "      <th>N_BEDROOM</th>\n",
              "      <th>N_BATHROOM</th>\n",
              "      <th>N_ROOM</th>\n",
              "      <th>SALE_COND</th>\n",
              "      <th>PARK_FACIL</th>\n",
              "      <th>BUILDTYPE</th>\n",
              "      <th>QS_ROOMS</th>\n",
              "      <th>QS_BATHROOM</th>\n",
              "      <th>QS_BEDROOM</th>\n",
              "      <th>QS_OVERALL</th>\n",
              "      <th>REG_FEE</th>\n",
              "      <th>COMMIS</th>\n",
              "      <th>SALES_PRICE</th>\n",
              "      <th>HOUSE_AGE</th>\n",
              "      <th>Total_price</th>\n",
              "    </tr>\n",
              "  </thead>\n",
              "  <tbody>\n",
              "    <tr>\n",
              "      <th>AREA</th>\n",
              "      <td>1.000000</td>\n",
              "      <td>0.420979</td>\n",
              "      <td>-0.015302</td>\n",
              "      <td>0.362740</td>\n",
              "      <td>0.222890</td>\n",
              "      <td>0.280152</td>\n",
              "      <td>-0.008236</td>\n",
              "      <td>0.009274</td>\n",
              "      <td>-0.007251</td>\n",
              "      <td>0.004427</td>\n",
              "      <td>0.000253</td>\n",
              "      <td>0.003203</td>\n",
              "      <td>0.005708</td>\n",
              "      <td>0.074490</td>\n",
              "      <td>0.219913</td>\n",
              "      <td>-0.001557</td>\n",
              "      <td>0.115201</td>\n",
              "      <td>-0.010540</td>\n",
              "    </tr>\n",
              "    <tr>\n",
              "      <th>INT_SQFT</th>\n",
              "      <td>0.420979</td>\n",
              "      <td>1.000000</td>\n",
              "      <td>-0.002897</td>\n",
              "      <td>0.694150</td>\n",
              "      <td>0.436598</td>\n",
              "      <td>0.879128</td>\n",
              "      <td>-0.002124</td>\n",
              "      <td>0.004927</td>\n",
              "      <td>-0.005700</td>\n",
              "      <td>0.020248</td>\n",
              "      <td>-0.007776</td>\n",
              "      <td>0.010008</td>\n",
              "      <td>0.013514</td>\n",
              "      <td>0.627189</td>\n",
              "      <td>0.551886</td>\n",
              "      <td>0.589519</td>\n",
              "      <td>-0.007303</td>\n",
              "      <td>0.598160</td>\n",
              "    </tr>\n",
              "    <tr>\n",
              "      <th>DIST_MAINROAD</th>\n",
              "      <td>-0.015302</td>\n",
              "      <td>-0.002897</td>\n",
              "      <td>1.000000</td>\n",
              "      <td>-0.001875</td>\n",
              "      <td>0.002365</td>\n",
              "      <td>0.002602</td>\n",
              "      <td>0.004440</td>\n",
              "      <td>-0.009576</td>\n",
              "      <td>-0.010014</td>\n",
              "      <td>0.003239</td>\n",
              "      <td>-0.030939</td>\n",
              "      <td>0.000903</td>\n",
              "      <td>-0.017313</td>\n",
              "      <td>0.011279</td>\n",
              "      <td>0.010204</td>\n",
              "      <td>0.015775</td>\n",
              "      <td>0.001852</td>\n",
              "      <td>0.018065</td>\n",
              "    </tr>\n",
              "    <tr>\n",
              "      <th>N_BEDROOM</th>\n",
              "      <td>0.362740</td>\n",
              "      <td>0.694150</td>\n",
              "      <td>-0.001875</td>\n",
              "      <td>1.000000</td>\n",
              "      <td>0.755998</td>\n",
              "      <td>0.840493</td>\n",
              "      <td>0.009128</td>\n",
              "      <td>-0.009390</td>\n",
              "      <td>-0.004200</td>\n",
              "      <td>0.015692</td>\n",
              "      <td>-0.006305</td>\n",
              "      <td>0.016168</td>\n",
              "      <td>0.014282</td>\n",
              "      <td>0.456790</td>\n",
              "      <td>0.431186</td>\n",
              "      <td>0.351293</td>\n",
              "      <td>-0.082109</td>\n",
              "      <td>0.342910</td>\n",
              "    </tr>\n",
              "    <tr>\n",
              "      <th>N_BATHROOM</th>\n",
              "      <td>0.222890</td>\n",
              "      <td>0.436598</td>\n",
              "      <td>0.002365</td>\n",
              "      <td>0.755998</td>\n",
              "      <td>1.000000</td>\n",
              "      <td>0.569903</td>\n",
              "      <td>0.002381</td>\n",
              "      <td>-0.013885</td>\n",
              "      <td>-0.007058</td>\n",
              "      <td>0.013635</td>\n",
              "      <td>-0.011012</td>\n",
              "      <td>0.012354</td>\n",
              "      <td>0.007989</td>\n",
              "      <td>0.262472</td>\n",
              "      <td>0.258357</td>\n",
              "      <td>0.130131</td>\n",
              "      <td>-0.042298</td>\n",
              "      <td>0.120615</td>\n",
              "    </tr>\n",
              "    <tr>\n",
              "      <th>N_ROOM</th>\n",
              "      <td>0.280152</td>\n",
              "      <td>0.879128</td>\n",
              "      <td>0.002602</td>\n",
              "      <td>0.840493</td>\n",
              "      <td>0.569903</td>\n",
              "      <td>1.000000</td>\n",
              "      <td>0.009449</td>\n",
              "      <td>-0.000853</td>\n",
              "      <td>-0.006746</td>\n",
              "      <td>0.016812</td>\n",
              "      <td>-0.006755</td>\n",
              "      <td>0.016022</td>\n",
              "      <td>0.015459</td>\n",
              "      <td>0.631681</td>\n",
              "      <td>0.533932</td>\n",
              "      <td>0.598238</td>\n",
              "      <td>-0.060494</td>\n",
              "      <td>0.610098</td>\n",
              "    </tr>\n",
              "    <tr>\n",
              "      <th>SALE_COND</th>\n",
              "      <td>-0.008236</td>\n",
              "      <td>-0.002124</td>\n",
              "      <td>0.004440</td>\n",
              "      <td>0.009128</td>\n",
              "      <td>0.002381</td>\n",
              "      <td>0.009449</td>\n",
              "      <td>1.000000</td>\n",
              "      <td>-0.013629</td>\n",
              "      <td>-0.011630</td>\n",
              "      <td>0.004483</td>\n",
              "      <td>-0.014077</td>\n",
              "      <td>-0.005067</td>\n",
              "      <td>-0.008107</td>\n",
              "      <td>-0.031391</td>\n",
              "      <td>-0.036216</td>\n",
              "      <td>-0.022705</td>\n",
              "      <td>-0.004834</td>\n",
              "      <td>-0.030762</td>\n",
              "    </tr>\n",
              "    <tr>\n",
              "      <th>PARK_FACIL</th>\n",
              "      <td>0.009274</td>\n",
              "      <td>0.004927</td>\n",
              "      <td>-0.009576</td>\n",
              "      <td>-0.009390</td>\n",
              "      <td>-0.013885</td>\n",
              "      <td>-0.000853</td>\n",
              "      <td>-0.013629</td>\n",
              "      <td>1.000000</td>\n",
              "      <td>-0.004645</td>\n",
              "      <td>-0.008122</td>\n",
              "      <td>-0.011304</td>\n",
              "      <td>-0.000887</td>\n",
              "      <td>-0.009634</td>\n",
              "      <td>0.140340</td>\n",
              "      <td>0.097411</td>\n",
              "      <td>0.135441</td>\n",
              "      <td>-0.004675</td>\n",
              "      <td>0.147573</td>\n",
              "    </tr>\n",
              "    <tr>\n",
              "      <th>BUILDTYPE</th>\n",
              "      <td>-0.007251</td>\n",
              "      <td>-0.005700</td>\n",
              "      <td>-0.010014</td>\n",
              "      <td>-0.004200</td>\n",
              "      <td>-0.007058</td>\n",
              "      <td>-0.006746</td>\n",
              "      <td>-0.011630</td>\n",
              "      <td>-0.004645</td>\n",
              "      <td>1.000000</td>\n",
              "      <td>0.002165</td>\n",
              "      <td>0.008880</td>\n",
              "      <td>0.000615</td>\n",
              "      <td>0.005226</td>\n",
              "      <td>-0.331154</td>\n",
              "      <td>-0.232515</td>\n",
              "      <td>-0.310414</td>\n",
              "      <td>0.003707</td>\n",
              "      <td>-0.362154</td>\n",
              "    </tr>\n",
              "    <tr>\n",
              "      <th>QS_ROOMS</th>\n",
              "      <td>0.004427</td>\n",
              "      <td>0.020248</td>\n",
              "      <td>0.003239</td>\n",
              "      <td>0.015692</td>\n",
              "      <td>0.013635</td>\n",
              "      <td>0.016812</td>\n",
              "      <td>0.004483</td>\n",
              "      <td>-0.008122</td>\n",
              "      <td>0.002165</td>\n",
              "      <td>1.000000</td>\n",
              "      <td>0.009129</td>\n",
              "      <td>0.009061</td>\n",
              "      <td>0.517741</td>\n",
              "      <td>0.020651</td>\n",
              "      <td>0.009449</td>\n",
              "      <td>0.026092</td>\n",
              "      <td>0.015573</td>\n",
              "      <td>0.022216</td>\n",
              "    </tr>\n",
              "    <tr>\n",
              "      <th>QS_BATHROOM</th>\n",
              "      <td>0.000253</td>\n",
              "      <td>-0.007776</td>\n",
              "      <td>-0.030939</td>\n",
              "      <td>-0.006305</td>\n",
              "      <td>-0.011012</td>\n",
              "      <td>-0.006755</td>\n",
              "      <td>-0.014077</td>\n",
              "      <td>-0.011304</td>\n",
              "      <td>0.008880</td>\n",
              "      <td>0.009129</td>\n",
              "      <td>1.000000</td>\n",
              "      <td>-0.012420</td>\n",
              "      <td>0.551125</td>\n",
              "      <td>-0.007160</td>\n",
              "      <td>-0.001268</td>\n",
              "      <td>-0.003327</td>\n",
              "      <td>0.018062</td>\n",
              "      <td>-0.012095</td>\n",
              "    </tr>\n",
              "    <tr>\n",
              "      <th>QS_BEDROOM</th>\n",
              "      <td>0.003203</td>\n",
              "      <td>0.010008</td>\n",
              "      <td>0.000903</td>\n",
              "      <td>0.016168</td>\n",
              "      <td>0.012354</td>\n",
              "      <td>0.016022</td>\n",
              "      <td>-0.005067</td>\n",
              "      <td>-0.000887</td>\n",
              "      <td>0.000615</td>\n",
              "      <td>0.009061</td>\n",
              "      <td>-0.012420</td>\n",
              "      <td>1.000000</td>\n",
              "      <td>0.630447</td>\n",
              "      <td>0.022880</td>\n",
              "      <td>0.020758</td>\n",
              "      <td>0.025141</td>\n",
              "      <td>-0.012960</td>\n",
              "      <td>0.020744</td>\n",
              "    </tr>\n",
              "    <tr>\n",
              "      <th>QS_OVERALL</th>\n",
              "      <td>0.005708</td>\n",
              "      <td>0.013514</td>\n",
              "      <td>-0.017313</td>\n",
              "      <td>0.014282</td>\n",
              "      <td>0.007989</td>\n",
              "      <td>0.015459</td>\n",
              "      <td>-0.008107</td>\n",
              "      <td>-0.009634</td>\n",
              "      <td>0.005226</td>\n",
              "      <td>0.517741</td>\n",
              "      <td>0.551125</td>\n",
              "      <td>0.630447</td>\n",
              "      <td>1.000000</td>\n",
              "      <td>0.022482</td>\n",
              "      <td>0.017004</td>\n",
              "      <td>0.029193</td>\n",
              "      <td>0.010207</td>\n",
              "      <td>0.020792</td>\n",
              "    </tr>\n",
              "    <tr>\n",
              "      <th>REG_FEE</th>\n",
              "      <td>0.074490</td>\n",
              "      <td>0.627189</td>\n",
              "      <td>0.011279</td>\n",
              "      <td>0.456790</td>\n",
              "      <td>0.262472</td>\n",
              "      <td>0.631681</td>\n",
              "      <td>-0.031391</td>\n",
              "      <td>0.140340</td>\n",
              "      <td>-0.331154</td>\n",
              "      <td>0.020651</td>\n",
              "      <td>-0.007160</td>\n",
              "      <td>0.022880</td>\n",
              "      <td>0.022482</td>\n",
              "      <td>1.000000</td>\n",
              "      <td>0.660256</td>\n",
              "      <td>0.780981</td>\n",
              "      <td>-0.121060</td>\n",
              "      <td>0.888463</td>\n",
              "    </tr>\n",
              "    <tr>\n",
              "      <th>COMMIS</th>\n",
              "      <td>0.219913</td>\n",
              "      <td>0.551886</td>\n",
              "      <td>0.010204</td>\n",
              "      <td>0.431186</td>\n",
              "      <td>0.258357</td>\n",
              "      <td>0.533932</td>\n",
              "      <td>-0.036216</td>\n",
              "      <td>0.097411</td>\n",
              "      <td>-0.232515</td>\n",
              "      <td>0.009449</td>\n",
              "      <td>-0.001268</td>\n",
              "      <td>0.020758</td>\n",
              "      <td>0.017004</td>\n",
              "      <td>0.660256</td>\n",
              "      <td>1.000000</td>\n",
              "      <td>0.564541</td>\n",
              "      <td>-0.099085</td>\n",
              "      <td>0.642988</td>\n",
              "    </tr>\n",
              "    <tr>\n",
              "      <th>SALES_PRICE</th>\n",
              "      <td>-0.001557</td>\n",
              "      <td>0.589519</td>\n",
              "      <td>0.015775</td>\n",
              "      <td>0.351293</td>\n",
              "      <td>0.130131</td>\n",
              "      <td>0.598238</td>\n",
              "      <td>-0.022705</td>\n",
              "      <td>0.135441</td>\n",
              "      <td>-0.310414</td>\n",
              "      <td>0.026092</td>\n",
              "      <td>-0.003327</td>\n",
              "      <td>0.025141</td>\n",
              "      <td>0.029193</td>\n",
              "      <td>0.780981</td>\n",
              "      <td>0.564541</td>\n",
              "      <td>1.000000</td>\n",
              "      <td>-0.107149</td>\n",
              "      <td>0.887664</td>\n",
              "    </tr>\n",
              "    <tr>\n",
              "      <th>HOUSE_AGE</th>\n",
              "      <td>0.115201</td>\n",
              "      <td>-0.007303</td>\n",
              "      <td>0.001852</td>\n",
              "      <td>-0.082109</td>\n",
              "      <td>-0.042298</td>\n",
              "      <td>-0.060494</td>\n",
              "      <td>-0.004834</td>\n",
              "      <td>-0.004675</td>\n",
              "      <td>0.003707</td>\n",
              "      <td>0.015573</td>\n",
              "      <td>0.018062</td>\n",
              "      <td>-0.012960</td>\n",
              "      <td>0.010207</td>\n",
              "      <td>-0.121060</td>\n",
              "      <td>-0.099085</td>\n",
              "      <td>-0.107149</td>\n",
              "      <td>1.000000</td>\n",
              "      <td>-0.112742</td>\n",
              "    </tr>\n",
              "    <tr>\n",
              "      <th>Total_price</th>\n",
              "      <td>-0.010540</td>\n",
              "      <td>0.598160</td>\n",
              "      <td>0.018065</td>\n",
              "      <td>0.342910</td>\n",
              "      <td>0.120615</td>\n",
              "      <td>0.610098</td>\n",
              "      <td>-0.030762</td>\n",
              "      <td>0.147573</td>\n",
              "      <td>-0.362154</td>\n",
              "      <td>0.022216</td>\n",
              "      <td>-0.012095</td>\n",
              "      <td>0.020744</td>\n",
              "      <td>0.020792</td>\n",
              "      <td>0.888463</td>\n",
              "      <td>0.642988</td>\n",
              "      <td>0.887664</td>\n",
              "      <td>-0.112742</td>\n",
              "      <td>1.000000</td>\n",
              "    </tr>\n",
              "  </tbody>\n",
              "</table>\n",
              "</div>\n",
              "      <button class=\"colab-df-convert\" onclick=\"convertToInteractive('df-4ca8cdda-130d-4aa1-a3c8-e9be9ca48689')\"\n",
              "              title=\"Convert this dataframe to an interactive table.\"\n",
              "              style=\"display:none;\">\n",
              "        \n",
              "  <svg xmlns=\"http://www.w3.org/2000/svg\" height=\"24px\"viewBox=\"0 0 24 24\"\n",
              "       width=\"24px\">\n",
              "    <path d=\"M0 0h24v24H0V0z\" fill=\"none\"/>\n",
              "    <path d=\"M18.56 5.44l.94 2.06.94-2.06 2.06-.94-2.06-.94-.94-2.06-.94 2.06-2.06.94zm-11 1L8.5 8.5l.94-2.06 2.06-.94-2.06-.94L8.5 2.5l-.94 2.06-2.06.94zm10 10l.94 2.06.94-2.06 2.06-.94-2.06-.94-.94-2.06-.94 2.06-2.06.94z\"/><path d=\"M17.41 7.96l-1.37-1.37c-.4-.4-.92-.59-1.43-.59-.52 0-1.04.2-1.43.59L10.3 9.45l-7.72 7.72c-.78.78-.78 2.05 0 2.83L4 21.41c.39.39.9.59 1.41.59.51 0 1.02-.2 1.41-.59l7.78-7.78 2.81-2.81c.8-.78.8-2.07 0-2.86zM5.41 20L4 18.59l7.72-7.72 1.47 1.35L5.41 20z\"/>\n",
              "  </svg>\n",
              "      </button>\n",
              "      \n",
              "  <style>\n",
              "    .colab-df-container {\n",
              "      display:flex;\n",
              "      flex-wrap:wrap;\n",
              "      gap: 12px;\n",
              "    }\n",
              "\n",
              "    .colab-df-convert {\n",
              "      background-color: #E8F0FE;\n",
              "      border: none;\n",
              "      border-radius: 50%;\n",
              "      cursor: pointer;\n",
              "      display: none;\n",
              "      fill: #1967D2;\n",
              "      height: 32px;\n",
              "      padding: 0 0 0 0;\n",
              "      width: 32px;\n",
              "    }\n",
              "\n",
              "    .colab-df-convert:hover {\n",
              "      background-color: #E2EBFA;\n",
              "      box-shadow: 0px 1px 2px rgba(60, 64, 67, 0.3), 0px 1px 3px 1px rgba(60, 64, 67, 0.15);\n",
              "      fill: #174EA6;\n",
              "    }\n",
              "\n",
              "    [theme=dark] .colab-df-convert {\n",
              "      background-color: #3B4455;\n",
              "      fill: #D2E3FC;\n",
              "    }\n",
              "\n",
              "    [theme=dark] .colab-df-convert:hover {\n",
              "      background-color: #434B5C;\n",
              "      box-shadow: 0px 1px 3px 1px rgba(0, 0, 0, 0.15);\n",
              "      filter: drop-shadow(0px 1px 2px rgba(0, 0, 0, 0.3));\n",
              "      fill: #FFFFFF;\n",
              "    }\n",
              "  </style>\n",
              "\n",
              "      <script>\n",
              "        const buttonEl =\n",
              "          document.querySelector('#df-4ca8cdda-130d-4aa1-a3c8-e9be9ca48689 button.colab-df-convert');\n",
              "        buttonEl.style.display =\n",
              "          google.colab.kernel.accessAllowed ? 'block' : 'none';\n",
              "\n",
              "        async function convertToInteractive(key) {\n",
              "          const element = document.querySelector('#df-4ca8cdda-130d-4aa1-a3c8-e9be9ca48689');\n",
              "          const dataTable =\n",
              "            await google.colab.kernel.invokeFunction('convertToInteractive',\n",
              "                                                     [key], {});\n",
              "          if (!dataTable) return;\n",
              "\n",
              "          const docLinkHtml = 'Like what you see? Visit the ' +\n",
              "            '<a target=\"_blank\" href=https://colab.research.google.com/notebooks/data_table.ipynb>data table notebook</a>'\n",
              "            + ' to learn more about interactive tables.';\n",
              "          element.innerHTML = '';\n",
              "          dataTable['output_type'] = 'display_data';\n",
              "          await google.colab.output.renderOutput(dataTable, element);\n",
              "          const docLink = document.createElement('div');\n",
              "          docLink.innerHTML = docLinkHtml;\n",
              "          element.appendChild(docLink);\n",
              "        }\n",
              "      </script>\n",
              "    </div>\n",
              "  </div>\n",
              "  "
            ]
          },
          "metadata": {},
          "execution_count": 320
        }
      ]
    },
    {
      "cell_type": "code",
      "source": [
        "#eat = sns.heatmap(corrmatrix,annot=True)\n",
        "#heat"
      ],
      "metadata": {
        "colab": {
          "base_uri": "https://localhost:8080/",
          "height": 685
        },
        "id": "AqwnD7NoNoAn",
        "outputId": "b0fd049c-e787-4fd1-df7a-7af865c6d705"
      },
      "execution_count": 306,
      "outputs": [
        {
          "output_type": "execute_result",
          "data": {
            "text/plain": [
              "<matplotlib.axes._subplots.AxesSubplot at 0x7f5deedf2190>"
            ]
          },
          "metadata": {},
          "execution_count": 306
        },
        {
          "output_type": "display_data",
          "data": {
            "text/plain": [
              "<Figure size 1440x720 with 2 Axes>"
            ],
            "image/png": "[encoded data removed]"
          },
          "metadata": {
            "needs_background": "light"
          }
        }
      ]
    },
    {
      "cell_type": "code",
      "source": [
        "df2.shape"
      ],
      "metadata": {
        "colab": {
          "base_uri": "https://localhost:8080/"
        },
        "id": "gsfRihqsCZGN",
        "outputId": "c3f8573b-06a7-4dca-fc11-8336c827d9e0"
      },
      "execution_count": 325,
      "outputs": [
        {
          "output_type": "execute_result",
          "data": {
            "text/plain": [
              "(7061, 24)"
            ]
          },
          "metadata": {},
          "execution_count": 325
        }
      ]
    },
    {
      "cell_type": "markdown",
      "source": [
        "#**Plotting**"
      ],
      "metadata": {
        "id": "RDjXtl2i1Pb5"
      }
    },
    {
      "cell_type": "code",
      "source": [
        "fig1=px.histogram(df2,x=\"AREA\",color=\"AREA\",title=\"<b>AREA wise distribution of data<br>\"+\"\")\n",
        "fig1"
      ],
      "metadata": {
        "colab": {
          "base_uri": "https://localhost:8080/",
          "height": 542
        },
        "id": "Ft8wdVE51ZYj",
        "outputId": "81f01772-2185-4654-9a0d-af095607c743"
      },
      "execution_count": 257,
      "outputs": [
        {
          "output_type": "display_data",
          "data": {
            "text/html": [
              "<html>\n",
              "<head><meta charset=\"utf-8\" /></head>\n",
              "<body>\n",
              "    <div>            <script src=\"https://cdnjs.cloudflare.com/ajax/libs/mathjax/2.7.5/MathJax.js?config=TeX-AMS-MML_SVG\"></script><script type=\"text/javascript\">if (window.MathJax) {MathJax.Hub.Config({SVG: {font: \"STIX-Web\"}});}</script>                <script type=\"text/javascript\">window.PlotlyConfig = {MathJaxConfig: 'local'};</script>\n",
              "        <script src=\"https://cdn.plot.ly/plotly-2.8.3.min.js\"></script>                <div id=\"37122a49-1a89-4898-81f7-f60c3c52f086\" class=\"plotly-graph-div\" style=\"height:525px; width:100%;\"></div>            <script type=\"text/javascript\">                                    window.PLOTLYENV=window.PLOTLYENV || {};                                    if (document.getElementById(\"37122a49-1a89-4898-81f7-f60c3c52f086\")) {                    Plotly.newPlot(                        \"37122a49-1a89-4898-81f7-f60c3c52f086\",                        [{\"alignmentgroup\":\"True\",\"bingroup\":\"x\",\"hovertemplate\":\"AREA=%{x}<br>count=%{y}<extra></extra>\",\"legendgroup\":\"Karapakkam\",\"marker\":{\"color\":\"#636efa\",\"pattern\":{\"shape\":\"\"}},\"name\":\"Karapakkam\",\"offsetgroup\":\"Karapakkam\",\"orientation\":\"v\",\"showlegend\":true,\"x\":[\"Karapakkam\",\"Karapakkam\",\"Karapakkam\",\"Karapakkam\",\"Karapakkam\",\"Karapakkam\",\"Karapakkam\",\"Karapakkam\",\"Karapakkam\",\"Karapakkam\",\"Karapakkam\",\"Karapakkam\",\"Karapakkam\",\"Karapakkam\",\"Karapakkam\",\"Karapakkam\",\"Karapakkam\",\"Karapakkam\",\"Karapakkam\",\"Karapakkam\",\"Karapakkam\",\"Karapakkam\",\"Karapakkam\",\"Karapakkam\",\"Karapakkam\",\"Karapakkam\",\"Karapakkam\",\"Karapakkam\",\"Karapakkam\",\"Karapakkam\",\"Karapakkam\",\"Karapakkam\",\"Karapakkam\",\"Karapakkam\",\"Karapakkam\",\"Karapakkam\",\"Karapakkam\",\"Karapakkam\",\"Karapakkam\",\"Karapakkam\",\"Karapakkam\",\"Karapakkam\",\"Karapakkam\",\"Karapakkam\",\"Karapakkam\",\"Karapakkam\",\"Karapakkam\",\"Karapakkam\",\"Karapakkam\",\"Karapakkam\",\"Karapakkam\",\"Karapakkam\",\"Karapakkam\",\"Karapakkam\",\"Karapakkam\",\"Karapakkam\",\"Karapakkam\",\"Karapakkam\",\"Karapakkam\",\"Karapakkam\",\"Karapakkam\",\"Karapakkam\",\"Karapakkam\",\"Karapakkam\",\"Karapakkam\",\"Karapakkam\",\"Karapakkam\",\"Karapakkam\",\"Karapakkam\",\"Karapakkam\",\"Karapakkam\",\"Karapakkam\",\"Karapakkam\",\"Karapakkam\",\"Karapakkam\",\"Karapakkam\",\"Karapakkam\",\"Karapakkam\",\"Karapakkam\",\"Karapakkam\",\"Karapakkam\",\"Karapakkam\",\"Karapakkam\",\"Karapakkam\",\"Karapakkam\",\"Karapakkam\",\"Karapakkam\",\"Karapakkam\",\"Karapakkam\",\"Karapakkam\",\"Karapakkam\",\"Karapakkam\",\"Karapakkam\",\"Karapakkam\",\"Karapakkam\",\"Karapakkam\",\"Karapakkam\",\"Karapakkam\",\"Karapakkam\",\"Karapakkam\",\"Karapakkam\",\"Karapakkam\",\"Karapakkam\",\"Karapakkam\",\"Karapakkam\",\"Karapakkam\",\"Karapakkam\",\"Karapakkam\",\"Karapakkam\",\"Karapakkam\",\"Karapakkam\",\"Karapakkam\",\"Karapakkam\",\"Karapakkam\",\"Karapakkam\",\"Karapakkam\",\"Karapakkam\",\"Karapakkam\",\"Karapakkam\",\"Karapakkam\",\"Karapakkam\",\"Karapakkam\",\"Karapakkam\",\"Karapakkam\",\"Karapakkam\",\"Karapakkam\",\"Karapakkam\",\"Karapakkam\",\"Karapakkam\",\"Karapakkam\",\"Karapakkam\",\"Karapakkam\",\"Karapakkam\",\"Karapakkam\",\"Karapakkam\",\"Karapakkam\",\"Karapakkam\",\"Karapakkam\",\"Karapakkam\",\"Karapakkam\",\"Karapakkam\",\"Karapakkam\",\"Karapakkam\",\"Karapakkam\",\"Karapakkam\",\"Karapakkam\",\"Karapakkam\",\"Karapakkam\",\"Karapakkam\",\"Karapakkam\",\"Karapakkam\",\"Karapakkam\",\"Karapakkam\",\"Karapakkam\",\"Karapakkam\",\"Karapakkam\",\"Karapakkam\",\"Karapakkam\",\"Karapakkam\",\"Karapakkam\",\"Karapakkam\",\"Karapakkam\",\"Karapakkam\",\"Karapakkam\",\"Karapakkam\",\"Karapakkam\",\"Karapakkam\",\"Karapakkam\",\"Karapakkam\",\"Karapakkam\",\"Karapakkam\",\"Karapakkam\",\"Karapakkam\",\"Karapakkam\",\"Karapakkam\",\"Karapakkam\",\"Karapakkam\",\"Karapakkam\",\"Karapakkam\",\"Karapakkam\",\"Karapakkam\",\"Karapakkam\",\"Karapakkam\",\"Karapakkam\",\"Karapakkam\",\"Karapakkam\",\"Karapakkam\",\"Karapakkam\",\"Karapakkam\",\"Karapakkam\",\"Karapakkam\",\"Karapakkam\",\"Karapakkam\",\"Karapakkam\",\"Karapakkam\",\"Karapakkam\",\"Karapakkam\",\"Karapakkam\",\"Karapakkam\",\"Karapakkam\",\"Karapakkam\",\"Karapakkam\",\"Karapakkam\",\"Karapakkam\",\"Karapakkam\",\"Karapakkam\",\"Karapakkam\",\"Karapakkam\",\"Karapakkam\",\"Karapakkam\",\"Karapakkam\",\"Karapakkam\",\"Karapakkam\",\"Karapakkam\",\"Karapakkam\",\"Karapakkam\",\"Karapakkam\",\"Karapakkam\",\"Karapakkam\",\"Karapakkam\",\"Karapakkam\",\"Karapakkam\",\"Karapakkam\",\"Karapakkam\",\"Karapakkam\",\"Karapakkam\",\"Karapakkam\",\"Karapakkam\",\"Karapakkam\",\"Karapakkam\",\"Karapakkam\",\"Karapakkam\",\"Karapakkam\",\"Karapakkam\",\"Karapakkam\",\"Karapakkam\",\"Karapakkam\",\"Karapakkam\",\"Karapakkam\",\"Karapakkam\",\"Karapakkam\",\"Karapakkam\",\"Karapakkam\",\"Karapakkam\",\"Karapakkam\",\"Karapakkam\",\"Karapakkam\",\"Karapakkam\",\"Karapakkam\",\"Karapakkam\",\"Karapakkam\",\"Karapakkam\",\"Karapakkam\",\"Karapakkam\",\"Karapakkam\",\"Karapakkam\",\"Karapakkam\",\"Karapakkam\",\"Karapakkam\",\"Karapakkam\",\"Karapakkam\",\"Karapakkam\",\"Karapakkam\",\"Karapakkam\",\"Karapakkam\",\"Karapakkam\",\"Karapakkam\",\"Karapakkam\",\"Karapakkam\",\"Karapakkam\",\"Karapakkam\",\"Karapakkam\",\"Karapakkam\",\"Karapakkam\",\"Karapakkam\",\"Karapakkam\",\"Karapakkam\",\"Karapakkam\",\"Karapakkam\",\"Karapakkam\",\"Karapakkam\",\"Karapakkam\",\"Karapakkam\",\"Karapakkam\",\"Karapakkam\",\"Karapakkam\",\"Karapakkam\",\"Karapakkam\",\"Karapakkam\",\"Karapakkam\",\"Karapakkam\",\"Karapakkam\",\"Karapakkam\",\"Karapakkam\",\"Karapakkam\",\"Karapakkam\",\"Karapakkam\",\"Karapakkam\",\"Karapakkam\",\"Karapakkam\",\"Karapakkam\",\"Karapakkam\",\"Karapakkam\",\"Karapakkam\",\"Karapakkam\",\"Karapakkam\",\"Karapakkam\",\"Karapakkam\",\"Karapakkam\",\"Karapakkam\",\"Karapakkam\",\"Karapakkam\",\"Karapakkam\",\"Karapakkam\",\"Karapakkam\",\"Karapakkam\",\"Karapakkam\",\"Karapakkam\",\"Karapakkam\",\"Karapakkam\",\"Karapakkam\",\"Karapakkam\",\"Karapakkam\",\"Karapakkam\",\"Karapakkam\",\"Karapakkam\",\"Karapakkam\",\"Karapakkam\",\"Karapakkam\",\"Karapakkam\",\"Karapakkam\",\"Karapakkam\",\"Karapakkam\",\"Karapakkam\",\"Karapakkam\",\"Karapakkam\",\"Karapakkam\",\"Karapakkam\",\"Karapakkam\",\"Karapakkam\",\"Karapakkam\",\"Karapakkam\",\"Karapakkam\",\"Karapakkam\",\"Karapakkam\",\"Karapakkam\",\"Karapakkam\",\"Karapakkam\",\"Karapakkam\",\"Karapakkam\",\"Karapakkam\",\"Karapakkam\",\"Karapakkam\",\"Karapakkam\",\"Karapakkam\",\"Karapakkam\",\"Karapakkam\",\"Karapakkam\",\"Karapakkam\",\"Karapakkam\",\"Karapakkam\",\"Karapakkam\",\"Karapakkam\",\"Karapakkam\",\"Karapakkam\",\"Karapakkam\",\"Karapakkam\",\"Karapakkam\",\"Karapakkam\",\"Karapakkam\",\"Karapakkam\",\"Karapakkam\",\"Karapakkam\",\"Karapakkam\",\"Karapakkam\",\"Karapakkam\",\"Karapakkam\",\"Karapakkam\",\"Karapakkam\",\"Karapakkam\",\"Karapakkam\",\"Karapakkam\",\"Karapakkam\",\"Karapakkam\",\"Karapakkam\",\"Karapakkam\",\"Karapakkam\",\"Karapakkam\",\"Karapakkam\",\"Karapakkam\",\"Karapakkam\",\"Karapakkam\",\"Karapakkam\",\"Karapakkam\",\"Karapakkam\",\"Karapakkam\",\"Karapakkam\",\"Karapakkam\",\"Karapakkam\",\"Karapakkam\",\"Karapakkam\",\"Karapakkam\",\"Karapakkam\",\"Karapakkam\",\"Karapakkam\",\"Karapakkam\",\"Karapakkam\",\"Karapakkam\",\"Karapakkam\",\"Karapakkam\",\"Karapakkam\",\"Karapakkam\",\"Karapakkam\",\"Karapakkam\",\"Karapakkam\",\"Karapakkam\",\"Karapakkam\",\"Karapakkam\",\"Karapakkam\",\"Karapakkam\",\"Karapakkam\",\"Karapakkam\",\"Karapakkam\",\"Karapakkam\",\"Karapakkam\",\"Karapakkam\",\"Karapakkam\",\"Karapakkam\",\"Karapakkam\",\"Karapakkam\",\"Karapakkam\",\"Karapakkam\",\"Karapakkam\",\"Karapakkam\",\"Karapakkam\",\"Karapakkam\",\"Karapakkam\",\"Karapakkam\",\"Karapakkam\",\"Karapakkam\",\"Karapakkam\",\"Karapakkam\",\"Karapakkam\",\"Karapakkam\",\"Karapakkam\",\"Karapakkam\",\"Karapakkam\",\"Karapakkam\",\"Karapakkam\",\"Karapakkam\",\"Karapakkam\",\"Karapakkam\",\"Karapakkam\",\"Karapakkam\",\"Karapakkam\",\"Karapakkam\",\"Karapakkam\",\"Karapakkam\",\"Karapakkam\",\"Karapakkam\",\"Karapakkam\",\"Karapakkam\",\"Karapakkam\",\"Karapakkam\",\"Karapakkam\",\"Karapakkam\",\"Karapakkam\",\"Karapakkam\",\"Karapakkam\",\"Karapakkam\",\"Karapakkam\",\"Karapakkam\",\"Karapakkam\",\"Karapakkam\",\"Karapakkam\",\"Karapakkam\",\"Karapakkam\",\"Karapakkam\",\"Karapakkam\",\"Karapakkam\",\"Karapakkam\",\"Karapakkam\",\"Karapakkam\",\"Karapakkam\",\"Karapakkam\",\"Karapakkam\",\"Karapakkam\",\"Karapakkam\",\"Karapakkam\",\"Karapakkam\",\"Karapakkam\",\"Karapakkam\",\"Karapakkam\",\"Karapakkam\",\"Karapakkam\",\"Karapakkam\",\"Karapakkam\",\"Karapakkam\",\"Karapakkam\",\"Karapakkam\",\"Karapakkam\",\"Karapakkam\",\"Karapakkam\",\"Karapakkam\",\"Karapakkam\",\"Karapakkam\",\"Karapakkam\",\"Karapakkam\",\"Karapakkam\",\"Karapakkam\",\"Karapakkam\",\"Karapakkam\",\"Karapakkam\",\"Karapakkam\",\"Karapakkam\",\"Karapakkam\",\"Karapakkam\",\"Karapakkam\",\"Karapakkam\",\"Karapakkam\",\"Karapakkam\",\"Karapakkam\",\"Karapakkam\",\"Karapakkam\",\"Karapakkam\",\"Karapakkam\",\"Karapakkam\",\"Karapakkam\",\"Karapakkam\",\"Karapakkam\",\"Karapakkam\",\"Karapakkam\",\"Karapakkam\",\"Karapakkam\",\"Karapakkam\",\"Karapakkam\",\"Karapakkam\",\"Karapakkam\",\"Karapakkam\",\"Karapakkam\",\"Karapakkam\",\"Karapakkam\",\"Karapakkam\",\"Karapakkam\",\"Karapakkam\",\"Karapakkam\",\"Karapakkam\",\"Karapakkam\",\"Karapakkam\",\"Karapakkam\",\"Karapakkam\",\"Karapakkam\",\"Karapakkam\",\"Karapakkam\",\"Karapakkam\",\"Karapakkam\",\"Karapakkam\",\"Karapakkam\",\"Karapakkam\",\"Karapakkam\",\"Karapakkam\",\"Karapakkam\",\"Karapakkam\",\"Karapakkam\",\"Karapakkam\",\"Karapakkam\",\"Karapakkam\",\"Karapakkam\",\"Karapakkam\",\"Karapakkam\",\"Karapakkam\",\"Karapakkam\",\"Karapakkam\",\"Karapakkam\",\"Karapakkam\",\"Karapakkam\",\"Karapakkam\",\"Karapakkam\",\"Karapakkam\",\"Karapakkam\",\"Karapakkam\",\"Karapakkam\",\"Karapakkam\",\"Karapakkam\",\"Karapakkam\",\"Karapakkam\",\"Karapakkam\",\"Karapakkam\",\"Karapakkam\",\"Karapakkam\",\"Karapakkam\",\"Karapakkam\",\"Karapakkam\",\"Karapakkam\",\"Karapakkam\",\"Karapakkam\",\"Karapakkam\",\"Karapakkam\",\"Karapakkam\",\"Karapakkam\",\"Karapakkam\",\"Karapakkam\",\"Karapakkam\",\"Karapakkam\",\"Karapakkam\",\"Karapakkam\",\"Karapakkam\",\"Karapakkam\",\"Karapakkam\",\"Karapakkam\",\"Karapakkam\",\"Karapakkam\",\"Karapakkam\",\"Karapakkam\",\"Karapakkam\",\"Karapakkam\",\"Karapakkam\",\"Karapakkam\",\"Karapakkam\",\"Karapakkam\",\"Karapakkam\",\"Karapakkam\",\"Karapakkam\",\"Karapakkam\",\"Karapakkam\",\"Karapakkam\",\"Karapakkam\",\"Karapakkam\",\"Karapakkam\",\"Karapakkam\",\"Karapakkam\",\"Karapakkam\",\"Karapakkam\",\"Karapakkam\",\"Karapakkam\",\"Karapakkam\",\"Karapakkam\",\"Karapakkam\",\"Karapakkam\",\"Karapakkam\",\"Karapakkam\",\"Karapakkam\",\"Karapakkam\",\"Karapakkam\",\"Karapakkam\",\"Karapakkam\",\"Karapakkam\",\"Karapakkam\",\"Karapakkam\",\"Karapakkam\",\"Karapakkam\",\"Karapakkam\",\"Karapakkam\",\"Karapakkam\",\"Karapakkam\",\"Karapakkam\",\"Karapakkam\",\"Karapakkam\",\"Karapakkam\",\"Karapakkam\",\"Karapakkam\",\"Karapakkam\",\"Karapakkam\",\"Karapakkam\",\"Karapakkam\",\"Karapakkam\",\"Karapakkam\",\"Karapakkam\",\"Karapakkam\",\"Karapakkam\",\"Karapakkam\",\"Karapakkam\",\"Karapakkam\",\"Karapakkam\",\"Karapakkam\",\"Karapakkam\",\"Karapakkam\",\"Karapakkam\",\"Karapakkam\",\"Karapakkam\",\"Karapakkam\",\"Karapakkam\",\"Karapakkam\",\"Karapakkam\",\"Karapakkam\",\"Karapakkam\",\"Karapakkam\",\"Karapakkam\",\"Karapakkam\",\"Karapakkam\",\"Karapakkam\",\"Karapakkam\",\"Karapakkam\",\"Karapakkam\",\"Karapakkam\",\"Karapakkam\",\"Karapakkam\",\"Karapakkam\",\"Karapakkam\",\"Karapakkam\",\"Karapakkam\",\"Karapakkam\",\"Karapakkam\",\"Karapakkam\",\"Karapakkam\",\"Karapakkam\",\"Karapakkam\",\"Karapakkam\",\"Karapakkam\",\"Karapakkam\",\"Karapakkam\",\"Karapakkam\",\"Karapakkam\",\"Karapakkam\",\"Karapakkam\",\"Karapakkam\",\"Karapakkam\",\"Karapakkam\",\"Karapakkam\",\"Karapakkam\",\"Karapakkam\",\"Karapakkam\",\"Karapakkam\",\"Karapakkam\",\"Karapakkam\",\"Karapakkam\",\"Karapakkam\",\"Karapakkam\",\"Karapakkam\",\"Karapakkam\",\"Karapakkam\",\"Karapakkam\",\"Karapakkam\",\"Karapakkam\",\"Karapakkam\",\"Karapakkam\",\"Karapakkam\",\"Karapakkam\",\"Karapakkam\",\"Karapakkam\",\"Karapakkam\",\"Karapakkam\",\"Karapakkam\",\"Karapakkam\",\"Karapakkam\",\"Karapakkam\",\"Karapakkam\",\"Karapakkam\",\"Karapakkam\",\"Karapakkam\",\"Karapakkam\",\"Karapakkam\",\"Karapakkam\",\"Karapakkam\",\"Karapakkam\",\"Karapakkam\",\"Karapakkam\",\"Karapakkam\",\"Karapakkam\",\"Karapakkam\",\"Karapakkam\",\"Karapakkam\",\"Karapakkam\",\"Karapakkam\",\"Karapakkam\",\"Karapakkam\",\"Karapakkam\",\"Karapakkam\",\"Karapakkam\",\"Karapakkam\",\"Karapakkam\",\"Karapakkam\",\"Karapakkam\",\"Karapakkam\",\"Karapakkam\",\"Karapakkam\",\"Karapakkam\",\"Karapakkam\",\"Karapakkam\",\"Karapakkam\",\"Karapakkam\",\"Karapakkam\",\"Karapakkam\",\"Karapakkam\",\"Karapakkam\",\"Karapakkam\",\"Karapakkam\",\"Karapakkam\",\"Karapakkam\",\"Karapakkam\",\"Karapakkam\",\"Karapakkam\",\"Karapakkam\",\"Karapakkam\",\"Karapakkam\",\"Karapakkam\",\"Karapakkam\",\"Karapakkam\",\"Karapakkam\",\"Karapakkam\",\"Karapakkam\",\"Karapakkam\",\"Karapakkam\",\"Karapakkam\",\"Karapakkam\",\"Karapakkam\",\"Karapakkam\",\"Karapakkam\",\"Karapakkam\",\"Karapakkam\",\"Karapakkam\",\"Karapakkam\",\"Karapakkam\",\"Karapakkam\",\"Karapakkam\",\"Karapakkam\",\"Karapakkam\",\"Karapakkam\",\"Karapakkam\",\"Karapakkam\",\"Karapakkam\",\"Karapakkam\",\"Karapakkam\",\"Karapakkam\",\"Karapakkam\",\"Karapakkam\",\"Karapakkam\",\"Karapakkam\",\"Karapakkam\",\"Karapakkam\",\"Karapakkam\",\"Karapakkam\",\"Karapakkam\",\"Karapakkam\",\"Karapakkam\",\"Karapakkam\",\"Karapakkam\",\"Karapakkam\",\"Karapakkam\",\"Karapakkam\",\"Karapakkam\",\"Karapakkam\",\"Karapakkam\",\"Karapakkam\",\"Karapakkam\",\"Karapakkam\",\"Karapakkam\",\"Karapakkam\",\"Karapakkam\",\"Karapakkam\",\"Karapakkam\",\"Karapakkam\",\"Karapakkam\",\"Karapakkam\",\"Karapakkam\",\"Karapakkam\",\"Karapakkam\",\"Karapakkam\",\"Karapakkam\",\"Karapakkam\",\"Karapakkam\",\"Karapakkam\",\"Karapakkam\",\"Karapakkam\",\"Karapakkam\",\"Karapakkam\",\"Karapakkam\",\"Karapakkam\",\"Karapakkam\",\"Karapakkam\",\"Karapakkam\",\"Karapakkam\",\"Karapakkam\",\"Karapakkam\",\"Karapakkam\",\"Karapakkam\",\"Karapakkam\",\"Karapakkam\",\"Karapakkam\",\"Karapakkam\",\"Karapakkam\",\"Karapakkam\",\"Karapakkam\",\"Karapakkam\",\"Karapakkam\",\"Karapakkam\",\"Karapakkam\",\"Karapakkam\",\"Karapakkam\",\"Karapakkam\",\"Karapakkam\",\"Karapakkam\",\"Karapakkam\",\"Karapakkam\",\"Karapakkam\",\"Karapakkam\",\"Karapakkam\",\"Karapakkam\",\"Karapakkam\",\"Karapakkam\",\"Karapakkam\",\"Karapakkam\",\"Karapakkam\",\"Karapakkam\",\"Karapakkam\",\"Karapakkam\",\"Karapakkam\",\"Karapakkam\",\"Karapakkam\",\"Karapakkam\",\"Karapakkam\",\"Karapakkam\",\"Karapakkam\",\"Karapakkam\",\"Karapakkam\",\"Karapakkam\",\"Karapakkam\",\"Karapakkam\",\"Karapakkam\",\"Karapakkam\",\"Karapakkam\",\"Karapakkam\",\"Karapakkam\",\"Karapakkam\",\"Karapakkam\",\"Karapakkam\",\"Karapakkam\",\"Karapakkam\",\"Karapakkam\",\"Karapakkam\",\"Karapakkam\",\"Karapakkam\",\"Karapakkam\",\"Karapakkam\",\"Karapakkam\",\"Karapakkam\",\"Karapakkam\",\"Karapakkam\",\"Karapakkam\",\"Karapakkam\",\"Karapakkam\",\"Karapakkam\",\"Karapakkam\",\"Karapakkam\",\"Karapakkam\",\"Karapakkam\",\"Karapakkam\",\"Karapakkam\",\"Karapakkam\",\"Karapakkam\",\"Karapakkam\",\"Karapakkam\",\"Karapakkam\",\"Karapakkam\",\"Karapakkam\",\"Karapakkam\",\"Karapakkam\",\"Karapakkam\",\"Karapakkam\",\"Karapakkam\",\"Karapakkam\",\"Karapakkam\",\"Karapakkam\",\"Karapakkam\",\"Karapakkam\",\"Karapakkam\",\"Karapakkam\",\"Karapakkam\",\"Karapakkam\",\"Karapakkam\",\"Karapakkam\",\"Karapakkam\",\"Karapakkam\",\"Karapakkam\",\"Karapakkam\",\"Karapakkam\",\"Karapakkam\",\"Karapakkam\",\"Karapakkam\",\"Karapakkam\",\"Karapakkam\",\"Karapakkam\",\"Karapakkam\",\"Karapakkam\",\"Karapakkam\",\"Karapakkam\",\"Karapakkam\",\"Karapakkam\",\"Karapakkam\",\"Karapakkam\",\"Karapakkam\",\"Karapakkam\",\"Karapakkam\",\"Karapakkam\",\"Karapakkam\",\"Karapakkam\",\"Karapakkam\",\"Karapakkam\",\"Karapakkam\",\"Karapakkam\",\"Karapakkam\",\"Karapakkam\",\"Karapakkam\",\"Karapakkam\",\"Karapakkam\",\"Karapakkam\",\"Karapakkam\",\"Karapakkam\",\"Karapakkam\",\"Karapakkam\",\"Karapakkam\",\"Karapakkam\",\"Karapakkam\",\"Karapakkam\",\"Karapakkam\",\"Karapakkam\",\"Karapakkam\",\"Karapakkam\",\"Karapakkam\",\"Karapakkam\",\"Karapakkam\",\"Karapakkam\",\"Karapakkam\",\"Karapakkam\",\"Karapakkam\",\"Karapakkam\",\"Karapakkam\",\"Karapakkam\",\"Karapakkam\",\"Karapakkam\",\"Karapakkam\",\"Karapakkam\",\"Karapakkam\",\"Karapakkam\",\"Karapakkam\",\"Karapakkam\",\"Karapakkam\",\"Karapakkam\",\"Karapakkam\",\"Karapakkam\",\"Karapakkam\",\"Karapakkam\",\"Karapakkam\",\"Karapakkam\",\"Karapakkam\",\"Karapakkam\",\"Karapakkam\",\"Karapakkam\",\"Karapakkam\",\"Karapakkam\",\"Karapakkam\",\"Karapakkam\",\"Karapakkam\",\"Karapakkam\",\"Karapakkam\",\"Karapakkam\",\"Karapakkam\",\"Karapakkam\",\"Karapakkam\",\"Karapakkam\",\"Karapakkam\",\"Karapakkam\",\"Karapakkam\",\"Karapakkam\",\"Karapakkam\",\"Karapakkam\",\"Karapakkam\",\"Karapakkam\",\"Karapakkam\",\"Karapakkam\",\"Karapakkam\",\"Karapakkam\",\"Karapakkam\",\"Karapakkam\",\"Karapakkam\",\"Karapakkam\",\"Karapakkam\",\"Karapakkam\",\"Karapakkam\",\"Karapakkam\",\"Karapakkam\",\"Karapakkam\",\"Karapakkam\",\"Karapakkam\",\"Karapakkam\",\"Karapakkam\",\"Karapakkam\",\"Karapakkam\",\"Karapakkam\",\"Karapakkam\",\"Karapakkam\",\"Karapakkam\",\"Karapakkam\",\"Karapakkam\",\"Karapakkam\",\"Karapakkam\",\"Karapakkam\",\"Karapakkam\",\"Karapakkam\",\"Karapakkam\",\"Karapakkam\",\"Karapakkam\",\"Karapakkam\",\"Karapakkam\",\"Karapakkam\",\"Karapakkam\",\"Karapakkam\",\"Karapakkam\",\"Karapakkam\",\"Karapakkam\",\"Karapakkam\",\"Karapakkam\",\"Karapakkam\",\"Karapakkam\",\"Karapakkam\",\"Karapakkam\",\"Karapakkam\",\"Karapakkam\",\"Karapakkam\",\"Karapakkam\",\"Karapakkam\",\"Karapakkam\",\"Karapakkam\",\"Karapakkam\",\"Karapakkam\",\"Karapakkam\",\"Karapakkam\",\"Karapakkam\",\"Karapakkam\",\"Karapakkam\",\"Karapakkam\",\"Karapakkam\",\"Karapakkam\",\"Karapakkam\",\"Karapakkam\",\"Karapakkam\",\"Karapakkam\",\"Karapakkam\",\"Karapakkam\",\"Karapakkam\",\"Karapakkam\",\"Karapakkam\",\"Karapakkam\",\"Karapakkam\",\"Karapakkam\",\"Karapakkam\",\"Karapakkam\",\"Karapakkam\",\"Karapakkam\",\"Karapakkam\",\"Karapakkam\",\"Karapakkam\",\"Karapakkam\",\"Karapakkam\",\"Karapakkam\",\"Karapakkam\",\"Karapakkam\",\"Karapakkam\",\"Karapakkam\",\"Karapakkam\",\"Karapakkam\",\"Karapakkam\",\"Karapakkam\",\"Karapakkam\",\"Karapakkam\",\"Karapakkam\",\"Karapakkam\",\"Karapakkam\",\"Karapakkam\",\"Karapakkam\",\"Karapakkam\",\"Karapakkam\",\"Karapakkam\",\"Karapakkam\",\"Karapakkam\",\"Karapakkam\",\"Karapakkam\",\"Karapakkam\",\"Karapakkam\",\"Karapakkam\",\"Karapakkam\",\"Karapakkam\",\"Karapakkam\",\"Karapakkam\",\"Karapakkam\",\"Karapakkam\",\"Karapakkam\",\"Karapakkam\",\"Karapakkam\",\"Karapakkam\",\"Karapakkam\",\"Karapakkam\",\"Karapakkam\",\"Karapakkam\",\"Karapakkam\",\"Karapakkam\",\"Karapakkam\",\"Karapakkam\",\"Karapakkam\",\"Karapakkam\",\"Karapakkam\",\"Karapakkam\",\"Karapakkam\",\"Karapakkam\",\"Karapakkam\",\"Karapakkam\",\"Karapakkam\",\"Karapakkam\",\"Karapakkam\",\"Karapakkam\",\"Karapakkam\",\"Karapakkam\",\"Karapakkam\",\"Karapakkam\",\"Karapakkam\",\"Karapakkam\",\"Karapakkam\",\"Karapakkam\",\"Karapakkam\",\"Karapakkam\",\"Karapakkam\",\"Karapakkam\",\"Karapakkam\",\"Karapakkam\",\"Karapakkam\",\"Karapakkam\",\"Karapakkam\",\"Karapakkam\",\"Karapakkam\",\"Karapakkam\",\"Karapakkam\",\"Karapakkam\",\"Karapakkam\",\"Karapakkam\",\"Karapakkam\",\"Karapakkam\",\"Karapakkam\",\"Karapakkam\",\"Karapakkam\",\"Karapakkam\",\"Karapakkam\",\"Karapakkam\",\"Karapakkam\",\"Karapakkam\",\"Karapakkam\",\"Karapakkam\",\"Karapakkam\",\"Karapakkam\",\"Karapakkam\",\"Karapakkam\",\"Karapakkam\",\"Karapakkam\",\"Karapakkam\",\"Karapakkam\",\"Karapakkam\",\"Karapakkam\",\"Karapakkam\",\"Karapakkam\",\"Karapakkam\",\"Karapakkam\",\"Karapakkam\",\"Karapakkam\",\"Karapakkam\",\"Karapakkam\",\"Karapakkam\",\"Karapakkam\",\"Karapakkam\",\"Karapakkam\",\"Karapakkam\",\"Karapakkam\",\"Karapakkam\",\"Karapakkam\",\"Karapakkam\",\"Karapakkam\",\"Karapakkam\",\"Karapakkam\",\"Karapakkam\",\"Karapakkam\",\"Karapakkam\",\"Karapakkam\",\"Karapakkam\",\"Karapakkam\",\"Karapakkam\",\"Karapakkam\",\"Karapakkam\",\"Karapakkam\",\"Karapakkam\",\"Karapakkam\",\"Karapakkam\",\"Karapakkam\",\"Karapakkam\",\"Karapakkam\",\"Karapakkam\",\"Karapakkam\",\"Karapakkam\",\"Karapakkam\",\"Karapakkam\",\"Karapakkam\",\"Karapakkam\",\"Karapakkam\",\"Karapakkam\",\"Karapakkam\",\"Karapakkam\",\"Karapakkam\",\"Karapakkam\",\"Karapakkam\",\"Karapakkam\",\"Karapakkam\",\"Karapakkam\",\"Karapakkam\",\"Karapakkam\",\"Karapakkam\",\"Karapakkam\",\"Karapakkam\",\"Karapakkam\",\"Karapakkam\",\"Karapakkam\",\"Karapakkam\",\"Karapakkam\",\"Karapakkam\",\"Karapakkam\",\"Karapakkam\",\"Karapakkam\",\"Karapakkam\",\"Karapakkam\",\"Karapakkam\",\"Karapakkam\",\"Karapakkam\",\"Karapakkam\",\"Karapakkam\",\"Karapakkam\",\"Karapakkam\",\"Karapakkam\",\"Karapakkam\",\"Karapakkam\",\"Karapakkam\",\"Karapakkam\",\"Karapakkam\",\"Karapakkam\",\"Karapakkam\",\"Karapakkam\",\"Karapakkam\",\"Karapakkam\",\"Karapakkam\",\"Karapakkam\",\"Karapakkam\",\"Karapakkam\",\"Karapakkam\",\"Karapakkam\",\"Karapakkam\",\"Karapakkam\",\"Karapakkam\",\"Karapakkam\",\"Karapakkam\",\"Karapakkam\",\"Karapakkam\",\"Karapakkam\",\"Karapakkam\",\"Karapakkam\"],\"xaxis\":\"x\",\"yaxis\":\"y\",\"type\":\"histogram\"},{\"alignmentgroup\":\"True\",\"bingroup\":\"x\",\"hovertemplate\":\"AREA=%{x}<br>count=%{y}<extra></extra>\",\"legendgroup\":\"Anna Nagar\",\"marker\":{\"color\":\"#EF553B\",\"pattern\":{\"shape\":\"\"}},\"name\":\"Anna Nagar\",\"offsetgroup\":\"Anna Nagar\",\"orientation\":\"v\",\"showlegend\":true,\"x\":[\"Anna Nagar\",\"Anna Nagar\",\"Anna Nagar\",\"Anna Nagar\",\"Anna Nagar\",\"Anna Nagar\",\"Anna Nagar\",\"Anna Nagar\",\"Anna Nagar\",\"Anna Nagar\",\"Anna Nagar\",\"Anna Nagar\",\"Anna Nagar\",\"Anna Nagar\",\"Anna Nagar\",\"Anna Nagar\",\"Anna Nagar\",\"Anna Nagar\",\"Anna Nagar\",\"Anna Nagar\",\"Anna Nagar\",\"Anna Nagar\",\"Anna Nagar\",\"Anna Nagar\",\"Anna Nagar\",\"Anna Nagar\",\"Anna Nagar\",\"Anna Nagar\",\"Anna Nagar\",\"Anna Nagar\",\"Anna Nagar\",\"Anna Nagar\",\"Anna Nagar\",\"Anna Nagar\",\"Anna Nagar\",\"Anna Nagar\",\"Anna Nagar\",\"Anna Nagar\",\"Anna Nagar\",\"Anna Nagar\",\"Anna Nagar\",\"Anna Nagar\",\"Anna Nagar\",\"Anna Nagar\",\"Anna Nagar\",\"Anna Nagar\",\"Anna Nagar\",\"Anna Nagar\",\"Anna Nagar\",\"Anna Nagar\",\"Anna Nagar\",\"Anna Nagar\",\"Anna Nagar\",\"Anna Nagar\",\"Anna Nagar\",\"Anna Nagar\",\"Anna Nagar\",\"Anna Nagar\",\"Anna Nagar\",\"Anna Nagar\",\"Anna Nagar\",\"Anna Nagar\",\"Anna Nagar\",\"Anna Nagar\",\"Anna Nagar\",\"Anna Nagar\",\"Anna Nagar\",\"Anna Nagar\",\"Anna Nagar\",\"Anna Nagar\",\"Anna Nagar\",\"Anna Nagar\",\"Anna Nagar\",\"Anna Nagar\",\"Anna Nagar\",\"Anna Nagar\",\"Anna Nagar\",\"Anna Nagar\",\"Anna Nagar\",\"Anna Nagar\",\"Anna Nagar\",\"Anna Nagar\",\"Anna Nagar\",\"Anna Nagar\",\"Anna Nagar\",\"Anna Nagar\",\"Anna Nagar\",\"Anna Nagar\",\"Anna Nagar\",\"Anna Nagar\",\"Anna Nagar\",\"Anna Nagar\",\"Anna Nagar\",\"Anna Nagar\",\"Anna Nagar\",\"Anna Nagar\",\"Anna Nagar\",\"Anna Nagar\",\"Anna Nagar\",\"Anna Nagar\",\"Anna Nagar\",\"Anna Nagar\",\"Anna Nagar\",\"Anna Nagar\",\"Anna Nagar\",\"Anna Nagar\",\"Anna Nagar\",\"Anna Nagar\",\"Anna Nagar\",\"Anna Nagar\",\"Anna Nagar\",\"Anna Nagar\",\"Anna Nagar\",\"Anna Nagar\",\"Anna Nagar\",\"Anna Nagar\",\"Anna Nagar\",\"Anna Nagar\",\"Anna Nagar\",\"Anna Nagar\",\"Anna Nagar\",\"Anna Nagar\",\"Anna Nagar\",\"Anna Nagar\",\"Anna Nagar\",\"Anna Nagar\",\"Anna Nagar\",\"Anna Nagar\",\"Anna Nagar\",\"Anna Nagar\",\"Anna Nagar\",\"Anna Nagar\",\"Anna Nagar\",\"Anna Nagar\",\"Anna Nagar\",\"Anna Nagar\",\"Anna Nagar\",\"Anna Nagar\",\"Anna Nagar\",\"Anna Nagar\",\"Anna Nagar\",\"Anna Nagar\",\"Anna Nagar\",\"Anna Nagar\",\"Anna Nagar\",\"Anna Nagar\",\"Anna Nagar\",\"Anna Nagar\",\"Anna Nagar\",\"Anna Nagar\",\"Anna Nagar\",\"Anna Nagar\",\"Anna Nagar\",\"Anna Nagar\",\"Anna Nagar\",\"Anna Nagar\",\"Anna Nagar\",\"Anna Nagar\",\"Anna Nagar\",\"Anna Nagar\",\"Anna Nagar\",\"Anna Nagar\",\"Anna Nagar\",\"Anna Nagar\",\"Anna Nagar\",\"Anna Nagar\",\"Anna Nagar\",\"Anna Nagar\",\"Anna Nagar\",\"Anna Nagar\",\"Anna Nagar\",\"Anna Nagar\",\"Anna Nagar\",\"Anna Nagar\",\"Anna Nagar\",\"Anna Nagar\",\"Anna Nagar\",\"Anna Nagar\",\"Anna Nagar\",\"Anna Nagar\",\"Anna Nagar\",\"Anna Nagar\",\"Anna Nagar\",\"Anna Nagar\",\"Anna Nagar\",\"Anna Nagar\",\"Anna Nagar\",\"Anna Nagar\",\"Anna Nagar\",\"Anna Nagar\",\"Anna Nagar\",\"Anna Nagar\",\"Anna Nagar\",\"Anna Nagar\",\"Anna Nagar\",\"Anna Nagar\",\"Anna Nagar\",\"Anna Nagar\",\"Anna Nagar\",\"Anna Nagar\",\"Anna Nagar\",\"Anna Nagar\",\"Anna Nagar\",\"Anna Nagar\",\"Anna Nagar\",\"Anna Nagar\",\"Anna Nagar\",\"Anna Nagar\",\"Anna Nagar\",\"Anna Nagar\",\"Anna Nagar\",\"Anna Nagar\",\"Anna Nagar\",\"Anna Nagar\",\"Anna Nagar\",\"Anna Nagar\",\"Anna Nagar\",\"Anna Nagar\",\"Anna Nagar\",\"Anna Nagar\",\"Anna Nagar\",\"Anna Nagar\",\"Anna Nagar\",\"Anna Nagar\",\"Anna Nagar\",\"Anna Nagar\",\"Anna Nagar\",\"Anna Nagar\",\"Anna Nagar\",\"Anna Nagar\",\"Anna Nagar\",\"Anna Nagar\",\"Anna Nagar\",\"Anna Nagar\",\"Anna Nagar\",\"Anna Nagar\",\"Anna Nagar\",\"Anna Nagar\",\"Anna Nagar\",\"Anna Nagar\",\"Anna Nagar\",\"Anna Nagar\",\"Anna Nagar\",\"Anna Nagar\",\"Anna Nagar\",\"Anna Nagar\",\"Anna Nagar\",\"Anna Nagar\",\"Anna Nagar\",\"Anna Nagar\",\"Anna Nagar\",\"Anna Nagar\",\"Anna Nagar\",\"Anna Nagar\",\"Anna Nagar\",\"Anna Nagar\",\"Anna Nagar\",\"Anna Nagar\",\"Anna Nagar\",\"Anna Nagar\",\"Anna Nagar\",\"Anna Nagar\",\"Anna Nagar\",\"Anna Nagar\",\"Anna Nagar\",\"Anna Nagar\",\"Anna Nagar\",\"Anna Nagar\",\"Anna Nagar\",\"Anna Nagar\",\"Anna Nagar\",\"Anna Nagar\",\"Anna Nagar\",\"Anna Nagar\",\"Anna Nagar\",\"Anna Nagar\",\"Anna Nagar\",\"Anna Nagar\",\"Anna Nagar\",\"Anna Nagar\",\"Anna Nagar\",\"Anna Nagar\",\"Anna Nagar\",\"Anna Nagar\",\"Anna Nagar\",\"Anna Nagar\",\"Anna Nagar\",\"Anna Nagar\",\"Anna Nagar\",\"Anna Nagar\",\"Anna Nagar\",\"Anna Nagar\",\"Anna Nagar\",\"Anna Nagar\",\"Anna Nagar\",\"Anna Nagar\",\"Anna Nagar\",\"Anna Nagar\",\"Anna Nagar\",\"Anna Nagar\",\"Anna Nagar\",\"Anna Nagar\",\"Anna Nagar\",\"Anna Nagar\",\"Anna Nagar\",\"Anna Nagar\",\"Anna Nagar\",\"Anna Nagar\",\"Anna Nagar\",\"Anna Nagar\",\"Anna Nagar\",\"Anna Nagar\",\"Anna Nagar\",\"Anna Nagar\",\"Anna Nagar\",\"Anna Nagar\",\"Anna Nagar\",\"Anna Nagar\",\"Anna Nagar\",\"Anna Nagar\",\"Anna Nagar\",\"Anna Nagar\",\"Anna Nagar\",\"Anna Nagar\",\"Anna Nagar\",\"Anna Nagar\",\"Anna Nagar\",\"Anna Nagar\",\"Anna Nagar\",\"Anna Nagar\",\"Anna Nagar\",\"Anna Nagar\",\"Anna Nagar\",\"Anna Nagar\",\"Anna Nagar\",\"Anna Nagar\",\"Anna Nagar\",\"Anna Nagar\",\"Anna Nagar\",\"Anna Nagar\",\"Anna Nagar\",\"Anna Nagar\",\"Anna Nagar\",\"Anna Nagar\",\"Anna Nagar\",\"Anna Nagar\",\"Anna Nagar\",\"Anna Nagar\",\"Anna Nagar\",\"Anna Nagar\",\"Anna Nagar\",\"Anna Nagar\",\"Anna Nagar\",\"Anna Nagar\",\"Anna Nagar\",\"Anna Nagar\",\"Anna Nagar\",\"Anna Nagar\",\"Anna Nagar\",\"Anna Nagar\",\"Anna Nagar\",\"Anna Nagar\",\"Anna Nagar\",\"Anna Nagar\",\"Anna Nagar\",\"Anna Nagar\",\"Anna Nagar\",\"Anna Nagar\",\"Anna Nagar\",\"Anna Nagar\",\"Anna Nagar\",\"Anna Nagar\",\"Anna Nagar\",\"Anna Nagar\",\"Anna Nagar\",\"Anna Nagar\",\"Anna Nagar\",\"Anna Nagar\",\"Anna Nagar\",\"Anna Nagar\",\"Anna Nagar\",\"Anna Nagar\",\"Anna Nagar\",\"Anna Nagar\",\"Anna Nagar\",\"Anna Nagar\",\"Anna Nagar\",\"Anna Nagar\",\"Anna Nagar\",\"Anna Nagar\",\"Anna Nagar\",\"Anna Nagar\",\"Anna Nagar\",\"Anna Nagar\",\"Anna Nagar\",\"Anna Nagar\",\"Anna Nagar\",\"Anna Nagar\",\"Anna Nagar\",\"Anna Nagar\",\"Anna Nagar\",\"Anna Nagar\",\"Anna Nagar\",\"Anna Nagar\",\"Anna Nagar\",\"Anna Nagar\",\"Anna Nagar\",\"Anna Nagar\",\"Anna Nagar\",\"Anna Nagar\",\"Anna Nagar\",\"Anna Nagar\",\"Anna Nagar\",\"Anna Nagar\",\"Anna Nagar\",\"Anna Nagar\",\"Anna Nagar\",\"Anna Nagar\",\"Anna Nagar\",\"Anna Nagar\",\"Anna Nagar\",\"Anna Nagar\",\"Anna Nagar\",\"Anna Nagar\",\"Anna Nagar\",\"Anna Nagar\",\"Anna Nagar\",\"Anna Nagar\",\"Anna Nagar\",\"Anna Nagar\",\"Anna Nagar\",\"Anna Nagar\",\"Anna Nagar\",\"Anna Nagar\",\"Anna Nagar\",\"Anna Nagar\",\"Anna Nagar\",\"Anna Nagar\",\"Anna Nagar\",\"Anna Nagar\",\"Anna Nagar\",\"Anna Nagar\",\"Anna Nagar\",\"Anna Nagar\",\"Anna Nagar\",\"Anna Nagar\",\"Anna Nagar\",\"Anna Nagar\",\"Anna Nagar\",\"Anna Nagar\",\"Anna Nagar\",\"Anna Nagar\",\"Anna Nagar\",\"Anna Nagar\",\"Anna Nagar\",\"Anna Nagar\",\"Anna Nagar\",\"Anna Nagar\",\"Anna Nagar\",\"Anna Nagar\",\"Anna Nagar\",\"Anna Nagar\",\"Anna Nagar\",\"Anna Nagar\",\"Anna Nagar\",\"Anna Nagar\",\"Anna Nagar\",\"Anna Nagar\",\"Anna Nagar\",\"Anna Nagar\",\"Anna Nagar\",\"Anna Nagar\",\"Anna Nagar\",\"Anna Nagar\",\"Anna Nagar\",\"Anna Nagar\",\"Anna Nagar\",\"Anna Nagar\",\"Anna Nagar\",\"Anna Nagar\",\"Anna Nagar\",\"Anna Nagar\",\"Anna Nagar\",\"Anna Nagar\",\"Anna Nagar\",\"Anna Nagar\",\"Anna Nagar\",\"Anna Nagar\",\"Anna Nagar\",\"Anna Nagar\",\"Anna Nagar\",\"Anna Nagar\",\"Anna Nagar\",\"Anna Nagar\",\"Anna Nagar\",\"Anna Nagar\",\"Anna Nagar\",\"Anna Nagar\",\"Anna Nagar\",\"Anna Nagar\",\"Anna Nagar\",\"Anna Nagar\",\"Anna Nagar\",\"Anna Nagar\",\"Anna Nagar\",\"Anna Nagar\",\"Anna Nagar\",\"Anna Nagar\",\"Anna Nagar\",\"Anna Nagar\",\"Anna Nagar\",\"Anna Nagar\",\"Anna Nagar\",\"Anna Nagar\",\"Anna Nagar\",\"Anna Nagar\",\"Anna Nagar\",\"Anna Nagar\",\"Anna Nagar\",\"Anna Nagar\",\"Anna Nagar\",\"Anna Nagar\",\"Anna Nagar\",\"Anna Nagar\",\"Anna Nagar\",\"Anna Nagar\",\"Anna Nagar\",\"Anna Nagar\",\"Anna Nagar\",\"Anna Nagar\",\"Anna Nagar\",\"Anna Nagar\",\"Anna Nagar\",\"Anna Nagar\",\"Anna Nagar\",\"Anna Nagar\",\"Anna Nagar\",\"Anna Nagar\",\"Anna Nagar\",\"Anna Nagar\",\"Anna Nagar\",\"Anna Nagar\",\"Anna Nagar\",\"Anna Nagar\",\"Anna Nagar\",\"Anna Nagar\",\"Anna Nagar\",\"Anna Nagar\",\"Anna Nagar\",\"Anna Nagar\",\"Anna Nagar\",\"Anna Nagar\",\"Anna Nagar\",\"Anna Nagar\",\"Anna Nagar\",\"Anna Nagar\",\"Anna Nagar\",\"Anna Nagar\",\"Anna Nagar\",\"Anna Nagar\",\"Anna Nagar\",\"Anna Nagar\",\"Anna Nagar\",\"Anna Nagar\",\"Anna Nagar\",\"Anna Nagar\",\"Anna Nagar\",\"Anna Nagar\",\"Anna Nagar\",\"Anna Nagar\",\"Anna Nagar\",\"Anna Nagar\",\"Anna Nagar\",\"Anna Nagar\",\"Anna Nagar\",\"Anna Nagar\",\"Anna Nagar\",\"Anna Nagar\",\"Anna Nagar\",\"Anna Nagar\",\"Anna Nagar\",\"Anna Nagar\",\"Anna Nagar\",\"Anna Nagar\",\"Anna Nagar\",\"Anna Nagar\",\"Anna Nagar\",\"Anna Nagar\",\"Anna Nagar\",\"Anna Nagar\",\"Anna Nagar\",\"Anna Nagar\",\"Anna Nagar\",\"Anna Nagar\",\"Anna Nagar\",\"Anna Nagar\",\"Anna Nagar\",\"Anna Nagar\",\"Anna Nagar\",\"Anna Nagar\",\"Anna Nagar\",\"Anna Nagar\",\"Anna Nagar\",\"Anna Nagar\",\"Anna Nagar\",\"Anna Nagar\",\"Anna Nagar\",\"Anna Nagar\",\"Anna Nagar\",\"Anna Nagar\",\"Anna Nagar\",\"Anna Nagar\",\"Anna Nagar\",\"Anna Nagar\",\"Anna Nagar\",\"Anna Nagar\",\"Anna Nagar\",\"Anna Nagar\",\"Anna Nagar\",\"Anna Nagar\",\"Anna Nagar\",\"Anna Nagar\",\"Anna Nagar\",\"Anna Nagar\",\"Anna Nagar\",\"Anna Nagar\",\"Anna Nagar\",\"Anna Nagar\",\"Anna Nagar\",\"Anna Nagar\",\"Anna Nagar\",\"Anna Nagar\",\"Anna Nagar\",\"Anna Nagar\",\"Anna Nagar\",\"Anna Nagar\",\"Anna Nagar\",\"Anna Nagar\",\"Anna Nagar\",\"Anna Nagar\",\"Anna Nagar\",\"Anna Nagar\",\"Anna Nagar\",\"Anna Nagar\",\"Anna Nagar\",\"Anna Nagar\",\"Anna Nagar\",\"Anna Nagar\",\"Anna Nagar\",\"Anna Nagar\",\"Anna Nagar\",\"Anna Nagar\",\"Anna Nagar\",\"Anna Nagar\",\"Anna Nagar\",\"Anna Nagar\",\"Anna Nagar\",\"Anna Nagar\",\"Anna Nagar\",\"Anna Nagar\",\"Anna Nagar\",\"Anna Nagar\",\"Anna Nagar\",\"Anna Nagar\",\"Anna Nagar\",\"Anna Nagar\",\"Anna Nagar\",\"Anna Nagar\",\"Anna Nagar\",\"Anna Nagar\",\"Anna Nagar\",\"Anna Nagar\",\"Anna Nagar\",\"Anna Nagar\",\"Anna Nagar\",\"Anna Nagar\",\"Anna Nagar\",\"Anna Nagar\",\"Anna Nagar\",\"Anna Nagar\",\"Anna Nagar\",\"Anna Nagar\",\"Anna Nagar\",\"Anna Nagar\",\"Anna Nagar\",\"Anna Nagar\",\"Anna Nagar\",\"Anna Nagar\",\"Anna Nagar\",\"Anna Nagar\",\"Anna Nagar\",\"Anna Nagar\",\"Anna Nagar\",\"Anna Nagar\",\"Anna Nagar\",\"Anna Nagar\",\"Anna Nagar\",\"Anna Nagar\",\"Anna Nagar\",\"Anna Nagar\",\"Anna Nagar\",\"Anna Nagar\",\"Anna Nagar\",\"Anna Nagar\",\"Anna Nagar\",\"Anna Nagar\",\"Anna Nagar\",\"Anna Nagar\",\"Anna Nagar\",\"Anna Nagar\",\"Anna Nagar\",\"Anna Nagar\",\"Anna Nagar\",\"Anna Nagar\",\"Anna Nagar\",\"Anna Nagar\",\"Anna Nagar\",\"Anna Nagar\",\"Anna Nagar\",\"Anna Nagar\",\"Anna Nagar\",\"Anna Nagar\",\"Anna Nagar\",\"Anna Nagar\",\"Anna Nagar\",\"Anna Nagar\",\"Anna Nagar\",\"Anna Nagar\",\"Anna Nagar\",\"Anna Nagar\",\"Anna Nagar\",\"Anna Nagar\",\"Anna Nagar\",\"Anna Nagar\",\"Anna Nagar\",\"Anna Nagar\",\"Anna Nagar\",\"Anna Nagar\",\"Anna Nagar\",\"Anna Nagar\",\"Anna Nagar\",\"Anna Nagar\",\"Anna Nagar\",\"Anna Nagar\",\"Anna Nagar\",\"Anna Nagar\",\"Anna Nagar\",\"Anna Nagar\",\"Anna Nagar\",\"Anna Nagar\",\"Anna Nagar\",\"Anna Nagar\",\"Anna Nagar\",\"Anna Nagar\",\"Anna Nagar\",\"Anna Nagar\",\"Anna Nagar\",\"Anna Nagar\",\"Anna Nagar\",\"Anna Nagar\",\"Anna Nagar\",\"Anna Nagar\",\"Anna Nagar\",\"Anna Nagar\",\"Anna Nagar\",\"Anna Nagar\",\"Anna Nagar\",\"Anna Nagar\",\"Anna Nagar\",\"Anna Nagar\",\"Anna Nagar\",\"Anna Nagar\",\"Anna Nagar\",\"Anna Nagar\",\"Anna Nagar\",\"Anna Nagar\",\"Anna Nagar\",\"Anna Nagar\",\"Anna Nagar\",\"Anna Nagar\"],\"xaxis\":\"x\",\"yaxis\":\"y\",\"type\":\"histogram\"},{\"alignmentgroup\":\"True\",\"bingroup\":\"x\",\"hovertemplate\":\"AREA=%{x}<br>count=%{y}<extra></extra>\",\"legendgroup\":\"Adyar\",\"marker\":{\"color\":\"#00cc96\",\"pattern\":{\"shape\":\"\"}},\"name\":\"Adyar\",\"offsetgroup\":\"Adyar\",\"orientation\":\"v\",\"showlegend\":true,\"x\":[\"Adyar\",\"Adyar\",\"Adyar\",\"Adyar\",\"Adyar\",\"Adyar\",\"Adyar\",\"Adyar\",\"Adyar\",\"Adyar\",\"Adyar\",\"Adyar\",\"Adyar\",\"Adyar\",\"Adyar\",\"Adyar\",\"Adyar\",\"Adyar\",\"Adyar\",\"Adyar\",\"Adyar\",\"Adyar\",\"Adyar\",\"Adyar\",\"Adyar\",\"Adyar\",\"Adyar\",\"Adyar\",\"Adyar\",\"Adyar\",\"Adyar\",\"Adyar\",\"Adyar\",\"Adyar\",\"Adyar\",\"Adyar\",\"Adyar\",\"Adyar\",\"Adyar\",\"Adyar\",\"Adyar\",\"Adyar\",\"Adyar\",\"Adyar\",\"Adyar\",\"Adyar\",\"Adyar\",\"Adyar\",\"Adyar\",\"Adyar\",\"Adyar\",\"Adyar\",\"Adyar\",\"Adyar\",\"Adyar\",\"Adyar\",\"Adyar\",\"Adyar\",\"Adyar\",\"Adyar\",\"Adyar\",\"Adyar\",\"Adyar\",\"Adyar\",\"Adyar\",\"Adyar\",\"Adyar\",\"Adyar\",\"Adyar\",\"Adyar\",\"Adyar\",\"Adyar\",\"Adyar\",\"Adyar\",\"Adyar\",\"Adyar\",\"Adyar\",\"Adyar\",\"Adyar\",\"Adyar\",\"Adyar\",\"Adyar\",\"Adyar\",\"Adyar\",\"Adyar\",\"Adyar\",\"Adyar\",\"Adyar\",\"Adyar\",\"Adyar\",\"Adyar\",\"Adyar\",\"Adyar\",\"Adyar\",\"Adyar\",\"Adyar\",\"Adyar\",\"Adyar\",\"Adyar\",\"Adyar\",\"Adyar\",\"Adyar\",\"Adyar\",\"Adyar\",\"Adyar\",\"Adyar\",\"Adyar\",\"Adyar\",\"Adyar\",\"Adyar\",\"Adyar\",\"Adyar\",\"Adyar\",\"Adyar\",\"Adyar\",\"Adyar\",\"Adyar\",\"Adyar\",\"Adyar\",\"Adyar\",\"Adyar\",\"Adyar\",\"Adyar\",\"Adyar\",\"Adyar\",\"Adyar\",\"Adyar\",\"Adyar\",\"Adyar\",\"Adyar\",\"Adyar\",\"Adyar\",\"Adyar\",\"Adyar\",\"Adyar\",\"Adyar\",\"Adyar\",\"Adyar\",\"Adyar\",\"Adyar\",\"Adyar\",\"Adyar\",\"Adyar\",\"Adyar\",\"Adyar\",\"Adyar\",\"Adyar\",\"Adyar\",\"Adyar\",\"Adyar\",\"Adyar\",\"Adyar\",\"Adyar\",\"Adyar\",\"Adyar\",\"Adyar\",\"Adyar\",\"Adyar\",\"Adyar\",\"Adyar\",\"Adyar\",\"Adyar\",\"Adyar\",\"Adyar\",\"Adyar\",\"Adyar\",\"Adyar\",\"Adyar\",\"Adyar\",\"Adyar\",\"Adyar\",\"Adyar\",\"Adyar\",\"Adyar\",\"Adyar\",\"Adyar\",\"Adyar\",\"Adyar\",\"Adyar\",\"Adyar\",\"Adyar\",\"Adyar\",\"Adyar\",\"Adyar\",\"Adyar\",\"Adyar\",\"Adyar\",\"Adyar\",\"Adyar\",\"Adyar\",\"Adyar\",\"Adyar\",\"Adyar\",\"Adyar\",\"Adyar\",\"Adyar\",\"Adyar\",\"Adyar\",\"Adyar\",\"Adyar\",\"Adyar\",\"Adyar\",\"Adyar\",\"Adyar\",\"Adyar\",\"Adyar\",\"Adyar\",\"Adyar\",\"Adyar\",\"Adyar\",\"Adyar\",\"Adyar\",\"Adyar\",\"Adyar\",\"Adyar\",\"Adyar\",\"Adyar\",\"Adyar\",\"Adyar\",\"Adyar\",\"Adyar\",\"Adyar\",\"Adyar\",\"Adyar\",\"Adyar\",\"Adyar\",\"Adyar\",\"Adyar\",\"Adyar\",\"Adyar\",\"Adyar\",\"Adyar\",\"Adyar\",\"Adyar\",\"Adyar\",\"Adyar\",\"Adyar\",\"Adyar\",\"Adyar\",\"Adyar\",\"Adyar\",\"Adyar\",\"Adyar\",\"Adyar\",\"Adyar\",\"Adyar\",\"Adyar\",\"Adyar\",\"Adyar\",\"Adyar\",\"Adyar\",\"Adyar\",\"Adyar\",\"Adyar\",\"Adyar\",\"Adyar\",\"Adyar\",\"Adyar\",\"Adyar\",\"Adyar\",\"Adyar\",\"Adyar\",\"Adyar\",\"Adyar\",\"Adyar\",\"Adyar\",\"Adyar\",\"Adyar\",\"Adyar\",\"Adyar\",\"Adyar\",\"Adyar\",\"Adyar\",\"Adyar\",\"Adyar\",\"Adyar\",\"Adyar\",\"Adyar\",\"Adyar\",\"Adyar\",\"Adyar\",\"Adyar\",\"Adyar\",\"Adyar\",\"Adyar\",\"Adyar\",\"Adyar\",\"Adyar\",\"Adyar\",\"Adyar\",\"Adyar\",\"Adyar\",\"Adyar\",\"Adyar\",\"Adyar\",\"Adyar\",\"Adyar\",\"Adyar\",\"Adyar\",\"Adyar\",\"Adyar\",\"Adyar\",\"Adyar\",\"Adyar\",\"Adyar\",\"Adyar\",\"Adyar\",\"Adyar\",\"Adyar\",\"Adyar\",\"Adyar\",\"Adyar\",\"Adyar\",\"Adyar\",\"Adyar\",\"Adyar\",\"Adyar\",\"Adyar\",\"Adyar\",\"Adyar\",\"Adyar\",\"Adyar\",\"Adyar\",\"Adyar\",\"Adyar\",\"Adyar\",\"Adyar\",\"Adyar\",\"Adyar\",\"Adyar\",\"Adyar\",\"Adyar\",\"Adyar\",\"Adyar\",\"Adyar\",\"Adyar\",\"Adyar\",\"Adyar\",\"Adyar\",\"Adyar\",\"Adyar\",\"Adyar\",\"Adyar\",\"Adyar\",\"Adyar\",\"Adyar\",\"Adyar\",\"Adyar\",\"Adyar\",\"Adyar\",\"Adyar\",\"Adyar\",\"Adyar\",\"Adyar\",\"Adyar\",\"Adyar\",\"Adyar\",\"Adyar\",\"Adyar\",\"Adyar\",\"Adyar\",\"Adyar\",\"Adyar\",\"Adyar\",\"Adyar\",\"Adyar\",\"Adyar\",\"Adyar\",\"Adyar\",\"Adyar\",\"Adyar\",\"Adyar\",\"Adyar\",\"Adyar\",\"Adyar\",\"Adyar\",\"Adyar\",\"Adyar\",\"Adyar\",\"Adyar\",\"Adyar\",\"Adyar\",\"Adyar\",\"Adyar\",\"Adyar\",\"Adyar\",\"Adyar\",\"Adyar\",\"Adyar\",\"Adyar\",\"Adyar\",\"Adyar\",\"Adyar\",\"Adyar\",\"Adyar\",\"Adyar\",\"Adyar\",\"Adyar\",\"Adyar\",\"Adyar\",\"Adyar\",\"Adyar\",\"Adyar\",\"Adyar\",\"Adyar\",\"Adyar\",\"Adyar\",\"Adyar\",\"Adyar\",\"Adyar\",\"Adyar\",\"Adyar\",\"Adyar\",\"Adyar\",\"Adyar\",\"Adyar\",\"Adyar\",\"Adyar\",\"Adyar\",\"Adyar\",\"Adyar\",\"Adyar\",\"Adyar\",\"Adyar\",\"Adyar\",\"Adyar\",\"Adyar\",\"Adyar\",\"Adyar\",\"Adyar\",\"Adyar\",\"Adyar\",\"Adyar\",\"Adyar\",\"Adyar\",\"Adyar\",\"Adyar\",\"Adyar\",\"Adyar\",\"Adyar\",\"Adyar\",\"Adyar\",\"Adyar\",\"Adyar\",\"Adyar\",\"Adyar\",\"Adyar\",\"Adyar\",\"Adyar\",\"Adyar\",\"Adyar\",\"Adyar\",\"Adyar\",\"Adyar\",\"Adyar\",\"Adyar\",\"Adyar\",\"Adyar\",\"Adyar\",\"Adyar\",\"Adyar\",\"Adyar\",\"Adyar\",\"Adyar\",\"Adyar\",\"Adyar\",\"Adyar\",\"Adyar\",\"Adyar\",\"Adyar\",\"Adyar\",\"Adyar\",\"Adyar\",\"Adyar\",\"Adyar\",\"Adyar\",\"Adyar\",\"Adyar\",\"Adyar\",\"Adyar\",\"Adyar\",\"Adyar\",\"Adyar\",\"Adyar\",\"Adyar\",\"Adyar\",\"Adyar\",\"Adyar\",\"Adyar\",\"Adyar\",\"Adyar\",\"Adyar\",\"Adyar\",\"Adyar\",\"Adyar\",\"Adyar\",\"Adyar\",\"Adyar\",\"Adyar\",\"Adyar\",\"Adyar\",\"Adyar\",\"Adyar\",\"Adyar\",\"Adyar\",\"Adyar\",\"Adyar\",\"Adyar\",\"Adyar\",\"Adyar\",\"Adyar\",\"Adyar\",\"Adyar\",\"Adyar\",\"Adyar\",\"Adyar\",\"Adyar\",\"Adyar\",\"Adyar\",\"Adyar\",\"Adyar\",\"Adyar\",\"Adyar\",\"Adyar\",\"Adyar\",\"Adyar\",\"Adyar\",\"Adyar\",\"Adyar\",\"Adyar\",\"Adyar\",\"Adyar\",\"Adyar\",\"Adyar\",\"Adyar\",\"Adyar\",\"Adyar\",\"Adyar\",\"Adyar\",\"Adyar\",\"Adyar\",\"Adyar\",\"Adyar\",\"Adyar\",\"Adyar\",\"Adyar\",\"Adyar\",\"Adyar\",\"Adyar\",\"Adyar\",\"Adyar\",\"Adyar\",\"Adyar\",\"Adyar\",\"Adyar\",\"Adyar\",\"Adyar\",\"Adyar\",\"Adyar\",\"Adyar\",\"Adyar\",\"Adyar\",\"Adyar\",\"Adyar\",\"Adyar\",\"Adyar\",\"Adyar\",\"Adyar\",\"Adyar\",\"Adyar\",\"Adyar\",\"Adyar\",\"Adyar\",\"Adyar\",\"Adyar\",\"Adyar\",\"Adyar\",\"Adyar\",\"Adyar\",\"Adyar\",\"Adyar\",\"Adyar\",\"Adyar\",\"Adyar\",\"Adyar\",\"Adyar\",\"Adyar\",\"Adyar\",\"Adyar\",\"Adyar\",\"Adyar\",\"Adyar\",\"Adyar\",\"Adyar\",\"Adyar\",\"Adyar\",\"Adyar\",\"Adyar\",\"Adyar\",\"Adyar\",\"Adyar\",\"Adyar\",\"Adyar\",\"Adyar\",\"Adyar\",\"Adyar\",\"Adyar\",\"Adyar\",\"Adyar\",\"Adyar\",\"Adyar\",\"Adyar\",\"Adyar\",\"Adyar\",\"Adyar\",\"Adyar\",\"Adyar\",\"Adyar\",\"Adyar\",\"Adyar\",\"Adyar\",\"Adyar\",\"Adyar\",\"Adyar\",\"Adyar\",\"Adyar\",\"Adyar\",\"Adyar\",\"Adyar\",\"Adyar\",\"Adyar\",\"Adyar\",\"Adyar\",\"Adyar\",\"Adyar\",\"Adyar\",\"Adyar\",\"Adyar\",\"Adyar\",\"Adyar\",\"Adyar\",\"Adyar\",\"Adyar\",\"Adyar\",\"Adyar\",\"Adyar\",\"Adyar\",\"Adyar\",\"Adyar\",\"Adyar\",\"Adyar\",\"Adyar\",\"Adyar\",\"Adyar\",\"Adyar\",\"Adyar\",\"Adyar\",\"Adyar\",\"Adyar\",\"Adyar\",\"Adyar\",\"Adyar\",\"Adyar\",\"Adyar\",\"Adyar\",\"Adyar\",\"Adyar\",\"Adyar\",\"Adyar\",\"Adyar\",\"Adyar\",\"Adyar\",\"Adyar\",\"Adyar\",\"Adyar\",\"Adyar\",\"Adyar\",\"Adyar\",\"Adyar\",\"Adyar\",\"Adyar\",\"Adyar\",\"Adyar\",\"Adyar\",\"Adyar\",\"Adyar\",\"Adyar\",\"Adyar\",\"Adyar\",\"Adyar\",\"Adyar\",\"Adyar\",\"Adyar\",\"Adyar\",\"Adyar\",\"Adyar\",\"Adyar\",\"Adyar\",\"Adyar\",\"Adyar\",\"Adyar\",\"Adyar\",\"Adyar\",\"Adyar\",\"Adyar\",\"Adyar\",\"Adyar\",\"Adyar\",\"Adyar\",\"Adyar\",\"Adyar\",\"Adyar\",\"Adyar\",\"Adyar\",\"Adyar\",\"Adyar\",\"Adyar\",\"Adyar\",\"Adyar\",\"Adyar\",\"Adyar\",\"Adyar\",\"Adyar\",\"Adyar\",\"Adyar\",\"Adyar\",\"Adyar\",\"Adyar\",\"Adyar\",\"Adyar\",\"Adyar\",\"Adyar\",\"Adyar\",\"Adyar\",\"Adyar\",\"Adyar\",\"Adyar\",\"Adyar\",\"Adyar\",\"Adyar\",\"Adyar\",\"Adyar\",\"Adyar\",\"Adyar\",\"Adyar\",\"Adyar\",\"Adyar\",\"Adyar\",\"Adyar\",\"Adyar\",\"Adyar\",\"Adyar\",\"Adyar\",\"Adyar\",\"Adyar\",\"Adyar\",\"Adyar\",\"Adyar\",\"Adyar\",\"Adyar\",\"Adyar\",\"Adyar\",\"Adyar\",\"Adyar\",\"Adyar\",\"Adyar\",\"Adyar\",\"Adyar\",\"Adyar\"],\"xaxis\":\"x\",\"yaxis\":\"y\",\"type\":\"histogram\"},{\"alignmentgroup\":\"True\",\"bingroup\":\"x\",\"hovertemplate\":\"AREA=%{x}<br>count=%{y}<extra></extra>\",\"legendgroup\":\"Velachery\",\"marker\":{\"color\":\"#ab63fa\",\"pattern\":{\"shape\":\"\"}},\"name\":\"Velachery\",\"offsetgroup\":\"Velachery\",\"orientation\":\"v\",\"showlegend\":true,\"x\":[\"Velachery\",\"Velachery\",\"Velachery\",\"Velachery\",\"Velachery\",\"Velachery\",\"Velachery\",\"Velachery\",\"Velachery\",\"Velachery\",\"Velachery\",\"Velachery\",\"Velachery\",\"Velachery\",\"Velachery\",\"Velachery\",\"Velachery\",\"Velachery\",\"Velachery\",\"Velachery\",\"Velachery\",\"Velachery\",\"Velachery\",\"Velachery\",\"Velachery\",\"Velachery\",\"Velachery\",\"Velachery\",\"Velachery\",\"Velachery\",\"Velachery\",\"Velachery\",\"Velachery\",\"Velachery\",\"Velachery\",\"Velachery\",\"Velachery\",\"Velachery\",\"Velachery\",\"Velachery\",\"Velachery\",\"Velachery\",\"Velachery\",\"Velachery\",\"Velachery\",\"Velachery\",\"Velachery\",\"Velachery\",\"Velachery\",\"Velachery\",\"Velachery\",\"Velachery\",\"Velachery\",\"Velachery\",\"Velachery\",\"Velachery\",\"Velachery\",\"Velachery\",\"Velachery\",\"Velachery\",\"Velachery\",\"Velachery\",\"Velachery\",\"Velachery\",\"Velachery\",\"Velachery\",\"Velachery\",\"Velachery\",\"Velachery\",\"Velachery\",\"Velachery\",\"Velachery\",\"Velachery\",\"Velachery\",\"Velachery\",\"Velachery\",\"Velachery\",\"Velachery\",\"Velachery\",\"Velachery\",\"Velachery\",\"Velachery\",\"Velachery\",\"Velachery\",\"Velachery\",\"Velachery\",\"Velachery\",\"Velachery\",\"Velachery\",\"Velachery\",\"Velachery\",\"Velachery\",\"Velachery\",\"Velachery\",\"Velachery\",\"Velachery\",\"Velachery\",\"Velachery\",\"Velachery\",\"Velachery\",\"Velachery\",\"Velachery\",\"Velachery\",\"Velachery\",\"Velachery\",\"Velachery\",\"Velachery\",\"Velachery\",\"Velachery\",\"Velachery\",\"Velachery\",\"Velachery\",\"Velachery\",\"Velachery\",\"Velachery\",\"Velachery\",\"Velachery\",\"Velachery\",\"Velachery\",\"Velachery\",\"Velachery\",\"Velachery\",\"Velachery\",\"Velachery\",\"Velachery\",\"Velachery\",\"Velachery\",\"Velachery\",\"Velachery\",\"Velachery\",\"Velachery\",\"Velachery\",\"Velachery\",\"Velachery\",\"Velachery\",\"Velachery\",\"Velachery\",\"Velachery\",\"Velachery\",\"Velachery\",\"Velachery\",\"Velachery\",\"Velachery\",\"Velachery\",\"Velachery\",\"Velachery\",\"Velachery\",\"Velachery\",\"Velachery\",\"Velachery\",\"Velachery\",\"Velachery\",\"Velachery\",\"Velachery\",\"Velachery\",\"Velachery\",\"Velachery\",\"Velachery\",\"Velachery\",\"Velachery\",\"Velachery\",\"Velachery\",\"Velachery\",\"Velachery\",\"Velachery\",\"Velachery\",\"Velachery\",\"Velachery\",\"Velachery\",\"Velachery\",\"Velachery\",\"Velachery\",\"Velachery\",\"Velachery\",\"Velachery\",\"Velachery\",\"Velachery\",\"Velachery\",\"Velachery\",\"Velachery\",\"Velachery\",\"Velachery\",\"Velachery\",\"Velachery\",\"Velachery\",\"Velachery\",\"Velachery\",\"Velachery\",\"Velachery\",\"Velachery\",\"Velachery\",\"Velachery\",\"Velachery\",\"Velachery\",\"Velachery\",\"Velachery\",\"Velachery\",\"Velachery\",\"Velachery\",\"Velachery\",\"Velachery\",\"Velachery\",\"Velachery\",\"Velachery\",\"Velachery\",\"Velachery\",\"Velachery\",\"Velachery\",\"Velachery\",\"Velachery\",\"Velachery\",\"Velachery\",\"Velachery\",\"Velachery\",\"Velachery\",\"Velachery\",\"Velachery\",\"Velachery\",\"Velachery\",\"Velachery\",\"Velachery\",\"Velachery\",\"Velachery\",\"Velachery\",\"Velachery\",\"Velachery\",\"Velachery\",\"Velachery\",\"Velachery\",\"Velachery\",\"Velachery\",\"Velachery\",\"Velachery\",\"Velachery\",\"Velachery\",\"Velachery\",\"Velachery\",\"Velachery\",\"Velachery\",\"Velachery\",\"Velachery\",\"Velachery\",\"Velachery\",\"Velachery\",\"Velachery\",\"Velachery\",\"Velachery\",\"Velachery\",\"Velachery\",\"Velachery\",\"Velachery\",\"Velachery\",\"Velachery\",\"Velachery\",\"Velachery\",\"Velachery\",\"Velachery\",\"Velachery\",\"Velachery\",\"Velachery\",\"Velachery\",\"Velachery\",\"Velachery\",\"Velachery\",\"Velachery\",\"Velachery\",\"Velachery\",\"Velachery\",\"Velachery\",\"Velachery\",\"Velachery\",\"Velachery\",\"Velachery\",\"Velachery\",\"Velachery\",\"Velachery\",\"Velachery\",\"Velachery\",\"Velachery\",\"Velachery\",\"Velachery\",\"Velachery\",\"Velachery\",\"Velachery\",\"Velachery\",\"Velachery\",\"Velachery\",\"Velachery\",\"Velachery\",\"Velachery\",\"Velachery\",\"Velachery\",\"Velachery\",\"Velachery\",\"Velachery\",\"Velachery\",\"Velachery\",\"Velachery\",\"Velachery\",\"Velachery\",\"Velachery\",\"Velachery\",\"Velachery\",\"Velachery\",\"Velachery\",\"Velachery\",\"Velachery\",\"Velachery\",\"Velachery\",\"Velachery\",\"Velachery\",\"Velachery\",\"Velachery\",\"Velachery\",\"Velachery\",\"Velachery\",\"Velachery\",\"Velachery\",\"Velachery\",\"Velachery\",\"Velachery\",\"Velachery\",\"Velachery\",\"Velachery\",\"Velachery\",\"Velachery\",\"Velachery\",\"Velachery\",\"Velachery\",\"Velachery\",\"Velachery\",\"Velachery\",\"Velachery\",\"Velachery\",\"Velachery\",\"Velachery\",\"Velachery\",\"Velachery\",\"Velachery\",\"Velachery\",\"Velachery\",\"Velachery\",\"Velachery\",\"Velachery\",\"Velachery\",\"Velachery\",\"Velachery\",\"Velachery\",\"Velachery\",\"Velachery\",\"Velachery\",\"Velachery\",\"Velachery\",\"Velachery\",\"Velachery\",\"Velachery\",\"Velachery\",\"Velachery\",\"Velachery\",\"Velachery\",\"Velachery\",\"Velachery\",\"Velachery\",\"Velachery\",\"Velachery\",\"Velachery\",\"Velachery\",\"Velachery\",\"Velachery\",\"Velachery\",\"Velachery\",\"Velachery\",\"Velachery\",\"Velachery\",\"Velachery\",\"Velachery\",\"Velachery\",\"Velachery\",\"Velachery\",\"Velachery\",\"Velachery\",\"Velachery\",\"Velachery\",\"Velachery\",\"Velachery\",\"Velachery\",\"Velachery\",\"Velachery\",\"Velachery\",\"Velachery\",\"Velachery\",\"Velachery\",\"Velachery\",\"Velachery\",\"Velachery\",\"Velachery\",\"Velachery\",\"Velachery\",\"Velachery\",\"Velachery\",\"Velachery\",\"Velachery\",\"Velachery\",\"Velachery\",\"Velachery\",\"Velachery\",\"Velachery\",\"Velachery\",\"Velachery\",\"Velachery\",\"Velachery\",\"Velachery\",\"Velachery\",\"Velachery\",\"Velachery\",\"Velachery\",\"Velachery\",\"Velachery\",\"Velachery\",\"Velachery\",\"Velachery\",\"Velachery\",\"Velachery\",\"Velachery\",\"Velachery\",\"Velachery\",\"Velachery\",\"Velachery\",\"Velachery\",\"Velachery\",\"Velachery\",\"Velachery\",\"Velachery\",\"Velachery\",\"Velachery\",\"Velachery\",\"Velachery\",\"Velachery\",\"Velachery\",\"Velachery\",\"Velachery\",\"Velachery\",\"Velachery\",\"Velachery\",\"Velachery\",\"Velachery\",\"Velachery\",\"Velachery\",\"Velachery\",\"Velachery\",\"Velachery\",\"Velachery\",\"Velachery\",\"Velachery\",\"Velachery\",\"Velachery\",\"Velachery\",\"Velachery\",\"Velachery\",\"Velachery\",\"Velachery\",\"Velachery\",\"Velachery\",\"Velachery\",\"Velachery\",\"Velachery\",\"Velachery\",\"Velachery\",\"Velachery\",\"Velachery\",\"Velachery\",\"Velachery\",\"Velachery\",\"Velachery\",\"Velachery\",\"Velachery\",\"Velachery\",\"Velachery\",\"Velachery\",\"Velachery\",\"Velachery\",\"Velachery\",\"Velachery\",\"Velachery\",\"Velachery\",\"Velachery\",\"Velachery\",\"Velachery\",\"Velachery\",\"Velachery\",\"Velachery\",\"Velachery\",\"Velachery\",\"Velachery\",\"Velachery\",\"Velachery\",\"Velachery\",\"Velachery\",\"Velachery\",\"Velachery\",\"Velachery\",\"Velachery\",\"Velachery\",\"Velachery\",\"Velachery\",\"Velachery\",\"Velachery\",\"Velachery\",\"Velachery\",\"Velachery\",\"Velachery\",\"Velachery\",\"Velachery\",\"Velachery\",\"Velachery\",\"Velachery\",\"Velachery\",\"Velachery\",\"Velachery\",\"Velachery\",\"Velachery\",\"Velachery\",\"Velachery\",\"Velachery\",\"Velachery\",\"Velachery\",\"Velachery\",\"Velachery\",\"Velachery\",\"Velachery\",\"Velachery\",\"Velachery\",\"Velachery\",\"Velachery\",\"Velachery\",\"Velachery\",\"Velachery\",\"Velachery\",\"Velachery\",\"Velachery\",\"Velachery\",\"Velachery\",\"Velachery\",\"Velachery\",\"Velachery\",\"Velachery\",\"Velachery\",\"Velachery\",\"Velachery\",\"Velachery\",\"Velachery\",\"Velachery\",\"Velachery\",\"Velachery\",\"Velachery\",\"Velachery\",\"Velachery\",\"Velachery\",\"Velachery\",\"Velachery\",\"Velachery\",\"Velachery\",\"Velachery\",\"Velachery\",\"Velachery\",\"Velachery\",\"Velachery\",\"Velachery\",\"Velachery\",\"Velachery\",\"Velachery\",\"Velachery\",\"Velachery\",\"Velachery\",\"Velachery\",\"Velachery\",\"Velachery\",\"Velachery\",\"Velachery\",\"Velachery\",\"Velachery\",\"Velachery\",\"Velachery\",\"Velachery\",\"Velachery\",\"Velachery\",\"Velachery\",\"Velachery\",\"Velachery\",\"Velachery\",\"Velachery\",\"Velachery\",\"Velachery\",\"Velachery\",\"Velachery\",\"Velachery\",\"Velachery\",\"Velachery\",\"Velachery\",\"Velachery\",\"Velachery\",\"Velachery\",\"Velachery\",\"Velachery\",\"Velachery\",\"Velachery\",\"Velachery\",\"Velachery\",\"Velachery\",\"Velachery\",\"Velachery\",\"Velachery\",\"Velachery\",\"Velachery\",\"Velachery\",\"Velachery\",\"Velachery\",\"Velachery\",\"Velachery\",\"Velachery\",\"Velachery\",\"Velachery\",\"Velachery\",\"Velachery\",\"Velachery\",\"Velachery\",\"Velachery\",\"Velachery\",\"Velachery\",\"Velachery\",\"Velachery\",\"Velachery\",\"Velachery\",\"Velachery\",\"Velachery\",\"Velachery\",\"Velachery\",\"Velachery\",\"Velachery\",\"Velachery\",\"Velachery\",\"Velachery\",\"Velachery\",\"Velachery\",\"Velachery\",\"Velachery\",\"Velachery\",\"Velachery\",\"Velachery\",\"Velachery\",\"Velachery\",\"Velachery\",\"Velachery\",\"Velachery\",\"Velachery\",\"Velachery\",\"Velachery\",\"Velachery\",\"Velachery\",\"Velachery\",\"Velachery\",\"Velachery\",\"Velachery\",\"Velachery\",\"Velachery\",\"Velachery\",\"Velachery\",\"Velachery\",\"Velachery\",\"Velachery\",\"Velachery\",\"Velachery\",\"Velachery\",\"Velachery\",\"Velachery\",\"Velachery\",\"Velachery\",\"Velachery\",\"Velachery\",\"Velachery\",\"Velachery\",\"Velachery\",\"Velachery\",\"Velachery\",\"Velachery\",\"Velachery\",\"Velachery\",\"Velachery\",\"Velachery\",\"Velachery\",\"Velachery\",\"Velachery\",\"Velachery\",\"Velachery\",\"Velachery\",\"Velachery\",\"Velachery\",\"Velachery\",\"Velachery\",\"Velachery\",\"Velachery\",\"Velachery\",\"Velachery\",\"Velachery\",\"Velachery\",\"Velachery\",\"Velachery\",\"Velachery\",\"Velachery\",\"Velachery\",\"Velachery\",\"Velachery\",\"Velachery\",\"Velachery\",\"Velachery\",\"Velachery\",\"Velachery\",\"Velachery\",\"Velachery\",\"Velachery\",\"Velachery\",\"Velachery\",\"Velachery\",\"Velachery\",\"Velachery\",\"Velachery\",\"Velachery\",\"Velachery\",\"Velachery\",\"Velachery\",\"Velachery\",\"Velachery\",\"Velachery\",\"Velachery\",\"Velachery\",\"Velachery\",\"Velachery\",\"Velachery\",\"Velachery\",\"Velachery\",\"Velachery\",\"Velachery\",\"Velachery\",\"Velachery\",\"Velachery\",\"Velachery\",\"Velachery\",\"Velachery\",\"Velachery\",\"Velachery\",\"Velachery\",\"Velachery\",\"Velachery\",\"Velachery\",\"Velachery\",\"Velachery\",\"Velachery\",\"Velachery\",\"Velachery\",\"Velachery\",\"Velachery\",\"Velachery\",\"Velachery\",\"Velachery\",\"Velachery\",\"Velachery\",\"Velachery\",\"Velachery\",\"Velachery\",\"Velachery\",\"Velachery\",\"Velachery\",\"Velachery\",\"Velachery\",\"Velachery\",\"Velachery\",\"Velachery\",\"Velachery\",\"Velachery\",\"Velachery\",\"Velachery\",\"Velachery\",\"Velachery\",\"Velachery\",\"Velachery\",\"Velachery\",\"Velachery\",\"Velachery\",\"Velachery\",\"Velachery\",\"Velachery\",\"Velachery\",\"Velachery\",\"Velachery\",\"Velachery\",\"Velachery\",\"Velachery\",\"Velachery\",\"Velachery\",\"Velachery\",\"Velachery\",\"Velachery\",\"Velachery\",\"Velachery\",\"Velachery\",\"Velachery\",\"Velachery\",\"Velachery\",\"Velachery\",\"Velachery\",\"Velachery\",\"Velachery\",\"Velachery\",\"Velachery\",\"Velachery\",\"Velachery\",\"Velachery\",\"Velachery\",\"Velachery\",\"Velachery\",\"Velachery\",\"Velachery\",\"Velachery\",\"Velachery\",\"Velachery\",\"Velachery\",\"Velachery\",\"Velachery\",\"Velachery\",\"Velachery\",\"Velachery\",\"Velachery\",\"Velachery\",\"Velachery\",\"Velachery\",\"Velachery\",\"Velachery\",\"Velachery\",\"Velachery\",\"Velachery\",\"Velachery\",\"Velachery\",\"Velachery\",\"Velachery\",\"Velachery\",\"Velachery\",\"Velachery\",\"Velachery\",\"Velachery\",\"Velachery\",\"Velachery\",\"Velachery\",\"Velachery\",\"Velachery\",\"Velachery\",\"Velachery\",\"Velachery\",\"Velachery\",\"Velachery\",\"Velachery\",\"Velachery\",\"Velachery\",\"Velachery\",\"Velachery\",\"Velachery\",\"Velachery\",\"Velachery\",\"Velachery\",\"Velachery\",\"Velachery\",\"Velachery\",\"Velachery\",\"Velachery\",\"Velachery\",\"Velachery\",\"Velachery\",\"Velachery\",\"Velachery\",\"Velachery\",\"Velachery\",\"Velachery\",\"Velachery\",\"Velachery\",\"Velachery\",\"Velachery\",\"Velachery\",\"Velachery\",\"Velachery\",\"Velachery\",\"Velachery\",\"Velachery\",\"Velachery\",\"Velachery\",\"Velachery\",\"Velachery\",\"Velachery\",\"Velachery\",\"Velachery\",\"Velachery\",\"Velachery\",\"Velachery\",\"Velachery\",\"Velachery\",\"Velachery\",\"Velachery\",\"Velachery\",\"Velachery\",\"Velachery\",\"Velachery\",\"Velachery\",\"Velachery\",\"Velachery\",\"Velachery\",\"Velachery\",\"Velachery\",\"Velachery\",\"Velachery\",\"Velachery\",\"Velachery\",\"Velachery\",\"Velachery\",\"Velachery\",\"Velachery\",\"Velachery\",\"Velachery\",\"Velachery\",\"Velachery\",\"Velachery\",\"Velachery\",\"Velachery\",\"Velachery\",\"Velachery\",\"Velachery\",\"Velachery\",\"Velachery\",\"Velachery\",\"Velachery\",\"Velachery\",\"Velachery\",\"Velachery\",\"Velachery\",\"Velachery\",\"Velachery\",\"Velachery\",\"Velachery\",\"Velachery\",\"Velachery\",\"Velachery\",\"Velachery\",\"Velachery\",\"Velachery\",\"Velachery\",\"Velachery\",\"Velachery\",\"Velachery\",\"Velachery\",\"Velachery\",\"Velachery\",\"Velachery\",\"Velachery\",\"Velachery\",\"Velachery\",\"Velachery\",\"Velachery\",\"Velachery\",\"Velachery\",\"Velachery\",\"Velachery\",\"Velachery\",\"Velachery\",\"Velachery\",\"Velachery\",\"Velachery\",\"Velachery\",\"Velachery\"],\"xaxis\":\"x\",\"yaxis\":\"y\",\"type\":\"histogram\"},{\"alignmentgroup\":\"True\",\"bingroup\":\"x\",\"hovertemplate\":\"AREA=%{x}<br>count=%{y}<extra></extra>\",\"legendgroup\":\"Chrompet\",\"marker\":{\"color\":\"#FFA15A\",\"pattern\":{\"shape\":\"\"}},\"name\":\"Chrompet\",\"offsetgroup\":\"Chrompet\",\"orientation\":\"v\",\"showlegend\":true,\"x\":[\"Chrompet\",\"Chrompet\",\"Chrompet\",\"Chrompet\",\"Chrompet\",\"Chrompet\",\"Chrompet\",\"Chrompet\",\"Chrompet\",\"Chrompet\",\"Chrompet\",\"Chrompet\",\"Chrompet\",\"Chrompet\",\"Chrompet\",\"Chrompet\",\"Chrompet\",\"Chrompet\",\"Chrompet\",\"Chrompet\",\"Chrompet\",\"Chrompet\",\"Chrompet\",\"Chrompet\",\"Chrompet\",\"Chrompet\",\"Chrompet\",\"Chrompet\",\"Chrompet\",\"Chrompet\",\"Chrompet\",\"Chrompet\",\"Chrompet\",\"Chrompet\",\"Chrompet\",\"Chrompet\",\"Chrompet\",\"Chrompet\",\"Chrompet\",\"Chrompet\",\"Chrompet\",\"Chrompet\",\"Chrompet\",\"Chrompet\",\"Chrompet\",\"Chrompet\",\"Chrompet\",\"Chrompet\",\"Chrompet\",\"Chrompet\",\"Chrompet\",\"Chrompet\",\"Chrompet\",\"Chrompet\",\"Chrompet\",\"Chrompet\",\"Chrompet\",\"Chrompet\",\"Chrompet\",\"Chrompet\",\"Chrompet\",\"Chrompet\",\"Chrompet\",\"Chrompet\",\"Chrompet\",\"Chrompet\",\"Chrompet\",\"Chrompet\",\"Chrompet\",\"Chrompet\",\"Chrompet\",\"Chrompet\",\"Chrompet\",\"Chrompet\",\"Chrompet\",\"Chrompet\",\"Chrompet\",\"Chrompet\",\"Chrompet\",\"Chrompet\",\"Chrompet\",\"Chrompet\",\"Chrompet\",\"Chrompet\",\"Chrompet\",\"Chrompet\",\"Chrompet\",\"Chrompet\",\"Chrompet\",\"Chrompet\",\"Chrompet\",\"Chrompet\",\"Chrompet\",\"Chrompet\",\"Chrompet\",\"Chrompet\",\"Chrompet\",\"Chrompet\",\"Chrompet\",\"Chrompet\",\"Chrompet\",\"Chrompet\",\"Chrompet\",\"Chrompet\",\"Chrompet\",\"Chrompet\",\"Chrompet\",\"Chrompet\",\"Chrompet\",\"Chrompet\",\"Chrompet\",\"Chrompet\",\"Chrompet\",\"Chrompet\",\"Chrompet\",\"Chrompet\",\"Chrompet\",\"Chrompet\",\"Chrompet\",\"Chrompet\",\"Chrompet\",\"Chrompet\",\"Chrompet\",\"Chrompet\",\"Chrompet\",\"Chrompet\",\"Chrompet\",\"Chrompet\",\"Chrompet\",\"Chrompet\",\"Chrompet\",\"Chrompet\",\"Chrompet\",\"Chrompet\",\"Chrompet\",\"Chrompet\",\"Chrompet\",\"Chrompet\",\"Chrompet\",\"Chrompet\",\"Chrompet\",\"Chrompet\",\"Chrompet\",\"Chrompet\",\"Chrompet\",\"Chrompet\",\"Chrompet\",\"Chrompet\",\"Chrompet\",\"Chrompet\",\"Chrompet\",\"Chrompet\",\"Chrompet\",\"Chrompet\",\"Chrompet\",\"Chrompet\",\"Chrompet\",\"Chrompet\",\"Chrompet\",\"Chrompet\",\"Chrompet\",\"Chrompet\",\"Chrompet\",\"Chrompet\",\"Chrompet\",\"Chrompet\",\"Chrompet\",\"Chrompet\",\"Chrompet\",\"Chrompet\",\"Chrompet\",\"Chrompet\",\"Chrompet\",\"Chrompet\",\"Chrompet\",\"Chrompet\",\"Chrompet\",\"Chrompet\",\"Chrompet\",\"Chrompet\",\"Chrompet\",\"Chrompet\",\"Chrompet\",\"Chrompet\",\"Chrompet\",\"Chrompet\",\"Chrompet\",\"Chrompet\",\"Chrompet\",\"Chrompet\",\"Chrompet\",\"Chrompet\",\"Chrompet\",\"Chrompet\",\"Chrompet\",\"Chrompet\",\"Chrompet\",\"Chrompet\",\"Chrompet\",\"Chrompet\",\"Chrompet\",\"Chrompet\",\"Chrompet\",\"Chrompet\",\"Chrompet\",\"Chrompet\",\"Chrompet\",\"Chrompet\",\"Chrompet\",\"Chrompet\",\"Chrompet\",\"Chrompet\",\"Chrompet\",\"Chrompet\",\"Chrompet\",\"Chrompet\",\"Chrompet\",\"Chrompet\",\"Chrompet\",\"Chrompet\",\"Chrompet\",\"Chrompet\",\"Chrompet\",\"Chrompet\",\"Chrompet\",\"Chrompet\",\"Chrompet\",\"Chrompet\",\"Chrompet\",\"Chrompet\",\"Chrompet\",\"Chrompet\",\"Chrompet\",\"Chrompet\",\"Chrompet\",\"Chrompet\",\"Chrompet\",\"Chrompet\",\"Chrompet\",\"Chrompet\",\"Chrompet\",\"Chrompet\",\"Chrompet\",\"Chrompet\",\"Chrompet\",\"Chrompet\",\"Chrompet\",\"Chrompet\",\"Chrompet\",\"Chrompet\",\"Chrompet\",\"Chrompet\",\"Chrompet\",\"Chrompet\",\"Chrompet\",\"Chrompet\",\"Chrompet\",\"Chrompet\",\"Chrompet\",\"Chrompet\",\"Chrompet\",\"Chrompet\",\"Chrompet\",\"Chrompet\",\"Chrompet\",\"Chrompet\",\"Chrompet\",\"Chrompet\",\"Chrompet\",\"Chrompet\",\"Chrompet\",\"Chrompet\",\"Chrompet\",\"Chrompet\",\"Chrompet\",\"Chrompet\",\"Chrompet\",\"Chrompet\",\"Chrompet\",\"Chrompet\",\"Chrompet\",\"Chrompet\",\"Chrompet\",\"Chrompet\",\"Chrompet\",\"Chrompet\",\"Chrompet\",\"Chrompet\",\"Chrompet\",\"Chrompet\",\"Chrompet\",\"Chrompet\",\"Chrompet\",\"Chrompet\",\"Chrompet\",\"Chrompet\",\"Chrompet\",\"Chrompet\",\"Chrompet\",\"Chrompet\",\"Chrompet\",\"Chrompet\",\"Chrompet\",\"Chrompet\",\"Chrompet\",\"Chrompet\",\"Chrompet\",\"Chrompet\",\"Chrompet\",\"Chrompet\",\"Chrompet\",\"Chrompet\",\"Chrompet\",\"Chrompet\",\"Chrompet\",\"Chrompet\",\"Chrompet\",\"Chrompet\",\"Chrompet\",\"Chrompet\",\"Chrompet\",\"Chrompet\",\"Chrompet\",\"Chrompet\",\"Chrompet\",\"Chrompet\",\"Chrompet\",\"Chrompet\",\"Chrompet\",\"Chrompet\",\"Chrompet\",\"Chrompet\",\"Chrompet\",\"Chrompet\",\"Chrompet\",\"Chrompet\",\"Chrompet\",\"Chrompet\",\"Chrompet\",\"Chrompet\",\"Chrompet\",\"Chrompet\",\"Chrompet\",\"Chrompet\",\"Chrompet\",\"Chrompet\",\"Chrompet\",\"Chrompet\",\"Chrompet\",\"Chrompet\",\"Chrompet\",\"Chrompet\",\"Chrompet\",\"Chrompet\",\"Chrompet\",\"Chrompet\",\"Chrompet\",\"Chrompet\",\"Chrompet\",\"Chrompet\",\"Chrompet\",\"Chrompet\",\"Chrompet\",\"Chrompet\",\"Chrompet\",\"Chrompet\",\"Chrompet\",\"Chrompet\",\"Chrompet\",\"Chrompet\",\"Chrompet\",\"Chrompet\",\"Chrompet\",\"Chrompet\",\"Chrompet\",\"Chrompet\",\"Chrompet\",\"Chrompet\",\"Chrompet\",\"Chrompet\",\"Chrompet\",\"Chrompet\",\"Chrompet\",\"Chrompet\",\"Chrompet\",\"Chrompet\",\"Chrompet\",\"Chrompet\",\"Chrompet\",\"Chrompet\",\"Chrompet\",\"Chrompet\",\"Chrompet\",\"Chrompet\",\"Chrompet\",\"Chrompet\",\"Chrompet\",\"Chrompet\",\"Chrompet\",\"Chrompet\",\"Chrompet\",\"Chrompet\",\"Chrompet\",\"Chrompet\",\"Chrompet\",\"Chrompet\",\"Chrompet\",\"Chrompet\",\"Chrompet\",\"Chrompet\",\"Chrompet\",\"Chrompet\",\"Chrompet\",\"Chrompet\",\"Chrompet\",\"Chrompet\",\"Chrompet\",\"Chrompet\",\"Chrompet\",\"Chrompet\",\"Chrompet\",\"Chrompet\",\"Chrompet\",\"Chrompet\",\"Chrompet\",\"Chrompet\",\"Chrompet\",\"Chrompet\",\"Chrompet\",\"Chrompet\",\"Chrompet\",\"Chrompet\",\"Chrompet\",\"Chrompet\",\"Chrompet\",\"Chrompet\",\"Chrompet\",\"Chrompet\",\"Chrompet\",\"Chrompet\",\"Chrompet\",\"Chrompet\",\"Chrompet\",\"Chrompet\",\"Chrompet\",\"Chrompet\",\"Chrompet\",\"Chrompet\",\"Chrompet\",\"Chrompet\",\"Chrompet\",\"Chrompet\",\"Chrompet\",\"Chrompet\",\"Chrompet\",\"Chrompet\",\"Chrompet\",\"Chrompet\",\"Chrompet\",\"Chrompet\",\"Chrompet\",\"Chrompet\",\"Chrompet\",\"Chrompet\",\"Chrompet\",\"Chrompet\",\"Chrompet\",\"Chrompet\",\"Chrompet\",\"Chrompet\",\"Chrompet\",\"Chrompet\",\"Chrompet\",\"Chrompet\",\"Chrompet\",\"Chrompet\",\"Chrompet\",\"Chrompet\",\"Chrompet\",\"Chrompet\",\"Chrompet\",\"Chrompet\",\"Chrompet\",\"Chrompet\",\"Chrompet\",\"Chrompet\",\"Chrompet\",\"Chrompet\",\"Chrompet\",\"Chrompet\",\"Chrompet\",\"Chrompet\",\"Chrompet\",\"Chrompet\",\"Chrompet\",\"Chrompet\",\"Chrompet\",\"Chrompet\",\"Chrompet\",\"Chrompet\",\"Chrompet\",\"Chrompet\",\"Chrompet\",\"Chrompet\",\"Chrompet\",\"Chrompet\",\"Chrompet\",\"Chrompet\",\"Chrompet\",\"Chrompet\",\"Chrompet\",\"Chrompet\",\"Chrompet\",\"Chrompet\",\"Chrompet\",\"Chrompet\",\"Chrompet\",\"Chrompet\",\"Chrompet\",\"Chrompet\",\"Chrompet\",\"Chrompet\",\"Chrompet\",\"Chrompet\",\"Chrompet\",\"Chrompet\",\"Chrompet\",\"Chrompet\",\"Chrompet\",\"Chrompet\",\"Chrompet\",\"Chrompet\",\"Chrompet\",\"Chrompet\",\"Chrompet\",\"Chrompet\",\"Chrompet\",\"Chrompet\",\"Chrompet\",\"Chrompet\",\"Chrompet\",\"Chrompet\",\"Chrompet\",\"Chrompet\",\"Chrompet\",\"Chrompet\",\"Chrompet\",\"Chrompet\",\"Chrompet\",\"Chrompet\",\"Chrompet\",\"Chrompet\",\"Chrompet\",\"Chrompet\",\"Chrompet\",\"Chrompet\",\"Chrompet\",\"Chrompet\",\"Chrompet\",\"Chrompet\",\"Chrompet\",\"Chrompet\",\"Chrompet\",\"Chrompet\",\"Chrompet\",\"Chrompet\",\"Chrompet\",\"Chrompet\",\"Chrompet\",\"Chrompet\",\"Chrompet\",\"Chrompet\",\"Chrompet\",\"Chrompet\",\"Chrompet\",\"Chrompet\",\"Chrompet\",\"Chrompet\",\"Chrompet\",\"Chrompet\",\"Chrompet\",\"Chrompet\",\"Chrompet\",\"Chrompet\",\"Chrompet\",\"Chrompet\",\"Chrompet\",\"Chrompet\",\"Chrompet\",\"Chrompet\",\"Chrompet\",\"Chrompet\",\"Chrompet\",\"Chrompet\",\"Chrompet\",\"Chrompet\",\"Chrompet\",\"Chrompet\",\"Chrompet\",\"Chrompet\",\"Chrompet\",\"Chrompet\",\"Chrompet\",\"Chrompet\",\"Chrompet\",\"Chrompet\",\"Chrompet\",\"Chrompet\",\"Chrompet\",\"Chrompet\",\"Chrompet\",\"Chrompet\",\"Chrompet\",\"Chrompet\",\"Chrompet\",\"Chrompet\",\"Chrompet\",\"Chrompet\",\"Chrompet\",\"Chrompet\",\"Chrompet\",\"Chrompet\",\"Chrompet\",\"Chrompet\",\"Chrompet\",\"Chrompet\",\"Chrompet\",\"Chrompet\",\"Chrompet\",\"Chrompet\",\"Chrompet\",\"Chrompet\",\"Chrompet\",\"Chrompet\",\"Chrompet\",\"Chrompet\",\"Chrompet\",\"Chrompet\",\"Chrompet\",\"Chrompet\",\"Chrompet\",\"Chrompet\",\"Chrompet\",\"Chrompet\",\"Chrompet\",\"Chrompet\",\"Chrompet\",\"Chrompet\",\"Chrompet\",\"Chrompet\",\"Chrompet\",\"Chrompet\",\"Chrompet\",\"Chrompet\",\"Chrompet\",\"Chrompet\",\"Chrompet\",\"Chrompet\",\"Chrompet\",\"Chrompet\",\"Chrompet\",\"Chrompet\",\"Chrompet\",\"Chrompet\",\"Chrompet\",\"Chrompet\",\"Chrompet\",\"Chrompet\",\"Chrompet\",\"Chrompet\",\"Chrompet\",\"Chrompet\",\"Chrompet\",\"Chrompet\",\"Chrompet\",\"Chrompet\",\"Chrompet\",\"Chrompet\",\"Chrompet\",\"Chrompet\",\"Chrompet\",\"Chrompet\",\"Chrompet\",\"Chrompet\",\"Chrompet\",\"Chrompet\",\"Chrompet\",\"Chrompet\",\"Chrompet\",\"Chrompet\",\"Chrompet\",\"Chrompet\",\"Chrompet\",\"Chrompet\",\"Chrompet\",\"Chrompet\",\"Chrompet\",\"Chrompet\",\"Chrompet\",\"Chrompet\",\"Chrompet\",\"Chrompet\",\"Chrompet\",\"Chrompet\",\"Chrompet\",\"Chrompet\",\"Chrompet\",\"Chrompet\",\"Chrompet\",\"Chrompet\",\"Chrompet\",\"Chrompet\",\"Chrompet\",\"Chrompet\",\"Chrompet\",\"Chrompet\",\"Chrompet\",\"Chrompet\",\"Chrompet\",\"Chrompet\",\"Chrompet\",\"Chrompet\",\"Chrompet\",\"Chrompet\",\"Chrompet\",\"Chrompet\",\"Chrompet\",\"Chrompet\",\"Chrompet\",\"Chrompet\",\"Chrompet\",\"Chrompet\",\"Chrompet\",\"Chrompet\",\"Chrompet\",\"Chrompet\",\"Chrompet\",\"Chrompet\",\"Chrompet\",\"Chrompet\",\"Chrompet\",\"Chrompet\",\"Chrompet\",\"Chrompet\",\"Chrompet\",\"Chrompet\",\"Chrompet\",\"Chrompet\",\"Chrompet\",\"Chrompet\",\"Chrompet\",\"Chrompet\",\"Chrompet\",\"Chrompet\",\"Chrompet\",\"Chrompet\",\"Chrompet\",\"Chrompet\",\"Chrompet\",\"Chrompet\",\"Chrompet\",\"Chrompet\",\"Chrompet\",\"Chrompet\",\"Chrompet\",\"Chrompet\",\"Chrompet\",\"Chrompet\",\"Chrompet\",\"Chrompet\",\"Chrompet\",\"Chrompet\",\"Chrompet\",\"Chrompet\",\"Chrompet\",\"Chrompet\",\"Chrompet\",\"Chrompet\",\"Chrompet\",\"Chrompet\",\"Chrompet\",\"Chrompet\",\"Chrompet\",\"Chrompet\",\"Chrompet\",\"Chrompet\",\"Chrompet\",\"Chrompet\",\"Chrompet\",\"Chrompet\",\"Chrompet\",\"Chrompet\",\"Chrompet\",\"Chrompet\",\"Chrompet\",\"Chrompet\",\"Chrompet\",\"Chrompet\",\"Chrompet\",\"Chrompet\",\"Chrompet\",\"Chrompet\",\"Chrompet\",\"Chrompet\",\"Chrompet\",\"Chrompet\",\"Chrompet\",\"Chrompet\",\"Chrompet\",\"Chrompet\",\"Chrompet\",\"Chrompet\",\"Chrompet\",\"Chrompet\",\"Chrompet\",\"Chrompet\",\"Chrompet\",\"Chrompet\",\"Chrompet\",\"Chrompet\",\"Chrompet\",\"Chrompet\",\"Chrompet\",\"Chrompet\",\"Chrompet\",\"Chrompet\",\"Chrompet\",\"Chrompet\",\"Chrompet\",\"Chrompet\",\"Chrompet\",\"Chrompet\",\"Chrompet\",\"Chrompet\",\"Chrompet\",\"Chrompet\",\"Chrompet\",\"Chrompet\",\"Chrompet\",\"Chrompet\",\"Chrompet\",\"Chrompet\",\"Chrompet\",\"Chrompet\",\"Chrompet\",\"Chrompet\",\"Chrompet\",\"Chrompet\",\"Chrompet\",\"Chrompet\",\"Chrompet\",\"Chrompet\",\"Chrompet\",\"Chrompet\",\"Chrompet\",\"Chrompet\",\"Chrompet\",\"Chrompet\",\"Chrompet\",\"Chrompet\",\"Chrompet\",\"Chrompet\",\"Chrompet\",\"Chrompet\",\"Chrompet\",\"Chrompet\",\"Chrompet\",\"Chrompet\",\"Chrompet\",\"Chrompet\",\"Chrompet\",\"Chrompet\",\"Chrompet\",\"Chrompet\",\"Chrompet\",\"Chrompet\",\"Chrompet\",\"Chrompet\",\"Chrompet\",\"Chrompet\",\"Chrompet\",\"Chrompet\",\"Chrompet\",\"Chrompet\",\"Chrompet\",\"Chrompet\",\"Chrompet\",\"Chrompet\",\"Chrompet\",\"Chrompet\",\"Chrompet\",\"Chrompet\",\"Chrompet\",\"Chrompet\",\"Chrompet\",\"Chrompet\",\"Chrompet\",\"Chrompet\",\"Chrompet\",\"Chrompet\",\"Chrompet\",\"Chrompet\",\"Chrompet\",\"Chrompet\",\"Chrompet\",\"Chrompet\",\"Chrompet\",\"Chrompet\",\"Chrompet\",\"Chrompet\",\"Chrompet\",\"Chrompet\",\"Chrompet\",\"Chrompet\",\"Chrompet\",\"Chrompet\",\"Chrompet\",\"Chrompet\",\"Chrompet\",\"Chrompet\",\"Chrompet\",\"Chrompet\",\"Chrompet\",\"Chrompet\",\"Chrompet\",\"Chrompet\",\"Chrompet\",\"Chrompet\",\"Chrompet\",\"Chrompet\",\"Chrompet\",\"Chrompet\",\"Chrompet\",\"Chrompet\",\"Chrompet\",\"Chrompet\",\"Chrompet\",\"Chrompet\",\"Chrompet\",\"Chrompet\",\"Chrompet\",\"Chrompet\",\"Chrompet\",\"Chrompet\",\"Chrompet\",\"Chrompet\",\"Chrompet\",\"Chrompet\",\"Chrompet\",\"Chrompet\",\"Chrompet\",\"Chrompet\",\"Chrompet\",\"Chrompet\",\"Chrompet\",\"Chrompet\",\"Chrompet\",\"Chrompet\",\"Chrompet\",\"Chrompet\",\"Chrompet\",\"Chrompet\",\"Chrompet\",\"Chrompet\",\"Chrompet\",\"Chrompet\",\"Chrompet\",\"Chrompet\",\"Chrompet\",\"Chrompet\",\"Chrompet\",\"Chrompet\",\"Chrompet\",\"Chrompet\",\"Chrompet\",\"Chrompet\",\"Chrompet\",\"Chrompet\",\"Chrompet\",\"Chrompet\",\"Chrompet\",\"Chrompet\",\"Chrompet\",\"Chrompet\",\"Chrompet\",\"Chrompet\",\"Chrompet\",\"Chrompet\",\"Chrompet\",\"Chrompet\",\"Chrompet\",\"Chrompet\",\"Chrompet\",\"Chrompet\",\"Chrompet\",\"Chrompet\",\"Chrompet\",\"Chrompet\",\"Chrompet\",\"Chrompet\",\"Chrompet\",\"Chrompet\",\"Chrompet\",\"Chrompet\",\"Chrompet\",\"Chrompet\",\"Chrompet\",\"Chrompet\",\"Chrompet\",\"Chrompet\",\"Chrompet\",\"Chrompet\",\"Chrompet\",\"Chrompet\",\"Chrompet\",\"Chrompet\",\"Chrompet\",\"Chrompet\",\"Chrompet\",\"Chrompet\",\"Chrompet\",\"Chrompet\",\"Chrompet\",\"Chrompet\",\"Chrompet\",\"Chrompet\",\"Chrompet\",\"Chrompet\",\"Chrompet\",\"Chrompet\",\"Chrompet\",\"Chrompet\",\"Chrompet\",\"Chrompet\",\"Chrompet\",\"Chrompet\",\"Chrompet\",\"Chrompet\",\"Chrompet\",\"Chrompet\",\"Chrompet\",\"Chrompet\",\"Chrompet\",\"Chrompet\",\"Chrompet\",\"Chrompet\",\"Chrompet\",\"Chrompet\",\"Chrompet\",\"Chrompet\",\"Chrompet\",\"Chrompet\",\"Chrompet\",\"Chrompet\",\"Chrompet\",\"Chrompet\",\"Chrompet\",\"Chrompet\",\"Chrompet\",\"Chrompet\",\"Chrompet\",\"Chrompet\",\"Chrompet\",\"Chrompet\",\"Chrompet\",\"Chrompet\",\"Chrompet\",\"Chrompet\",\"Chrompet\",\"Chrompet\",\"Chrompet\",\"Chrompet\",\"Chrompet\",\"Chrompet\",\"Chrompet\",\"Chrompet\",\"Chrompet\",\"Chrompet\",\"Chrompet\",\"Chrompet\",\"Chrompet\",\"Chrompet\",\"Chrompet\",\"Chrompet\",\"Chrompet\",\"Chrompet\",\"Chrompet\",\"Chrompet\",\"Chrompet\",\"Chrompet\",\"Chrompet\",\"Chrompet\",\"Chrompet\",\"Chrompet\",\"Chrompet\",\"Chrompet\",\"Chrompet\",\"Chrompet\",\"Chrompet\",\"Chrompet\",\"Chrompet\",\"Chrompet\",\"Chrompet\",\"Chrompet\",\"Chrompet\",\"Chrompet\",\"Chrompet\",\"Chrompet\",\"Chrompet\",\"Chrompet\",\"Chrompet\",\"Chrompet\",\"Chrompet\",\"Chrompet\",\"Chrompet\",\"Chrompet\",\"Chrompet\",\"Chrompet\",\"Chrompet\",\"Chrompet\",\"Chrompet\",\"Chrompet\",\"Chrompet\",\"Chrompet\",\"Chrompet\",\"Chrompet\",\"Chrompet\",\"Chrompet\",\"Chrompet\",\"Chrompet\",\"Chrompet\",\"Chrompet\",\"Chrompet\",\"Chrompet\",\"Chrompet\",\"Chrompet\",\"Chrompet\",\"Chrompet\",\"Chrompet\",\"Chrompet\",\"Chrompet\",\"Chrompet\",\"Chrompet\",\"Chrompet\",\"Chrompet\",\"Chrompet\",\"Chrompet\",\"Chrompet\",\"Chrompet\",\"Chrompet\",\"Chrompet\",\"Chrompet\",\"Chrompet\",\"Chrompet\",\"Chrompet\",\"Chrompet\",\"Chrompet\",\"Chrompet\",\"Chrompet\",\"Chrompet\",\"Chrompet\",\"Chrompet\",\"Chrompet\",\"Chrompet\",\"Chrompet\",\"Chrompet\",\"Chrompet\",\"Chrompet\",\"Chrompet\",\"Chrompet\",\"Chrompet\",\"Chrompet\",\"Chrompet\",\"Chrompet\",\"Chrompet\",\"Chrompet\",\"Chrompet\",\"Chrompet\",\"Chrompet\",\"Chrompet\",\"Chrompet\",\"Chrompet\",\"Chrompet\",\"Chrompet\",\"Chrompet\",\"Chrompet\",\"Chrompet\",\"Chrompet\",\"Chrompet\",\"Chrompet\",\"Chrompet\",\"Chrompet\",\"Chrompet\",\"Chrompet\",\"Chrompet\",\"Chrompet\",\"Chrompet\",\"Chrompet\",\"Chrompet\",\"Chrompet\",\"Chrompet\",\"Chrompet\",\"Chrompet\",\"Chrompet\",\"Chrompet\",\"Chrompet\",\"Chrompet\",\"Chrompet\",\"Chrompet\",\"Chrompet\",\"Chrompet\",\"Chrompet\",\"Chrompet\",\"Chrompet\",\"Chrompet\",\"Chrompet\",\"Chrompet\",\"Chrompet\",\"Chrompet\",\"Chrompet\",\"Chrompet\",\"Chrompet\",\"Chrompet\",\"Chrompet\",\"Chrompet\",\"Chrompet\",\"Chrompet\",\"Chrompet\",\"Chrompet\",\"Chrompet\",\"Chrompet\",\"Chrompet\",\"Chrompet\",\"Chrompet\",\"Chrompet\",\"Chrompet\",\"Chrompet\",\"Chrompet\",\"Chrompet\",\"Chrompet\",\"Chrompet\",\"Chrompet\",\"Chrompet\",\"Chrompet\",\"Chrompet\",\"Chrompet\",\"Chrompet\",\"Chrompet\",\"Chrompet\",\"Chrompet\",\"Chrompet\",\"Chrompet\",\"Chrompet\",\"Chrompet\",\"Chrompet\",\"Chrompet\",\"Chrompet\",\"Chrompet\",\"Chrompet\",\"Chrompet\",\"Chrompet\",\"Chrompet\",\"Chrompet\",\"Chrompet\",\"Chrompet\",\"Chrompet\",\"Chrompet\",\"Chrompet\",\"Chrompet\",\"Chrompet\",\"Chrompet\",\"Chrompet\",\"Chrompet\",\"Chrompet\",\"Chrompet\",\"Chrompet\",\"Chrompet\",\"Chrompet\",\"Chrompet\",\"Chrompet\",\"Chrompet\",\"Chrompet\",\"Chrompet\",\"Chrompet\",\"Chrompet\",\"Chrompet\",\"Chrompet\",\"Chrompet\",\"Chrompet\",\"Chrompet\",\"Chrompet\",\"Chrompet\",\"Chrompet\",\"Chrompet\",\"Chrompet\",\"Chrompet\",\"Chrompet\",\"Chrompet\",\"Chrompet\",\"Chrompet\",\"Chrompet\",\"Chrompet\",\"Chrompet\",\"Chrompet\",\"Chrompet\",\"Chrompet\",\"Chrompet\",\"Chrompet\",\"Chrompet\",\"Chrompet\",\"Chrompet\",\"Chrompet\",\"Chrompet\",\"Chrompet\",\"Chrompet\",\"Chrompet\",\"Chrompet\",\"Chrompet\",\"Chrompet\",\"Chrompet\",\"Chrompet\",\"Chrompet\",\"Chrompet\",\"Chrompet\",\"Chrompet\",\"Chrompet\",\"Chrompet\",\"Chrompet\",\"Chrompet\",\"Chrompet\",\"Chrompet\",\"Chrompet\",\"Chrompet\",\"Chrompet\",\"Chrompet\",\"Chrompet\",\"Chrompet\",\"Chrompet\",\"Chrompet\",\"Chrompet\",\"Chrompet\",\"Chrompet\",\"Chrompet\",\"Chrompet\",\"Chrompet\",\"Chrompet\",\"Chrompet\",\"Chrompet\",\"Chrompet\",\"Chrompet\",\"Chrompet\",\"Chrompet\",\"Chrompet\",\"Chrompet\",\"Chrompet\",\"Chrompet\",\"Chrompet\",\"Chrompet\",\"Chrompet\",\"Chrompet\",\"Chrompet\",\"Chrompet\",\"Chrompet\",\"Chrompet\",\"Chrompet\",\"Chrompet\",\"Chrompet\",\"Chrompet\",\"Chrompet\",\"Chrompet\",\"Chrompet\",\"Chrompet\",\"Chrompet\",\"Chrompet\",\"Chrompet\",\"Chrompet\",\"Chrompet\",\"Chrompet\",\"Chrompet\",\"Chrompet\",\"Chrompet\",\"Chrompet\",\"Chrompet\",\"Chrompet\",\"Chrompet\",\"Chrompet\",\"Chrompet\",\"Chrompet\",\"Chrompet\",\"Chrompet\",\"Chrompet\",\"Chrompet\",\"Chrompet\",\"Chrompet\",\"Chrompet\",\"Chrompet\",\"Chrompet\",\"Chrompet\",\"Chrompet\",\"Chrompet\",\"Chrompet\",\"Chrompet\",\"Chrompet\",\"Chrompet\",\"Chrompet\",\"Chrompet\",\"Chrompet\",\"Chrompet\",\"Chrompet\",\"Chrompet\",\"Chrompet\",\"Chrompet\",\"Chrompet\",\"Chrompet\",\"Chrompet\",\"Chrompet\",\"Chrompet\",\"Chrompet\",\"Chrompet\",\"Chrompet\",\"Chrompet\",\"Chrompet\",\"Chrompet\",\"Chrompet\",\"Chrompet\",\"Chrompet\",\"Chrompet\",\"Chrompet\",\"Chrompet\",\"Chrompet\",\"Chrompet\",\"Chrompet\",\"Chrompet\",\"Chrompet\",\"Chrompet\",\"Chrompet\",\"Chrompet\",\"Chrompet\",\"Chrompet\",\"Chrompet\",\"Chrompet\",\"Chrompet\",\"Chrompet\",\"Chrompet\",\"Chrompet\",\"Chrompet\",\"Chrompet\",\"Chrompet\",\"Chrompet\",\"Chrompet\",\"Chrompet\",\"Chrompet\",\"Chrompet\",\"Chrompet\",\"Chrompet\",\"Chrompet\",\"Chrompet\",\"Chrompet\",\"Chrompet\",\"Chrompet\",\"Chrompet\",\"Chrompet\",\"Chrompet\",\"Chrompet\",\"Chrompet\",\"Chrompet\",\"Chrompet\",\"Chrompet\",\"Chrompet\",\"Chrompet\",\"Chrompet\",\"Chrompet\",\"Chrompet\",\"Chrompet\",\"Chrompet\",\"Chrompet\",\"Chrompet\",\"Chrompet\",\"Chrompet\",\"Chrompet\",\"Chrompet\",\"Chrompet\",\"Chrompet\",\"Chrompet\",\"Chrompet\",\"Chrompet\",\"Chrompet\",\"Chrompet\",\"Chrompet\",\"Chrompet\",\"Chrompet\",\"Chrompet\",\"Chrompet\",\"Chrompet\",\"Chrompet\",\"Chrompet\",\"Chrompet\",\"Chrompet\",\"Chrompet\",\"Chrompet\",\"Chrompet\",\"Chrompet\",\"Chrompet\",\"Chrompet\",\"Chrompet\",\"Chrompet\",\"Chrompet\",\"Chrompet\",\"Chrompet\",\"Chrompet\",\"Chrompet\",\"Chrompet\",\"Chrompet\",\"Chrompet\",\"Chrompet\",\"Chrompet\",\"Chrompet\",\"Chrompet\",\"Chrompet\",\"Chrompet\",\"Chrompet\",\"Chrompet\",\"Chrompet\",\"Chrompet\",\"Chrompet\",\"Chrompet\",\"Chrompet\",\"Chrompet\",\"Chrompet\",\"Chrompet\",\"Chrompet\",\"Chrompet\",\"Chrompet\",\"Chrompet\",\"Chrompet\",\"Chrompet\",\"Chrompet\",\"Chrompet\",\"Chrompet\",\"Chrompet\",\"Chrompet\",\"Chrompet\",\"Chrompet\",\"Chrompet\",\"Chrompet\",\"Chrompet\",\"Chrompet\",\"Chrompet\",\"Chrompet\",\"Chrompet\",\"Chrompet\",\"Chrompet\",\"Chrompet\",\"Chrompet\",\"Chrompet\",\"Chrompet\",\"Chrompet\",\"Chrompet\",\"Chrompet\",\"Chrompet\",\"Chrompet\",\"Chrompet\",\"Chrompet\",\"Chrompet\",\"Chrompet\",\"Chrompet\",\"Chrompet\",\"Chrompet\",\"Chrompet\",\"Chrompet\",\"Chrompet\",\"Chrompet\",\"Chrompet\",\"Chrompet\",\"Chrompet\",\"Chrompet\",\"Chrompet\",\"Chrompet\",\"Chrompet\",\"Chrompet\",\"Chrompet\",\"Chrompet\",\"Chrompet\",\"Chrompet\",\"Chrompet\",\"Chrompet\",\"Chrompet\",\"Chrompet\",\"Chrompet\",\"Chrompet\",\"Chrompet\",\"Chrompet\",\"Chrompet\",\"Chrompet\",\"Chrompet\",\"Chrompet\",\"Chrompet\",\"Chrompet\",\"Chrompet\",\"Chrompet\",\"Chrompet\",\"Chrompet\",\"Chrompet\",\"Chrompet\",\"Chrompet\",\"Chrompet\",\"Chrompet\",\"Chrompet\",\"Chrompet\",\"Chrompet\",\"Chrompet\",\"Chrompet\",\"Chrompet\",\"Chrompet\",\"Chrompet\",\"Chrompet\",\"Chrompet\",\"Chrompet\",\"Chrompet\",\"Chrompet\",\"Chrompet\",\"Chrompet\",\"Chrompet\",\"Chrompet\",\"Chrompet\",\"Chrompet\",\"Chrompet\",\"Chrompet\",\"Chrompet\",\"Chrompet\",\"Chrompet\",\"Chrompet\",\"Chrompet\",\"Chrompet\",\"Chrompet\",\"Chrompet\",\"Chrompet\",\"Chrompet\",\"Chrompet\",\"Chrompet\",\"Chrompet\",\"Chrompet\",\"Chrompet\",\"Chrompet\",\"Chrompet\",\"Chrompet\",\"Chrompet\",\"Chrompet\",\"Chrompet\",\"Chrompet\",\"Chrompet\",\"Chrompet\",\"Chrompet\",\"Chrompet\",\"Chrompet\",\"Chrompet\",\"Chrompet\",\"Chrompet\",\"Chrompet\",\"Chrompet\",\"Chrompet\",\"Chrompet\",\"Chrompet\",\"Chrompet\",\"Chrompet\",\"Chrompet\",\"Chrompet\",\"Chrompet\",\"Chrompet\",\"Chrompet\",\"Chrompet\",\"Chrompet\",\"Chrompet\",\"Chrompet\",\"Chrompet\",\"Chrompet\",\"Chrompet\",\"Chrompet\",\"Chrompet\",\"Chrompet\",\"Chrompet\",\"Chrompet\",\"Chrompet\",\"Chrompet\",\"Chrompet\",\"Chrompet\",\"Chrompet\",\"Chrompet\",\"Chrompet\",\"Chrompet\",\"Chrompet\",\"Chrompet\",\"Chrompet\"],\"xaxis\":\"x\",\"yaxis\":\"y\",\"type\":\"histogram\"},{\"alignmentgroup\":\"True\",\"bingroup\":\"x\",\"hovertemplate\":\"AREA=%{x}<br>count=%{y}<extra></extra>\",\"legendgroup\":\"KK Nagar\",\"marker\":{\"color\":\"#19d3f3\",\"pattern\":{\"shape\":\"\"}},\"name\":\"KK Nagar\",\"offsetgroup\":\"KK Nagar\",\"orientation\":\"v\",\"showlegend\":true,\"x\":[\"KK Nagar\",\"KK Nagar\",\"KK Nagar\",\"KK Nagar\",\"KK Nagar\",\"KK Nagar\",\"KK Nagar\",\"KK Nagar\",\"KK Nagar\",\"KK Nagar\",\"KK Nagar\",\"KK Nagar\",\"KK Nagar\",\"KK Nagar\",\"KK Nagar\",\"KK Nagar\",\"KK Nagar\",\"KK Nagar\",\"KK Nagar\",\"KK Nagar\",\"KK Nagar\",\"KK Nagar\",\"KK Nagar\",\"KK Nagar\",\"KK Nagar\",\"KK Nagar\",\"KK Nagar\",\"KK Nagar\",\"KK Nagar\",\"KK Nagar\",\"KK Nagar\",\"KK Nagar\",\"KK Nagar\",\"KK Nagar\",\"KK Nagar\",\"KK Nagar\",\"KK Nagar\",\"KK Nagar\",\"KK Nagar\",\"KK Nagar\",\"KK Nagar\",\"KK Nagar\",\"KK Nagar\",\"KK Nagar\",\"KK Nagar\",\"KK Nagar\",\"KK Nagar\",\"KK Nagar\",\"KK Nagar\",\"KK Nagar\",\"KK Nagar\",\"KK Nagar\",\"KK Nagar\",\"KK Nagar\",\"KK Nagar\",\"KK Nagar\",\"KK Nagar\",\"KK Nagar\",\"KK Nagar\",\"KK Nagar\",\"KK Nagar\",\"KK Nagar\",\"KK Nagar\",\"KK Nagar\",\"KK Nagar\",\"KK Nagar\",\"KK Nagar\",\"KK Nagar\",\"KK Nagar\",\"KK Nagar\",\"KK Nagar\",\"KK Nagar\",\"KK Nagar\",\"KK Nagar\",\"KK Nagar\",\"KK Nagar\",\"KK Nagar\",\"KK Nagar\",\"KK Nagar\",\"KK Nagar\",\"KK Nagar\",\"KK Nagar\",\"KK Nagar\",\"KK Nagar\",\"KK Nagar\",\"KK Nagar\",\"KK Nagar\",\"KK Nagar\",\"KK Nagar\",\"KK Nagar\",\"KK Nagar\",\"KK Nagar\",\"KK Nagar\",\"KK Nagar\",\"KK Nagar\",\"KK Nagar\",\"KK Nagar\",\"KK Nagar\",\"KK Nagar\",\"KK Nagar\",\"KK Nagar\",\"KK Nagar\",\"KK Nagar\",\"KK Nagar\",\"KK Nagar\",\"KK Nagar\",\"KK Nagar\",\"KK Nagar\",\"KK Nagar\",\"KK Nagar\",\"KK Nagar\",\"KK Nagar\",\"KK Nagar\",\"KK Nagar\",\"KK Nagar\",\"KK Nagar\",\"KK Nagar\",\"KK Nagar\",\"KK Nagar\",\"KK Nagar\",\"KK Nagar\",\"KK Nagar\",\"KK Nagar\",\"KK Nagar\",\"KK Nagar\",\"KK Nagar\",\"KK Nagar\",\"KK Nagar\",\"KK Nagar\",\"KK Nagar\",\"KK Nagar\",\"KK Nagar\",\"KK Nagar\",\"KK Nagar\",\"KK Nagar\",\"KK Nagar\",\"KK Nagar\",\"KK Nagar\",\"KK Nagar\",\"KK Nagar\",\"KK Nagar\",\"KK Nagar\",\"KK Nagar\",\"KK Nagar\",\"KK Nagar\",\"KK Nagar\",\"KK Nagar\",\"KK Nagar\",\"KK Nagar\",\"KK Nagar\",\"KK Nagar\",\"KK Nagar\",\"KK Nagar\",\"KK Nagar\",\"KK Nagar\",\"KK Nagar\",\"KK Nagar\",\"KK Nagar\",\"KK Nagar\",\"KK Nagar\",\"KK Nagar\",\"KK Nagar\",\"KK Nagar\",\"KK Nagar\",\"KK Nagar\",\"KK Nagar\",\"KK Nagar\",\"KK Nagar\",\"KK Nagar\",\"KK Nagar\",\"KK Nagar\",\"KK Nagar\",\"KK Nagar\",\"KK Nagar\",\"KK Nagar\",\"KK Nagar\",\"KK Nagar\",\"KK Nagar\",\"KK Nagar\",\"KK Nagar\",\"KK Nagar\",\"KK Nagar\",\"KK Nagar\",\"KK Nagar\",\"KK Nagar\",\"KK Nagar\",\"KK Nagar\",\"KK Nagar\",\"KK Nagar\",\"KK Nagar\",\"KK Nagar\",\"KK Nagar\",\"KK Nagar\",\"KK Nagar\",\"KK Nagar\",\"KK Nagar\",\"KK Nagar\",\"KK Nagar\",\"KK Nagar\",\"KK Nagar\",\"KK Nagar\",\"KK Nagar\",\"KK Nagar\",\"KK Nagar\",\"KK Nagar\",\"KK Nagar\",\"KK Nagar\",\"KK Nagar\",\"KK Nagar\",\"KK Nagar\",\"KK Nagar\",\"KK Nagar\",\"KK Nagar\",\"KK Nagar\",\"KK Nagar\",\"KK Nagar\",\"KK Nagar\",\"KK Nagar\",\"KK Nagar\",\"KK Nagar\",\"KK Nagar\",\"KK Nagar\",\"KK Nagar\",\"KK Nagar\",\"KK Nagar\",\"KK Nagar\",\"KK Nagar\",\"KK Nagar\",\"KK Nagar\",\"KK Nagar\",\"KK Nagar\",\"KK Nagar\",\"KK Nagar\",\"KK Nagar\",\"KK Nagar\",\"KK Nagar\",\"KK Nagar\",\"KK Nagar\",\"KK Nagar\",\"KK Nagar\",\"KK Nagar\",\"KK Nagar\",\"KK Nagar\",\"KK Nagar\",\"KK Nagar\",\"KK Nagar\",\"KK Nagar\",\"KK Nagar\",\"KK Nagar\",\"KK Nagar\",\"KK Nagar\",\"KK Nagar\",\"KK Nagar\",\"KK Nagar\",\"KK Nagar\",\"KK Nagar\",\"KK Nagar\",\"KK Nagar\",\"KK Nagar\",\"KK Nagar\",\"KK Nagar\",\"KK Nagar\",\"KK Nagar\",\"KK Nagar\",\"KK Nagar\",\"KK Nagar\",\"KK Nagar\",\"KK Nagar\",\"KK Nagar\",\"KK Nagar\",\"KK Nagar\",\"KK Nagar\",\"KK Nagar\",\"KK Nagar\",\"KK Nagar\",\"KK Nagar\",\"KK Nagar\",\"KK Nagar\",\"KK Nagar\",\"KK Nagar\",\"KK Nagar\",\"KK Nagar\",\"KK Nagar\",\"KK Nagar\",\"KK Nagar\",\"KK Nagar\",\"KK Nagar\",\"KK Nagar\",\"KK Nagar\",\"KK Nagar\",\"KK Nagar\",\"KK Nagar\",\"KK Nagar\",\"KK Nagar\",\"KK Nagar\",\"KK Nagar\",\"KK Nagar\",\"KK Nagar\",\"KK Nagar\",\"KK Nagar\",\"KK Nagar\",\"KK Nagar\",\"KK Nagar\",\"KK Nagar\",\"KK Nagar\",\"KK Nagar\",\"KK Nagar\",\"KK Nagar\",\"KK Nagar\",\"KK Nagar\",\"KK Nagar\",\"KK Nagar\",\"KK Nagar\",\"KK Nagar\",\"KK Nagar\",\"KK Nagar\",\"KK Nagar\",\"KK Nagar\",\"KK Nagar\",\"KK Nagar\",\"KK Nagar\",\"KK Nagar\",\"KK Nagar\",\"KK Nagar\",\"KK Nagar\",\"KK Nagar\",\"KK Nagar\",\"KK Nagar\",\"KK Nagar\",\"KK Nagar\",\"KK Nagar\",\"KK Nagar\",\"KK Nagar\",\"KK Nagar\",\"KK Nagar\",\"KK Nagar\",\"KK Nagar\",\"KK Nagar\",\"KK Nagar\",\"KK Nagar\",\"KK Nagar\",\"KK Nagar\",\"KK Nagar\",\"KK Nagar\",\"KK Nagar\",\"KK Nagar\",\"KK Nagar\",\"KK Nagar\",\"KK Nagar\",\"KK Nagar\",\"KK Nagar\",\"KK Nagar\",\"KK Nagar\",\"KK Nagar\",\"KK Nagar\",\"KK Nagar\",\"KK Nagar\",\"KK Nagar\",\"KK Nagar\",\"KK Nagar\",\"KK Nagar\",\"KK Nagar\",\"KK Nagar\",\"KK Nagar\",\"KK Nagar\",\"KK Nagar\",\"KK Nagar\",\"KK Nagar\",\"KK Nagar\",\"KK Nagar\",\"KK Nagar\",\"KK Nagar\",\"KK Nagar\",\"KK Nagar\",\"KK Nagar\",\"KK Nagar\",\"KK Nagar\",\"KK Nagar\",\"KK Nagar\",\"KK Nagar\",\"KK Nagar\",\"KK Nagar\",\"KK Nagar\",\"KK Nagar\",\"KK Nagar\",\"KK Nagar\",\"KK Nagar\",\"KK Nagar\",\"KK Nagar\",\"KK Nagar\",\"KK Nagar\",\"KK Nagar\",\"KK Nagar\",\"KK Nagar\",\"KK Nagar\",\"KK Nagar\",\"KK Nagar\",\"KK Nagar\",\"KK Nagar\",\"KK Nagar\",\"KK Nagar\",\"KK Nagar\",\"KK Nagar\",\"KK Nagar\",\"KK Nagar\",\"KK Nagar\",\"KK Nagar\",\"KK Nagar\",\"KK Nagar\",\"KK Nagar\",\"KK Nagar\",\"KK Nagar\",\"KK Nagar\",\"KK Nagar\",\"KK Nagar\",\"KK Nagar\",\"KK Nagar\",\"KK Nagar\",\"KK Nagar\",\"KK Nagar\",\"KK Nagar\",\"KK Nagar\",\"KK Nagar\",\"KK Nagar\",\"KK Nagar\",\"KK Nagar\",\"KK Nagar\",\"KK Nagar\",\"KK Nagar\",\"KK Nagar\",\"KK Nagar\",\"KK Nagar\",\"KK Nagar\",\"KK Nagar\",\"KK Nagar\",\"KK Nagar\",\"KK Nagar\",\"KK Nagar\",\"KK Nagar\",\"KK Nagar\",\"KK Nagar\",\"KK Nagar\",\"KK Nagar\",\"KK Nagar\",\"KK Nagar\",\"KK Nagar\",\"KK Nagar\",\"KK Nagar\",\"KK Nagar\",\"KK Nagar\",\"KK Nagar\",\"KK Nagar\",\"KK Nagar\",\"KK Nagar\",\"KK Nagar\",\"KK Nagar\",\"KK Nagar\",\"KK Nagar\",\"KK Nagar\",\"KK Nagar\",\"KK Nagar\",\"KK Nagar\",\"KK Nagar\",\"KK Nagar\",\"KK Nagar\",\"KK Nagar\",\"KK Nagar\",\"KK Nagar\",\"KK Nagar\",\"KK Nagar\",\"KK Nagar\",\"KK Nagar\",\"KK Nagar\",\"KK Nagar\",\"KK Nagar\",\"KK Nagar\",\"KK Nagar\",\"KK Nagar\",\"KK Nagar\",\"KK Nagar\",\"KK Nagar\",\"KK Nagar\",\"KK Nagar\",\"KK Nagar\",\"KK Nagar\",\"KK Nagar\",\"KK Nagar\",\"KK Nagar\",\"KK Nagar\",\"KK Nagar\",\"KK Nagar\",\"KK Nagar\",\"KK Nagar\",\"KK Nagar\",\"KK Nagar\",\"KK Nagar\",\"KK Nagar\",\"KK Nagar\",\"KK Nagar\",\"KK Nagar\",\"KK Nagar\",\"KK Nagar\",\"KK Nagar\",\"KK Nagar\",\"KK Nagar\",\"KK Nagar\",\"KK Nagar\",\"KK Nagar\",\"KK Nagar\",\"KK Nagar\",\"KK Nagar\",\"KK Nagar\",\"KK Nagar\",\"KK Nagar\",\"KK Nagar\",\"KK Nagar\",\"KK Nagar\",\"KK Nagar\",\"KK Nagar\",\"KK Nagar\",\"KK Nagar\",\"KK Nagar\",\"KK Nagar\",\"KK Nagar\",\"KK Nagar\",\"KK Nagar\",\"KK Nagar\",\"KK Nagar\",\"KK Nagar\",\"KK Nagar\",\"KK Nagar\",\"KK Nagar\",\"KK Nagar\",\"KK Nagar\",\"KK Nagar\",\"KK Nagar\",\"KK Nagar\",\"KK Nagar\",\"KK Nagar\",\"KK Nagar\",\"KK Nagar\",\"KK Nagar\",\"KK Nagar\",\"KK Nagar\",\"KK Nagar\",\"KK Nagar\",\"KK Nagar\",\"KK Nagar\",\"KK Nagar\",\"KK Nagar\",\"KK Nagar\",\"KK Nagar\",\"KK Nagar\",\"KK Nagar\",\"KK Nagar\",\"KK Nagar\",\"KK Nagar\",\"KK Nagar\",\"KK Nagar\",\"KK Nagar\",\"KK Nagar\",\"KK Nagar\",\"KK Nagar\",\"KK Nagar\",\"KK Nagar\",\"KK Nagar\",\"KK Nagar\",\"KK Nagar\",\"KK Nagar\",\"KK Nagar\",\"KK Nagar\",\"KK Nagar\",\"KK Nagar\",\"KK Nagar\",\"KK Nagar\",\"KK Nagar\",\"KK Nagar\",\"KK Nagar\",\"KK Nagar\",\"KK Nagar\",\"KK Nagar\",\"KK Nagar\",\"KK Nagar\",\"KK Nagar\",\"KK Nagar\",\"KK Nagar\",\"KK Nagar\",\"KK Nagar\",\"KK Nagar\",\"KK Nagar\",\"KK Nagar\",\"KK Nagar\",\"KK Nagar\",\"KK Nagar\",\"KK Nagar\",\"KK Nagar\",\"KK Nagar\",\"KK Nagar\",\"KK Nagar\",\"KK Nagar\",\"KK Nagar\",\"KK Nagar\",\"KK Nagar\",\"KK Nagar\",\"KK Nagar\",\"KK Nagar\",\"KK Nagar\",\"KK Nagar\",\"KK Nagar\",\"KK Nagar\",\"KK Nagar\",\"KK Nagar\",\"KK Nagar\",\"KK Nagar\",\"KK Nagar\",\"KK Nagar\",\"KK Nagar\",\"KK Nagar\",\"KK Nagar\",\"KK Nagar\",\"KK Nagar\",\"KK Nagar\",\"KK Nagar\",\"KK Nagar\",\"KK Nagar\",\"KK Nagar\",\"KK Nagar\",\"KK Nagar\",\"KK Nagar\",\"KK Nagar\",\"KK Nagar\",\"KK Nagar\",\"KK Nagar\",\"KK Nagar\",\"KK Nagar\",\"KK Nagar\",\"KK Nagar\",\"KK Nagar\",\"KK Nagar\",\"KK Nagar\",\"KK Nagar\",\"KK Nagar\",\"KK Nagar\",\"KK Nagar\",\"KK Nagar\",\"KK Nagar\",\"KK Nagar\",\"KK Nagar\",\"KK Nagar\",\"KK Nagar\",\"KK Nagar\",\"KK Nagar\",\"KK Nagar\",\"KK Nagar\",\"KK Nagar\",\"KK Nagar\",\"KK Nagar\",\"KK Nagar\",\"KK Nagar\",\"KK Nagar\",\"KK Nagar\",\"KK Nagar\",\"KK Nagar\",\"KK Nagar\",\"KK Nagar\",\"KK Nagar\",\"KK Nagar\",\"KK Nagar\",\"KK Nagar\",\"KK Nagar\",\"KK Nagar\",\"KK Nagar\",\"KK Nagar\",\"KK Nagar\",\"KK Nagar\",\"KK Nagar\",\"KK Nagar\",\"KK Nagar\",\"KK Nagar\",\"KK Nagar\",\"KK Nagar\",\"KK Nagar\",\"KK Nagar\",\"KK Nagar\",\"KK Nagar\",\"KK Nagar\",\"KK Nagar\",\"KK Nagar\",\"KK Nagar\",\"KK Nagar\",\"KK Nagar\",\"KK Nagar\",\"KK Nagar\",\"KK Nagar\",\"KK Nagar\",\"KK Nagar\",\"KK Nagar\",\"KK Nagar\",\"KK Nagar\",\"KK Nagar\",\"KK Nagar\",\"KK Nagar\",\"KK Nagar\",\"KK Nagar\",\"KK Nagar\",\"KK Nagar\",\"KK Nagar\",\"KK Nagar\",\"KK Nagar\",\"KK Nagar\",\"KK Nagar\",\"KK Nagar\",\"KK Nagar\",\"KK Nagar\",\"KK Nagar\",\"KK Nagar\",\"KK Nagar\",\"KK Nagar\",\"KK Nagar\",\"KK Nagar\",\"KK Nagar\",\"KK Nagar\",\"KK Nagar\",\"KK Nagar\",\"KK Nagar\",\"KK Nagar\",\"KK Nagar\",\"KK Nagar\",\"KK Nagar\",\"KK Nagar\",\"KK Nagar\",\"KK Nagar\",\"KK Nagar\",\"KK Nagar\",\"KK Nagar\",\"KK Nagar\",\"KK Nagar\",\"KK Nagar\",\"KK Nagar\",\"KK Nagar\",\"KK Nagar\",\"KK Nagar\",\"KK Nagar\",\"KK Nagar\",\"KK Nagar\",\"KK Nagar\",\"KK Nagar\",\"KK Nagar\",\"KK Nagar\",\"KK Nagar\",\"KK Nagar\",\"KK Nagar\",\"KK Nagar\",\"KK Nagar\",\"KK Nagar\",\"KK Nagar\",\"KK Nagar\",\"KK Nagar\",\"KK Nagar\",\"KK Nagar\",\"KK Nagar\",\"KK Nagar\",\"KK Nagar\",\"KK Nagar\",\"KK Nagar\",\"KK Nagar\",\"KK Nagar\",\"KK Nagar\",\"KK Nagar\",\"KK Nagar\",\"KK Nagar\",\"KK Nagar\",\"KK Nagar\",\"KK Nagar\",\"KK Nagar\",\"KK Nagar\",\"KK Nagar\",\"KK Nagar\",\"KK Nagar\",\"KK Nagar\",\"KK Nagar\",\"KK Nagar\",\"KK Nagar\",\"KK Nagar\",\"KK Nagar\",\"KK Nagar\",\"KK Nagar\",\"KK Nagar\",\"KK Nagar\",\"KK Nagar\",\"KK Nagar\",\"KK Nagar\",\"KK Nagar\",\"KK Nagar\",\"KK Nagar\",\"KK Nagar\",\"KK Nagar\",\"KK Nagar\",\"KK Nagar\",\"KK Nagar\",\"KK Nagar\",\"KK Nagar\",\"KK Nagar\",\"KK Nagar\",\"KK Nagar\",\"KK Nagar\",\"KK Nagar\",\"KK Nagar\",\"KK Nagar\",\"KK Nagar\",\"KK Nagar\",\"KK Nagar\",\"KK Nagar\",\"KK Nagar\",\"KK Nagar\",\"KK Nagar\",\"KK Nagar\",\"KK Nagar\",\"KK Nagar\",\"KK Nagar\",\"KK Nagar\",\"KK Nagar\",\"KK Nagar\",\"KK Nagar\",\"KK Nagar\",\"KK Nagar\",\"KK Nagar\",\"KK Nagar\",\"KK Nagar\",\"KK Nagar\",\"KK Nagar\",\"KK Nagar\",\"KK Nagar\",\"KK Nagar\",\"KK Nagar\",\"KK Nagar\",\"KK Nagar\",\"KK Nagar\",\"KK Nagar\",\"KK Nagar\",\"KK Nagar\",\"KK Nagar\",\"KK Nagar\",\"KK Nagar\",\"KK Nagar\",\"KK Nagar\",\"KK Nagar\",\"KK Nagar\",\"KK Nagar\",\"KK Nagar\",\"KK Nagar\",\"KK Nagar\",\"KK Nagar\",\"KK Nagar\",\"KK Nagar\",\"KK Nagar\",\"KK Nagar\",\"KK Nagar\",\"KK Nagar\",\"KK Nagar\",\"KK Nagar\",\"KK Nagar\",\"KK Nagar\",\"KK Nagar\",\"KK Nagar\",\"KK Nagar\",\"KK Nagar\",\"KK Nagar\",\"KK Nagar\",\"KK Nagar\",\"KK Nagar\",\"KK Nagar\",\"KK Nagar\",\"KK Nagar\",\"KK Nagar\",\"KK Nagar\",\"KK Nagar\",\"KK Nagar\",\"KK Nagar\",\"KK Nagar\",\"KK Nagar\",\"KK Nagar\",\"KK Nagar\",\"KK Nagar\",\"KK Nagar\",\"KK Nagar\",\"KK Nagar\",\"KK Nagar\",\"KK Nagar\",\"KK Nagar\",\"KK Nagar\",\"KK Nagar\",\"KK Nagar\",\"KK Nagar\",\"KK Nagar\",\"KK Nagar\",\"KK Nagar\",\"KK Nagar\",\"KK Nagar\",\"KK Nagar\",\"KK Nagar\",\"KK Nagar\",\"KK Nagar\",\"KK Nagar\",\"KK Nagar\",\"KK Nagar\",\"KK Nagar\",\"KK Nagar\",\"KK Nagar\",\"KK Nagar\",\"KK Nagar\",\"KK Nagar\",\"KK Nagar\",\"KK Nagar\",\"KK Nagar\",\"KK Nagar\",\"KK Nagar\",\"KK Nagar\",\"KK Nagar\",\"KK Nagar\",\"KK Nagar\",\"KK Nagar\",\"KK Nagar\",\"KK Nagar\",\"KK Nagar\",\"KK Nagar\",\"KK Nagar\",\"KK Nagar\",\"KK Nagar\",\"KK Nagar\",\"KK Nagar\",\"KK Nagar\",\"KK Nagar\",\"KK Nagar\",\"KK Nagar\",\"KK Nagar\",\"KK Nagar\",\"KK Nagar\",\"KK Nagar\",\"KK Nagar\",\"KK Nagar\",\"KK Nagar\",\"KK Nagar\",\"KK Nagar\",\"KK Nagar\",\"KK Nagar\",\"KK Nagar\",\"KK Nagar\",\"KK Nagar\",\"KK Nagar\",\"KK Nagar\",\"KK Nagar\",\"KK Nagar\",\"KK Nagar\",\"KK Nagar\",\"KK Nagar\",\"KK Nagar\",\"KK Nagar\",\"KK Nagar\",\"KK Nagar\",\"KK Nagar\",\"KK Nagar\",\"KK Nagar\",\"KK Nagar\",\"KK Nagar\",\"KK Nagar\",\"KK Nagar\",\"KK Nagar\",\"KK Nagar\",\"KK Nagar\",\"KK Nagar\",\"KK Nagar\",\"KK Nagar\",\"KK Nagar\",\"KK Nagar\",\"KK Nagar\",\"KK Nagar\",\"KK Nagar\",\"KK Nagar\",\"KK Nagar\",\"KK Nagar\",\"KK Nagar\",\"KK Nagar\",\"KK Nagar\",\"KK Nagar\",\"KK Nagar\",\"KK Nagar\",\"KK Nagar\",\"KK Nagar\",\"KK Nagar\"],\"xaxis\":\"x\",\"yaxis\":\"y\",\"type\":\"histogram\"},{\"alignmentgroup\":\"True\",\"bingroup\":\"x\",\"hovertemplate\":\"AREA=%{x}<br>count=%{y}<extra></extra>\",\"legendgroup\":\"T Nagar\",\"marker\":{\"color\":\"#FF6692\",\"pattern\":{\"shape\":\"\"}},\"name\":\"T Nagar\",\"offsetgroup\":\"T Nagar\",\"orientation\":\"v\",\"showlegend\":true,\"x\":[\"T Nagar\",\"T Nagar\",\"T Nagar\",\"T Nagar\",\"T Nagar\",\"T Nagar\",\"T Nagar\",\"T Nagar\",\"T Nagar\",\"T Nagar\",\"T Nagar\",\"T Nagar\",\"T Nagar\",\"T Nagar\",\"T Nagar\",\"T Nagar\",\"T Nagar\",\"T Nagar\",\"T Nagar\",\"T Nagar\",\"T Nagar\",\"T Nagar\",\"T Nagar\",\"T Nagar\",\"T Nagar\",\"T Nagar\",\"T Nagar\",\"T Nagar\",\"T Nagar\",\"T Nagar\",\"T Nagar\",\"T Nagar\",\"T Nagar\",\"T Nagar\",\"T Nagar\",\"T Nagar\",\"T Nagar\",\"T Nagar\",\"T Nagar\",\"T Nagar\",\"T Nagar\",\"T Nagar\",\"T Nagar\",\"T Nagar\",\"T Nagar\",\"T Nagar\",\"T Nagar\",\"T Nagar\",\"T Nagar\",\"T Nagar\",\"T Nagar\",\"T Nagar\",\"T Nagar\",\"T Nagar\",\"T Nagar\",\"T Nagar\",\"T Nagar\",\"T Nagar\",\"T Nagar\",\"T Nagar\",\"T Nagar\",\"T Nagar\",\"T Nagar\",\"T Nagar\",\"T Nagar\",\"T Nagar\",\"T Nagar\",\"T Nagar\",\"T Nagar\",\"T Nagar\",\"T Nagar\",\"T Nagar\",\"T Nagar\",\"T Nagar\",\"T Nagar\",\"T Nagar\",\"T Nagar\",\"T Nagar\",\"T Nagar\",\"T Nagar\",\"T Nagar\",\"T Nagar\",\"T Nagar\",\"T Nagar\",\"T Nagar\",\"T Nagar\",\"T Nagar\",\"T Nagar\",\"T Nagar\",\"T Nagar\",\"T Nagar\",\"T Nagar\",\"T Nagar\",\"T Nagar\",\"T Nagar\",\"T Nagar\",\"T Nagar\",\"T Nagar\",\"T Nagar\",\"T Nagar\",\"T Nagar\",\"T Nagar\",\"T Nagar\",\"T Nagar\",\"T Nagar\",\"T Nagar\",\"T Nagar\",\"T Nagar\",\"T Nagar\",\"T Nagar\",\"T Nagar\",\"T Nagar\",\"T Nagar\",\"T Nagar\",\"T Nagar\",\"T Nagar\",\"T Nagar\",\"T Nagar\",\"T Nagar\",\"T Nagar\",\"T Nagar\",\"T Nagar\",\"T Nagar\",\"T Nagar\",\"T Nagar\",\"T Nagar\",\"T Nagar\",\"T Nagar\",\"T Nagar\",\"T Nagar\",\"T Nagar\",\"T Nagar\",\"T Nagar\",\"T Nagar\",\"T Nagar\",\"T Nagar\",\"T Nagar\",\"T Nagar\",\"T Nagar\",\"T Nagar\",\"T Nagar\",\"T Nagar\",\"T Nagar\",\"T Nagar\",\"T Nagar\",\"T Nagar\",\"T Nagar\",\"T Nagar\",\"T Nagar\",\"T Nagar\",\"T Nagar\",\"T Nagar\",\"T Nagar\",\"T Nagar\",\"T Nagar\",\"T Nagar\",\"T Nagar\",\"T Nagar\",\"T Nagar\",\"T Nagar\",\"T Nagar\",\"T Nagar\",\"T Nagar\",\"T Nagar\",\"T Nagar\",\"T Nagar\",\"T Nagar\",\"T Nagar\",\"T Nagar\",\"T Nagar\",\"T Nagar\",\"T Nagar\",\"T Nagar\",\"T Nagar\",\"T Nagar\",\"T Nagar\",\"T Nagar\",\"T Nagar\",\"T Nagar\",\"T Nagar\",\"T Nagar\",\"T Nagar\",\"T Nagar\",\"T Nagar\",\"T Nagar\",\"T Nagar\",\"T Nagar\",\"T Nagar\",\"T Nagar\",\"T Nagar\",\"T Nagar\",\"T Nagar\",\"T Nagar\",\"T Nagar\",\"T Nagar\",\"T Nagar\",\"T Nagar\",\"T Nagar\",\"T Nagar\",\"T Nagar\",\"T Nagar\",\"T Nagar\",\"T Nagar\",\"T Nagar\",\"T Nagar\",\"T Nagar\",\"T Nagar\",\"T Nagar\",\"T Nagar\",\"T Nagar\",\"T Nagar\",\"T Nagar\",\"T Nagar\",\"T Nagar\",\"T Nagar\",\"T Nagar\",\"T Nagar\",\"T Nagar\",\"T Nagar\",\"T Nagar\",\"T Nagar\",\"T Nagar\",\"T Nagar\",\"T Nagar\",\"T Nagar\",\"T Nagar\",\"T Nagar\",\"T Nagar\",\"T Nagar\",\"T Nagar\",\"T Nagar\",\"T Nagar\",\"T Nagar\",\"T Nagar\",\"T Nagar\",\"T Nagar\",\"T Nagar\",\"T Nagar\",\"T Nagar\",\"T Nagar\",\"T Nagar\",\"T Nagar\",\"T Nagar\",\"T Nagar\",\"T Nagar\",\"T Nagar\",\"T Nagar\",\"T Nagar\",\"T Nagar\",\"T Nagar\",\"T Nagar\",\"T Nagar\",\"T Nagar\",\"T Nagar\",\"T Nagar\",\"T Nagar\",\"T Nagar\",\"T Nagar\",\"T Nagar\",\"T Nagar\",\"T Nagar\",\"T Nagar\",\"T Nagar\",\"T Nagar\",\"T Nagar\",\"T Nagar\",\"T Nagar\",\"T Nagar\",\"T Nagar\",\"T Nagar\",\"T Nagar\",\"T Nagar\",\"T Nagar\",\"T Nagar\",\"T Nagar\",\"T Nagar\",\"T Nagar\",\"T Nagar\",\"T Nagar\",\"T Nagar\",\"T Nagar\",\"T Nagar\",\"T Nagar\",\"T Nagar\",\"T Nagar\",\"T Nagar\",\"T Nagar\",\"T Nagar\",\"T Nagar\",\"T Nagar\",\"T Nagar\",\"T Nagar\",\"T Nagar\",\"T Nagar\",\"T Nagar\",\"T Nagar\",\"T Nagar\",\"T Nagar\",\"T Nagar\",\"T Nagar\",\"T Nagar\",\"T Nagar\",\"T Nagar\",\"T Nagar\",\"T Nagar\",\"T Nagar\",\"T Nagar\",\"T Nagar\",\"T Nagar\",\"T Nagar\",\"T Nagar\",\"T Nagar\",\"T Nagar\",\"T Nagar\",\"T Nagar\",\"T Nagar\",\"T Nagar\",\"T Nagar\",\"T Nagar\",\"T Nagar\",\"T Nagar\",\"T Nagar\",\"T Nagar\",\"T Nagar\",\"T Nagar\",\"T Nagar\",\"T Nagar\",\"T Nagar\",\"T Nagar\",\"T Nagar\",\"T Nagar\",\"T Nagar\",\"T Nagar\",\"T Nagar\",\"T Nagar\",\"T Nagar\",\"T Nagar\",\"T Nagar\",\"T Nagar\",\"T Nagar\",\"T Nagar\",\"T Nagar\",\"T Nagar\",\"T Nagar\",\"T Nagar\",\"T Nagar\",\"T Nagar\",\"T Nagar\",\"T Nagar\",\"T Nagar\",\"T Nagar\",\"T Nagar\",\"T Nagar\",\"T Nagar\",\"T Nagar\",\"T Nagar\",\"T Nagar\",\"T Nagar\",\"T Nagar\",\"T Nagar\",\"T Nagar\",\"T Nagar\",\"T Nagar\",\"T Nagar\",\"T Nagar\",\"T Nagar\",\"T Nagar\",\"T Nagar\",\"T Nagar\",\"T Nagar\",\"T Nagar\",\"T Nagar\",\"T Nagar\",\"T Nagar\",\"T Nagar\",\"T Nagar\",\"T Nagar\",\"T Nagar\",\"T Nagar\",\"T Nagar\",\"T Nagar\",\"T Nagar\",\"T Nagar\",\"T Nagar\",\"T Nagar\",\"T Nagar\",\"T Nagar\",\"T Nagar\",\"T Nagar\",\"T Nagar\",\"T Nagar\",\"T Nagar\",\"T Nagar\",\"T Nagar\",\"T Nagar\",\"T Nagar\",\"T Nagar\",\"T Nagar\",\"T Nagar\",\"T Nagar\",\"T Nagar\",\"T Nagar\",\"T Nagar\",\"T Nagar\",\"T Nagar\",\"T Nagar\",\"T Nagar\",\"T Nagar\",\"T Nagar\",\"T Nagar\",\"T Nagar\",\"T Nagar\",\"T Nagar\",\"T Nagar\",\"T Nagar\",\"T Nagar\",\"T Nagar\",\"T Nagar\",\"T Nagar\",\"T Nagar\",\"T Nagar\",\"T Nagar\",\"T Nagar\",\"T Nagar\",\"T Nagar\",\"T Nagar\",\"T Nagar\",\"T Nagar\",\"T Nagar\",\"T Nagar\",\"T Nagar\",\"T Nagar\",\"T Nagar\",\"T Nagar\",\"T Nagar\",\"T Nagar\",\"T Nagar\",\"T Nagar\",\"T Nagar\",\"T Nagar\",\"T Nagar\",\"T Nagar\",\"T Nagar\",\"T Nagar\",\"T Nagar\",\"T Nagar\",\"T Nagar\",\"T Nagar\",\"T Nagar\",\"T Nagar\",\"T Nagar\",\"T Nagar\",\"T Nagar\",\"T Nagar\",\"T Nagar\",\"T Nagar\",\"T Nagar\",\"T Nagar\",\"T Nagar\",\"T Nagar\",\"T Nagar\",\"T Nagar\",\"T Nagar\",\"T Nagar\",\"T Nagar\",\"T Nagar\",\"T Nagar\",\"T Nagar\",\"T Nagar\",\"T Nagar\",\"T Nagar\",\"T Nagar\",\"T Nagar\",\"T Nagar\",\"T Nagar\",\"T Nagar\",\"T Nagar\",\"T Nagar\",\"T Nagar\",\"T Nagar\",\"T Nagar\",\"T Nagar\",\"T Nagar\",\"T Nagar\",\"T Nagar\",\"T Nagar\",\"T Nagar\",\"T Nagar\",\"T Nagar\",\"T Nagar\",\"T Nagar\",\"T Nagar\",\"T Nagar\",\"T Nagar\",\"T Nagar\"],\"xaxis\":\"x\",\"yaxis\":\"y\",\"type\":\"histogram\"}],                        {\"template\":{\"data\":{\"bar\":[{\"error_x\":{\"color\":\"#2a3f5f\"},\"error_y\":{\"color\":\"#2a3f5f\"},\"marker\":{\"line\":{\"color\":\"#E5ECF6\",\"width\":0.5},\"pattern\":{\"fillmode\":\"overlay\",\"size\":10,\"solidity\":0.2}},\"type\":\"bar\"}],\"barpolar\":[{\"marker\":{\"line\":{\"color\":\"#E5ECF6\",\"width\":0.5},\"pattern\":{\"fillmode\":\"overlay\",\"size\":10,\"solidity\":0.2}},\"type\":\"barpolar\"}],\"carpet\":[{\"aaxis\":{\"endlinecolor\":\"#2a3f5f\",\"gridcolor\":\"white\",\"linecolor\":\"white\",\"minorgridcolor\":\"white\",\"startlinecolor\":\"#2a3f5f\"},\"baxis\":{\"endlinecolor\":\"#2a3f5f\",\"gridcolor\":\"white\",\"linecolor\":\"white\",\"minorgridcolor\":\"white\",\"startlinecolor\":\"#2a3f5f\"},\"type\":\"carpet\"}],\"choropleth\":[{\"colorbar\":{\"outlinewidth\":0,\"ticks\":\"\"},\"type\":\"choropleth\"}],\"contour\":[{\"colorbar\":{\"outlinewidth\":0,\"ticks\":\"\"},\"colorscale\":[[0.0,\"#0d0887\"],[0.1111111111111111,\"#46039f\"],[0.2222222222222222,\"#7201a8\"],[0.3333333333333333,\"#9c179e\"],[0.4444444444444444,\"#bd3786\"],[0.5555555555555556,\"#d8576b\"],[0.6666666666666666,\"#ed7953\"],[0.7777777777777778,\"#fb9f3a\"],[0.8888888888888888,\"#fdca26\"],[1.0,\"#f0f921\"]],\"type\":\"contour\"}],\"contourcarpet\":[{\"colorbar\":{\"outlinewidth\":0,\"ticks\":\"\"},\"type\":\"contourcarpet\"}],\"heatmap\":[{\"colorbar\":{\"outlinewidth\":0,\"ticks\":\"\"},\"colorscale\":[[0.0,\"#0d0887\"],[0.1111111111111111,\"#46039f\"],[0.2222222222222222,\"#7201a8\"],[0.3333333333333333,\"#9c179e\"],[0.4444444444444444,\"#bd3786\"],[0.5555555555555556,\"#d8576b\"],[0.6666666666666666,\"#ed7953\"],[0.7777777777777778,\"#fb9f3a\"],[0.8888888888888888,\"#fdca26\"],[1.0,\"#f0f921\"]],\"type\":\"heatmap\"}],\"heatmapgl\":[{\"colorbar\":{\"outlinewidth\":0,\"ticks\":\"\"},\"colorscale\":[[0.0,\"#0d0887\"],[0.1111111111111111,\"#46039f\"],[0.2222222222222222,\"#7201a8\"],[0.3333333333333333,\"#9c179e\"],[0.4444444444444444,\"#bd3786\"],[0.5555555555555556,\"#d8576b\"],[0.6666666666666666,\"#ed7953\"],[0.7777777777777778,\"#fb9f3a\"],[0.8888888888888888,\"#fdca26\"],[1.0,\"#f0f921\"]],\"type\":\"heatmapgl\"}],\"histogram\":[{\"marker\":{\"pattern\":{\"fillmode\":\"overlay\",\"size\":10,\"solidity\":0.2}},\"type\":\"histogram\"}],\"histogram2d\":[{\"colorbar\":{\"outlinewidth\":0,\"ticks\":\"\"},\"colorscale\":[[0.0,\"#0d0887\"],[0.1111111111111111,\"#46039f\"],[0.2222222222222222,\"#7201a8\"],[0.3333333333333333,\"#9c179e\"],[0.4444444444444444,\"#bd3786\"],[0.5555555555555556,\"#d8576b\"],[0.6666666666666666,\"#ed7953\"],[0.7777777777777778,\"#fb9f3a\"],[0.8888888888888888,\"#fdca26\"],[1.0,\"#f0f921\"]],\"type\":\"histogram2d\"}],\"histogram2dcontour\":[{\"colorbar\":{\"outlinewidth\":0,\"ticks\":\"\"},\"colorscale\":[[0.0,\"#0d0887\"],[0.1111111111111111,\"#46039f\"],[0.2222222222222222,\"#7201a8\"],[0.3333333333333333,\"#9c179e\"],[0.4444444444444444,\"#bd3786\"],[0.5555555555555556,\"#d8576b\"],[0.6666666666666666,\"#ed7953\"],[0.7777777777777778,\"#fb9f3a\"],[0.8888888888888888,\"#fdca26\"],[1.0,\"#f0f921\"]],\"type\":\"histogram2dcontour\"}],\"mesh3d\":[{\"colorbar\":{\"outlinewidth\":0,\"ticks\":\"\"},\"type\":\"mesh3d\"}],\"parcoords\":[{\"line\":{\"colorbar\":{\"outlinewidth\":0,\"ticks\":\"\"}},\"type\":\"parcoords\"}],\"pie\":[{\"automargin\":true,\"type\":\"pie\"}],\"scatter\":[{\"marker\":{\"colorbar\":{\"outlinewidth\":0,\"ticks\":\"\"}},\"type\":\"scatter\"}],\"scatter3d\":[{\"line\":{\"colorbar\":{\"outlinewidth\":0,\"ticks\":\"\"}},\"marker\":{\"colorbar\":{\"outlinewidth\":0,\"ticks\":\"\"}},\"type\":\"scatter3d\"}],\"scattercarpet\":[{\"marker\":{\"colorbar\":{\"outlinewidth\":0,\"ticks\":\"\"}},\"type\":\"scattercarpet\"}],\"scattergeo\":[{\"marker\":{\"colorbar\":{\"outlinewidth\":0,\"ticks\":\"\"}},\"type\":\"scattergeo\"}],\"scattergl\":[{\"marker\":{\"colorbar\":{\"outlinewidth\":0,\"ticks\":\"\"}},\"type\":\"scattergl\"}],\"scattermapbox\":[{\"marker\":{\"colorbar\":{\"outlinewidth\":0,\"ticks\":\"\"}},\"type\":\"scattermapbox\"}],\"scatterpolar\":[{\"marker\":{\"colorbar\":{\"outlinewidth\":0,\"ticks\":\"\"}},\"type\":\"scatterpolar\"}],\"scatterpolargl\":[{\"marker\":{\"colorbar\":{\"outlinewidth\":0,\"ticks\":\"\"}},\"type\":\"scatterpolargl\"}],\"scatterternary\":[{\"marker\":{\"colorbar\":{\"outlinewidth\":0,\"ticks\":\"\"}},\"type\":\"scatterternary\"}],\"surface\":[{\"colorbar\":{\"outlinewidth\":0,\"ticks\":\"\"},\"colorscale\":[[0.0,\"#0d0887\"],[0.1111111111111111,\"#46039f\"],[0.2222222222222222,\"#7201a8\"],[0.3333333333333333,\"#9c179e\"],[0.4444444444444444,\"#bd3786\"],[0.5555555555555556,\"#d8576b\"],[0.6666666666666666,\"#ed7953\"],[0.7777777777777778,\"#fb9f3a\"],[0.8888888888888888,\"#fdca26\"],[1.0,\"#f0f921\"]],\"type\":\"surface\"}],\"table\":[{\"cells\":{\"fill\":{\"color\":\"#EBF0F8\"},\"line\":{\"color\":\"white\"}},\"header\":{\"fill\":{\"color\":\"#C8D4E3\"},\"line\":{\"color\":\"white\"}},\"type\":\"table\"}]},\"layout\":{\"annotationdefaults\":{\"arrowcolor\":\"#2a3f5f\",\"arrowhead\":0,\"arrowwidth\":1},\"autotypenumbers\":\"strict\",\"coloraxis\":{\"colorbar\":{\"outlinewidth\":0,\"ticks\":\"\"}},\"colorscale\":{\"diverging\":[[0,\"#8e0152\"],[0.1,\"#c51b7d\"],[0.2,\"#de77ae\"],[0.3,\"#f1b6da\"],[0.4,\"#fde0ef\"],[0.5,\"#f7f7f7\"],[0.6,\"#e6f5d0\"],[0.7,\"#b8e186\"],[0.8,\"#7fbc41\"],[0.9,\"#4d9221\"],[1,\"#276419\"]],\"sequential\":[[0.0,\"#0d0887\"],[0.1111111111111111,\"#46039f\"],[0.2222222222222222,\"#7201a8\"],[0.3333333333333333,\"#9c179e\"],[0.4444444444444444,\"#bd3786\"],[0.5555555555555556,\"#d8576b\"],[0.6666666666666666,\"#ed7953\"],[0.7777777777777778,\"#fb9f3a\"],[0.8888888888888888,\"#fdca26\"],[1.0,\"#f0f921\"]],\"sequentialminus\":[[0.0,\"#0d0887\"],[0.1111111111111111,\"#46039f\"],[0.2222222222222222,\"#7201a8\"],[0.3333333333333333,\"#9c179e\"],[0.4444444444444444,\"#bd3786\"],[0.5555555555555556,\"#d8576b\"],[0.6666666666666666,\"#ed7953\"],[0.7777777777777778,\"#fb9f3a\"],[0.8888888888888888,\"#fdca26\"],[1.0,\"#f0f921\"]]},\"colorway\":[\"#636efa\",\"#EF553B\",\"#00cc96\",\"#ab63fa\",\"#FFA15A\",\"#19d3f3\",\"#FF6692\",\"#B6E880\",\"#FF97FF\",\"#FECB52\"],\"font\":{\"color\":\"#2a3f5f\"},\"geo\":{\"bgcolor\":\"white\",\"lakecolor\":\"white\",\"landcolor\":\"#E5ECF6\",\"showlakes\":true,\"showland\":true,\"subunitcolor\":\"white\"},\"hoverlabel\":{\"align\":\"left\"},\"hovermode\":\"closest\",\"mapbox\":{\"style\":\"light\"},\"paper_bgcolor\":\"white\",\"plot_bgcolor\":\"#E5ECF6\",\"polar\":{\"angularaxis\":{\"gridcolor\":\"white\",\"linecolor\":\"white\",\"ticks\":\"\"},\"bgcolor\":\"#E5ECF6\",\"radialaxis\":{\"gridcolor\":\"white\",\"linecolor\":\"white\",\"ticks\":\"\"}},\"scene\":{\"xaxis\":{\"backgroundcolor\":\"#E5ECF6\",\"gridcolor\":\"white\",\"gridwidth\":2,\"linecolor\":\"white\",\"showbackground\":true,\"ticks\":\"\",\"zerolinecolor\":\"white\"},\"yaxis\":{\"backgroundcolor\":\"#E5ECF6\",\"gridcolor\":\"white\",\"gridwidth\":2,\"linecolor\":\"white\",\"showbackground\":true,\"ticks\":\"\",\"zerolinecolor\":\"white\"},\"zaxis\":{\"backgroundcolor\":\"#E5ECF6\",\"gridcolor\":\"white\",\"gridwidth\":2,\"linecolor\":\"white\",\"showbackground\":true,\"ticks\":\"\",\"zerolinecolor\":\"white\"}},\"shapedefaults\":{\"line\":{\"color\":\"#2a3f5f\"}},\"ternary\":{\"aaxis\":{\"gridcolor\":\"white\",\"linecolor\":\"white\",\"ticks\":\"\"},\"baxis\":{\"gridcolor\":\"white\",\"linecolor\":\"white\",\"ticks\":\"\"},\"bgcolor\":\"#E5ECF6\",\"caxis\":{\"gridcolor\":\"white\",\"linecolor\":\"white\",\"ticks\":\"\"}},\"title\":{\"x\":0.05},\"xaxis\":{\"automargin\":true,\"gridcolor\":\"white\",\"linecolor\":\"white\",\"ticks\":\"\",\"title\":{\"standoff\":15},\"zerolinecolor\":\"white\",\"zerolinewidth\":2},\"yaxis\":{\"automargin\":true,\"gridcolor\":\"white\",\"linecolor\":\"white\",\"ticks\":\"\",\"title\":{\"standoff\":15},\"zerolinecolor\":\"white\",\"zerolinewidth\":2}}},\"xaxis\":{\"anchor\":\"y\",\"domain\":[0.0,1.0],\"title\":{\"text\":\"AREA\"},\"categoryorder\":\"array\",\"categoryarray\":[\"Karapakkam\",\"Anna Nagar\",\"Adyar\",\"Velachery\",\"Chrompet\",\"KK Nagar\",\"T Nagar\"]},\"yaxis\":{\"anchor\":\"x\",\"domain\":[0.0,1.0],\"title\":{\"text\":\"count\"}},\"legend\":{\"title\":{\"text\":\"AREA\"},\"tracegroupgap\":0},\"title\":{\"text\":\"<b>AREA wise distribution of data<br>\"},\"barmode\":\"relative\"},                        {\"responsive\": true}                    ).then(function(){\n",
              "                            \n",
              "var gd = document.getElementById('37122a49-1a89-4898-81f7-f60c3c52f086');\n",
              "var x = new MutationObserver(function (mutations, observer) {{\n",
              "        var display = window.getComputedStyle(gd).display;\n",
              "        if (!display || display === 'none') {{\n",
              "            console.log([gd, 'removed!']);\n",
              "            Plotly.purge(gd);\n",
              "            observer.disconnect();\n",
              "        }}\n",
              "}});\n",
              "\n",
              "// Listen for the removal of the full notebook cells\n",
              "var notebookContainer = gd.closest('#notebook-container');\n",
              "if (notebookContainer) {{\n",
              "    x.observe(notebookContainer, {childList: true});\n",
              "}}\n",
              "\n",
              "// Listen for the clearing of the current output cell\n",
              "var outputEl = gd.closest('.output');\n",
              "if (outputEl) {{\n",
              "    x.observe(outputEl, {childList: true});\n",
              "}}\n",
              "\n",
              "                        })                };                            </script>        </div>\n",
              "</body>\n",
              "</html>"
            ]
          },
          "metadata": {}
        }
      ]
    },
    {
      "cell_type": "code",
      "source": [
        "fig2=sns.distplot(df2.INT_SQFT)\n",
        "fig2"
      ],
      "metadata": {
        "colab": {
          "base_uri": "https://localhost:8080/",
          "height": 713
        },
        "id": "UcTb6IqS4btd",
        "outputId": "ecb9e4c0-42d6-4042-c5d2-756f86b0147e"
      },
      "execution_count": 258,
      "outputs": [
        {
          "output_type": "stream",
          "name": "stderr",
          "text": [
            "/usr/local/lib/python3.7/dist-packages/seaborn/distributions.py:2619: FutureWarning:\n",
            "\n",
            "`distplot` is a deprecated function and will be removed in a future version. Please adapt your code to use either `displot` (a figure-level function with similar flexibility) or `histplot` (an axes-level function for histograms).\n",
            "\n"
          ]
        },
        {
          "output_type": "execute_result",
          "data": {
            "text/plain": [
              "<matplotlib.axes._subplots.AxesSubplot at 0x7f5defc99f90>"
            ]
          },
          "metadata": {},
          "execution_count": 258
        },
        {
          "output_type": "display_data",
          "data": {
            "text/plain": [
              "<Figure size 1440x720 with 1 Axes>"
            ],
            "image/png": "[encoded data removed]"
          },
          "metadata": {
            "needs_background": "light"
          }
        }
      ]
    },
    {
      "cell_type": "code",
      "source": [
        "fig3=sns.distplot(df2.DIST_MAINROAD)\n",
        "fig3"
      ],
      "metadata": {
        "colab": {
          "base_uri": "https://localhost:8080/",
          "height": 713
        },
        "id": "D88rQ7Cm5ZBQ",
        "outputId": "0fa5fb8e-4d4e-4ea5-fc02-f894553c31a1"
      },
      "execution_count": 259,
      "outputs": [
        {
          "output_type": "stream",
          "name": "stderr",
          "text": [
            "/usr/local/lib/python3.7/dist-packages/seaborn/distributions.py:2619: FutureWarning:\n",
            "\n",
            "`distplot` is a deprecated function and will be removed in a future version. Please adapt your code to use either `displot` (a figure-level function with similar flexibility) or `histplot` (an axes-level function for histograms).\n",
            "\n"
          ]
        },
        {
          "output_type": "execute_result",
          "data": {
            "text/plain": [
              "<matplotlib.axes._subplots.AxesSubplot at 0x7f5defbe00d0>"
            ]
          },
          "metadata": {},
          "execution_count": 259
        },
        {
          "output_type": "display_data",
          "data": {
            "text/plain": [
              "<Figure size 1440x720 with 1 Axes>"
            ],
            "image/png": "[encoded data removed]"
          },
          "metadata": {
            "needs_background": "light"
          }
        }
      ]
    },
    {
      "cell_type": "code",
      "source": [
        "fig4=sns.countplot(df2.N_BEDROOM)\n",
        "fig4"
      ],
      "metadata": {
        "colab": {
          "base_uri": "https://localhost:8080/",
          "height": 713
        },
        "id": "hyj54yKN6NjP",
        "outputId": "096aea74-e506-40ab-8f37-f88d4013e48d"
      },
      "execution_count": 260,
      "outputs": [
        {
          "output_type": "stream",
          "name": "stderr",
          "text": [
            "/usr/local/lib/python3.7/dist-packages/seaborn/_decorators.py:43: FutureWarning:\n",
            "\n",
            "Pass the following variable as a keyword arg: x. From version 0.12, the only valid positional argument will be `data`, and passing other arguments without an explicit keyword will result in an error or misinterpretation.\n",
            "\n"
          ]
        },
        {
          "output_type": "execute_result",
          "data": {
            "text/plain": [
              "<matplotlib.axes._subplots.AxesSubplot at 0x7f5defb0f350>"
            ]
          },
          "metadata": {},
          "execution_count": 260
        },
        {
          "output_type": "display_data",
          "data": {
            "text/plain": [
              "<Figure size 1440x720 with 1 Axes>"
            ],
            "image/png": "[encoded data removed]"
          },
          "metadata": {
            "needs_background": "light"
          }
        }
      ]
    },
    {
      "cell_type": "code",
      "source": [
        "fig5=sns.countplot(df2.N_BATHROOM)\n",
        "fig5"
      ],
      "metadata": {
        "colab": {
          "base_uri": "https://localhost:8080/",
          "height": 713
        },
        "id": "A_4oIFurGnSj",
        "outputId": "5ad6bbab-3142-4bf5-9496-3b5b27d265c2"
      },
      "execution_count": 261,
      "outputs": [
        {
          "output_type": "stream",
          "name": "stderr",
          "text": [
            "/usr/local/lib/python3.7/dist-packages/seaborn/_decorators.py:43: FutureWarning:\n",
            "\n",
            "Pass the following variable as a keyword arg: x. From version 0.12, the only valid positional argument will be `data`, and passing other arguments without an explicit keyword will result in an error or misinterpretation.\n",
            "\n"
          ]
        },
        {
          "output_type": "execute_result",
          "data": {
            "text/plain": [
              "<matplotlib.axes._subplots.AxesSubplot at 0x7f5defaee890>"
            ]
          },
          "metadata": {},
          "execution_count": 261
        },
        {
          "output_type": "display_data",
          "data": {
            "text/plain": [
              "<Figure size 1440x720 with 1 Axes>"
            ],
            "image/png": "[encoded data removed]"
          },
          "metadata": {
            "needs_background": "light"
          }
        }
      ]
    },
    {
      "cell_type": "code",
      "source": [
        "value = df2[\"SALE_COND\"].value_counts()\n",
        "name= df2[\"SALE_COND\"].unique()\n",
        "fig6= px.pie(df2,values=value,names=name,color=value,title=\"<b>Distribution of sale\")\n",
        "fig6"
      ],
      "metadata": {
        "colab": {
          "base_uri": "https://localhost:8080/",
          "height": 542
        },
        "id": "-7o_YZ_rG0z5",
        "outputId": "15a40320-9165-4dc0-e932-e854ccdd1f2b"
      },
      "execution_count": 262,
      "outputs": [
        {
          "output_type": "display_data",
          "data": {
            "text/html": [
              "<html>\n",
              "<head><meta charset=\"utf-8\" /></head>\n",
              "<body>\n",
              "    <div>            <script src=\"https://cdnjs.cloudflare.com/ajax/libs/mathjax/2.7.5/MathJax.js?config=TeX-AMS-MML_SVG\"></script><script type=\"text/javascript\">if (window.MathJax) {MathJax.Hub.Config({SVG: {font: \"STIX-Web\"}});}</script>                <script type=\"text/javascript\">window.PlotlyConfig = {MathJaxConfig: 'local'};</script>\n",
              "        <script src=\"https://cdn.plot.ly/plotly-2.8.3.min.js\"></script>                <div id=\"dcd5e644-c9b5-4c9e-a96d-333f93608312\" class=\"plotly-graph-div\" style=\"height:525px; width:100%;\"></div>            <script type=\"text/javascript\">                                    window.PLOTLYENV=window.PLOTLYENV || {};                                    if (document.getElementById(\"dcd5e644-c9b5-4c9e-a96d-333f93608312\")) {                    Plotly.newPlot(                        \"dcd5e644-c9b5-4c9e-a96d-333f93608312\",                        [{\"customdata\":[[1432],[1420],[1416],[1402],[1391]],\"domain\":{\"x\":[0.0,1.0],\"y\":[0.0,1.0]},\"hovertemplate\":\"label=%{label}<br>value=%{value}<br>color=%{customdata[0]}<extra></extra>\",\"labels\":[\"AbNormal\",\"Family\",\"Partial\",\"AdjLand\",\"Normal Sale\"],\"legendgroup\":\"\",\"marker\":{\"colors\":[\"#636efa\",\"#EF553B\",\"#00cc96\",\"#ab63fa\",\"#FFA15A\"]},\"name\":\"\",\"showlegend\":true,\"values\":[1432,1420,1416,1402,1391],\"type\":\"pie\"}],                        {\"template\":{\"data\":{\"bar\":[{\"error_x\":{\"color\":\"#2a3f5f\"},\"error_y\":{\"color\":\"#2a3f5f\"},\"marker\":{\"line\":{\"color\":\"#E5ECF6\",\"width\":0.5},\"pattern\":{\"fillmode\":\"overlay\",\"size\":10,\"solidity\":0.2}},\"type\":\"bar\"}],\"barpolar\":[{\"marker\":{\"line\":{\"color\":\"#E5ECF6\",\"width\":0.5},\"pattern\":{\"fillmode\":\"overlay\",\"size\":10,\"solidity\":0.2}},\"type\":\"barpolar\"}],\"carpet\":[{\"aaxis\":{\"endlinecolor\":\"#2a3f5f\",\"gridcolor\":\"white\",\"linecolor\":\"white\",\"minorgridcolor\":\"white\",\"startlinecolor\":\"#2a3f5f\"},\"baxis\":{\"endlinecolor\":\"#2a3f5f\",\"gridcolor\":\"white\",\"linecolor\":\"white\",\"minorgridcolor\":\"white\",\"startlinecolor\":\"#2a3f5f\"},\"type\":\"carpet\"}],\"choropleth\":[{\"colorbar\":{\"outlinewidth\":0,\"ticks\":\"\"},\"type\":\"choropleth\"}],\"contour\":[{\"colorbar\":{\"outlinewidth\":0,\"ticks\":\"\"},\"colorscale\":[[0.0,\"#0d0887\"],[0.1111111111111111,\"#46039f\"],[0.2222222222222222,\"#7201a8\"],[0.3333333333333333,\"#9c179e\"],[0.4444444444444444,\"#bd3786\"],[0.5555555555555556,\"#d8576b\"],[0.6666666666666666,\"#ed7953\"],[0.7777777777777778,\"#fb9f3a\"],[0.8888888888888888,\"#fdca26\"],[1.0,\"#f0f921\"]],\"type\":\"contour\"}],\"contourcarpet\":[{\"colorbar\":{\"outlinewidth\":0,\"ticks\":\"\"},\"type\":\"contourcarpet\"}],\"heatmap\":[{\"colorbar\":{\"outlinewidth\":0,\"ticks\":\"\"},\"colorscale\":[[0.0,\"#0d0887\"],[0.1111111111111111,\"#46039f\"],[0.2222222222222222,\"#7201a8\"],[0.3333333333333333,\"#9c179e\"],[0.4444444444444444,\"#bd3786\"],[0.5555555555555556,\"#d8576b\"],[0.6666666666666666,\"#ed7953\"],[0.7777777777777778,\"#fb9f3a\"],[0.8888888888888888,\"#fdca26\"],[1.0,\"#f0f921\"]],\"type\":\"heatmap\"}],\"heatmapgl\":[{\"colorbar\":{\"outlinewidth\":0,\"ticks\":\"\"},\"colorscale\":[[0.0,\"#0d0887\"],[0.1111111111111111,\"#46039f\"],[0.2222222222222222,\"#7201a8\"],[0.3333333333333333,\"#9c179e\"],[0.4444444444444444,\"#bd3786\"],[0.5555555555555556,\"#d8576b\"],[0.6666666666666666,\"#ed7953\"],[0.7777777777777778,\"#fb9f3a\"],[0.8888888888888888,\"#fdca26\"],[1.0,\"#f0f921\"]],\"type\":\"heatmapgl\"}],\"histogram\":[{\"marker\":{\"pattern\":{\"fillmode\":\"overlay\",\"size\":10,\"solidity\":0.2}},\"type\":\"histogram\"}],\"histogram2d\":[{\"colorbar\":{\"outlinewidth\":0,\"ticks\":\"\"},\"colorscale\":[[0.0,\"#0d0887\"],[0.1111111111111111,\"#46039f\"],[0.2222222222222222,\"#7201a8\"],[0.3333333333333333,\"#9c179e\"],[0.4444444444444444,\"#bd3786\"],[0.5555555555555556,\"#d8576b\"],[0.6666666666666666,\"#ed7953\"],[0.7777777777777778,\"#fb9f3a\"],[0.8888888888888888,\"#fdca26\"],[1.0,\"#f0f921\"]],\"type\":\"histogram2d\"}],\"histogram2dcontour\":[{\"colorbar\":{\"outlinewidth\":0,\"ticks\":\"\"},\"colorscale\":[[0.0,\"#0d0887\"],[0.1111111111111111,\"#46039f\"],[0.2222222222222222,\"#7201a8\"],[0.3333333333333333,\"#9c179e\"],[0.4444444444444444,\"#bd3786\"],[0.5555555555555556,\"#d8576b\"],[0.6666666666666666,\"#ed7953\"],[0.7777777777777778,\"#fb9f3a\"],[0.8888888888888888,\"#fdca26\"],[1.0,\"#f0f921\"]],\"type\":\"histogram2dcontour\"}],\"mesh3d\":[{\"colorbar\":{\"outlinewidth\":0,\"ticks\":\"\"},\"type\":\"mesh3d\"}],\"parcoords\":[{\"line\":{\"colorbar\":{\"outlinewidth\":0,\"ticks\":\"\"}},\"type\":\"parcoords\"}],\"pie\":[{\"automargin\":true,\"type\":\"pie\"}],\"scatter\":[{\"marker\":{\"colorbar\":{\"outlinewidth\":0,\"ticks\":\"\"}},\"type\":\"scatter\"}],\"scatter3d\":[{\"line\":{\"colorbar\":{\"outlinewidth\":0,\"ticks\":\"\"}},\"marker\":{\"colorbar\":{\"outlinewidth\":0,\"ticks\":\"\"}},\"type\":\"scatter3d\"}],\"scattercarpet\":[{\"marker\":{\"colorbar\":{\"outlinewidth\":0,\"ticks\":\"\"}},\"type\":\"scattercarpet\"}],\"scattergeo\":[{\"marker\":{\"colorbar\":{\"outlinewidth\":0,\"ticks\":\"\"}},\"type\":\"scattergeo\"}],\"scattergl\":[{\"marker\":{\"colorbar\":{\"outlinewidth\":0,\"ticks\":\"\"}},\"type\":\"scattergl\"}],\"scattermapbox\":[{\"marker\":{\"colorbar\":{\"outlinewidth\":0,\"ticks\":\"\"}},\"type\":\"scattermapbox\"}],\"scatterpolar\":[{\"marker\":{\"colorbar\":{\"outlinewidth\":0,\"ticks\":\"\"}},\"type\":\"scatterpolar\"}],\"scatterpolargl\":[{\"marker\":{\"colorbar\":{\"outlinewidth\":0,\"ticks\":\"\"}},\"type\":\"scatterpolargl\"}],\"scatterternary\":[{\"marker\":{\"colorbar\":{\"outlinewidth\":0,\"ticks\":\"\"}},\"type\":\"scatterternary\"}],\"surface\":[{\"colorbar\":{\"outlinewidth\":0,\"ticks\":\"\"},\"colorscale\":[[0.0,\"#0d0887\"],[0.1111111111111111,\"#46039f\"],[0.2222222222222222,\"#7201a8\"],[0.3333333333333333,\"#9c179e\"],[0.4444444444444444,\"#bd3786\"],[0.5555555555555556,\"#d8576b\"],[0.6666666666666666,\"#ed7953\"],[0.7777777777777778,\"#fb9f3a\"],[0.8888888888888888,\"#fdca26\"],[1.0,\"#f0f921\"]],\"type\":\"surface\"}],\"table\":[{\"cells\":{\"fill\":{\"color\":\"#EBF0F8\"},\"line\":{\"color\":\"white\"}},\"header\":{\"fill\":{\"color\":\"#C8D4E3\"},\"line\":{\"color\":\"white\"}},\"type\":\"table\"}]},\"layout\":{\"annotationdefaults\":{\"arrowcolor\":\"#2a3f5f\",\"arrowhead\":0,\"arrowwidth\":1},\"autotypenumbers\":\"strict\",\"coloraxis\":{\"colorbar\":{\"outlinewidth\":0,\"ticks\":\"\"}},\"colorscale\":{\"diverging\":[[0,\"#8e0152\"],[0.1,\"#c51b7d\"],[0.2,\"#de77ae\"],[0.3,\"#f1b6da\"],[0.4,\"#fde0ef\"],[0.5,\"#f7f7f7\"],[0.6,\"#e6f5d0\"],[0.7,\"#b8e186\"],[0.8,\"#7fbc41\"],[0.9,\"#4d9221\"],[1,\"#276419\"]],\"sequential\":[[0.0,\"#0d0887\"],[0.1111111111111111,\"#46039f\"],[0.2222222222222222,\"#7201a8\"],[0.3333333333333333,\"#9c179e\"],[0.4444444444444444,\"#bd3786\"],[0.5555555555555556,\"#d8576b\"],[0.6666666666666666,\"#ed7953\"],[0.7777777777777778,\"#fb9f3a\"],[0.8888888888888888,\"#fdca26\"],[1.0,\"#f0f921\"]],\"sequentialminus\":[[0.0,\"#0d0887\"],[0.1111111111111111,\"#46039f\"],[0.2222222222222222,\"#7201a8\"],[0.3333333333333333,\"#9c179e\"],[0.4444444444444444,\"#bd3786\"],[0.5555555555555556,\"#d8576b\"],[0.6666666666666666,\"#ed7953\"],[0.7777777777777778,\"#fb9f3a\"],[0.8888888888888888,\"#fdca26\"],[1.0,\"#f0f921\"]]},\"colorway\":[\"#636efa\",\"#EF553B\",\"#00cc96\",\"#ab63fa\",\"#FFA15A\",\"#19d3f3\",\"#FF6692\",\"#B6E880\",\"#FF97FF\",\"#FECB52\"],\"font\":{\"color\":\"#2a3f5f\"},\"geo\":{\"bgcolor\":\"white\",\"lakecolor\":\"white\",\"landcolor\":\"#E5ECF6\",\"showlakes\":true,\"showland\":true,\"subunitcolor\":\"white\"},\"hoverlabel\":{\"align\":\"left\"},\"hovermode\":\"closest\",\"mapbox\":{\"style\":\"light\"},\"paper_bgcolor\":\"white\",\"plot_bgcolor\":\"#E5ECF6\",\"polar\":{\"angularaxis\":{\"gridcolor\":\"white\",\"linecolor\":\"white\",\"ticks\":\"\"},\"bgcolor\":\"#E5ECF6\",\"radialaxis\":{\"gridcolor\":\"white\",\"linecolor\":\"white\",\"ticks\":\"\"}},\"scene\":{\"xaxis\":{\"backgroundcolor\":\"#E5ECF6\",\"gridcolor\":\"white\",\"gridwidth\":2,\"linecolor\":\"white\",\"showbackground\":true,\"ticks\":\"\",\"zerolinecolor\":\"white\"},\"yaxis\":{\"backgroundcolor\":\"#E5ECF6\",\"gridcolor\":\"white\",\"gridwidth\":2,\"linecolor\":\"white\",\"showbackground\":true,\"ticks\":\"\",\"zerolinecolor\":\"white\"},\"zaxis\":{\"backgroundcolor\":\"#E5ECF6\",\"gridcolor\":\"white\",\"gridwidth\":2,\"linecolor\":\"white\",\"showbackground\":true,\"ticks\":\"\",\"zerolinecolor\":\"white\"}},\"shapedefaults\":{\"line\":{\"color\":\"#2a3f5f\"}},\"ternary\":{\"aaxis\":{\"gridcolor\":\"white\",\"linecolor\":\"white\",\"ticks\":\"\"},\"baxis\":{\"gridcolor\":\"white\",\"linecolor\":\"white\",\"ticks\":\"\"},\"bgcolor\":\"#E5ECF6\",\"caxis\":{\"gridcolor\":\"white\",\"linecolor\":\"white\",\"ticks\":\"\"}},\"title\":{\"x\":0.05},\"xaxis\":{\"automargin\":true,\"gridcolor\":\"white\",\"linecolor\":\"white\",\"ticks\":\"\",\"title\":{\"standoff\":15},\"zerolinecolor\":\"white\",\"zerolinewidth\":2},\"yaxis\":{\"automargin\":true,\"gridcolor\":\"white\",\"linecolor\":\"white\",\"ticks\":\"\",\"title\":{\"standoff\":15},\"zerolinecolor\":\"white\",\"zerolinewidth\":2}}},\"legend\":{\"tracegroupgap\":0},\"title\":{\"text\":\"<b>Distribution of sale\"}},                        {\"responsive\": true}                    ).then(function(){\n",
              "                            \n",
              "var gd = document.getElementById('dcd5e644-c9b5-4c9e-a96d-333f93608312');\n",
              "var x = new MutationObserver(function (mutations, observer) {{\n",
              "        var display = window.getComputedStyle(gd).display;\n",
              "        if (!display || display === 'none') {{\n",
              "            console.log([gd, 'removed!']);\n",
              "            Plotly.purge(gd);\n",
              "            observer.disconnect();\n",
              "        }}\n",
              "}});\n",
              "\n",
              "// Listen for the removal of the full notebook cells\n",
              "var notebookContainer = gd.closest('#notebook-container');\n",
              "if (notebookContainer) {{\n",
              "    x.observe(notebookContainer, {childList: true});\n",
              "}}\n",
              "\n",
              "// Listen for the clearing of the current output cell\n",
              "var outputEl = gd.closest('.output');\n",
              "if (outputEl) {{\n",
              "    x.observe(outputEl, {childList: true});\n",
              "}}\n",
              "\n",
              "                        })                };                            </script>        </div>\n",
              "</body>\n",
              "</html>"
            ]
          },
          "metadata": {}
        }
      ]
    },
    {
      "cell_type": "code",
      "source": [
        "fig7=sns.countplot(df2.N_ROOM)\n",
        "fig7"
      ],
      "metadata": {
        "colab": {
          "base_uri": "https://localhost:8080/",
          "height": 713
        },
        "id": "fbtFRl0mI7Mz",
        "outputId": "9ab7b006-8898-4743-e845-01dd6ae16b67"
      },
      "execution_count": 263,
      "outputs": [
        {
          "output_type": "stream",
          "name": "stderr",
          "text": [
            "/usr/local/lib/python3.7/dist-packages/seaborn/_decorators.py:43: FutureWarning:\n",
            "\n",
            "Pass the following variable as a keyword arg: x. From version 0.12, the only valid positional argument will be `data`, and passing other arguments without an explicit keyword will result in an error or misinterpretation.\n",
            "\n"
          ]
        },
        {
          "output_type": "execute_result",
          "data": {
            "text/plain": [
              "<matplotlib.axes._subplots.AxesSubplot at 0x7f5defa670d0>"
            ]
          },
          "metadata": {},
          "execution_count": 263
        },
        {
          "output_type": "display_data",
          "data": {
            "text/plain": [
              "<Figure size 1440x720 with 1 Axes>"
            ],
            "image/png": "[encoded data removed]"
          },
          "metadata": {
            "needs_background": "light"
          }
        }
      ]
    },
    {
      "cell_type": "code",
      "source": [
        "value = df2[\"PARK_FACIL\"].value_counts()\n",
        "name= df2[\"PARK_FACIL\"].unique()\n",
        "fig6= px.pie(df2,values=value,names=name,color=value,title=\"<b>Distribution of parking facility\")\n",
        "fig6"
      ],
      "metadata": {
        "colab": {
          "base_uri": "https://localhost:8080/",
          "height": 542
        },
        "id": "cZVVgQaWJVc-",
        "outputId": "1b790971-05da-42e7-fff5-fd61f4cb987d"
      },
      "execution_count": 264,
      "outputs": [
        {
          "output_type": "display_data",
          "data": {
            "text/html": [
              "<html>\n",
              "<head><meta charset=\"utf-8\" /></head>\n",
              "<body>\n",
              "    <div>            <script src=\"https://cdnjs.cloudflare.com/ajax/libs/mathjax/2.7.5/MathJax.js?config=TeX-AMS-MML_SVG\"></script><script type=\"text/javascript\">if (window.MathJax) {MathJax.Hub.Config({SVG: {font: \"STIX-Web\"}});}</script>                <script type=\"text/javascript\">window.PlotlyConfig = {MathJaxConfig: 'local'};</script>\n",
              "        <script src=\"https://cdn.plot.ly/plotly-2.8.3.min.js\"></script>                <div id=\"698948f1-43c5-484d-9b82-e11848b33229\" class=\"plotly-graph-div\" style=\"height:525px; width:100%;\"></div>            <script type=\"text/javascript\">                                    window.PLOTLYENV=window.PLOTLYENV || {};                                    if (document.getElementById(\"698948f1-43c5-484d-9b82-e11848b33229\")) {                    Plotly.newPlot(                        \"698948f1-43c5-484d-9b82-e11848b33229\",                        [{\"customdata\":[[3559],[3502]],\"domain\":{\"x\":[0.0,1.0],\"y\":[0.0,1.0]},\"hovertemplate\":\"label=%{label}<br>value=%{value}<br>color=%{customdata[0]}<extra></extra>\",\"labels\":[\"Yes\",\"No\"],\"legendgroup\":\"\",\"marker\":{\"colors\":[\"#636efa\",\"#EF553B\"]},\"name\":\"\",\"showlegend\":true,\"values\":[3559,3502],\"type\":\"pie\"}],                        {\"template\":{\"data\":{\"bar\":[{\"error_x\":{\"color\":\"#2a3f5f\"},\"error_y\":{\"color\":\"#2a3f5f\"},\"marker\":{\"line\":{\"color\":\"#E5ECF6\",\"width\":0.5},\"pattern\":{\"fillmode\":\"overlay\",\"size\":10,\"solidity\":0.2}},\"type\":\"bar\"}],\"barpolar\":[{\"marker\":{\"line\":{\"color\":\"#E5ECF6\",\"width\":0.5},\"pattern\":{\"fillmode\":\"overlay\",\"size\":10,\"solidity\":0.2}},\"type\":\"barpolar\"}],\"carpet\":[{\"aaxis\":{\"endlinecolor\":\"#2a3f5f\",\"gridcolor\":\"white\",\"linecolor\":\"white\",\"minorgridcolor\":\"white\",\"startlinecolor\":\"#2a3f5f\"},\"baxis\":{\"endlinecolor\":\"#2a3f5f\",\"gridcolor\":\"white\",\"linecolor\":\"white\",\"minorgridcolor\":\"white\",\"startlinecolor\":\"#2a3f5f\"},\"type\":\"carpet\"}],\"choropleth\":[{\"colorbar\":{\"outlinewidth\":0,\"ticks\":\"\"},\"type\":\"choropleth\"}],\"contour\":[{\"colorbar\":{\"outlinewidth\":0,\"ticks\":\"\"},\"colorscale\":[[0.0,\"#0d0887\"],[0.1111111111111111,\"#46039f\"],[0.2222222222222222,\"#7201a8\"],[0.3333333333333333,\"#9c179e\"],[0.4444444444444444,\"#bd3786\"],[0.5555555555555556,\"#d8576b\"],[0.6666666666666666,\"#ed7953\"],[0.7777777777777778,\"#fb9f3a\"],[0.8888888888888888,\"#fdca26\"],[1.0,\"#f0f921\"]],\"type\":\"contour\"}],\"contourcarpet\":[{\"colorbar\":{\"outlinewidth\":0,\"ticks\":\"\"},\"type\":\"contourcarpet\"}],\"heatmap\":[{\"colorbar\":{\"outlinewidth\":0,\"ticks\":\"\"},\"colorscale\":[[0.0,\"#0d0887\"],[0.1111111111111111,\"#46039f\"],[0.2222222222222222,\"#7201a8\"],[0.3333333333333333,\"#9c179e\"],[0.4444444444444444,\"#bd3786\"],[0.5555555555555556,\"#d8576b\"],[0.6666666666666666,\"#ed7953\"],[0.7777777777777778,\"#fb9f3a\"],[0.8888888888888888,\"#fdca26\"],[1.0,\"#f0f921\"]],\"type\":\"heatmap\"}],\"heatmapgl\":[{\"colorbar\":{\"outlinewidth\":0,\"ticks\":\"\"},\"colorscale\":[[0.0,\"#0d0887\"],[0.1111111111111111,\"#46039f\"],[0.2222222222222222,\"#7201a8\"],[0.3333333333333333,\"#9c179e\"],[0.4444444444444444,\"#bd3786\"],[0.5555555555555556,\"#d8576b\"],[0.6666666666666666,\"#ed7953\"],[0.7777777777777778,\"#fb9f3a\"],[0.8888888888888888,\"#fdca26\"],[1.0,\"#f0f921\"]],\"type\":\"heatmapgl\"}],\"histogram\":[{\"marker\":{\"pattern\":{\"fillmode\":\"overlay\",\"size\":10,\"solidity\":0.2}},\"type\":\"histogram\"}],\"histogram2d\":[{\"colorbar\":{\"outlinewidth\":0,\"ticks\":\"\"},\"colorscale\":[[0.0,\"#0d0887\"],[0.1111111111111111,\"#46039f\"],[0.2222222222222222,\"#7201a8\"],[0.3333333333333333,\"#9c179e\"],[0.4444444444444444,\"#bd3786\"],[0.5555555555555556,\"#d8576b\"],[0.6666666666666666,\"#ed7953\"],[0.7777777777777778,\"#fb9f3a\"],[0.8888888888888888,\"#fdca26\"],[1.0,\"#f0f921\"]],\"type\":\"histogram2d\"}],\"histogram2dcontour\":[{\"colorbar\":{\"outlinewidth\":0,\"ticks\":\"\"},\"colorscale\":[[0.0,\"#0d0887\"],[0.1111111111111111,\"#46039f\"],[0.2222222222222222,\"#7201a8\"],[0.3333333333333333,\"#9c179e\"],[0.4444444444444444,\"#bd3786\"],[0.5555555555555556,\"#d8576b\"],[0.6666666666666666,\"#ed7953\"],[0.7777777777777778,\"#fb9f3a\"],[0.8888888888888888,\"#fdca26\"],[1.0,\"#f0f921\"]],\"type\":\"histogram2dcontour\"}],\"mesh3d\":[{\"colorbar\":{\"outlinewidth\":0,\"ticks\":\"\"},\"type\":\"mesh3d\"}],\"parcoords\":[{\"line\":{\"colorbar\":{\"outlinewidth\":0,\"ticks\":\"\"}},\"type\":\"parcoords\"}],\"pie\":[{\"automargin\":true,\"type\":\"pie\"}],\"scatter\":[{\"marker\":{\"colorbar\":{\"outlinewidth\":0,\"ticks\":\"\"}},\"type\":\"scatter\"}],\"scatter3d\":[{\"line\":{\"colorbar\":{\"outlinewidth\":0,\"ticks\":\"\"}},\"marker\":{\"colorbar\":{\"outlinewidth\":0,\"ticks\":\"\"}},\"type\":\"scatter3d\"}],\"scattercarpet\":[{\"marker\":{\"colorbar\":{\"outlinewidth\":0,\"ticks\":\"\"}},\"type\":\"scattercarpet\"}],\"scattergeo\":[{\"marker\":{\"colorbar\":{\"outlinewidth\":0,\"ticks\":\"\"}},\"type\":\"scattergeo\"}],\"scattergl\":[{\"marker\":{\"colorbar\":{\"outlinewidth\":0,\"ticks\":\"\"}},\"type\":\"scattergl\"}],\"scattermapbox\":[{\"marker\":{\"colorbar\":{\"outlinewidth\":0,\"ticks\":\"\"}},\"type\":\"scattermapbox\"}],\"scatterpolar\":[{\"marker\":{\"colorbar\":{\"outlinewidth\":0,\"ticks\":\"\"}},\"type\":\"scatterpolar\"}],\"scatterpolargl\":[{\"marker\":{\"colorbar\":{\"outlinewidth\":0,\"ticks\":\"\"}},\"type\":\"scatterpolargl\"}],\"scatterternary\":[{\"marker\":{\"colorbar\":{\"outlinewidth\":0,\"ticks\":\"\"}},\"type\":\"scatterternary\"}],\"surface\":[{\"colorbar\":{\"outlinewidth\":0,\"ticks\":\"\"},\"colorscale\":[[0.0,\"#0d0887\"],[0.1111111111111111,\"#46039f\"],[0.2222222222222222,\"#7201a8\"],[0.3333333333333333,\"#9c179e\"],[0.4444444444444444,\"#bd3786\"],[0.5555555555555556,\"#d8576b\"],[0.6666666666666666,\"#ed7953\"],[0.7777777777777778,\"#fb9f3a\"],[0.8888888888888888,\"#fdca26\"],[1.0,\"#f0f921\"]],\"type\":\"surface\"}],\"table\":[{\"cells\":{\"fill\":{\"color\":\"#EBF0F8\"},\"line\":{\"color\":\"white\"}},\"header\":{\"fill\":{\"color\":\"#C8D4E3\"},\"line\":{\"color\":\"white\"}},\"type\":\"table\"}]},\"layout\":{\"annotationdefaults\":{\"arrowcolor\":\"#2a3f5f\",\"arrowhead\":0,\"arrowwidth\":1},\"autotypenumbers\":\"strict\",\"coloraxis\":{\"colorbar\":{\"outlinewidth\":0,\"ticks\":\"\"}},\"colorscale\":{\"diverging\":[[0,\"#8e0152\"],[0.1,\"#c51b7d\"],[0.2,\"#de77ae\"],[0.3,\"#f1b6da\"],[0.4,\"#fde0ef\"],[0.5,\"#f7f7f7\"],[0.6,\"#e6f5d0\"],[0.7,\"#b8e186\"],[0.8,\"#7fbc41\"],[0.9,\"#4d9221\"],[1,\"#276419\"]],\"sequential\":[[0.0,\"#0d0887\"],[0.1111111111111111,\"#46039f\"],[0.2222222222222222,\"#7201a8\"],[0.3333333333333333,\"#9c179e\"],[0.4444444444444444,\"#bd3786\"],[0.5555555555555556,\"#d8576b\"],[0.6666666666666666,\"#ed7953\"],[0.7777777777777778,\"#fb9f3a\"],[0.8888888888888888,\"#fdca26\"],[1.0,\"#f0f921\"]],\"sequentialminus\":[[0.0,\"#0d0887\"],[0.1111111111111111,\"#46039f\"],[0.2222222222222222,\"#7201a8\"],[0.3333333333333333,\"#9c179e\"],[0.4444444444444444,\"#bd3786\"],[0.5555555555555556,\"#d8576b\"],[0.6666666666666666,\"#ed7953\"],[0.7777777777777778,\"#fb9f3a\"],[0.8888888888888888,\"#fdca26\"],[1.0,\"#f0f921\"]]},\"colorway\":[\"#636efa\",\"#EF553B\",\"#00cc96\",\"#ab63fa\",\"#FFA15A\",\"#19d3f3\",\"#FF6692\",\"#B6E880\",\"#FF97FF\",\"#FECB52\"],\"font\":{\"color\":\"#2a3f5f\"},\"geo\":{\"bgcolor\":\"white\",\"lakecolor\":\"white\",\"landcolor\":\"#E5ECF6\",\"showlakes\":true,\"showland\":true,\"subunitcolor\":\"white\"},\"hoverlabel\":{\"align\":\"left\"},\"hovermode\":\"closest\",\"mapbox\":{\"style\":\"light\"},\"paper_bgcolor\":\"white\",\"plot_bgcolor\":\"#E5ECF6\",\"polar\":{\"angularaxis\":{\"gridcolor\":\"white\",\"linecolor\":\"white\",\"ticks\":\"\"},\"bgcolor\":\"#E5ECF6\",\"radialaxis\":{\"gridcolor\":\"white\",\"linecolor\":\"white\",\"ticks\":\"\"}},\"scene\":{\"xaxis\":{\"backgroundcolor\":\"#E5ECF6\",\"gridcolor\":\"white\",\"gridwidth\":2,\"linecolor\":\"white\",\"showbackground\":true,\"ticks\":\"\",\"zerolinecolor\":\"white\"},\"yaxis\":{\"backgroundcolor\":\"#E5ECF6\",\"gridcolor\":\"white\",\"gridwidth\":2,\"linecolor\":\"white\",\"showbackground\":true,\"ticks\":\"\",\"zerolinecolor\":\"white\"},\"zaxis\":{\"backgroundcolor\":\"#E5ECF6\",\"gridcolor\":\"white\",\"gridwidth\":2,\"linecolor\":\"white\",\"showbackground\":true,\"ticks\":\"\",\"zerolinecolor\":\"white\"}},\"shapedefaults\":{\"line\":{\"color\":\"#2a3f5f\"}},\"ternary\":{\"aaxis\":{\"gridcolor\":\"white\",\"linecolor\":\"white\",\"ticks\":\"\"},\"baxis\":{\"gridcolor\":\"white\",\"linecolor\":\"white\",\"ticks\":\"\"},\"bgcolor\":\"#E5ECF6\",\"caxis\":{\"gridcolor\":\"white\",\"linecolor\":\"white\",\"ticks\":\"\"}},\"title\":{\"x\":0.05},\"xaxis\":{\"automargin\":true,\"gridcolor\":\"white\",\"linecolor\":\"white\",\"ticks\":\"\",\"title\":{\"standoff\":15},\"zerolinecolor\":\"white\",\"zerolinewidth\":2},\"yaxis\":{\"automargin\":true,\"gridcolor\":\"white\",\"linecolor\":\"white\",\"ticks\":\"\",\"title\":{\"standoff\":15},\"zerolinecolor\":\"white\",\"zerolinewidth\":2}}},\"legend\":{\"tracegroupgap\":0},\"title\":{\"text\":\"<b>Distribution of parking facility\"}},                        {\"responsive\": true}                    ).then(function(){\n",
              "                            \n",
              "var gd = document.getElementById('698948f1-43c5-484d-9b82-e11848b33229');\n",
              "var x = new MutationObserver(function (mutations, observer) {{\n",
              "        var display = window.getComputedStyle(gd).display;\n",
              "        if (!display || display === 'none') {{\n",
              "            console.log([gd, 'removed!']);\n",
              "            Plotly.purge(gd);\n",
              "            observer.disconnect();\n",
              "        }}\n",
              "}});\n",
              "\n",
              "// Listen for the removal of the full notebook cells\n",
              "var notebookContainer = gd.closest('#notebook-container');\n",
              "if (notebookContainer) {{\n",
              "    x.observe(notebookContainer, {childList: true});\n",
              "}}\n",
              "\n",
              "// Listen for the clearing of the current output cell\n",
              "var outputEl = gd.closest('.output');\n",
              "if (outputEl) {{\n",
              "    x.observe(outputEl, {childList: true});\n",
              "}}\n",
              "\n",
              "                        })                };                            </script>        </div>\n",
              "</body>\n",
              "</html>"
            ]
          },
          "metadata": {}
        }
      ]
    },
    {
      "cell_type": "code",
      "source": [
        "fig7=px.histogram(df2,x=\"HOUSE_AGE\",color=\"HOUSE_AGE\",title=\"<b>distribution of data as pre house age<br>\"+\"\")\n",
        "fig7"
      ],
      "metadata": {
        "colab": {
          "base_uri": "https://localhost:8080/",
          "height": 542
        },
        "id": "ZNgN3dZZJ9Z8",
        "outputId": "fee05774-f76e-499b-822f-a33b0016bdf2"
      },
      "execution_count": 265,
      "outputs": [
        {
          "output_type": "display_data",
          "data": {
            "text/html": [
              "<html>\n",
              "<head><meta charset=\"utf-8\" /></head>\n",
              "<body>\n",
              "    <div>            <script src=\"https://cdnjs.cloudflare.com/ajax/libs/mathjax/2.7.5/MathJax.js?config=TeX-AMS-MML_SVG\"></script><script type=\"text/javascript\">if (window.MathJax) {MathJax.Hub.Config({SVG: {font: \"STIX-Web\"}});}</script>                <script type=\"text/javascript\">window.PlotlyConfig = {MathJaxConfig: 'local'};</script>\n",
              "        <script src=\"https://cdn.plot.ly/plotly-2.8.3.min.js\"></script>                <div id=\"3c74ecb8-d1f1-4bc9-b809-e703ddf3a74c\" class=\"plotly-graph-div\" style=\"height:525px; width:100%;\"></div>            <script type=\"text/javascript\">                                    window.PLOTLYENV=window.PLOTLYENV || {};                                    if (document.getElementById(\"3c74ecb8-d1f1-4bc9-b809-e703ddf3a74c\")) {                    Plotly.newPlot(                        \"3c74ecb8-d1f1-4bc9-b809-e703ddf3a74c\",                        [{\"alignmentgroup\":\"True\",\"bingroup\":\"x\",\"hovertemplate\":\"HOUSE_AGE=%{x}<br>count=%{y}<extra></extra>\",\"legendgroup\":\"44\",\"marker\":{\"color\":\"#636efa\",\"pattern\":{\"shape\":\"\"}},\"name\":\"44\",\"offsetgroup\":\"44\",\"orientation\":\"v\",\"showlegend\":true,\"x\":[44,44,44,44,44,44,44,44,44,44,44,44,44,44,44,44,44,44,44,44,44,44,44,44,44,44,44,44,44,44,44,44,44,44,44,44,44,44,44,44,44,44,44,44,44,44,44,44,44,44,44,44,44,44,44,44,44,44,44,44,44,44,44,44,44,44,44,44,44,44,44,44,44,44,44,44,44,44,44,44,44,44,44,44,44,44,44,44,44,44,44,44,44,44,44,44,44,44],\"xaxis\":\"x\",\"yaxis\":\"y\",\"type\":\"histogram\"},{\"alignmentgroup\":\"True\",\"bingroup\":\"x\",\"hovertemplate\":\"HOUSE_AGE=%{x}<br>count=%{y}<extra></extra>\",\"legendgroup\":\"11\",\"marker\":{\"color\":\"#EF553B\",\"pattern\":{\"shape\":\"\"}},\"name\":\"11\",\"offsetgroup\":\"11\",\"orientation\":\"v\",\"showlegend\":true,\"x\":[11,11,11,11,11,11,11,11,11,11,11,11,11,11,11,11,11,11,11,11,11,11,11,11,11,11,11,11,11,11,11,11,11,11,11,11,11,11,11,11,11,11,11,11,11,11,11,11,11,11,11,11,11,11,11,11,11,11,11,11,11,11,11,11,11,11,11,11,11,11,11,11,11,11,11,11,11,11,11,11,11,11,11,11,11,11,11,11,11,11,11,11,11,11,11,11,11,11,11,11,11,11,11,11,11,11,11,11,11,11,11,11,11,11,11,11,11,11,11,11,11,11,11,11,11,11,11,11,11,11,11,11,11,11,11,11,11,11,11,11,11,11,11,11,11,11,11,11,11,11,11,11,11,11,11,11,11,11,11,11,11,11,11,11,11,11,11,11,11,11,11,11],\"xaxis\":\"x\",\"yaxis\":\"y\",\"type\":\"histogram\"},{\"alignmentgroup\":\"True\",\"bingroup\":\"x\",\"hovertemplate\":\"HOUSE_AGE=%{x}<br>count=%{y}<extra></extra>\",\"legendgroup\":\"20\",\"marker\":{\"color\":\"#00cc96\",\"pattern\":{\"shape\":\"\"}},\"name\":\"20\",\"offsetgroup\":\"20\",\"orientation\":\"v\",\"showlegend\":true,\"x\":[20,20,20,20,20,20,20,20,20,20,20,20,20,20,20,20,20,20,20,20,20,20,20,20,20,20,20,20,20,20,20,20,20,20,20,20,20,20,20,20,20,20,20,20,20,20,20,20,20,20,20,20,20,20,20,20,20,20,20,20,20,20,20,20,20,20,20,20,20,20,20,20,20,20,20,20,20,20,20,20,20,20,20,20,20,20,20,20,20,20,20,20,20,20,20,20,20,20,20,20,20,20,20,20,20,20,20,20,20,20,20,20,20,20,20,20,20,20,20,20,20,20,20,20,20,20,20,20,20,20,20,20,20,20,20,20,20,20,20,20,20,20,20,20,20,20,20,20,20,20,20,20,20,20,20,20,20,20,20,20,20,20,20,20,20,20,20,20,20,20,20,20,20,20,20,20,20,20,20,20,20,20,20,20,20,20,20,20,20,20,20,20,20,20,20,20,20,20,20,20,20,20,20,20,20,20,20,20],\"xaxis\":\"x\",\"yaxis\":\"y\",\"type\":\"histogram\"},{\"alignmentgroup\":\"True\",\"bingroup\":\"x\",\"hovertemplate\":\"HOUSE_AGE=%{x}<br>count=%{y}<extra></extra>\",\"legendgroup\":\"22\",\"marker\":{\"color\":\"#ab63fa\",\"pattern\":{\"shape\":\"\"}},\"name\":\"22\",\"offsetgroup\":\"22\",\"orientation\":\"v\",\"showlegend\":true,\"x\":[22,22,22,22,22,22,22,22,22,22,22,22,22,22,22,22,22,22,22,22,22,22,22,22,22,22,22,22,22,22,22,22,22,22,22,22,22,22,22,22,22,22,22,22,22,22,22,22,22,22,22,22,22,22,22,22,22,22,22,22,22,22,22,22,22,22,22,22,22,22,22,22,22,22,22,22,22,22,22,22,22,22,22,22,22,22,22,22,22,22,22,22,22,22,22,22,22,22,22,22,22,22,22,22,22,22,22,22,22,22,22,22,22,22,22,22,22,22,22,22,22,22,22,22,22,22,22,22,22,22,22,22,22,22,22,22,22,22,22,22,22,22,22,22,22,22,22,22,22,22,22,22,22,22,22,22,22,22,22,22,22,22,22,22,22,22,22,22,22,22,22,22,22,22,22,22,22,22,22,22,22,22,22,22,22,22,22,22,22,22,22,22,22,22,22,22,22,22],\"xaxis\":\"x\",\"yaxis\":\"y\",\"type\":\"histogram\"},{\"alignmentgroup\":\"True\",\"bingroup\":\"x\",\"hovertemplate\":\"HOUSE_AGE=%{x}<br>count=%{y}<extra></extra>\",\"legendgroup\":\"30\",\"marker\":{\"color\":\"#FFA15A\",\"pattern\":{\"shape\":\"\"}},\"name\":\"30\",\"offsetgroup\":\"30\",\"orientation\":\"v\",\"showlegend\":true,\"x\":[30,30,30,30,30,30,30,30,30,30,30,30,30,30,30,30,30,30,30,30,30,30,30,30,30,30,30,30,30,30,30,30,30,30,30,30,30,30,30,30,30,30,30,30,30,30,30,30,30,30,30,30,30,30,30,30,30,30,30,30,30,30,30,30,30,30,30,30,30,30,30,30,30,30,30,30,30,30,30,30,30,30,30,30,30,30,30,30,30,30,30,30,30,30,30,30,30,30,30,30,30,30,30,30,30,30,30,30,30,30,30,30,30,30,30,30,30,30,30,30,30,30,30,30,30,30,30,30,30,30,30,30,30,30,30,30,30,30,30,30,30,30,30,30,30,30,30,30,30,30,30,30,30,30,30,30,30,30,30,30,30,30,30,30,30,30,30,30,30,30,30,30,30,30,30,30,30,30,30,30,30,30,30,30,30,30],\"xaxis\":\"x\",\"yaxis\":\"y\",\"type\":\"histogram\"},{\"alignmentgroup\":\"True\",\"bingroup\":\"x\",\"hovertemplate\":\"HOUSE_AGE=%{x}<br>count=%{y}<extra></extra>\",\"legendgroup\":\"5\",\"marker\":{\"color\":\"#19d3f3\",\"pattern\":{\"shape\":\"\"}},\"name\":\"5\",\"offsetgroup\":\"5\",\"orientation\":\"v\",\"showlegend\":true,\"x\":[5,5,5,5,5,5,5,5,5,5,5,5,5,5,5,5,5,5,5,5,5,5,5,5,5,5,5,5,5,5,5,5,5,5,5,5,5,5,5,5,5,5,5,5,5,5,5,5,5,5,5,5,5,5,5,5,5,5,5,5,5,5,5,5,5,5,5,5,5,5,5,5,5,5,5,5,5,5,5,5,5,5,5,5,5,5,5,5,5,5,5,5,5,5,5,5,5,5,5,5,5,5,5,5,5,5,5,5,5,5,5,5,5,5,5,5,5,5,5,5,5,5,5,5,5,5,5,5,5,5,5,5,5,5,5,5,5,5,5,5,5,5,5,5,5,5,5,5,5,5,5,5,5,5,5,5,5,5,5,5,5,5,5,5,5,5,5,5,5,5,5,5,5,5,5,5,5,5,5,5,5,5,5,5,5,5,5,5,5,5,5,5,5,5,5,5,5,5,5,5,5,5,5],\"xaxis\":\"x\",\"yaxis\":\"y\",\"type\":\"histogram\"},{\"alignmentgroup\":\"True\",\"bingroup\":\"x\",\"hovertemplate\":\"HOUSE_AGE=%{x}<br>count=%{y}<extra></extra>\",\"legendgroup\":\"28\",\"marker\":{\"color\":\"#FF6692\",\"pattern\":{\"shape\":\"\"}},\"name\":\"28\",\"offsetgroup\":\"28\",\"orientation\":\"v\",\"showlegend\":true,\"x\":[28,28,28,28,28,28,28,28,28,28,28,28,28,28,28,28,28,28,28,28,28,28,28,28,28,28,28,28,28,28,28,28,28,28,28,28,28,28,28,28,28,28,28,28,28,28,28,28,28,28,28,28,28,28,28,28,28,28,28,28,28,28,28,28,28,28,28,28,28,28,28,28,28,28,28,28,28,28,28,28,28,28,28,28,28,28,28,28,28,28,28,28,28,28,28,28,28,28,28,28,28,28,28,28,28,28,28,28,28,28,28,28,28,28,28,28,28,28,28,28,28,28,28,28,28,28,28,28,28,28,28,28,28,28,28,28,28,28,28,28,28,28,28,28,28,28,28,28,28,28,28,28,28,28,28,28,28,28,28,28,28,28,28,28,28,28,28,28,28,28,28,28,28,28,28,28,28,28,28,28,28,28,28,28,28,28,28,28,28,28,28,28,28,28,28,28,28,28,28,28],\"xaxis\":\"x\",\"yaxis\":\"y\",\"type\":\"histogram\"},{\"alignmentgroup\":\"True\",\"bingroup\":\"x\",\"hovertemplate\":\"HOUSE_AGE=%{x}<br>count=%{y}<extra></extra>\",\"legendgroup\":\"10\",\"marker\":{\"color\":\"#B6E880\",\"pattern\":{\"shape\":\"\"}},\"name\":\"10\",\"offsetgroup\":\"10\",\"orientation\":\"v\",\"showlegend\":true,\"x\":[10,10,10,10,10,10,10,10,10,10,10,10,10,10,10,10,10,10,10,10,10,10,10,10,10,10,10,10,10,10,10,10,10,10,10,10,10,10,10,10,10,10,10,10,10,10,10,10,10,10,10,10,10,10,10,10,10,10,10,10,10,10,10,10,10,10,10,10,10,10,10,10,10,10,10,10,10,10,10,10,10,10,10,10,10,10,10,10,10,10,10,10,10,10,10,10,10,10,10,10,10,10,10,10,10,10,10,10,10,10,10,10,10,10,10,10,10,10,10,10,10,10,10,10,10,10,10,10,10,10,10,10,10,10,10,10,10,10,10,10,10,10,10,10,10,10,10,10,10,10,10,10,10,10,10,10,10,10,10,10,10,10,10,10,10,10,10,10,10,10,10,10,10,10,10,10,10],\"xaxis\":\"x\",\"yaxis\":\"y\",\"type\":\"histogram\"},{\"alignmentgroup\":\"True\",\"bingroup\":\"x\",\"hovertemplate\":\"HOUSE_AGE=%{x}<br>count=%{y}<extra></extra>\",\"legendgroup\":\"34\",\"marker\":{\"color\":\"#FF97FF\",\"pattern\":{\"shape\":\"\"}},\"name\":\"34\",\"offsetgroup\":\"34\",\"orientation\":\"v\",\"showlegend\":true,\"x\":[34,34,34,34,34,34,34,34,34,34,34,34,34,34,34,34,34,34,34,34,34,34,34,34,34,34,34,34,34,34,34,34,34,34,34,34,34,34,34,34,34,34,34,34,34,34,34,34,34,34,34,34,34,34,34,34,34,34,34,34,34,34,34,34,34,34,34,34,34,34,34,34,34,34,34,34,34,34,34,34,34,34,34,34,34,34,34,34,34,34,34,34,34,34,34,34,34,34,34,34,34,34,34,34,34,34,34,34,34,34,34,34,34,34,34,34,34,34,34,34,34,34,34,34,34,34,34,34,34,34,34,34,34,34,34,34,34,34,34,34,34,34,34,34,34,34,34,34,34],\"xaxis\":\"x\",\"yaxis\":\"y\",\"type\":\"histogram\"},{\"alignmentgroup\":\"True\",\"bingroup\":\"x\",\"hovertemplate\":\"HOUSE_AGE=%{x}<br>count=%{y}<extra></extra>\",\"legendgroup\":\"15\",\"marker\":{\"color\":\"#FECB52\",\"pattern\":{\"shape\":\"\"}},\"name\":\"15\",\"offsetgroup\":\"15\",\"orientation\":\"v\",\"showlegend\":true,\"x\":[15,15,15,15,15,15,15,15,15,15,15,15,15,15,15,15,15,15,15,15,15,15,15,15,15,15,15,15,15,15,15,15,15,15,15,15,15,15,15,15,15,15,15,15,15,15,15,15,15,15,15,15,15,15,15,15,15,15,15,15,15,15,15,15,15,15,15,15,15,15,15,15,15,15,15,15,15,15,15,15,15,15,15,15,15,15,15,15,15,15,15,15,15,15,15,15,15,15,15,15,15,15,15,15,15,15,15,15,15,15,15,15,15,15,15,15,15,15,15,15,15,15,15,15,15,15,15,15,15,15,15,15,15,15,15,15,15,15,15,15,15,15,15,15,15,15,15,15,15,15,15,15,15,15,15,15,15,15,15,15,15,15,15,15,15,15,15,15,15],\"xaxis\":\"x\",\"yaxis\":\"y\",\"type\":\"histogram\"},{\"alignmentgroup\":\"True\",\"bingroup\":\"x\",\"hovertemplate\":\"HOUSE_AGE=%{x}<br>count=%{y}<extra></extra>\",\"legendgroup\":\"37\",\"marker\":{\"color\":\"#636efa\",\"pattern\":{\"shape\":\"\"}},\"name\":\"37\",\"offsetgroup\":\"37\",\"orientation\":\"v\",\"showlegend\":true,\"x\":[37,37,37,37,37,37,37,37,37,37,37,37,37,37,37,37,37,37,37,37,37,37,37,37,37,37,37,37,37,37,37,37,37,37,37,37,37,37,37,37,37,37,37,37,37,37,37,37,37,37,37,37,37,37,37,37,37,37,37,37,37,37,37,37,37,37,37,37,37,37,37,37,37,37,37,37,37,37,37,37,37,37,37,37,37,37,37,37,37,37,37,37,37,37,37,37,37,37,37,37,37,37,37,37,37,37,37,37,37,37,37,37,37,37,37,37,37,37,37,37,37,37,37,37,37,37,37,37,37,37,37,37,37,37,37,37,37,37],\"xaxis\":\"x\",\"yaxis\":\"y\",\"type\":\"histogram\"},{\"alignmentgroup\":\"True\",\"bingroup\":\"x\",\"hovertemplate\":\"HOUSE_AGE=%{x}<br>count=%{y}<extra></extra>\",\"legendgroup\":\"19\",\"marker\":{\"color\":\"#EF553B\",\"pattern\":{\"shape\":\"\"}},\"name\":\"19\",\"offsetgroup\":\"19\",\"orientation\":\"v\",\"showlegend\":true,\"x\":[19,19,19,19,19,19,19,19,19,19,19,19,19,19,19,19,19,19,19,19,19,19,19,19,19,19,19,19,19,19,19,19,19,19,19,19,19,19,19,19,19,19,19,19,19,19,19,19,19,19,19,19,19,19,19,19,19,19,19,19,19,19,19,19,19,19,19,19,19,19,19,19,19,19,19,19,19,19,19,19,19,19,19,19,19,19,19,19,19,19,19,19,19,19,19,19,19,19,19,19,19,19,19,19,19,19,19,19,19,19,19,19,19,19,19,19,19,19,19,19,19,19,19,19,19,19,19,19,19,19,19,19,19,19,19,19,19,19,19,19,19,19,19,19,19,19,19,19,19,19,19,19,19,19,19,19,19,19,19,19,19,19,19,19,19,19,19,19,19,19,19,19,19,19,19,19,19,19,19,19,19,19,19,19,19,19,19,19,19,19,19,19,19,19,19,19,19,19,19,19,19,19,19,19,19,19,19,19],\"xaxis\":\"x\",\"yaxis\":\"y\",\"type\":\"histogram\"},{\"alignmentgroup\":\"True\",\"bingroup\":\"x\",\"hovertemplate\":\"HOUSE_AGE=%{x}<br>count=%{y}<extra></extra>\",\"legendgroup\":\"26\",\"marker\":{\"color\":\"#00cc96\",\"pattern\":{\"shape\":\"\"}},\"name\":\"26\",\"offsetgroup\":\"26\",\"orientation\":\"v\",\"showlegend\":true,\"x\":[26,26,26,26,26,26,26,26,26,26,26,26,26,26,26,26,26,26,26,26,26,26,26,26,26,26,26,26,26,26,26,26,26,26,26,26,26,26,26,26,26,26,26,26,26,26,26,26,26,26,26,26,26,26,26,26,26,26,26,26,26,26,26,26,26,26,26,26,26,26,26,26,26,26,26,26,26,26,26,26,26,26,26,26,26,26,26,26,26,26,26,26,26,26,26,26,26,26,26,26,26,26,26,26,26,26,26,26,26,26,26,26,26,26,26,26,26,26,26,26,26,26,26,26,26,26,26,26,26,26,26,26,26,26,26,26,26,26,26,26,26,26,26,26,26,26,26,26,26,26,26,26,26,26,26,26,26,26,26,26,26,26,26,26,26,26,26,26,26,26,26,26,26,26,26,26,26],\"xaxis\":\"x\",\"yaxis\":\"y\",\"type\":\"histogram\"},{\"alignmentgroup\":\"True\",\"bingroup\":\"x\",\"hovertemplate\":\"HOUSE_AGE=%{x}<br>count=%{y}<extra></extra>\",\"legendgroup\":\"54\",\"marker\":{\"color\":\"#ab63fa\",\"pattern\":{\"shape\":\"\"}},\"name\":\"54\",\"offsetgroup\":\"54\",\"orientation\":\"v\",\"showlegend\":true,\"x\":[54,54,54,54,54,54,54,54,54,54,54,54,54,54,54,54,54,54],\"xaxis\":\"x\",\"yaxis\":\"y\",\"type\":\"histogram\"},{\"alignmentgroup\":\"True\",\"bingroup\":\"x\",\"hovertemplate\":\"HOUSE_AGE=%{x}<br>count=%{y}<extra></extra>\",\"legendgroup\":\"18\",\"marker\":{\"color\":\"#FFA15A\",\"pattern\":{\"shape\":\"\"}},\"name\":\"18\",\"offsetgroup\":\"18\",\"orientation\":\"v\",\"showlegend\":true,\"x\":[18,18,18,18,18,18,18,18,18,18,18,18,18,18,18,18,18,18,18,18,18,18,18,18,18,18,18,18,18,18,18,18,18,18,18,18,18,18,18,18,18,18,18,18,18,18,18,18,18,18,18,18,18,18,18,18,18,18,18,18,18,18,18,18,18,18,18,18,18,18,18,18,18,18,18,18,18,18,18,18,18,18,18,18,18,18,18,18,18,18,18,18,18,18,18,18,18,18,18,18,18,18,18,18,18,18,18,18,18,18,18,18,18,18,18,18,18,18,18,18,18,18,18,18,18,18,18,18,18,18,18,18,18,18,18,18,18,18,18,18,18,18,18,18,18,18,18,18,18,18,18,18,18,18,18,18,18,18,18,18,18,18,18,18,18,18,18,18,18,18,18,18,18],\"xaxis\":\"x\",\"yaxis\":\"y\",\"type\":\"histogram\"},{\"alignmentgroup\":\"True\",\"bingroup\":\"x\",\"hovertemplate\":\"HOUSE_AGE=%{x}<br>count=%{y}<extra></extra>\",\"legendgroup\":\"36\",\"marker\":{\"color\":\"#19d3f3\",\"pattern\":{\"shape\":\"\"}},\"name\":\"36\",\"offsetgroup\":\"36\",\"orientation\":\"v\",\"showlegend\":true,\"x\":[36,36,36,36,36,36,36,36,36,36,36,36,36,36,36,36,36,36,36,36,36,36,36,36,36,36,36,36,36,36,36,36,36,36,36,36,36,36,36,36,36,36,36,36,36,36,36,36,36,36,36,36,36,36,36,36,36,36,36,36,36,36,36,36,36,36,36,36,36,36,36,36,36,36,36,36,36,36,36,36,36,36,36,36,36,36,36,36,36,36,36,36,36,36,36,36,36,36,36,36,36,36,36,36,36,36,36,36,36,36,36,36,36,36,36,36,36,36,36,36,36,36,36,36,36,36,36,36,36,36,36,36,36,36,36,36,36,36,36,36,36,36,36,36,36,36,36,36,36,36,36,36,36,36,36,36,36,36,36,36,36,36,36,36,36,36,36,36,36,36,36,36,36,36],\"xaxis\":\"x\",\"yaxis\":\"y\",\"type\":\"histogram\"},{\"alignmentgroup\":\"True\",\"bingroup\":\"x\",\"hovertemplate\":\"HOUSE_AGE=%{x}<br>count=%{y}<extra></extra>\",\"legendgroup\":\"42\",\"marker\":{\"color\":\"#FF6692\",\"pattern\":{\"shape\":\"\"}},\"name\":\"42\",\"offsetgroup\":\"42\",\"orientation\":\"v\",\"showlegend\":true,\"x\":[42,42,42,42,42,42,42,42,42,42,42,42,42,42,42,42,42,42,42,42,42,42,42,42,42,42,42,42,42,42,42,42,42,42,42,42,42,42,42,42,42,42,42,42,42,42,42,42,42,42,42,42,42,42,42,42,42,42,42,42,42,42,42,42,42,42,42,42,42,42,42,42,42,42,42,42,42,42,42,42,42,42,42,42,42,42,42,42,42],\"xaxis\":\"x\",\"yaxis\":\"y\",\"type\":\"histogram\"},{\"alignmentgroup\":\"True\",\"bingroup\":\"x\",\"hovertemplate\":\"HOUSE_AGE=%{x}<br>count=%{y}<extra></extra>\",\"legendgroup\":\"4\",\"marker\":{\"color\":\"#B6E880\",\"pattern\":{\"shape\":\"\"}},\"name\":\"4\",\"offsetgroup\":\"4\",\"orientation\":\"v\",\"showlegend\":true,\"x\":[4,4,4,4,4,4,4,4,4,4,4,4,4,4,4,4,4,4,4,4,4,4,4,4,4,4,4,4,4,4,4,4,4,4,4,4,4,4,4,4,4,4,4,4,4,4,4,4,4,4,4,4],\"xaxis\":\"x\",\"yaxis\":\"y\",\"type\":\"histogram\"},{\"alignmentgroup\":\"True\",\"bingroup\":\"x\",\"hovertemplate\":\"HOUSE_AGE=%{x}<br>count=%{y}<extra></extra>\",\"legendgroup\":\"16\",\"marker\":{\"color\":\"#FF97FF\",\"pattern\":{\"shape\":\"\"}},\"name\":\"16\",\"offsetgroup\":\"16\",\"orientation\":\"v\",\"showlegend\":true,\"x\":[16,16,16,16,16,16,16,16,16,16,16,16,16,16,16,16,16,16,16,16,16,16,16,16,16,16,16,16,16,16,16,16,16,16,16,16,16,16,16,16,16,16,16,16,16,16,16,16,16,16,16,16,16,16,16,16,16,16,16,16,16,16,16,16,16,16,16,16,16,16,16,16,16,16,16,16,16,16,16,16,16,16,16,16,16,16,16,16,16,16,16,16,16,16,16,16,16,16,16,16,16,16,16,16,16,16,16,16,16,16,16,16,16,16,16,16,16,16,16,16,16,16,16,16,16,16,16,16,16,16,16,16,16,16,16,16,16,16,16,16,16,16,16,16,16,16,16,16,16,16,16,16,16,16,16,16,16,16,16,16,16,16,16,16,16,16,16,16,16,16,16,16,16,16,16,16,16,16,16,16,16,16,16,16,16,16,16,16,16,16,16],\"xaxis\":\"x\",\"yaxis\":\"y\",\"type\":\"histogram\"},{\"alignmentgroup\":\"True\",\"bingroup\":\"x\",\"hovertemplate\":\"HOUSE_AGE=%{x}<br>count=%{y}<extra></extra>\",\"legendgroup\":\"7\",\"marker\":{\"color\":\"#FECB52\",\"pattern\":{\"shape\":\"\"}},\"name\":\"7\",\"offsetgroup\":\"7\",\"orientation\":\"v\",\"showlegend\":true,\"x\":[7,7,7,7,7,7,7,7,7,7,7,7,7,7,7,7,7,7,7,7,7,7,7,7,7,7,7,7,7,7,7,7,7,7,7,7,7,7,7,7,7,7,7,7,7,7,7,7,7,7,7,7,7,7,7,7,7,7,7,7,7,7,7,7,7,7,7,7,7,7,7,7,7,7,7,7,7,7,7,7,7,7,7,7,7,7,7,7,7,7,7,7,7,7,7,7,7,7,7,7,7,7,7,7,7,7,7,7,7,7,7,7,7,7,7,7,7,7,7,7,7,7,7,7,7,7,7,7,7,7,7,7,7,7,7,7,7,7,7,7,7,7,7,7,7,7,7,7,7,7,7,7,7,7,7,7,7,7,7,7,7,7,7,7,7,7,7,7,7,7,7,7,7,7,7,7,7,7,7,7,7,7,7,7,7,7],\"xaxis\":\"x\",\"yaxis\":\"y\",\"type\":\"histogram\"},{\"alignmentgroup\":\"True\",\"bingroup\":\"x\",\"hovertemplate\":\"HOUSE_AGE=%{x}<br>count=%{y}<extra></extra>\",\"legendgroup\":\"39\",\"marker\":{\"color\":\"#636efa\",\"pattern\":{\"shape\":\"\"}},\"name\":\"39\",\"offsetgroup\":\"39\",\"orientation\":\"v\",\"showlegend\":true,\"x\":[39,39,39,39,39,39,39,39,39,39,39,39,39,39,39,39,39,39,39,39,39,39,39,39,39,39,39,39,39,39,39,39,39,39,39,39,39,39,39,39,39,39,39,39,39,39,39,39,39,39,39,39,39,39,39,39,39,39,39,39,39,39,39,39,39,39,39,39,39,39,39,39,39,39,39,39,39,39,39,39,39,39,39,39,39,39,39,39,39,39,39,39,39,39,39,39,39,39,39,39,39,39,39,39,39,39,39,39,39,39,39,39,39,39,39,39,39,39,39,39,39,39,39,39,39,39,39,39,39,39,39,39,39,39,39,39,39,39,39,39,39,39,39,39,39,39,39,39,39,39,39,39,39,39,39],\"xaxis\":\"x\",\"yaxis\":\"y\",\"type\":\"histogram\"},{\"alignmentgroup\":\"True\",\"bingroup\":\"x\",\"hovertemplate\":\"HOUSE_AGE=%{x}<br>count=%{y}<extra></extra>\",\"legendgroup\":\"35\",\"marker\":{\"color\":\"#EF553B\",\"pattern\":{\"shape\":\"\"}},\"name\":\"35\",\"offsetgroup\":\"35\",\"orientation\":\"v\",\"showlegend\":true,\"x\":[35,35,35,35,35,35,35,35,35,35,35,35,35,35,35,35,35,35,35,35,35,35,35,35,35,35,35,35,35,35,35,35,35,35,35,35,35,35,35,35,35,35,35,35,35,35,35,35,35,35,35,35,35,35,35,35,35,35,35,35,35,35,35,35,35,35,35,35,35,35,35,35,35,35,35,35,35,35,35,35,35,35,35,35,35,35,35,35,35,35,35,35,35,35,35,35,35,35,35,35,35,35,35,35,35,35,35,35,35,35,35,35,35,35,35,35,35,35,35,35,35,35,35,35,35,35,35,35,35,35,35,35,35,35,35,35,35,35,35,35,35,35,35,35,35,35,35,35,35,35,35,35,35,35,35,35,35,35,35],\"xaxis\":\"x\",\"yaxis\":\"y\",\"type\":\"histogram\"},{\"alignmentgroup\":\"True\",\"bingroup\":\"x\",\"hovertemplate\":\"HOUSE_AGE=%{x}<br>count=%{y}<extra></extra>\",\"legendgroup\":\"9\",\"marker\":{\"color\":\"#00cc96\",\"pattern\":{\"shape\":\"\"}},\"name\":\"9\",\"offsetgroup\":\"9\",\"orientation\":\"v\",\"showlegend\":true,\"x\":[9,9,9,9,9,9,9,9,9,9,9,9,9,9,9,9,9,9,9,9,9,9,9,9,9,9,9,9,9,9,9,9,9,9,9,9,9,9,9,9,9,9,9,9,9,9,9,9,9,9,9,9,9,9,9,9,9,9,9,9,9,9,9,9,9,9,9,9,9,9,9,9,9,9,9,9,9,9,9,9,9,9,9,9,9,9,9,9,9,9,9,9,9,9,9,9,9,9,9,9,9,9,9,9,9,9,9,9,9,9,9,9,9,9,9,9,9,9,9,9,9,9,9,9,9,9,9,9,9,9,9,9,9,9,9,9,9,9,9,9,9,9,9,9,9,9,9,9,9,9,9,9,9,9,9,9,9,9,9,9,9,9,9,9,9,9,9,9,9,9,9,9,9,9,9,9],\"xaxis\":\"x\",\"yaxis\":\"y\",\"type\":\"histogram\"},{\"alignmentgroup\":\"True\",\"bingroup\":\"x\",\"hovertemplate\":\"HOUSE_AGE=%{x}<br>count=%{y}<extra></extra>\",\"legendgroup\":\"6\",\"marker\":{\"color\":\"#ab63fa\",\"pattern\":{\"shape\":\"\"}},\"name\":\"6\",\"offsetgroup\":\"6\",\"orientation\":\"v\",\"showlegend\":true,\"x\":[6,6,6,6,6,6,6,6,6,6,6,6,6,6,6,6,6,6,6,6,6,6,6,6,6,6,6,6,6,6,6,6,6,6,6,6,6,6,6,6,6,6,6,6,6,6,6,6,6,6,6,6,6,6,6,6,6,6,6,6,6,6,6,6,6,6,6,6,6,6,6,6,6,6,6,6,6,6,6,6,6,6,6,6,6,6,6,6,6,6,6,6,6,6,6,6,6,6,6,6,6,6,6,6,6,6,6,6,6,6,6,6,6,6,6,6,6,6,6,6,6,6,6,6,6,6,6,6,6,6,6,6,6,6,6,6,6,6,6,6,6,6,6,6,6,6,6,6,6,6,6,6,6,6,6,6,6,6,6,6,6,6,6,6,6,6,6,6,6,6,6,6,6],\"xaxis\":\"x\",\"yaxis\":\"y\",\"type\":\"histogram\"},{\"alignmentgroup\":\"True\",\"bingroup\":\"x\",\"hovertemplate\":\"HOUSE_AGE=%{x}<br>count=%{y}<extra></extra>\",\"legendgroup\":\"21\",\"marker\":{\"color\":\"#FFA15A\",\"pattern\":{\"shape\":\"\"}},\"name\":\"21\",\"offsetgroup\":\"21\",\"orientation\":\"v\",\"showlegend\":true,\"x\":[21,21,21,21,21,21,21,21,21,21,21,21,21,21,21,21,21,21,21,21,21,21,21,21,21,21,21,21,21,21,21,21,21,21,21,21,21,21,21,21,21,21,21,21,21,21,21,21,21,21,21,21,21,21,21,21,21,21,21,21,21,21,21,21,21,21,21,21,21,21,21,21,21,21,21,21,21,21,21,21,21,21,21,21,21,21,21,21,21,21,21,21,21,21,21,21,21,21,21,21,21,21,21,21,21,21,21,21,21,21,21,21,21,21,21,21,21,21,21,21,21,21,21,21,21,21,21,21,21,21,21,21,21,21,21,21,21,21,21,21,21,21,21,21,21,21,21,21,21,21,21,21,21,21,21,21,21,21,21,21,21,21,21,21,21,21,21,21],\"xaxis\":\"x\",\"yaxis\":\"y\",\"type\":\"histogram\"},{\"alignmentgroup\":\"True\",\"bingroup\":\"x\",\"hovertemplate\":\"HOUSE_AGE=%{x}<br>count=%{y}<extra></extra>\",\"legendgroup\":\"27\",\"marker\":{\"color\":\"#19d3f3\",\"pattern\":{\"shape\":\"\"}},\"name\":\"27\",\"offsetgroup\":\"27\",\"orientation\":\"v\",\"showlegend\":true,\"x\":[27,27,27,27,27,27,27,27,27,27,27,27,27,27,27,27,27,27,27,27,27,27,27,27,27,27,27,27,27,27,27,27,27,27,27,27,27,27,27,27,27,27,27,27,27,27,27,27,27,27,27,27,27,27,27,27,27,27,27,27,27,27,27,27,27,27,27,27,27,27,27,27,27,27,27,27,27,27,27,27,27,27,27,27,27,27,27,27,27,27,27,27,27,27,27,27,27,27,27,27,27,27,27,27,27,27,27,27,27,27,27,27,27,27,27,27,27,27,27,27,27,27,27,27,27,27,27,27,27,27,27,27,27,27,27,27,27,27,27,27,27,27,27,27,27,27,27,27,27,27,27,27,27,27,27,27,27,27,27,27,27,27,27],\"xaxis\":\"x\",\"yaxis\":\"y\",\"type\":\"histogram\"},{\"alignmentgroup\":\"True\",\"bingroup\":\"x\",\"hovertemplate\":\"HOUSE_AGE=%{x}<br>count=%{y}<extra></extra>\",\"legendgroup\":\"13\",\"marker\":{\"color\":\"#FF6692\",\"pattern\":{\"shape\":\"\"}},\"name\":\"13\",\"offsetgroup\":\"13\",\"orientation\":\"v\",\"showlegend\":true,\"x\":[13,13,13,13,13,13,13,13,13,13,13,13,13,13,13,13,13,13,13,13,13,13,13,13,13,13,13,13,13,13,13,13,13,13,13,13,13,13,13,13,13,13,13,13,13,13,13,13,13,13,13,13,13,13,13,13,13,13,13,13,13,13,13,13,13,13,13,13,13,13,13,13,13,13,13,13,13,13,13,13,13,13,13,13,13,13,13,13,13,13,13,13,13,13,13,13,13,13,13,13,13,13,13,13,13,13,13,13,13,13,13,13,13,13,13,13,13,13,13,13,13,13,13,13,13,13,13,13,13,13,13,13,13,13,13,13,13,13,13,13,13,13,13,13,13,13,13,13,13,13,13,13,13,13,13,13,13,13,13,13,13,13,13,13],\"xaxis\":\"x\",\"yaxis\":\"y\",\"type\":\"histogram\"},{\"alignmentgroup\":\"True\",\"bingroup\":\"x\",\"hovertemplate\":\"HOUSE_AGE=%{x}<br>count=%{y}<extra></extra>\",\"legendgroup\":\"40\",\"marker\":{\"color\":\"#B6E880\",\"pattern\":{\"shape\":\"\"}},\"name\":\"40\",\"offsetgroup\":\"40\",\"orientation\":\"v\",\"showlegend\":true,\"x\":[40,40,40,40,40,40,40,40,40,40,40,40,40,40,40,40,40,40,40,40,40,40,40,40,40,40,40,40,40,40,40,40,40,40,40,40,40,40,40,40,40,40,40,40,40,40,40,40,40,40,40,40,40,40,40,40,40,40,40,40,40,40,40,40,40,40,40,40,40,40,40,40,40,40,40,40,40,40,40,40,40,40,40,40,40,40,40,40,40,40,40,40,40,40,40,40,40,40,40,40,40,40,40,40,40,40,40,40,40,40,40,40,40,40,40,40,40,40,40,40,40,40,40,40,40,40,40,40,40,40,40],\"xaxis\":\"x\",\"yaxis\":\"y\",\"type\":\"histogram\"},{\"alignmentgroup\":\"True\",\"bingroup\":\"x\",\"hovertemplate\":\"HOUSE_AGE=%{x}<br>count=%{y}<extra></extra>\",\"legendgroup\":\"48\",\"marker\":{\"color\":\"#FF97FF\",\"pattern\":{\"shape\":\"\"}},\"name\":\"48\",\"offsetgroup\":\"48\",\"orientation\":\"v\",\"showlegend\":true,\"x\":[48,48,48,48,48,48,48,48,48,48,48,48,48,48,48,48,48,48,48,48,48,48,48,48,48,48,48,48,48,48,48,48,48,48,48,48,48,48,48,48,48,48,48,48,48,48,48,48,48,48,48,48,48,48,48,48,48,48],\"xaxis\":\"x\",\"yaxis\":\"y\",\"type\":\"histogram\"},{\"alignmentgroup\":\"True\",\"bingroup\":\"x\",\"hovertemplate\":\"HOUSE_AGE=%{x}<br>count=%{y}<extra></extra>\",\"legendgroup\":\"46\",\"marker\":{\"color\":\"#FECB52\",\"pattern\":{\"shape\":\"\"}},\"name\":\"46\",\"offsetgroup\":\"46\",\"orientation\":\"v\",\"showlegend\":true,\"x\":[46,46,46,46,46,46,46,46,46,46,46,46,46,46,46,46,46,46,46,46,46,46,46,46,46,46,46,46,46,46,46,46,46,46,46,46,46,46,46,46,46,46],\"xaxis\":\"x\",\"yaxis\":\"y\",\"type\":\"histogram\"},{\"alignmentgroup\":\"True\",\"bingroup\":\"x\",\"hovertemplate\":\"HOUSE_AGE=%{x}<br>count=%{y}<extra></extra>\",\"legendgroup\":\"29\",\"marker\":{\"color\":\"#636efa\",\"pattern\":{\"shape\":\"\"}},\"name\":\"29\",\"offsetgroup\":\"29\",\"orientation\":\"v\",\"showlegend\":true,\"x\":[29,29,29,29,29,29,29,29,29,29,29,29,29,29,29,29,29,29,29,29,29,29,29,29,29,29,29,29,29,29,29,29,29,29,29,29,29,29,29,29,29,29,29,29,29,29,29,29,29,29,29,29,29,29,29,29,29,29,29,29,29,29,29,29,29,29,29,29,29,29,29,29,29,29,29,29,29,29,29,29,29,29,29,29,29,29,29,29,29,29,29,29,29,29,29,29,29,29,29,29,29,29,29,29,29,29,29,29,29,29,29,29,29,29,29,29,29,29,29,29,29,29,29,29,29,29,29,29,29,29,29,29,29,29,29,29,29,29,29,29,29,29,29,29,29,29,29,29,29,29,29,29,29,29,29,29,29,29,29,29,29,29,29,29,29,29,29,29,29,29,29,29,29,29,29,29,29,29,29,29,29,29,29],\"xaxis\":\"x\",\"yaxis\":\"y\",\"type\":\"histogram\"},{\"alignmentgroup\":\"True\",\"bingroup\":\"x\",\"hovertemplate\":\"HOUSE_AGE=%{x}<br>count=%{y}<extra></extra>\",\"legendgroup\":\"49\",\"marker\":{\"color\":\"#EF553B\",\"pattern\":{\"shape\":\"\"}},\"name\":\"49\",\"offsetgroup\":\"49\",\"orientation\":\"v\",\"showlegend\":true,\"x\":[49,49,49,49,49,49,49,49,49,49,49,49,49,49,49,49,49,49,49,49,49,49,49,49,49,49,49,49,49,49,49,49,49,49,49,49,49,49,49,49,49,49,49,49,49,49,49,49,49,49,49,49,49,49,49],\"xaxis\":\"x\",\"yaxis\":\"y\",\"type\":\"histogram\"},{\"alignmentgroup\":\"True\",\"bingroup\":\"x\",\"hovertemplate\":\"HOUSE_AGE=%{x}<br>count=%{y}<extra></extra>\",\"legendgroup\":\"45\",\"marker\":{\"color\":\"#00cc96\",\"pattern\":{\"shape\":\"\"}},\"name\":\"45\",\"offsetgroup\":\"45\",\"orientation\":\"v\",\"showlegend\":true,\"x\":[45,45,45,45,45,45,45,45,45,45,45,45,45,45,45,45,45,45,45,45,45,45,45,45,45,45,45,45,45,45,45,45,45,45,45,45,45,45,45,45,45,45,45,45,45,45,45,45,45,45,45,45,45,45,45,45,45,45,45,45,45,45,45,45,45,45,45,45,45,45,45],\"xaxis\":\"x\",\"yaxis\":\"y\",\"type\":\"histogram\"},{\"alignmentgroup\":\"True\",\"bingroup\":\"x\",\"hovertemplate\":\"HOUSE_AGE=%{x}<br>count=%{y}<extra></extra>\",\"legendgroup\":\"31\",\"marker\":{\"color\":\"#ab63fa\",\"pattern\":{\"shape\":\"\"}},\"name\":\"31\",\"offsetgroup\":\"31\",\"orientation\":\"v\",\"showlegend\":true,\"x\":[31,31,31,31,31,31,31,31,31,31,31,31,31,31,31,31,31,31,31,31,31,31,31,31,31,31,31,31,31,31,31,31,31,31,31,31,31,31,31,31,31,31,31,31,31,31,31,31,31,31,31,31,31,31,31,31,31,31,31,31,31,31,31,31,31,31,31,31,31,31,31,31,31,31,31,31,31,31,31,31,31,31,31,31,31,31,31,31,31,31,31,31,31,31,31,31,31,31,31,31,31,31,31,31,31,31,31,31,31,31,31,31,31,31,31,31,31,31,31,31,31,31,31,31,31,31,31,31,31,31,31,31,31,31,31,31],\"xaxis\":\"x\",\"yaxis\":\"y\",\"type\":\"histogram\"},{\"alignmentgroup\":\"True\",\"bingroup\":\"x\",\"hovertemplate\":\"HOUSE_AGE=%{x}<br>count=%{y}<extra></extra>\",\"legendgroup\":\"41\",\"marker\":{\"color\":\"#FFA15A\",\"pattern\":{\"shape\":\"\"}},\"name\":\"41\",\"offsetgroup\":\"41\",\"orientation\":\"v\",\"showlegend\":true,\"x\":[41,41,41,41,41,41,41,41,41,41,41,41,41,41,41,41,41,41,41,41,41,41,41,41,41,41,41,41,41,41,41,41,41,41,41,41,41,41,41,41,41,41,41,41,41,41,41,41,41,41,41,41,41,41,41,41,41,41,41,41,41,41,41,41,41,41,41,41,41,41,41,41,41,41,41,41,41,41,41,41,41,41,41],\"xaxis\":\"x\",\"yaxis\":\"y\",\"type\":\"histogram\"},{\"alignmentgroup\":\"True\",\"bingroup\":\"x\",\"hovertemplate\":\"HOUSE_AGE=%{x}<br>count=%{y}<extra></extra>\",\"legendgroup\":\"24\",\"marker\":{\"color\":\"#19d3f3\",\"pattern\":{\"shape\":\"\"}},\"name\":\"24\",\"offsetgroup\":\"24\",\"orientation\":\"v\",\"showlegend\":true,\"x\":[24,24,24,24,24,24,24,24,24,24,24,24,24,24,24,24,24,24,24,24,24,24,24,24,24,24,24,24,24,24,24,24,24,24,24,24,24,24,24,24,24,24,24,24,24,24,24,24,24,24,24,24,24,24,24,24,24,24,24,24,24,24,24,24,24,24,24,24,24,24,24,24,24,24,24,24,24,24,24,24,24,24,24,24,24,24,24,24,24,24,24,24,24,24,24,24,24,24,24,24,24,24,24,24,24,24,24,24,24,24,24,24,24,24,24,24,24,24,24,24,24,24,24,24,24,24,24,24,24,24,24,24,24,24,24,24,24,24,24,24,24,24,24,24,24,24,24,24,24,24,24,24,24,24,24,24,24,24,24,24,24,24,24,24,24,24,24,24,24,24,24,24,24,24,24,24,24,24,24,24,24,24,24],\"xaxis\":\"x\",\"yaxis\":\"y\",\"type\":\"histogram\"},{\"alignmentgroup\":\"True\",\"bingroup\":\"x\",\"hovertemplate\":\"HOUSE_AGE=%{x}<br>count=%{y}<extra></extra>\",\"legendgroup\":\"25\",\"marker\":{\"color\":\"#FF6692\",\"pattern\":{\"shape\":\"\"}},\"name\":\"25\",\"offsetgroup\":\"25\",\"orientation\":\"v\",\"showlegend\":true,\"x\":[25,25,25,25,25,25,25,25,25,25,25,25,25,25,25,25,25,25,25,25,25,25,25,25,25,25,25,25,25,25,25,25,25,25,25,25,25,25,25,25,25,25,25,25,25,25,25,25,25,25,25,25,25,25,25,25,25,25,25,25,25,25,25,25,25,25,25,25,25,25,25,25,25,25,25,25,25,25,25,25,25,25,25,25,25,25,25,25,25,25,25,25,25,25,25,25,25,25,25,25,25,25,25,25,25,25,25,25,25,25,25,25,25,25,25,25,25,25,25,25,25,25,25,25,25,25,25,25,25,25,25,25,25,25,25,25,25,25,25,25,25,25,25,25,25,25,25,25,25,25,25,25,25,25,25,25,25,25,25,25,25,25,25,25,25,25,25,25,25,25,25,25,25,25,25,25,25],\"xaxis\":\"x\",\"yaxis\":\"y\",\"type\":\"histogram\"},{\"alignmentgroup\":\"True\",\"bingroup\":\"x\",\"hovertemplate\":\"HOUSE_AGE=%{x}<br>count=%{y}<extra></extra>\",\"legendgroup\":\"23\",\"marker\":{\"color\":\"#B6E880\",\"pattern\":{\"shape\":\"\"}},\"name\":\"23\",\"offsetgroup\":\"23\",\"orientation\":\"v\",\"showlegend\":true,\"x\":[23,23,23,23,23,23,23,23,23,23,23,23,23,23,23,23,23,23,23,23,23,23,23,23,23,23,23,23,23,23,23,23,23,23,23,23,23,23,23,23,23,23,23,23,23,23,23,23,23,23,23,23,23,23,23,23,23,23,23,23,23,23,23,23,23,23,23,23,23,23,23,23,23,23,23,23,23,23,23,23,23,23,23,23,23,23,23,23,23,23,23,23,23,23,23,23,23,23,23,23,23,23,23,23,23,23,23,23,23,23,23,23,23,23,23,23,23,23,23,23,23,23,23,23,23,23,23,23,23,23,23,23,23,23,23,23,23,23,23,23,23,23,23,23,23,23,23,23,23,23,23,23,23,23,23,23,23,23,23,23,23,23,23,23,23,23,23,23,23,23,23,23,23,23,23,23,23],\"xaxis\":\"x\",\"yaxis\":\"y\",\"type\":\"histogram\"},{\"alignmentgroup\":\"True\",\"bingroup\":\"x\",\"hovertemplate\":\"HOUSE_AGE=%{x}<br>count=%{y}<extra></extra>\",\"legendgroup\":\"33\",\"marker\":{\"color\":\"#FF97FF\",\"pattern\":{\"shape\":\"\"}},\"name\":\"33\",\"offsetgroup\":\"33\",\"orientation\":\"v\",\"showlegend\":true,\"x\":[33,33,33,33,33,33,33,33,33,33,33,33,33,33,33,33,33,33,33,33,33,33,33,33,33,33,33,33,33,33,33,33,33,33,33,33,33,33,33,33,33,33,33,33,33,33,33,33,33,33,33,33,33,33,33,33,33,33,33,33,33,33,33,33,33,33,33,33,33,33,33,33,33,33,33,33,33,33,33,33,33,33,33,33,33,33,33,33,33,33,33,33,33,33,33,33,33,33,33,33,33,33,33,33,33,33,33,33,33,33,33,33,33,33,33,33,33,33,33,33,33,33,33,33,33,33,33,33,33,33,33,33,33,33,33,33,33,33,33,33,33,33,33,33,33,33,33,33,33,33,33,33,33,33,33,33,33,33,33,33,33,33,33,33,33,33,33,33,33,33],\"xaxis\":\"x\",\"yaxis\":\"y\",\"type\":\"histogram\"},{\"alignmentgroup\":\"True\",\"bingroup\":\"x\",\"hovertemplate\":\"HOUSE_AGE=%{x}<br>count=%{y}<extra></extra>\",\"legendgroup\":\"43\",\"marker\":{\"color\":\"#FECB52\",\"pattern\":{\"shape\":\"\"}},\"name\":\"43\",\"offsetgroup\":\"43\",\"orientation\":\"v\",\"showlegend\":true,\"x\":[43,43,43,43,43,43,43,43,43,43,43,43,43,43,43,43,43,43,43,43,43,43,43,43,43,43,43,43,43,43,43,43,43,43,43,43,43,43,43,43,43,43,43,43,43,43,43,43,43,43,43,43,43,43,43,43,43,43,43,43,43,43,43,43,43,43,43,43,43,43,43,43,43,43,43,43,43,43,43,43,43,43,43,43,43],\"xaxis\":\"x\",\"yaxis\":\"y\",\"type\":\"histogram\"},{\"alignmentgroup\":\"True\",\"bingroup\":\"x\",\"hovertemplate\":\"HOUSE_AGE=%{x}<br>count=%{y}<extra></extra>\",\"legendgroup\":\"8\",\"marker\":{\"color\":\"#636efa\",\"pattern\":{\"shape\":\"\"}},\"name\":\"8\",\"offsetgroup\":\"8\",\"orientation\":\"v\",\"showlegend\":true,\"x\":[8,8,8,8,8,8,8,8,8,8,8,8,8,8,8,8,8,8,8,8,8,8,8,8,8,8,8,8,8,8,8,8,8,8,8,8,8,8,8,8,8,8,8,8,8,8,8,8,8,8,8,8,8,8,8,8,8,8,8,8,8,8,8,8,8,8,8,8,8,8,8,8,8,8,8,8,8,8,8,8,8,8,8,8,8,8,8,8,8,8,8,8,8,8,8,8,8,8,8,8,8,8,8,8,8,8,8,8,8,8,8,8,8,8,8,8,8,8,8,8,8,8,8,8,8,8,8,8,8,8,8,8,8,8,8,8,8,8,8,8,8,8,8,8,8,8,8,8,8,8,8,8,8,8,8,8,8,8,8,8,8,8,8,8,8,8,8,8,8,8,8,8,8,8,8,8,8,8,8,8,8,8,8,8,8,8,8,8],\"xaxis\":\"x\",\"yaxis\":\"y\",\"type\":\"histogram\"},{\"alignmentgroup\":\"True\",\"bingroup\":\"x\",\"hovertemplate\":\"HOUSE_AGE=%{x}<br>count=%{y}<extra></extra>\",\"legendgroup\":\"17\",\"marker\":{\"color\":\"#EF553B\",\"pattern\":{\"shape\":\"\"}},\"name\":\"17\",\"offsetgroup\":\"17\",\"orientation\":\"v\",\"showlegend\":true,\"x\":[17,17,17,17,17,17,17,17,17,17,17,17,17,17,17,17,17,17,17,17,17,17,17,17,17,17,17,17,17,17,17,17,17,17,17,17,17,17,17,17,17,17,17,17,17,17,17,17,17,17,17,17,17,17,17,17,17,17,17,17,17,17,17,17,17,17,17,17,17,17,17,17,17,17,17,17,17,17,17,17,17,17,17,17,17,17,17,17,17,17,17,17,17,17,17,17,17,17,17,17,17,17,17,17,17,17,17,17,17,17,17,17,17,17,17,17,17,17,17,17,17,17,17,17,17,17,17,17,17,17,17,17,17,17,17,17,17,17,17,17,17,17,17,17,17,17,17,17,17,17,17,17,17,17,17,17,17,17,17,17,17,17,17,17,17,17,17,17,17,17,17,17,17,17,17,17,17,17,17,17,17,17],\"xaxis\":\"x\",\"yaxis\":\"y\",\"type\":\"histogram\"},{\"alignmentgroup\":\"True\",\"bingroup\":\"x\",\"hovertemplate\":\"HOUSE_AGE=%{x}<br>count=%{y}<extra></extra>\",\"legendgroup\":\"14\",\"marker\":{\"color\":\"#00cc96\",\"pattern\":{\"shape\":\"\"}},\"name\":\"14\",\"offsetgroup\":\"14\",\"orientation\":\"v\",\"showlegend\":true,\"x\":[14,14,14,14,14,14,14,14,14,14,14,14,14,14,14,14,14,14,14,14,14,14,14,14,14,14,14,14,14,14,14,14,14,14,14,14,14,14,14,14,14,14,14,14,14,14,14,14,14,14,14,14,14,14,14,14,14,14,14,14,14,14,14,14,14,14,14,14,14,14,14,14,14,14,14,14,14,14,14,14,14,14,14,14,14,14,14,14,14,14,14,14,14,14,14,14,14,14,14,14,14,14,14,14,14,14,14,14,14,14,14,14,14,14,14,14,14,14,14,14,14,14,14,14,14,14,14,14,14,14,14,14,14,14,14,14,14,14,14,14,14,14,14,14,14,14,14,14,14,14,14,14,14,14,14,14,14,14,14,14,14,14,14,14,14,14,14,14,14,14,14,14,14,14,14,14,14,14,14,14,14,14,14,14],\"xaxis\":\"x\",\"yaxis\":\"y\",\"type\":\"histogram\"},{\"alignmentgroup\":\"True\",\"bingroup\":\"x\",\"hovertemplate\":\"HOUSE_AGE=%{x}<br>count=%{y}<extra></extra>\",\"legendgroup\":\"32\",\"marker\":{\"color\":\"#ab63fa\",\"pattern\":{\"shape\":\"\"}},\"name\":\"32\",\"offsetgroup\":\"32\",\"orientation\":\"v\",\"showlegend\":true,\"x\":[32,32,32,32,32,32,32,32,32,32,32,32,32,32,32,32,32,32,32,32,32,32,32,32,32,32,32,32,32,32,32,32,32,32,32,32,32,32,32,32,32,32,32,32,32,32,32,32,32,32,32,32,32,32,32,32,32,32,32,32,32,32,32,32,32,32,32,32,32,32,32,32,32,32,32,32,32,32,32,32,32,32,32,32,32,32,32,32,32,32,32,32,32,32,32,32,32,32,32,32,32,32,32,32,32,32,32,32,32,32,32,32,32,32,32,32,32,32,32,32,32,32,32,32,32,32,32,32,32,32],\"xaxis\":\"x\",\"yaxis\":\"y\",\"type\":\"histogram\"},{\"alignmentgroup\":\"True\",\"bingroup\":\"x\",\"hovertemplate\":\"HOUSE_AGE=%{x}<br>count=%{y}<extra></extra>\",\"legendgroup\":\"53\",\"marker\":{\"color\":\"#FFA15A\",\"pattern\":{\"shape\":\"\"}},\"name\":\"53\",\"offsetgroup\":\"53\",\"orientation\":\"v\",\"showlegend\":true,\"x\":[53,53,53,53,53,53,53,53,53,53,53,53,53,53,53,53,53,53,53,53,53],\"xaxis\":\"x\",\"yaxis\":\"y\",\"type\":\"histogram\"},{\"alignmentgroup\":\"True\",\"bingroup\":\"x\",\"hovertemplate\":\"HOUSE_AGE=%{x}<br>count=%{y}<extra></extra>\",\"legendgroup\":\"38\",\"marker\":{\"color\":\"#19d3f3\",\"pattern\":{\"shape\":\"\"}},\"name\":\"38\",\"offsetgroup\":\"38\",\"orientation\":\"v\",\"showlegend\":true,\"x\":[38,38,38,38,38,38,38,38,38,38,38,38,38,38,38,38,38,38,38,38,38,38,38,38,38,38,38,38,38,38,38,38,38,38,38,38,38,38,38,38,38,38,38,38,38,38,38,38,38,38,38,38,38,38,38,38,38,38,38,38,38,38,38,38,38,38,38,38,38,38,38,38,38,38,38,38,38,38,38,38,38,38,38,38,38,38,38,38,38,38,38,38,38,38,38,38,38,38,38,38,38,38,38,38,38,38,38,38,38,38,38,38,38,38,38,38,38,38,38,38,38,38,38,38,38,38,38,38,38,38,38,38,38,38,38,38,38,38,38,38,38,38,38,38,38,38,38,38,38,38],\"xaxis\":\"x\",\"yaxis\":\"y\",\"type\":\"histogram\"},{\"alignmentgroup\":\"True\",\"bingroup\":\"x\",\"hovertemplate\":\"HOUSE_AGE=%{x}<br>count=%{y}<extra></extra>\",\"legendgroup\":\"12\",\"marker\":{\"color\":\"#FF6692\",\"pattern\":{\"shape\":\"\"}},\"name\":\"12\",\"offsetgroup\":\"12\",\"orientation\":\"v\",\"showlegend\":true,\"x\":[12,12,12,12,12,12,12,12,12,12,12,12,12,12,12,12,12,12,12,12,12,12,12,12,12,12,12,12,12,12,12,12,12,12,12,12,12,12,12,12,12,12,12,12,12,12,12,12,12,12,12,12,12,12,12,12,12,12,12,12,12,12,12,12,12,12,12,12,12,12,12,12,12,12,12,12,12,12,12,12,12,12,12,12,12,12,12,12,12,12,12,12,12,12,12,12,12,12,12,12,12,12,12,12,12,12,12,12,12,12,12,12,12,12,12,12,12,12,12,12,12,12,12,12,12,12,12,12,12,12,12,12,12,12,12,12,12,12,12,12,12,12,12,12,12,12,12,12,12,12,12,12,12,12,12,12,12,12,12,12,12,12,12,12,12,12,12,12,12,12,12,12,12,12,12,12,12,12,12,12,12,12,12,12,12,12],\"xaxis\":\"x\",\"yaxis\":\"y\",\"type\":\"histogram\"},{\"alignmentgroup\":\"True\",\"bingroup\":\"x\",\"hovertemplate\":\"HOUSE_AGE=%{x}<br>count=%{y}<extra></extra>\",\"legendgroup\":\"50\",\"marker\":{\"color\":\"#B6E880\",\"pattern\":{\"shape\":\"\"}},\"name\":\"50\",\"offsetgroup\":\"50\",\"orientation\":\"v\",\"showlegend\":true,\"x\":[50,50,50,50,50,50,50,50,50,50,50,50,50,50,50,50,50,50,50,50,50,50,50,50,50,50,50,50,50,50,50,50,50,50,50,50,50,50,50,50,50,50,50,50,50,50,50],\"xaxis\":\"x\",\"yaxis\":\"y\",\"type\":\"histogram\"},{\"alignmentgroup\":\"True\",\"bingroup\":\"x\",\"hovertemplate\":\"HOUSE_AGE=%{x}<br>count=%{y}<extra></extra>\",\"legendgroup\":\"55\",\"marker\":{\"color\":\"#FF97FF\",\"pattern\":{\"shape\":\"\"}},\"name\":\"55\",\"offsetgroup\":\"55\",\"orientation\":\"v\",\"showlegend\":true,\"x\":[55,55,55,55,55,55,55,55,55,55,55,55,55,55,55,55,55,55,55,55,55],\"xaxis\":\"x\",\"yaxis\":\"y\",\"type\":\"histogram\"},{\"alignmentgroup\":\"True\",\"bingroup\":\"x\",\"hovertemplate\":\"HOUSE_AGE=%{x}<br>count=%{y}<extra></extra>\",\"legendgroup\":\"47\",\"marker\":{\"color\":\"#FECB52\",\"pattern\":{\"shape\":\"\"}},\"name\":\"47\",\"offsetgroup\":\"47\",\"orientation\":\"v\",\"showlegend\":true,\"x\":[47,47,47,47,47,47,47,47,47,47,47,47,47,47,47,47,47,47,47,47,47,47,47,47,47,47,47,47,47,47,47,47,47,47,47,47,47,47,47,47,47,47,47,47],\"xaxis\":\"x\",\"yaxis\":\"y\",\"type\":\"histogram\"},{\"alignmentgroup\":\"True\",\"bingroup\":\"x\",\"hovertemplate\":\"HOUSE_AGE=%{x}<br>count=%{y}<extra></extra>\",\"legendgroup\":\"51\",\"marker\":{\"color\":\"#636efa\",\"pattern\":{\"shape\":\"\"}},\"name\":\"51\",\"offsetgroup\":\"51\",\"orientation\":\"v\",\"showlegend\":true,\"x\":[51,51,51,51,51,51,51,51,51,51,51,51,51,51,51,51,51,51,51],\"xaxis\":\"x\",\"yaxis\":\"y\",\"type\":\"histogram\"},{\"alignmentgroup\":\"True\",\"bingroup\":\"x\",\"hovertemplate\":\"HOUSE_AGE=%{x}<br>count=%{y}<extra></extra>\",\"legendgroup\":\"52\",\"marker\":{\"color\":\"#EF553B\",\"pattern\":{\"shape\":\"\"}},\"name\":\"52\",\"offsetgroup\":\"52\",\"orientation\":\"v\",\"showlegend\":true,\"x\":[52,52,52,52,52,52,52,52,52,52,52,52,52],\"xaxis\":\"x\",\"yaxis\":\"y\",\"type\":\"histogram\"},{\"alignmentgroup\":\"True\",\"bingroup\":\"x\",\"hovertemplate\":\"HOUSE_AGE=%{x}<br>count=%{y}<extra></extra>\",\"legendgroup\":\"3\",\"marker\":{\"color\":\"#00cc96\",\"pattern\":{\"shape\":\"\"}},\"name\":\"3\",\"offsetgroup\":\"3\",\"orientation\":\"v\",\"showlegend\":true,\"x\":[3],\"xaxis\":\"x\",\"yaxis\":\"y\",\"type\":\"histogram\"}],                        {\"template\":{\"data\":{\"bar\":[{\"error_x\":{\"color\":\"#2a3f5f\"},\"error_y\":{\"color\":\"#2a3f5f\"},\"marker\":{\"line\":{\"color\":\"#E5ECF6\",\"width\":0.5},\"pattern\":{\"fillmode\":\"overlay\",\"size\":10,\"solidity\":0.2}},\"type\":\"bar\"}],\"barpolar\":[{\"marker\":{\"line\":{\"color\":\"#E5ECF6\",\"width\":0.5},\"pattern\":{\"fillmode\":\"overlay\",\"size\":10,\"solidity\":0.2}},\"type\":\"barpolar\"}],\"carpet\":[{\"aaxis\":{\"endlinecolor\":\"#2a3f5f\",\"gridcolor\":\"white\",\"linecolor\":\"white\",\"minorgridcolor\":\"white\",\"startlinecolor\":\"#2a3f5f\"},\"baxis\":{\"endlinecolor\":\"#2a3f5f\",\"gridcolor\":\"white\",\"linecolor\":\"white\",\"minorgridcolor\":\"white\",\"startlinecolor\":\"#2a3f5f\"},\"type\":\"carpet\"}],\"choropleth\":[{\"colorbar\":{\"outlinewidth\":0,\"ticks\":\"\"},\"type\":\"choropleth\"}],\"contour\":[{\"colorbar\":{\"outlinewidth\":0,\"ticks\":\"\"},\"colorscale\":[[0.0,\"#0d0887\"],[0.1111111111111111,\"#46039f\"],[0.2222222222222222,\"#7201a8\"],[0.3333333333333333,\"#9c179e\"],[0.4444444444444444,\"#bd3786\"],[0.5555555555555556,\"#d8576b\"],[0.6666666666666666,\"#ed7953\"],[0.7777777777777778,\"#fb9f3a\"],[0.8888888888888888,\"#fdca26\"],[1.0,\"#f0f921\"]],\"type\":\"contour\"}],\"contourcarpet\":[{\"colorbar\":{\"outlinewidth\":0,\"ticks\":\"\"},\"type\":\"contourcarpet\"}],\"heatmap\":[{\"colorbar\":{\"outlinewidth\":0,\"ticks\":\"\"},\"colorscale\":[[0.0,\"#0d0887\"],[0.1111111111111111,\"#46039f\"],[0.2222222222222222,\"#7201a8\"],[0.3333333333333333,\"#9c179e\"],[0.4444444444444444,\"#bd3786\"],[0.5555555555555556,\"#d8576b\"],[0.6666666666666666,\"#ed7953\"],[0.7777777777777778,\"#fb9f3a\"],[0.8888888888888888,\"#fdca26\"],[1.0,\"#f0f921\"]],\"type\":\"heatmap\"}],\"heatmapgl\":[{\"colorbar\":{\"outlinewidth\":0,\"ticks\":\"\"},\"colorscale\":[[0.0,\"#0d0887\"],[0.1111111111111111,\"#46039f\"],[0.2222222222222222,\"#7201a8\"],[0.3333333333333333,\"#9c179e\"],[0.4444444444444444,\"#bd3786\"],[0.5555555555555556,\"#d8576b\"],[0.6666666666666666,\"#ed7953\"],[0.7777777777777778,\"#fb9f3a\"],[0.8888888888888888,\"#fdca26\"],[1.0,\"#f0f921\"]],\"type\":\"heatmapgl\"}],\"histogram\":[{\"marker\":{\"pattern\":{\"fillmode\":\"overlay\",\"size\":10,\"solidity\":0.2}},\"type\":\"histogram\"}],\"histogram2d\":[{\"colorbar\":{\"outlinewidth\":0,\"ticks\":\"\"},\"colorscale\":[[0.0,\"#0d0887\"],[0.1111111111111111,\"#46039f\"],[0.2222222222222222,\"#7201a8\"],[0.3333333333333333,\"#9c179e\"],[0.4444444444444444,\"#bd3786\"],[0.5555555555555556,\"#d8576b\"],[0.6666666666666666,\"#ed7953\"],[0.7777777777777778,\"#fb9f3a\"],[0.8888888888888888,\"#fdca26\"],[1.0,\"#f0f921\"]],\"type\":\"histogram2d\"}],\"histogram2dcontour\":[{\"colorbar\":{\"outlinewidth\":0,\"ticks\":\"\"},\"colorscale\":[[0.0,\"#0d0887\"],[0.1111111111111111,\"#46039f\"],[0.2222222222222222,\"#7201a8\"],[0.3333333333333333,\"#9c179e\"],[0.4444444444444444,\"#bd3786\"],[0.5555555555555556,\"#d8576b\"],[0.6666666666666666,\"#ed7953\"],[0.7777777777777778,\"#fb9f3a\"],[0.8888888888888888,\"#fdca26\"],[1.0,\"#f0f921\"]],\"type\":\"histogram2dcontour\"}],\"mesh3d\":[{\"colorbar\":{\"outlinewidth\":0,\"ticks\":\"\"},\"type\":\"mesh3d\"}],\"parcoords\":[{\"line\":{\"colorbar\":{\"outlinewidth\":0,\"ticks\":\"\"}},\"type\":\"parcoords\"}],\"pie\":[{\"automargin\":true,\"type\":\"pie\"}],\"scatter\":[{\"marker\":{\"colorbar\":{\"outlinewidth\":0,\"ticks\":\"\"}},\"type\":\"scatter\"}],\"scatter3d\":[{\"line\":{\"colorbar\":{\"outlinewidth\":0,\"ticks\":\"\"}},\"marker\":{\"colorbar\":{\"outlinewidth\":0,\"ticks\":\"\"}},\"type\":\"scatter3d\"}],\"scattercarpet\":[{\"marker\":{\"colorbar\":{\"outlinewidth\":0,\"ticks\":\"\"}},\"type\":\"scattercarpet\"}],\"scattergeo\":[{\"marker\":{\"colorbar\":{\"outlinewidth\":0,\"ticks\":\"\"}},\"type\":\"scattergeo\"}],\"scattergl\":[{\"marker\":{\"colorbar\":{\"outlinewidth\":0,\"ticks\":\"\"}},\"type\":\"scattergl\"}],\"scattermapbox\":[{\"marker\":{\"colorbar\":{\"outlinewidth\":0,\"ticks\":\"\"}},\"type\":\"scattermapbox\"}],\"scatterpolar\":[{\"marker\":{\"colorbar\":{\"outlinewidth\":0,\"ticks\":\"\"}},\"type\":\"scatterpolar\"}],\"scatterpolargl\":[{\"marker\":{\"colorbar\":{\"outlinewidth\":0,\"ticks\":\"\"}},\"type\":\"scatterpolargl\"}],\"scatterternary\":[{\"marker\":{\"colorbar\":{\"outlinewidth\":0,\"ticks\":\"\"}},\"type\":\"scatterternary\"}],\"surface\":[{\"colorbar\":{\"outlinewidth\":0,\"ticks\":\"\"},\"colorscale\":[[0.0,\"#0d0887\"],[0.1111111111111111,\"#46039f\"],[0.2222222222222222,\"#7201a8\"],[0.3333333333333333,\"#9c179e\"],[0.4444444444444444,\"#bd3786\"],[0.5555555555555556,\"#d8576b\"],[0.6666666666666666,\"#ed7953\"],[0.7777777777777778,\"#fb9f3a\"],[0.8888888888888888,\"#fdca26\"],[1.0,\"#f0f921\"]],\"type\":\"surface\"}],\"table\":[{\"cells\":{\"fill\":{\"color\":\"#EBF0F8\"},\"line\":{\"color\":\"white\"}},\"header\":{\"fill\":{\"color\":\"#C8D4E3\"},\"line\":{\"color\":\"white\"}},\"type\":\"table\"}]},\"layout\":{\"annotationdefaults\":{\"arrowcolor\":\"#2a3f5f\",\"arrowhead\":0,\"arrowwidth\":1},\"autotypenumbers\":\"strict\",\"coloraxis\":{\"colorbar\":{\"outlinewidth\":0,\"ticks\":\"\"}},\"colorscale\":{\"diverging\":[[0,\"#8e0152\"],[0.1,\"#c51b7d\"],[0.2,\"#de77ae\"],[0.3,\"#f1b6da\"],[0.4,\"#fde0ef\"],[0.5,\"#f7f7f7\"],[0.6,\"#e6f5d0\"],[0.7,\"#b8e186\"],[0.8,\"#7fbc41\"],[0.9,\"#4d9221\"],[1,\"#276419\"]],\"sequential\":[[0.0,\"#0d0887\"],[0.1111111111111111,\"#46039f\"],[0.2222222222222222,\"#7201a8\"],[0.3333333333333333,\"#9c179e\"],[0.4444444444444444,\"#bd3786\"],[0.5555555555555556,\"#d8576b\"],[0.6666666666666666,\"#ed7953\"],[0.7777777777777778,\"#fb9f3a\"],[0.8888888888888888,\"#fdca26\"],[1.0,\"#f0f921\"]],\"sequentialminus\":[[0.0,\"#0d0887\"],[0.1111111111111111,\"#46039f\"],[0.2222222222222222,\"#7201a8\"],[0.3333333333333333,\"#9c179e\"],[0.4444444444444444,\"#bd3786\"],[0.5555555555555556,\"#d8576b\"],[0.6666666666666666,\"#ed7953\"],[0.7777777777777778,\"#fb9f3a\"],[0.8888888888888888,\"#fdca26\"],[1.0,\"#f0f921\"]]},\"colorway\":[\"#636efa\",\"#EF553B\",\"#00cc96\",\"#ab63fa\",\"#FFA15A\",\"#19d3f3\",\"#FF6692\",\"#B6E880\",\"#FF97FF\",\"#FECB52\"],\"font\":{\"color\":\"#2a3f5f\"},\"geo\":{\"bgcolor\":\"white\",\"lakecolor\":\"white\",\"landcolor\":\"#E5ECF6\",\"showlakes\":true,\"showland\":true,\"subunitcolor\":\"white\"},\"hoverlabel\":{\"align\":\"left\"},\"hovermode\":\"closest\",\"mapbox\":{\"style\":\"light\"},\"paper_bgcolor\":\"white\",\"plot_bgcolor\":\"#E5ECF6\",\"polar\":{\"angularaxis\":{\"gridcolor\":\"white\",\"linecolor\":\"white\",\"ticks\":\"\"},\"bgcolor\":\"#E5ECF6\",\"radialaxis\":{\"gridcolor\":\"white\",\"linecolor\":\"white\",\"ticks\":\"\"}},\"scene\":{\"xaxis\":{\"backgroundcolor\":\"#E5ECF6\",\"gridcolor\":\"white\",\"gridwidth\":2,\"linecolor\":\"white\",\"showbackground\":true,\"ticks\":\"\",\"zerolinecolor\":\"white\"},\"yaxis\":{\"backgroundcolor\":\"#E5ECF6\",\"gridcolor\":\"white\",\"gridwidth\":2,\"linecolor\":\"white\",\"showbackground\":true,\"ticks\":\"\",\"zerolinecolor\":\"white\"},\"zaxis\":{\"backgroundcolor\":\"#E5ECF6\",\"gridcolor\":\"white\",\"gridwidth\":2,\"linecolor\":\"white\",\"showbackground\":true,\"ticks\":\"\",\"zerolinecolor\":\"white\"}},\"shapedefaults\":{\"line\":{\"color\":\"#2a3f5f\"}},\"ternary\":{\"aaxis\":{\"gridcolor\":\"white\",\"linecolor\":\"white\",\"ticks\":\"\"},\"baxis\":{\"gridcolor\":\"white\",\"linecolor\":\"white\",\"ticks\":\"\"},\"bgcolor\":\"#E5ECF6\",\"caxis\":{\"gridcolor\":\"white\",\"linecolor\":\"white\",\"ticks\":\"\"}},\"title\":{\"x\":0.05},\"xaxis\":{\"automargin\":true,\"gridcolor\":\"white\",\"linecolor\":\"white\",\"ticks\":\"\",\"title\":{\"standoff\":15},\"zerolinecolor\":\"white\",\"zerolinewidth\":2},\"yaxis\":{\"automargin\":true,\"gridcolor\":\"white\",\"linecolor\":\"white\",\"ticks\":\"\",\"title\":{\"standoff\":15},\"zerolinecolor\":\"white\",\"zerolinewidth\":2}}},\"xaxis\":{\"anchor\":\"y\",\"domain\":[0.0,1.0],\"title\":{\"text\":\"HOUSE_AGE\"},\"categoryorder\":\"array\",\"categoryarray\":[44,11,20,22,30,5,28,10,34,15,37,19,26,54,18,36,42,4,16,7,39,35,9,6,21,27,13,40,48,46,29,49,45,31,41,24,25,23,33,43,8,17,14,32,53,38,12,50,55,47,51,52,3]},\"yaxis\":{\"anchor\":\"x\",\"domain\":[0.0,1.0],\"title\":{\"text\":\"count\"}},\"legend\":{\"title\":{\"text\":\"HOUSE_AGE\"},\"tracegroupgap\":0},\"title\":{\"text\":\"<b>distribution of data as pre house age<br>\"},\"barmode\":\"relative\"},                        {\"responsive\": true}                    ).then(function(){\n",
              "                            \n",
              "var gd = document.getElementById('3c74ecb8-d1f1-4bc9-b809-e703ddf3a74c');\n",
              "var x = new MutationObserver(function (mutations, observer) {{\n",
              "        var display = window.getComputedStyle(gd).display;\n",
              "        if (!display || display === 'none') {{\n",
              "            console.log([gd, 'removed!']);\n",
              "            Plotly.purge(gd);\n",
              "            observer.disconnect();\n",
              "        }}\n",
              "}});\n",
              "\n",
              "// Listen for the removal of the full notebook cells\n",
              "var notebookContainer = gd.closest('#notebook-container');\n",
              "if (notebookContainer) {{\n",
              "    x.observe(notebookContainer, {childList: true});\n",
              "}}\n",
              "\n",
              "// Listen for the clearing of the current output cell\n",
              "var outputEl = gd.closest('.output');\n",
              "if (outputEl) {{\n",
              "    x.observe(outputEl, {childList: true});\n",
              "}}\n",
              "\n",
              "                        })                };                            </script>        </div>\n",
              "</body>\n",
              "</html>"
            ]
          },
          "metadata": {}
        }
      ]
    },
    {
      "cell_type": "markdown",
      "source": [
        "#**Feature and targets**"
      ],
      "metadata": {
        "id": "s0epUxZDOZzB"
      }
    },
    {
      "cell_type": "code",
      "source": [
        "#creating the data frame for area and sales price\n",
        "x=pd.DataFrame(df2.groupby(\"AREA\")[\"Total_price\"].mean())\n",
        "y=df2[\"AREA\"].unique()\n",
        "y=sorted(y)\n",
        " \n",
        "\n",
        "data={\"Area\":y,\"Average_price\":x[\"Total_price\"]}\n",
        "temp = pd.DataFrame(data)\n",
        "temp.sort_values('Average_price',inplace= True)"
      ],
      "metadata": {
        "id": "Xg1pd5YXOigc"
      },
      "execution_count": 266,
      "outputs": []
    },
    {
      "cell_type": "code",
      "source": [
        "fig1=px.bar(temp,x=\"Area\",y=\"Average_price\",color=\"Area\",title=\"<b>AREA vs Average_price<br>\")\n",
        "fig1"
      ],
      "metadata": {
        "colab": {
          "base_uri": "https://localhost:8080/",
          "height": 542
        },
        "id": "LRvxhCUqSRQJ",
        "outputId": "d54c54de-6ac1-48aa-8b56-5cd02c13fe1d"
      },
      "execution_count": 267,
      "outputs": [
        {
          "output_type": "display_data",
          "data": {
            "text/html": [
              "<html>\n",
              "<head><meta charset=\"utf-8\" /></head>\n",
              "<body>\n",
              "    <div>            <script src=\"https://cdnjs.cloudflare.com/ajax/libs/mathjax/2.7.5/MathJax.js?config=TeX-AMS-MML_SVG\"></script><script type=\"text/javascript\">if (window.MathJax) {MathJax.Hub.Config({SVG: {font: \"STIX-Web\"}});}</script>                <script type=\"text/javascript\">window.PlotlyConfig = {MathJaxConfig: 'local'};</script>\n",
              "        <script src=\"https://cdn.plot.ly/plotly-2.8.3.min.js\"></script>                <div id=\"bc5e6c0d-4768-41e0-8a17-80b276432ee0\" class=\"plotly-graph-div\" style=\"height:525px; width:100%;\"></div>            <script type=\"text/javascript\">                                    window.PLOTLYENV=window.PLOTLYENV || {};                                    if (document.getElementById(\"bc5e6c0d-4768-41e0-8a17-80b276432ee0\")) {                    Plotly.newPlot(                        \"bc5e6c0d-4768-41e0-8a17-80b276432ee0\",                        [{\"alignmentgroup\":\"True\",\"hovertemplate\":\"Area=%{x}<br>Average_price=%{y}<extra></extra>\",\"legendgroup\":\"Karapakkam\",\"marker\":{\"color\":\"#636efa\",\"pattern\":{\"shape\":\"\"}},\"name\":\"Karapakkam\",\"offsetgroup\":\"Karapakkam\",\"orientation\":\"v\",\"showlegend\":true,\"textposition\":\"auto\",\"x\":[\"Karapakkam\"],\"xaxis\":\"x\",\"y\":[7755529.468727005],\"yaxis\":\"y\",\"type\":\"bar\"},{\"alignmentgroup\":\"True\",\"hovertemplate\":\"Area=%{x}<br>Average_price=%{y}<extra></extra>\",\"legendgroup\":\"Adyar\",\"marker\":{\"color\":\"#EF553B\",\"pattern\":{\"shape\":\"\"}},\"name\":\"Adyar\",\"offsetgroup\":\"Adyar\",\"orientation\":\"v\",\"showlegend\":true,\"textposition\":\"auto\",\"x\":[\"Adyar\"],\"xaxis\":\"x\",\"y\":[9574888.377113134],\"yaxis\":\"y\",\"type\":\"bar\"},{\"alignmentgroup\":\"True\",\"hovertemplate\":\"Area=%{x}<br>Average_price=%{y}<extra></extra>\",\"legendgroup\":\"Chrompet\",\"marker\":{\"color\":\"#00cc96\",\"pattern\":{\"shape\":\"\"}},\"name\":\"Chrompet\",\"offsetgroup\":\"Chrompet\",\"orientation\":\"v\",\"showlegend\":true,\"textposition\":\"auto\",\"x\":[\"Chrompet\"],\"xaxis\":\"x\",\"y\":[10399033.126993503],\"yaxis\":\"y\",\"type\":\"bar\"},{\"alignmentgroup\":\"True\",\"hovertemplate\":\"Area=%{x}<br>Average_price=%{y}<extra></extra>\",\"legendgroup\":\"Velachery\",\"marker\":{\"color\":\"#ab63fa\",\"pattern\":{\"shape\":\"\"}},\"name\":\"Velachery\",\"offsetgroup\":\"Velachery\",\"orientation\":\"v\",\"showlegend\":true,\"textposition\":\"auto\",\"x\":[\"Velachery\"],\"xaxis\":\"x\",\"y\":[11589237.262564102],\"yaxis\":\"y\",\"type\":\"bar\"},{\"alignmentgroup\":\"True\",\"hovertemplate\":\"Area=%{x}<br>Average_price=%{y}<extra></extra>\",\"legendgroup\":\"KK Nagar\",\"marker\":{\"color\":\"#FFA15A\",\"pattern\":{\"shape\":\"\"}},\"name\":\"KK Nagar\",\"offsetgroup\":\"KK Nagar\",\"orientation\":\"v\",\"showlegend\":true,\"textposition\":\"auto\",\"x\":[\"KK Nagar\"],\"xaxis\":\"x\",\"y\":[13430242.7989899],\"yaxis\":\"y\",\"type\":\"bar\"},{\"alignmentgroup\":\"True\",\"hovertemplate\":\"Area=%{x}<br>Average_price=%{y}<extra></extra>\",\"legendgroup\":\"Anna Nagar\",\"marker\":{\"color\":\"#19d3f3\",\"pattern\":{\"shape\":\"\"}},\"name\":\"Anna Nagar\",\"offsetgroup\":\"Anna Nagar\",\"orientation\":\"v\",\"showlegend\":true,\"textposition\":\"auto\",\"x\":[\"Anna Nagar\"],\"xaxis\":\"x\",\"y\":[15838295.98974359],\"yaxis\":\"y\",\"type\":\"bar\"},{\"alignmentgroup\":\"True\",\"hovertemplate\":\"Area=%{x}<br>Average_price=%{y}<extra></extra>\",\"legendgroup\":\"T Nagar\",\"marker\":{\"color\":\"#FF6692\",\"pattern\":{\"shape\":\"\"}},\"name\":\"T Nagar\",\"offsetgroup\":\"T Nagar\",\"orientation\":\"v\",\"showlegend\":true,\"textposition\":\"auto\",\"x\":[\"T Nagar\"],\"xaxis\":\"x\",\"y\":[16326026.264646465],\"yaxis\":\"y\",\"type\":\"bar\"}],                        {\"template\":{\"data\":{\"bar\":[{\"error_x\":{\"color\":\"#2a3f5f\"},\"error_y\":{\"color\":\"#2a3f5f\"},\"marker\":{\"line\":{\"color\":\"#E5ECF6\",\"width\":0.5},\"pattern\":{\"fillmode\":\"overlay\",\"size\":10,\"solidity\":0.2}},\"type\":\"bar\"}],\"barpolar\":[{\"marker\":{\"line\":{\"color\":\"#E5ECF6\",\"width\":0.5},\"pattern\":{\"fillmode\":\"overlay\",\"size\":10,\"solidity\":0.2}},\"type\":\"barpolar\"}],\"carpet\":[{\"aaxis\":{\"endlinecolor\":\"#2a3f5f\",\"gridcolor\":\"white\",\"linecolor\":\"white\",\"minorgridcolor\":\"white\",\"startlinecolor\":\"#2a3f5f\"},\"baxis\":{\"endlinecolor\":\"#2a3f5f\",\"gridcolor\":\"white\",\"linecolor\":\"white\",\"minorgridcolor\":\"white\",\"startlinecolor\":\"#2a3f5f\"},\"type\":\"carpet\"}],\"choropleth\":[{\"colorbar\":{\"outlinewidth\":0,\"ticks\":\"\"},\"type\":\"choropleth\"}],\"contour\":[{\"colorbar\":{\"outlinewidth\":0,\"ticks\":\"\"},\"colorscale\":[[0.0,\"#0d0887\"],[0.1111111111111111,\"#46039f\"],[0.2222222222222222,\"#7201a8\"],[0.3333333333333333,\"#9c179e\"],[0.4444444444444444,\"#bd3786\"],[0.5555555555555556,\"#d8576b\"],[0.6666666666666666,\"#ed7953\"],[0.7777777777777778,\"#fb9f3a\"],[0.8888888888888888,\"#fdca26\"],[1.0,\"#f0f921\"]],\"type\":\"contour\"}],\"contourcarpet\":[{\"colorbar\":{\"outlinewidth\":0,\"ticks\":\"\"},\"type\":\"contourcarpet\"}],\"heatmap\":[{\"colorbar\":{\"outlinewidth\":0,\"ticks\":\"\"},\"colorscale\":[[0.0,\"#0d0887\"],[0.1111111111111111,\"#46039f\"],[0.2222222222222222,\"#7201a8\"],[0.3333333333333333,\"#9c179e\"],[0.4444444444444444,\"#bd3786\"],[0.5555555555555556,\"#d8576b\"],[0.6666666666666666,\"#ed7953\"],[0.7777777777777778,\"#fb9f3a\"],[0.8888888888888888,\"#fdca26\"],[1.0,\"#f0f921\"]],\"type\":\"heatmap\"}],\"heatmapgl\":[{\"colorbar\":{\"outlinewidth\":0,\"ticks\":\"\"},\"colorscale\":[[0.0,\"#0d0887\"],[0.1111111111111111,\"#46039f\"],[0.2222222222222222,\"#7201a8\"],[0.3333333333333333,\"#9c179e\"],[0.4444444444444444,\"#bd3786\"],[0.5555555555555556,\"#d8576b\"],[0.6666666666666666,\"#ed7953\"],[0.7777777777777778,\"#fb9f3a\"],[0.8888888888888888,\"#fdca26\"],[1.0,\"#f0f921\"]],\"type\":\"heatmapgl\"}],\"histogram\":[{\"marker\":{\"pattern\":{\"fillmode\":\"overlay\",\"size\":10,\"solidity\":0.2}},\"type\":\"histogram\"}],\"histogram2d\":[{\"colorbar\":{\"outlinewidth\":0,\"ticks\":\"\"},\"colorscale\":[[0.0,\"#0d0887\"],[0.1111111111111111,\"#46039f\"],[0.2222222222222222,\"#7201a8\"],[0.3333333333333333,\"#9c179e\"],[0.4444444444444444,\"#bd3786\"],[0.5555555555555556,\"#d8576b\"],[0.6666666666666666,\"#ed7953\"],[0.7777777777777778,\"#fb9f3a\"],[0.8888888888888888,\"#fdca26\"],[1.0,\"#f0f921\"]],\"type\":\"histogram2d\"}],\"histogram2dcontour\":[{\"colorbar\":{\"outlinewidth\":0,\"ticks\":\"\"},\"colorscale\":[[0.0,\"#0d0887\"],[0.1111111111111111,\"#46039f\"],[0.2222222222222222,\"#7201a8\"],[0.3333333333333333,\"#9c179e\"],[0.4444444444444444,\"#bd3786\"],[0.5555555555555556,\"#d8576b\"],[0.6666666666666666,\"#ed7953\"],[0.7777777777777778,\"#fb9f3a\"],[0.8888888888888888,\"#fdca26\"],[1.0,\"#f0f921\"]],\"type\":\"histogram2dcontour\"}],\"mesh3d\":[{\"colorbar\":{\"outlinewidth\":0,\"ticks\":\"\"},\"type\":\"mesh3d\"}],\"parcoords\":[{\"line\":{\"colorbar\":{\"outlinewidth\":0,\"ticks\":\"\"}},\"type\":\"parcoords\"}],\"pie\":[{\"automargin\":true,\"type\":\"pie\"}],\"scatter\":[{\"marker\":{\"colorbar\":{\"outlinewidth\":0,\"ticks\":\"\"}},\"type\":\"scatter\"}],\"scatter3d\":[{\"line\":{\"colorbar\":{\"outlinewidth\":0,\"ticks\":\"\"}},\"marker\":{\"colorbar\":{\"outlinewidth\":0,\"ticks\":\"\"}},\"type\":\"scatter3d\"}],\"scattercarpet\":[{\"marker\":{\"colorbar\":{\"outlinewidth\":0,\"ticks\":\"\"}},\"type\":\"scattercarpet\"}],\"scattergeo\":[{\"marker\":{\"colorbar\":{\"outlinewidth\":0,\"ticks\":\"\"}},\"type\":\"scattergeo\"}],\"scattergl\":[{\"marker\":{\"colorbar\":{\"outlinewidth\":0,\"ticks\":\"\"}},\"type\":\"scattergl\"}],\"scattermapbox\":[{\"marker\":{\"colorbar\":{\"outlinewidth\":0,\"ticks\":\"\"}},\"type\":\"scattermapbox\"}],\"scatterpolar\":[{\"marker\":{\"colorbar\":{\"outlinewidth\":0,\"ticks\":\"\"}},\"type\":\"scatterpolar\"}],\"scatterpolargl\":[{\"marker\":{\"colorbar\":{\"outlinewidth\":0,\"ticks\":\"\"}},\"type\":\"scatterpolargl\"}],\"scatterternary\":[{\"marker\":{\"colorbar\":{\"outlinewidth\":0,\"ticks\":\"\"}},\"type\":\"scatterternary\"}],\"surface\":[{\"colorbar\":{\"outlinewidth\":0,\"ticks\":\"\"},\"colorscale\":[[0.0,\"#0d0887\"],[0.1111111111111111,\"#46039f\"],[0.2222222222222222,\"#7201a8\"],[0.3333333333333333,\"#9c179e\"],[0.4444444444444444,\"#bd3786\"],[0.5555555555555556,\"#d8576b\"],[0.6666666666666666,\"#ed7953\"],[0.7777777777777778,\"#fb9f3a\"],[0.8888888888888888,\"#fdca26\"],[1.0,\"#f0f921\"]],\"type\":\"surface\"}],\"table\":[{\"cells\":{\"fill\":{\"color\":\"#EBF0F8\"},\"line\":{\"color\":\"white\"}},\"header\":{\"fill\":{\"color\":\"#C8D4E3\"},\"line\":{\"color\":\"white\"}},\"type\":\"table\"}]},\"layout\":{\"annotationdefaults\":{\"arrowcolor\":\"#2a3f5f\",\"arrowhead\":0,\"arrowwidth\":1},\"autotypenumbers\":\"strict\",\"coloraxis\":{\"colorbar\":{\"outlinewidth\":0,\"ticks\":\"\"}},\"colorscale\":{\"diverging\":[[0,\"#8e0152\"],[0.1,\"#c51b7d\"],[0.2,\"#de77ae\"],[0.3,\"#f1b6da\"],[0.4,\"#fde0ef\"],[0.5,\"#f7f7f7\"],[0.6,\"#e6f5d0\"],[0.7,\"#b8e186\"],[0.8,\"#7fbc41\"],[0.9,\"#4d9221\"],[1,\"#276419\"]],\"sequential\":[[0.0,\"#0d0887\"],[0.1111111111111111,\"#46039f\"],[0.2222222222222222,\"#7201a8\"],[0.3333333333333333,\"#9c179e\"],[0.4444444444444444,\"#bd3786\"],[0.5555555555555556,\"#d8576b\"],[0.6666666666666666,\"#ed7953\"],[0.7777777777777778,\"#fb9f3a\"],[0.8888888888888888,\"#fdca26\"],[1.0,\"#f0f921\"]],\"sequentialminus\":[[0.0,\"#0d0887\"],[0.1111111111111111,\"#46039f\"],[0.2222222222222222,\"#7201a8\"],[0.3333333333333333,\"#9c179e\"],[0.4444444444444444,\"#bd3786\"],[0.5555555555555556,\"#d8576b\"],[0.6666666666666666,\"#ed7953\"],[0.7777777777777778,\"#fb9f3a\"],[0.8888888888888888,\"#fdca26\"],[1.0,\"#f0f921\"]]},\"colorway\":[\"#636efa\",\"#EF553B\",\"#00cc96\",\"#ab63fa\",\"#FFA15A\",\"#19d3f3\",\"#FF6692\",\"#B6E880\",\"#FF97FF\",\"#FECB52\"],\"font\":{\"color\":\"#2a3f5f\"},\"geo\":{\"bgcolor\":\"white\",\"lakecolor\":\"white\",\"landcolor\":\"#E5ECF6\",\"showlakes\":true,\"showland\":true,\"subunitcolor\":\"white\"},\"hoverlabel\":{\"align\":\"left\"},\"hovermode\":\"closest\",\"mapbox\":{\"style\":\"light\"},\"paper_bgcolor\":\"white\",\"plot_bgcolor\":\"#E5ECF6\",\"polar\":{\"angularaxis\":{\"gridcolor\":\"white\",\"linecolor\":\"white\",\"ticks\":\"\"},\"bgcolor\":\"#E5ECF6\",\"radialaxis\":{\"gridcolor\":\"white\",\"linecolor\":\"white\",\"ticks\":\"\"}},\"scene\":{\"xaxis\":{\"backgroundcolor\":\"#E5ECF6\",\"gridcolor\":\"white\",\"gridwidth\":2,\"linecolor\":\"white\",\"showbackground\":true,\"ticks\":\"\",\"zerolinecolor\":\"white\"},\"yaxis\":{\"backgroundcolor\":\"#E5ECF6\",\"gridcolor\":\"white\",\"gridwidth\":2,\"linecolor\":\"white\",\"showbackground\":true,\"ticks\":\"\",\"zerolinecolor\":\"white\"},\"zaxis\":{\"backgroundcolor\":\"#E5ECF6\",\"gridcolor\":\"white\",\"gridwidth\":2,\"linecolor\":\"white\",\"showbackground\":true,\"ticks\":\"\",\"zerolinecolor\":\"white\"}},\"shapedefaults\":{\"line\":{\"color\":\"#2a3f5f\"}},\"ternary\":{\"aaxis\":{\"gridcolor\":\"white\",\"linecolor\":\"white\",\"ticks\":\"\"},\"baxis\":{\"gridcolor\":\"white\",\"linecolor\":\"white\",\"ticks\":\"\"},\"bgcolor\":\"#E5ECF6\",\"caxis\":{\"gridcolor\":\"white\",\"linecolor\":\"white\",\"ticks\":\"\"}},\"title\":{\"x\":0.05},\"xaxis\":{\"automargin\":true,\"gridcolor\":\"white\",\"linecolor\":\"white\",\"ticks\":\"\",\"title\":{\"standoff\":15},\"zerolinecolor\":\"white\",\"zerolinewidth\":2},\"yaxis\":{\"automargin\":true,\"gridcolor\":\"white\",\"linecolor\":\"white\",\"ticks\":\"\",\"title\":{\"standoff\":15},\"zerolinecolor\":\"white\",\"zerolinewidth\":2}}},\"xaxis\":{\"anchor\":\"y\",\"domain\":[0.0,1.0],\"title\":{\"text\":\"Area\"},\"categoryorder\":\"array\",\"categoryarray\":[\"Karapakkam\",\"Adyar\",\"Chrompet\",\"Velachery\",\"KK Nagar\",\"Anna Nagar\",\"T Nagar\"]},\"yaxis\":{\"anchor\":\"x\",\"domain\":[0.0,1.0],\"title\":{\"text\":\"Average_price\"}},\"legend\":{\"title\":{\"text\":\"Area\"},\"tracegroupgap\":0},\"title\":{\"text\":\"<b>AREA vs Average_price<br>\"},\"barmode\":\"relative\"},                        {\"responsive\": true}                    ).then(function(){\n",
              "                            \n",
              "var gd = document.getElementById('bc5e6c0d-4768-41e0-8a17-80b276432ee0');\n",
              "var x = new MutationObserver(function (mutations, observer) {{\n",
              "        var display = window.getComputedStyle(gd).display;\n",
              "        if (!display || display === 'none') {{\n",
              "            console.log([gd, 'removed!']);\n",
              "            Plotly.purge(gd);\n",
              "            observer.disconnect();\n",
              "        }}\n",
              "}});\n",
              "\n",
              "// Listen for the removal of the full notebook cells\n",
              "var notebookContainer = gd.closest('#notebook-container');\n",
              "if (notebookContainer) {{\n",
              "    x.observe(notebookContainer, {childList: true});\n",
              "}}\n",
              "\n",
              "// Listen for the clearing of the current output cell\n",
              "var outputEl = gd.closest('.output');\n",
              "if (outputEl) {{\n",
              "    x.observe(outputEl, {childList: true});\n",
              "}}\n",
              "\n",
              "                        })                };                            </script>        </div>\n",
              "</body>\n",
              "</html>"
            ]
          },
          "metadata": {}
        }
      ]
    },
    {
      "cell_type": "markdown",
      "source": [
        "**Interpretation:**\n",
        "       There is a relationship between Area and average price"
      ],
      "metadata": {
        "id": "VBsI4kwCVsOq"
      }
    },
    {
      "cell_type": "code",
      "source": [
        "fig2=px.scatter(df2,x=\"INT_SQFT\",y=\"Total_price\",color=\"INT_SQFT\",title=\"<b>sq.ft vs sales price<br>\")\n",
        "fig2"
      ],
      "metadata": {
        "colab": {
          "base_uri": "https://localhost:8080/",
          "height": 542
        },
        "id": "zPrMP7NPVc9X",
        "outputId": "aada8dc2-ccc3-4228-c10e-3171f7696034"
      },
      "execution_count": 268,
      "outputs": [
        {
          "output_type": "display_data",
          "data": {
            "text/html": [
              "<html>\n",
              "<head><meta charset=\"utf-8\" /></head>\n",
              "<body>\n",
              "    <div>            <script src=\"https://cdnjs.cloudflare.com/ajax/libs/mathjax/2.7.5/MathJax.js?config=TeX-AMS-MML_SVG\"></script><script type=\"text/javascript\">if (window.MathJax) {MathJax.Hub.Config({SVG: {font: \"STIX-Web\"}});}</script>                <script type=\"text/javascript\">window.PlotlyConfig = {MathJaxConfig: 'local'};</script>\n",
              "        <script src=\"https://cdn.plot.ly/plotly-2.8.3.min.js\"></script>                <div id=\"a952493f-47a7-4589-a4b9-dcc9e08322a0\" class=\"plotly-graph-div\" style=\"height:525px; width:100%;\"></div>            <script type=\"text/javascript\">                                    window.PLOTLYENV=window.PLOTLYENV || {};                                    if (document.getElementById(\"a952493f-47a7-4589-a4b9-dcc9e08322a0\")) {                    Plotly.newPlot(                        \"a952493f-47a7-4589-a4b9-dcc9e08322a0\",                        [{\"hovertemplate\":\"INT_SQFT=%{marker.color}<br>Total_price=%{y}<extra></extra>\",\"legendgroup\":\"\",\"marker\":{\"color\":[1004,1744,991,1744,1226,1220,1167,1744,991,1635,1203,1054,1196,1056,1744,1639,991,1136,1744,1069,991,1744,1074,1744,1685,1130,1301,991,1744,1744,991,1721,1744,1709,1744,1226,1648,991,991,1198,991,1290,991,1744,991,1710,1412,991,1655,991,1667,1744,991,991,1249,1744,1469,991,991,1691,1236,1577,1744,1600,1579,1260,1021,1744,1589,991,1724,991,1218,1744,1378,991,1744,1233,1618,991,1563,1693,1522,1090,1687,991,1518,1025,1744,991,1546,1709,1659,991,1182,991,1089,1534,1622,1744,1293,1641,1744,1245,991,1496,1744,1517,1744,1622,1092,991,1694,1744,1401,1470,991,991,1135,991,1586,1744,1023,991,1640,991,1744,1744,1649,1729,991,991,1688,1236,991,1686,1344,1437,1081,1352,1744,1744,991,1744,1488,1645,991,991,1693,1744,991,1190,1593,991,1195,1744,991,991,991,1744,1698,1744,1481,1506,1020,991,1015,1682,991,1445,1744,1243,991,1055,1744,991,1021,1744,991,1489,991,1744,1252,1077,1524,1049,1744,991,991,1744,991,1744,1744,1507,1499,1526,1744,1627,1744,1744,1744,991,1005,991,1698,991,991,991,1744,1004,1694,1244,991,1744,1744,1744,1744,1517,1744,1744,1643,1015,1700,991,991,1003,1072,991,1027,991,1716,1744,1699,1626,1730,996,1277,991,1744,1402,1160,1744,1744,1744,991,991,1024,1600,1276,1159,1024,991,1286,1744,991,991,1744,1744,1744,1744,1057,991,1744,1744,1615,1744,1296,1554,1737,991,1678,1744,1464,1744,1556,1170,991,1160,1570,1476,991,1059,1712,991,1192,1744,991,1728,1744,1497,1173,1640,1744,1342,1744,1744,1567,1188,991,991,991,1171,1744,1744,1145,991,1657,1638,1284,1273,1185,1538,1744,1656,1287,1744,1744,1425,991,1052,1744,991,1524,1744,1263,1744,1401,991,1660,991,1744,1199,991,1571,1744,1131,1062,1744,1572,1535,1744,1744,1203,1610,991,991,1623,1019,1575,991,1744,991,1744,1503,1744,1739,991,991,1744,1502,1568,991,1289,1744,1730,1513,1744,1744,1702,1726,1243,1550,1744,1435,1729,1572,1145,1043,1332,991,991,1685,991,1008,1744,1744,991,1694,1625,1744,1744,991,991,1279,1547,991,1673,1296,1744,1678,991,1067,991,1744,1257,1069,991,1449,1154,991,1613,1744,1511,1744,1238,991,991,1736,991,1299,991,1634,1320,991,1150,991,1668,1744,1744,1744,1668,1444,1121,1514,1256,991,991,1631,1001,1618,1744,1159,1744,1008,1563,1723,1543,1231,1744,1744,1744,1095,1057,991,991,1666,1517,1744,991,991,1137,1687,1662,1065,1621,991,1221,1577,991,1368,1744,1525,1180,1122,1744,1744,991,1744,991,1744,991,1616,1284,991,1238,1236,1664,1537,1731,991,991,1370,1685,1549,1539,991,991,1072,1239,1362,1744,1744,1744,991,1066,1153,1744,1095,1100,1300,1744,1744,1121,991,1744,1582,1225,1727,1712,1089,1532,1301,991,991,1686,1332,991,1300,991,991,1105,991,1608,1744,1744,1744,1068,1744,1744,1744,1057,1744,1577,991,1744,1527,1248,1555,1744,991,991,1744,1147,1744,991,1472,1689,1208,1268,1640,991,1744,1744,1675,991,1256,1744,991,991,991,991,1744,991,1674,1681,1744,1505,991,1680,991,1227,1124,1744,1261,1164,1313,1723,1144,1740,1163,991,1744,991,1744,991,991,1127,1629,1656,1676,991,1663,1744,991,1183,991,1245,1144,991,1736,1744,1744,991,1022,1744,1083,991,1744,991,1744,1744,1744,1128,991,1141,1537,991,1744,1152,1744,1744,1744,991,991,991,991,1744,1744,991,991,1661,991,1276,1744,1744,1533,1257,1353,1672,1097,1744,1083,1218,1744,991,1003,1078,1133,1494,991,991,991,1744,1010,1404,1305,1647,1433,991,991,991,1744,1595,991,991,1018,1578,1660,991,1744,991,1744,991,991,991,991,1520,991,1638,1744,991,991,1744,1678,991,1110,1744,1282,991,1545,991,991,1014,991,1651,1288,1661,1578,1744,1403,991,1628,1287,1438,1351,991,1177,991,1207,1561,1156,1744,1190,1744,1527,991,991,1290,1274,1041,991,1525,1744,1537,1744,1152,1288,991,1730,991,1744,991,1124,991,991,991,1744,1744,991,1392,1744,1576,1022,1640,991,1729,991,1562,1203,1744,1707,998,1675,1744,1574,1070,1125,1744,1361,1744,991,1596,1644,1041,991,991,1744,1063,1298,1744,1575,1463,1164,1744,991,1197,1744,991,991,1050,1744,991,991,991,1087,1170,1744,1744,991,991,1607,991,1744,991,1744,1301,1041,1593,991,991,1717,1248,1223,1744,991,1089,1574,1335,1744,1744,1280,1744,1744,991,1744,1744,1744,1618,1582,1050,1744,1744,1744,1636,1744,1744,991,1627,1652,1744,1463,1302,1294,1685,1744,1036,1688,1707,991,1528,1744,1744,1135,991,991,1216,1728,1677,1463,1739,991,1744,1744,1513,991,1744,991,1744,1744,1744,1744,1239,991,1744,1303,991,1744,1610,991,1626,1596,1653,1609,1503,1232,1744,1511,1072,1291,1744,991,1744,1540,1712,991,991,991,1113,1183,991,996,1730,1697,1744,1744,1633,991,1744,1744,991,1179,1744,1744,1744,1122,1744,1635,1514,1242,1744,1650,1744,1594,1217,1744,1143,1129,991,991,1215,991,1672,1744,1324,1198,1347,1744,1569,1548,1143,1127,991,1744,1744,1744,1744,1744,991,991,991,1483,991,1464,991,1744,1664,1293,1681,1073,991,1617,1744,991,991,1744,1744,991,1537,1502,1016,1502,1497,991,1744,1523,991,1671,1293,1615,1526,1744,1600,1122,991,1678,991,991,991,991,1744,1058,991,1744,1603,991,1397,1604,1533,1744,1097,991,991,1535,1558,1696,1744,991,1539,1594,1074,991,991,991,1445,1623,1744,1546,1673,1744,1114,991,1675,1590,1639,1712,1118,991,1190,1243,1657,1008,1658,1381,991,1166,1239,1231,1744,1744,1577,1744,1109,1744,1257,991,1380,1744,1744,1744,1744,1744,1744,1573,1438,991,1280,991,1744,1554,1744,1744,1351,991,1598,1744,1584,991,1650,1606,1152,1744,1744,994,1566,991,1744,1241,1744,1531,991,1716,1637,1286,1694,991,1677,991,1115,1723,1013,1143,1676,991,1744,991,991,1247,1420,991,1227,1626,991,1576,991,991,991,1717,1195,991,991,1744,991,1459,991,1647,991,1744,1080,1292,1744,1744,1621,1744,1521,991,1296,1027,1744,991,1744,991,1744,1658,1611,1339,991,1744,1227,991,991,1631,991,1258,1536,991,991,1180,1167,1698,1051,991,1042,1744,991,1287,1744,1744,1744,1642,1744,991,1744,991,991,991,1499,1744,991,991,1744,1721,1734,991,1265,1744,1008,1120,1100,1098,1470,991,1432,991,1149,991,991,1744,1744,1587,1744,1744,1622,1744,1010,1526,991,1239,1538,1744,1536,1744,1709,1282,1319,994,991,1744,991,1677,991,1128,1360,991,1227,1720,1003,1744,991,1655,991,991,1744,1001,1646,991,991,1278,1051,1054,991,1744,1744,991,1514,1125,1394,1609,1744,1015,991,1617,1744,1548,1660,991,991,1744,1280,1636,1744,1203,1122,1574,1374,1744,1370,1362,1744,1020,991,1023,1344,1689,1744,1744,991,1688,1744,1078,1637,1019,1198,1002,1088,1703,991,1744,1112,991,1744,1666,1744,1276,1079,1744,1744,1257,1744,1661,991,1607,1744,991,991,1540,1744,1744,1494,1744,991,1479,1574,991,1744,1379,1621,991,991,1485,991,991,1729,1102,1744,1744,1744,1091,991,991,991,1473,1699,1026,1570,1479,1744,991,1325,1558,1133,1744,991,1657,991,991,1744,1744,1297,1744,996,991,1506,1095,1329,1130,1299,991,1738,1744,991,1267,991,1175,1744,1428,991,1637,1744,1128,1213,1744,991,1508,1538,1723,1161,1676,1744,1744,1101,1240,1266,1021,1713,1563,991,1744,1744,991,1744,1744,1170,1294,1386,1506,1744,991,1298,1615,1744,991,1270,1045,1093,991,1617,1744,1744,1744,991,1744,1042,1566,1380,1047,991,1036,1744,1744,1744,1272,991,1744,991,1744,1673,1744,991,1622,1744,1744,991,1744,1601,1617,1015,1572,1744,1744,1238,1556,1543,1534,1635,1450,1117,991,991,991,1744,1717,991,1744,1744,991,1624,991,991,991,1034,1744,991,991,1744,1026,1375,991,1744,1333,1093,1191,1744,991,1100,1294,1744,1045,1253,1472,1744,1634,1744,1744,991,991,991,991,1625,1729,1744,1019,1212,1234,991,991,1555,1711,1064,991,1252,1744,1013,1080,991,1058,991,991,991,991,1109,1211,1450,1277,1568,995,1304,991,991,1744,1563,1107,991,1512,1061,1744,1655,991,1192,1670,1532,1744,1296,1744,991,991,1519,1107,1744,991,1261,1744,1104,991,1639,991,1572,1744,1219,1033,991,991,1537,1579,1744,1584,1744,1744,1204,1165,1109,991,1600,1170,1288,1598,991,991,991,1086,1744,1052,1744,1652,1607,1229,1744,1677,991,991,991,1744,991,1055,1390,1599,1591,1265,991,1122,991,1670,1338,1319,1710,1744,1058,1251,1710,991,991,1027,1223,1422,1081,1603,1744,1219,1744,1208,991,991,1610,1744,991,991,991,1158,1744,991,1650,1663,1744,1744,1744,1630,1016,1744,1185,1478,991,1744,1744,1645,1744,1744,1465,1744,1693,1737,1111,1744,1568,991,991,1565,1706,1616,1531,1636,1744,991,1046,1465,1399,1126,1368,991,1550,1744,1538,1744,991,1744,1194,1502,1649,991,1744,1381,991,1684,1740,1744,991,991,1744,1553,991,1628,991,1734,991,994,1033,1462,1662,1744,1042,991,991,1562,1425,1744,1744,1558,1702,1744,1538,1744,1744,991,991,1512,1744,1402,991,1625,1724,1744,1692,1184,991,991,1535,991,1294,1744,1110,991,1132,991,1744,991,1744,1252,1234,1744,991,991,1053,1744,1744,991,1191,1025,1392,1744,1290,1744,1279,991,1744,1502,991,1744,991,1142,1674,991,1274,991,1744,1598,991,1744,1121,1182,1744,1744,991,1625,991,1183,991,1040,991,991,1156,991,1655,1693,1014,1148,1744,1744,1404,1545,1634,1268,1682,1744,1337,991,1744,1042,1613,1270,997,991,1744,1591,1744,1744,991,1376,1744,1311,991,991,1464,991,1744,1018,1694,1112,991,1282,1639,1501,991,1744,1518,1744,1070,1744,1188,1494,1744,991,1564,1211,1662,1530,991,991,991,1195,1428,991,991,991,991,1744,1744,1744,1744,1648,1522,991,1744,1082,1338,1559,991,1744,1197,1744,1744,1744,1519,1744,991,991,1344,991,1098,1190,1590,1040,1524,1132,1699,1204,1003,1610,1744,1676,991,1265,1585,991,1744,991,1744,991,1744,1398,991,1504,991,1045,1149,1666,1210,1523,991,1744,1191,1641,991,1588,1272,991,1228,991,991,1744,1617,1744,1040,991,1354,1739,991,1484,1744,1711,991,1744,1283,1155,991,1744,1211,1248,1744,1030,1254,1744,1622,991,1744,1628,991,1587,1081,1744,991,991,991,1742,1304,1510,1744,1540,1023,991,1624,1612,1723,991,1744,1528,1081,1002,991,1744,1237,1242,1700,1744,991,1503,1549,991,1277,991,1744,991,1543,1363,1584,1744,991,1531,1003,1010,1744,1744,1188,1164,1744,1176,1503,1621,991,1257,991,1744,991,1573,991,1148,1513,991,1744,1597,1058,1438,1616,991,991,1714,1334,1744,1098,1010,1195,991,1272,1324,1744,1438,991,1236,1744,1078,991,1669,1073,1273,1235,1400,1598,1744,991,991,1744,1744,1288,1615,1026,1598,1744,1744,1744,1083,991,1744,1595,1274,1744,991,1652,1211,991,991,991,1091,1066,1744,1451,1744,1744,1744,1744,1147,1232,1264,991,991,1064,991,1744,1665,1744,1231,1413,1744,1071,1614,1302,1744,991,1586,1744,1582,1109,991,1687,1744,1744,1656,991,991,1228,1744,991,991,1744,1726,1744,991,1653,1261,1744,991,1744,1744,991,1744,1701,991,1744,1544,991,1175,1744,1744,1744,1075,1056,991,1002,991,991,1432,991,1743,1744,1055,1641,991,991,1704,991,1734,1033,991,1744,991,1275,1173,1502,1187,1744,1744,991,1744,1507,991,1744,1607,1607,1744,1121,1744,991,991,991,1292,991,1744,1454,1053,1115,1498,992,991,991,1114,991,1705,991,1101,1104,1085,1015,1389,1179,991,991,1744,991,1285,991,1744,1285,991,991,1744,1697,991,1210,1467,1412,1124,1744,1632,1021,1448,1744,991,1412,1153,1690,1307,1635,991,1438,1505,1635,1631,1585,1117,1296,1238,1744,1744,1744,991,991,1586,991,1436,1019,1203,1027,1744,1744,1711,1744,1083,991,1624,1122,1744,991,1744,1744,1744,1744,1075,991,1166,991,991,1744,1687,1744,1620,991,1542,1551,1744,1522,1539,1744,1744,1744,1159,1438,991,1292,1691,1744,1174,1744,1582,1744,1237,1744,1129,991,1056,1585,1744,1744,991,991,1744,1576,991,991,1744,1744,1744,991,1589,1390,1744,1145,991,1174,1744,1477,1017,991,1515,1071,1744,1744,991,1744,1452,1605,991,991,1525,1577,1002,1744,991,1530,991,991,1254,1129,1272,1085,1744,994,1744,1544,1740,1676,1209,1397,1028,1063,991,1732,1100,1182,1744,1298,1581,1520,991,1744,991,1744,1599,1320,1527,991,991,1744,1744,1662,991,1142,991,1744,1021,1097,1744,1744,1067,991,1744,991,991,1550,1744,991,1638,1744,991,1627,991,991,1140,1658,1112,1584,1744,991,991,1744,1015,1125,1744,1744,1744,1222,1587,1744,1744,991,991,1170,1744,1159,1288,1724,1130,1744,991,1237,1599,991,1292,1229,991,1744,1744,991,1744,1687,991,1109,1333,1744,991,1633,1513,1744,1581,1239,1414,991,991,1582,1454,1226,991,1744,1744,1252,1601,1515,1638,1744,1647,1158,1744,1744,1252,1744,1744,1369,1167,1744,1512,1611,1744,1539,1744,991,991,991,1021,1282,1254,1511,991,991,1744,1744,1744,991,991,1744,1543,1744,991,1422,1744,991,1462,991,1098,1326,1744,1032,991,1366,1744,1744,1744,1744,1744,991,1210,1744,1574,1525,991,1642,1382,1744,991,1744,991,1744,1047,991,991,991,991,1217,1209,1600,991,1295,1005,991,1260,1052,1718,1286,991,1206,1744,1300,1010,1062,1744,1157,1744,1083,1730,1682,1610,1460,991,1116,991,1744,1580,1202,997,1744,1297,1576,1603,991,991,1744,1744,991,1275,1744,1744,1744,1257,1028,991,991,1744,1744,1189,1089,1744,1744,991,1601,1744,1539,1744,1282,1661,1529,1744,1596,991,991,1744,1744,1744,1679,991,1744,1507,1744,1744,991,991,1152,1277,1633,991,1387,1017,1643,1079,991,1542,991,991,991,1000,1258,991,1186,1335,1744,991,1253,1744,991,991,1078,1744,1744,1069,1744,991,1216,1744,1675,1721,1719,991,1218,1178,1551,1562,1700,1263,1664,1073,991,1744,991,991,1744,1001,1734,991,1244,1744,1025,1744,1744,1128,991,1744,991,991,1005,1744,991,1744,991,991,991,1285,991,1744,991,991,1019,991,991,1496,1422,1744,991,1079,1696,1669,1230,1286,1474,1744,1403,1253,1633,1744,1268,1744,1692,1108,1744,991,1684,1744,991,1148,1026,1734,1744,1047,1744,1189,1316,991,1708,991,1744,1744,1744,1744,991,1614,991,1744,1602,1744,1744,991,1744,991,1744,991,991,991,991,1744,991,1136,1597,1598,1673,991,1744,1744,1744,1306,1744,1178,1744,1744,1444,991,991,1254,1744,1619,1744,991,1744,1744,991,1667,1204,1653,991,991,991,991,1060,1744,991,991,1035,1614,1744,1413,1625,991,991,1276,1744,1711,1260,1744,991,1233,1009,991,1649,1744,1233,991,1082,1068,1744,1524,1744,991,991,1212,1685,1744,1744,1467,1714,1104,1081,991,991,991,1478,991,991,1505,1159,991,1000,1554,1368,1744,991,1744,1744,991,991,1744,993,1744,1744,1543,1470,1673,1744,1744,991,1251,1744,1705,1504,991,1618,991,1255,1600,1031,991,1429,1505,1744,1003,1744,991,1591,1524,1611,991,1453,1562,1671,1744,991,1116,1544,1694,1744,991,991,991,1197,1744,1744,991,1305,991,991,991,1744,1636,1615,1565,1703,1693,1744,1051,1266,1348,1005,1589,1182,1273,1596,1676,1240,991,1464,1329,1744,991,1744,1744,991,1192,1071,1176,1101,1146,991,1744,1744,1422,1667,1634,1587,1641,1673,1744,1744,1034,991,1577,1682,1652,1744,1116,991,1589,991,1222,1337,1535,1538,1376,1744,991,1094,1744,1554,1520,1744,991,1500,991,1744,1235,1744,1744,991,1685,1744,1602,1665,1744,991,1705,991,1744,1262,1744,1611,1744,991,1037,1187,1361,999,1020,1651,991,991,1697,1063,991,1540,1123,991,991,991,1241,1744,991,1592,1552,1220,1628,1744,1744,1744,1744,1744,1261,991,1661,1744,1730,991,1673,1548,1227,1004,1509,1092,1744,1217,1649,991,1237,1156,992,1302,1744,1001,1744,1530,1744,1502,1744,1132,991,1223,1738,1057,991,1072,1375,1122,1526,991,1192,1220,1744,1315,991,1222,1744,991,1430,1744,1630,1744,991,1744,991,991,991,991,1151,1541,1509,1706,991,1189,1744,1024,1744,1744,991,1162,1124,1744,1256,1611,1399,1738,1744,991,1744,1272,1690,1502,991,1060,991,1240,1540,1744,991,1744,1744,1744,1047,991,991,1591,1744,1027,1181,1744,1161,991,1744,991,991,1014,991,991,1744,1048,1069,991,991,1658,1744,1512,1744,991,991,1622,991,991,991,991,1744,1744,1354,1744,1168,1744,1122,1666,1744,1744,1744,1159,991,1082,1079,1112,1188,1744,1642,1032,1657,1060,991,1744,1511,1177,1744,991,1744,991,1744,1688,991,1597,1670,1744,991,991,1631,1624,1744,991,991,1328,1734,991,1744,1694,1744,1612,1407,1229,1674,1523,1744,1146,1744,1712,991,1101,1744,991,1530,1744,1311,991,1559,991,1182,1744,1136,1337,1744,991,1666,1744,991,991,1259,1555,1033,1275,1744,991,1488,1591,1075,1603,1744,1504,1744,1279,1744,1066,991,991,1363,991,991,991,991,1507,999,1632,1162,1744,1321,991,1275,1744,998,1744,1655,1644,1744,1216,1716,991,1078,1744,1223,1655,1192,991,991,1060,991,1744,1744,1744,1296,991,1321,1070,991,991,991,991,1744,1703,1744,1169,991,1744,991,1669,1028,991,1266,1744,1744,1300,1614,1175,1294,991,1744,1744,1744,1744,991,1626,1657,1744,991,1744,991,991,1744,1522,1744,1572,1507,1330,1373,1118,1591,1404,1744,1744,1744,1650,1035,991,991,991,991,1592,1350,1245,1563,991,1744,1110,991,1708,991,1744,1649,1323,1744,1514,1669,1744,1459,1744,1165,1132,991,991,1277,1028,1572,1507,1002,1023,1506,1348,1125,1066,1744,1459,991,1744,991,1205,991,1710,1154,1744,1221,991,1744,1119,991,1224,1520,1070,1719,991,1624,1590,991,1744,991,998,991,991,1744,991,1744,1744,1744,991,1060,1601,1703,1744,1145,1678,1262,1138,1744,1277,1639,1580,1744,991,1033,1744,1744,1563,1744,1698,1689,1680,1170,1030,1338,1217,1744,1744,1691,1689,1703,1744,1545,1686,1136,1744,991,1057,991,1457,1021,1519,991,1744,991,1744,991,1486,1215,991,991,991,991,1609,1689,1744,1178,1530,1622,1013,1244,1744,1744,1744,1722,1182,1246,991,1434,1081,991,991,1744,1581,1731,1243,1184,1704,991,991,991,1650,991,991,1419,1744,1010,1011,1744,1225,1252,1744,1729,1717,1091,1629,1724,1198,1329,1634,991,1744,1446,1034,1722,1744,1529,1074,1744,1229,1215,1648,1744,1744,1527,991,1744,1744,1094,1744,991,1697,1744,1656,1738,1155,991,1744,1199,1658,1744,1744,1621,1660,1037,991,991,1642,1618,1645,1150,1744,1744,1058,1720,1719,1191,1744,1039,991,1744,991,1744,1744,1474,991,1744,991,1744,1464,1290,991,1744,1199,1631,1576,1148,1744,1744,1744,1744,991,991,1044,1180,1095,1202,991,1313,991,1744,991,991,1718,1086,991,1744,1730,1180,1607,1182,1539,1636,1088,1229,991,1209,1744,991,1744,1744,991,1737,991,1219,1272,991,1741,1744,1744,991,1344,991,1744,1744,991,1081,1198,991,1611,991,1634,1744,1744,1711,1744,991,1744,991,1299,991,1726,1744,991,1405,1009,1525,1744,1250,991,1744,1744,991,991,1695,991,1744,1536,991,1553,991,1245,1662,1744,1744,1744,991,1101,1518,1049,991,991,1744,991,991,991,991,991,1744,1301,1261,1744,991,1587,1744,1137,991,1125,1635,1744,1072,1744,1720,991,1744,1744,1227,1253,1278,991,1186,1744,991,1661,1536,991,991,1356,991,1558,1440,991,1255,1009,1065,1065,991,1045,991,1744,994,1744,1744,991,1399,1744,1519,1605,1230,991,1590,1734,991,991,991,1739,1127,991,991,991,1026,1346,1744,991,1542,1744,1291,991,991,1579,1047,1660,991,1744,1109,995,1744,1529,1034,1302,991,1020,991,1744,1653,1744,1508,1292,1744,991,1744,1744,1199,1181,1068,1686,1744,1259,1744,1744,1144,991,1515,991,1671,1047,1595,1299,1626,991,1089,1744,1708,1697,1744,1744,1744,1744,991,1711,1583,1274,1356,1144,1129,991,991,1501,1744,1449,1700,1744,1178,1460,1744,1103,992,1268,1744,991,1236,1256,1071,1217,1488,1744,1623,1585,1744,1662,991,1744,991,1744,1617,1733,991,1081,1243,1430,1707,1317,1128,1744,1091,1744,1744,1095,1744,1744,1744,1695,1099,1547,991,1744,1541,1744,1208,991,1744,991,1262,991,1225,991,1647,1344,991,991,1744,991,1744,1021,1126,1744,1059,1625,1080,1744,1696,1744,1499,1744,1505,1744,1665,1391,1744,1514,991,1744,1744,991,1215,1744,1691,1294,1744,991,1640,991,1744,1744,1674,991,991,1744,1167,1566,1053,1744,1744,1612,1418,1032,1430,991,991,1709,1128,1731,1620,1581,1672,1266,1298,1744,1744,1058,991,1256,1744,991,1031,1114,1567,1282,991,1510,1005,1744,991,1103,1386,1588,991,1241,1571,991,1707,1744,991,1000,1744,991,1180,1219,991,1133,1153,1618,1246,1744,1744,1744,991,1517,1721,1231,1090,1590,1353,1610,1744,1029,1285,1210,991,991,1744,991,1563,1634,1483,1744,1638,1744,991,1744,1021,1448,991,1514,1744,1744,1615,1744,1744,1119,991,1417,1278,1050,1706,991,1744,991,1142,1668,991,1744,991,1744,1000,1209,991,991,1624,991,991,991,1744,1296,1624,1630,1257,1163,1652,1566,1669,1009,991,1744,1744,1623,1602,1143,991,1744,991,1510,1025,991,1609,991,1109,991,1744,1526,1744,1366,991,1744,1744,1236,1291,1744,991,991,1574,1290,1574,991,1047,1744,1511,1744,1744,1744,1550,1744,1540,1744,1454,1744,1528,991,1389,991,1244,1566,1539,1283,1132,991,991,1025,991,991,991,1530,1744,991,1532,1744,1373,1528,1744,1132,1744,1036,1504,1744,1609,991,1665,1744,1157,1744,1181,1653,1744,1531,1629,1081,1041,1175,991,1722,1475,1522,1556,1286,1744,991,1178,1626,1589,1165,991,1144,1201,991,1501,1289,1741,1585,991,1172,1321,991,1744,991,991,991,1744,1744,1023,991,1485,1744,1744,1181,1308,991,1744,991,1727,1744,1157,1744,1138,991,1744,1744,991,1744,1729,991,991,1587,1282,991,991,991,1744,1744,1486,1742,1744,1214,1257,991,1744,1605,1188,1213,991,1744,991,1744,1744,1744,1199,1228,1744,1744,1287,1369,1744,1082,1636,991,1744,1655,991,1101,991,1135,1308,991,991,1725,1665,1744,1744,1665,1537,991,991,991,1744,991,991,1080,1045,1530,1132,1744,1744,1138,1744,1115,991,1586,1103,991,1727,1672,1581,1744,1668,1263,991,1145,1074,1707,1744,991,1178,1261,991,1167,1575,1177,1069,991,991,1744,1692,1744,991,1639,991,1744,1744,1744,991,1662,1744,1270,1744,1028,1744,991,991,1744,1744,1744,1083,1744,1707,991,1519,1744,1043,991,1539,1279,1568,1744,1566,1744,1729,1569,1744,1744,1271,1527,991,1206,1744,991,991,991,1534,1744,1512,991,1581,1238,1173,991,1684,1744,991,1026,1744,1282,1744,991,1564,1566,1266,1744,1649,1081,1744,991,991,1744,991,1744,1744,991,991,991,991,1725,1744,991,991,1624,1744,1381,991,1034,1744,1744,1085,1744,991,1341,1377,1744,1594,1016,1744,1242,991,991,1120,991,1083,991,1725,1194,1052,991,1369,1744,1228,1236,1744,1018,1744,1602,1744,991,1744,1424,991,1643,991,1744,1744,1744,1644,1744,1744,1016,991,1304,991,1476,1219,991,1532,1640,1744,991,1744,1159,991,1744,1645,991,1612,1744,1193,1350,1744,1744,991,1744,1677,1538,1744,1098,1146,1744,1578,1207,1125,991,1483,1423,1744,1028,1744,1215,1275,991,1323,1527,1744,1041,1062,1407,1744,1226,1198,1249,1310,1744,1032,1666,1212,991,991,1744,1744,1305,1373,1744,1744,991,1634,991,991,1744,991,1744,1541,1615,1683,1744,1629,1030,1733,991,991,1035,1744,1158,1744,1488,1704,1139,1138,991,1744,991,1583,1261,1138,1704,991,1744,1671,1586,1149,991,1142,1014,1744,991,1527,1597,991,991,1210,991,1370,1229,1744,1231,998,991,1141,1089,1744,1618,1571,1181,1495,1451,1273,1435,1707,1080,1634,1744,1584,1112,1232,1744,1744,991,1155,991,1744,1744,1744,991,1367,996,1686,1140,1538,1570,991,1151,1317,1744,991,997,1669,1744,1744,991,1744,1744,1628,991,1130,1622,1744,1744,1662,1230,1087,1265,991,1744,991,1076,1744,1228,1670,1245,991,1634,1597,1650,1744,991,1744,1744,991,991,991,1574,1037,991,1180,1110,1744,1484,991,1232,1744,1744,1251,991,991,1156,1607,1744,1744,991,1253,1744,991,1719,1503,991,1744,998,991,1166,1744,1606,1744,991,1573,1744,991,1538,1744,1744,1263,991,1744,991,1744,991,1073,1203,1300,1514,1744,1214,1554,1744,1675,991,991,1744,1744,1723,991,1064,1744,1744,1669,1593,1744,1744,991,991,1445,991,1744,1589,1744,1000,1744,1135,991,1160,1163,1057,991,1163,1643,1744,1268,1744,1085,1744,991,991,1685,1744,1744,991,1256,991,1744,1744,1705,991,991,1744,1676,1744,1591,1154,1744,991,1565,1699,1142,1268,1731,1744,991,991,1540,1226,991,1657,1503,1744,1572,1744,1744,991,1156,1564,991,1744,991,1744,1667,1744,1252,1744,1599,1744,1744,1744,1280,1333,1128,1744,1344,1538,1545,1279,1116,991,991,1101,1087,1744,1744,1744,1740,1744,1744,1744,1744,1582,1256,1715,1744,1238,1128,991,1744,991,1031,1724,1143,991,1744,1384,1744,1000,991,1744,991,1212,991,991,1635,991,1229,1083,1431,1670,1667,1744,1744,1744,1744,1713,991,1276,1702,1744,1632,1243,1744,1744,991,991,1107,991,1744,1162,1558,1269,991,1281,1517,1344,1705,995,991,1705,1604,1238,991,1744,991,1744,991,1524,991,1403,1211,991,1016,1574,1185,1437,1744,1195,1055,1744,991,1744,1558,991,991,1001,1744,1421,1744,991,1721,1744,991,991,991,1744,1744,991,1744,1613,991,1744,991,1744,1334,1267,1530,1458,1744,1521,1005,991,991,1204,1072,1744,1082,1518,1180,1525,1732,1744,1744,991,1744,1698,991,1152,1588,991,1616,1536,991,1722,1651,1744,1519,991,1744,991,991,1735,1744,1744,1744,991,1744,1365,1489,1576,991,1733,1346,1075,991,1051,1744,1037,1505,1195,1236,1376,1744,1214,991,1122,1532,1337,1703,1310,1533,1013,1744,991,1097,1363,1153,1744,991,991,1744,1744,1026,1744,1408,1744,1547,991,1267,991,1608,1236,1209,1703,1149,1402,1531,1744,1082,1555,1744,1735,1067,1744,991,1744,991,1702,1032,1685,991,991,1744,1744,1744,1129,1744,1299,1211,1690,1744,991,1744,1027,1744,1704,991,1744,991,991,1501,991,1716,991,1195,1651,991,1566,1356,1621,1744,1055,1744,1354,1337,991,1744,1532,1507,991,1264,991,1085,1632,1744,1244,1695,1744,1131,1699,991,1674,991,991,1003,1594,1744,991,1744,1744,1526,1520,1743,1744,1396,991,1744,991,1744,991,1744,1250,1744,991,1744,1620,991,1143,1052,991,991,1276,1549,1744,1294,1284,991,991,1596,1222,1744,1048,991,1182,1591,991,1137,1744,1744,1677,1744,1744,1549,1689,1691,1367,1345,1539,1214,1744,1744,1744,1617,991,1261,1238,1477,993,1637,1163,1399,1744,1744,1744,991,1744,1721,1171,1479,1313,1744,1067,1275,1744,1630,1275,991,991,1191,991,1713,1542,991,1609,1744,991,1182,1078,1744,1578,1119,991,1682,1451,1744,991,991,1744,1744,1121,1744,1744,1398,1359,1126,1038,1744,991,1662,1744,1038,1572,1163,991,1744,1128,1657,1078,1500,991,1744,991,1531,1559,1744,991,1744,991,991,991,1686,1548,1474,1016,1744,1030,1030,1479,1635,1744,1725,991,1082,1468,1226,1108,1614,991,991,1112,1744,1001,1636,1068,1646,1744,1744,1536,991,1108,1002,991,1438,1416,1744,1744,991,1744,1084,991,1272,991,1289,1222,1744,1744,1744,1550,1091,1515,991,991,991,1211,1158,1744,991,1129,1000,991,1601,991,1744,1074,1744,1706,991,991,1744,1744,1744,1050,1725,991,1018,1011,1307,1744,1262,991,1087,1744,991,991,991,991,991,991,1744,1470,1105,1744,991,1326,991,991,1072,1648,1744,1616,1605,1094,991,991,1744,1744,1459,1459,1744,1744,1627,1014,1537,1614,1516,991,1129,991,1166,1744,1300,1145,1744,1168,991,1185,1151,991,991,991,1505,1208,1400,1205,991,1744,1098,1744,1243,991,991,1744,991,991,1283,1715,1655,1013,991,1744,991,1149,1255,1160,1544,1058,1744,991,1374,1072,1087,1645,991,1587,1531,1689,991,1744,1545,1550,1744,1744,1552,991,1635,1121,1241,1744,1264,1558,991,991,1248,991,1410,1744,1744,1744,1744,991,1502,991,991,1341,1571,991,1206,1465,991,1744,991,991,1671,1740,1633,991,1267,991,1744,1148,1744,991,1121,1744,1744,1280,1184,1744,1062,991,1626,991,1627,1744,1740,991,1474,1114,1188,1273,1744,1550,1208,1231,991,1578,991,1744,1595,1744,991,1697,1744,1744,991,1592,1744,991,991,1738,991,1662,1744,991,991,1009,1522,1274,1744,1744,991,1744,1245,1510,1562,991,1124,1744,1744,1151,1744,1464,991,991,1744,1067,991,1536,1505,991,1514,1181,1744,1744,1061,1520,1564,1744,1120,1147,1087,991,991,1494,1649,1297,991,1523,1704,991,991,1024,1707,1744,1680,1617,991,991,1744,991,1744,1744,1744,1351,1744,1744,1199,991,1053,1744,991,1744,991,991,1150,1744,991,991,1128,991,1669,1096,1595,1744,1298,1744,991,1744,1054,1744,1057,1616,1500,991,1262,1700,1605,1192,1199,991,1539,991,1124,1397,1419,1214,1512,991,1446,1138,1744,991,1744,1744,1541,1625,991,991,1087,1083,1744,1562,1600,1216,1333,1564,1366,1245,1314,991,1511,1067,1005,1148,1501,1559,1744,1536,1744,991,1744,991,1744,1744,1744,1352,991,1744,991,1270,991,1094,991,1655,1622,1744,1442,1614,1567,991,1744,1270,1022,1000,1429,1515,991,991,1685,1483,991,1157,1350,1702,1744,1356,991,991,1324,1156,1327,1117,1284,1744,1264,1649,1245,1422,991,1744,991,1744,1266,1744,1527,1124,1654,1722,991,991,1640,1271,1628,1553,991,991,1744,1726,1644,1744,1122,1744,1420,1744,1686,1744,1744,991,991,1091,1093,1744,1744,1555,1139,991,991,1631,1615,991,1537,991,1744,991,1538,1188,1068,1034,991,1744,1100,1744,991,1636,1744,1533,1530,991,1744,1267,1744,1744,1223,1724,1072,991,1744,1273,1275,1047,1597,1586,1744,1744,1303,991,1428,991,1744,1738,991,991,1196,1128,1092,1744,1744,1736,1559,1708,991,1403,1085,991,1291,1744,991,1169,1401,991,991,1744,1744,1616,1505,1072,1253,1744,1744,1274,1709,1744,1591,1674,1730,991,1718,1744,991,991,1569,1744,991,1744,991,1744,991,991,1744,991,1734,991,1744,1688,1721,991,1590,1719,991,1744,1215,991,1609,1226,1478,1041,1420,1744,1093,1683,1165,1083,1744,1102,1565,1744,1615,991,991,1744,991,1744,1744,1031,1604,991,1666,991,1744,1744,1194,1744,991,1638,1744,991,1184,1744,991,1624,1077,1729,1065,1671,991,1181,991,1744,1744,1067,1085,1064,991,1744,1637,991,1138,1724,1017,991,1744,991,1744,1362,1627,991,991,1744,991,991,1592,1245,1479,1259,1744,991,1744,1744,1655,1197,991,991,991,1625,1143,991,1168,1744,1744,1722,1541,1409,1744,1744,1217,1057,991,1608,1010,1170,991,991,991,1502,1110,991,1744,1744,1181,1567,991,1630,1503,1744,1299,991,1708,1230,1744,1180,1744,1533,991,1404,991,1744,991,993,1257,1280,1337,1744,1744,1719,1636,1264,991,1744,1232,991,1744,991,1744,1744,991,1744,1744,991,991,1323,1744,1744,1684,1556,991,991,991,991,1137,1132,1744,1744,1744,991,1744,1640,1232,991,1114,1444,1744,1642,991,1595,1744,1692,1744,1256,1744,1541,991,1744,1519,991,991,991,1551,991,1196,1589,1744,1744,1744,991,1744,1700,1744,1716,991,1505,991,991,1320,1744,1697,1744,1229,1549,1744,1654,1224,991,1166,991,1744,1527,1744,1744,1574,1744,991,1030,991,1600,1270,1150,1744,1744,1744,1217,1668,1668,1435,991,1744,1255,1744,1744,1743,1545,991,1349,1744,1696,1727,991,1744,1744,1744,1544,1744,991,1066,1673,1744,991,991,991,1744,1744,991,1213,1541,1401,1637,1299,1160,991,1496,991,1744,991,1744,1744,991,991,991,1744,1744,1420,1744,1744,1459,1744,1155,1707,991,1744,1506,991,1661,991,1609,1250,1744,991,1744,1744,991,1639,991,991,1511,991,1744,991,991,1744,991,1343,1021,991,1573,1744,1744,1347,1744,1744,1037,1365,1179,1514,1103,991,1571,1502,1737,1252,1584,1658,1744,1057,991,991,1741,1744,1265,1744,1744,1744,1531,1744,1288,1738,1010,991,1635,991,991,1063,1744,1358,1744,1207,1744,1744,1296,1012,991,1224,1587,991,991,1665,1003,991,1081,1744,1118,1283,991,1744,1744,1744,1744,1070,1545,1700,1511,1104,991,1605,1558,1550,991,991,991,1102,991,1744,991,1644,1081,1744,1611,1138,1744,1744,1678,991,1691,1278,1744,1744,991,1207,991,1651,991,1085,1166,991,991,1005,1554,1245,1744,991,1214,1743,1035,1744,1744,1744,991,991,1088,1362,1744,1097,1295,1607,1606,1291,1418,1317,1744,993,1153,991,1582,1115,1112,1678,1503,1744,991,991,1506,1640,991,1409,1633,1139,1101,1744,1119,1744,1744,1692,1655,991,1647,1239,1471,1505,991,1744,1191,1061,1744,1015,1744,1287,1576,991,1626,1262,1261,1015,1195,991,1744,1744,1732,991,1744,1744,991,991,1007,1744,1693,1538,1744,991,1744,1061,1744,1664,991,1744,1668,1205,991,1744,1014,991,1545,1045,1744,991,1744,1744,1692,1744,1114,1744,1744,1527,1744,1206,991,1231,1735,1266,1744,1744,1295,991,1744,1361,1744,1055,991,1118,1451,1744,991,1744,1744,1744,1741,1065,991,991,991,1744,991,1744,1579,991,1667,1184,1733,1106,1744,1055,1735,991,1335,991,1095,1477,1744,1744,1599,991,1198,991,1637,1678,1023,991,1032,991,991,991,991,1744,991,991,1053,1596,1368,1544,1486,1285,1501,1744,1117,1561,991,1212,1744,1744,991,991,1696,991,991,1414,1744,991,991,1380,1744,991,1115,991,991,1744,1744,1625,991,1534,1082,1279,1544,1101,1230,991,991,991,1744,1744,1628,1736,1744,991,1217,1601,1201,991,1744,1023,1744,991,1653,1452,1744,1744,1606,1744,991,991,1504,1121,1744,1105,1528,1712,991,991,991,1418,1155,1061,1744,991,1744,1713,991,1744,991,1744,1744,1377,1744,1568,1210,1179,991,1235,1735,991,991,1744,1641,1718,991,991,1744,1744,1744,1528,1744,1639,991,991,991,1278,991,1744,1358,991,991,1744,1744,991,1035,1744,991,1206,991,1690,991,1136,1268,1012,1198,1152,1034,1744,991,1744,991,991,1744,1744,1744,991,991,1700,1505,1589,1744,991,1724,991,1744,1239,991,991,1744,1050,1744,1078,1744,1170,991,1744,1744,1134,1057,1630,1744,1209,1068,1366,1727,1673,1744,1022,1744,991,1241,993,991,1744,1744,1104,1509,1744,1735,991,1148,1744,991,1189,1744,1212,1136,1059,1744,1744,1744,1609,1744,1744,991,1744,1533,991,991,1083,1721,1276,991,991,1159,991,991,991,1744,1648,1538,991,1201,991,1545,1206,1694,1656,991,991,991,1548,991,1744,1744,1744,1744,1744,1519,1744,991,1022,991,1716,991,991,1036,1682,991,991,991,991,991,1048,1744,991,991,1744,1744,1412,991,1000,991,1297,991,1505,1744,1578,991,1744,1744,991,1068,1521,1572,1744,991,1586,1744,991,1165,991,1744,1744,1640,1282,991,1508,1744,1744,1200,1743,991,1325,1569,1019,1524,1202,991,1744,1693,991,1071,1744,1744,1016,991,991,1500,1744,1704,1744,1541,1178,1473,991,1701,1169,1684,1569,1232,991,1583,991,1702,991,1744,1744,991,1744,1005,1638,1294,1653,1744,1744,1252,1744,1337,1561,1517,1744,991,991,1562,1744,991,1582,1348,1744,1737,1744,1744,1554,1039,1703,991,1226,1744,1744,1062,991,1032,1015,1744,991,991,1744,991,1155,1650,1744,1509,1389,1149,1402,1744,1632,1604,1220,1616,1015,1744,1264,1744,1269,1650,1639,1744,1744,1142,991,991,1316,1744,991,1357,1744,1201,1634,1097,1542,991,1656,1173,999,1002,1744,991,1355,1744,1744,1540,1677,1744,1248,1290,991,1080,991,991,1744,1744,991,991,1246,1410,1744,1710,991,1727,1101,1721,1623,1684,1671,1279,1737,1719,1543,1650,1744,1631,1744,1744,991,1197,1187,1409,1696,1075,1113,1027,991,1657,1681,1061,1301,991,1046,1744,991,1744,991,1744,1744,1176,1144,991,1308,1096,1744,1601,1638,1538,991,1692,1650,1089,1528,1512,1744,991,1174,991,1082,991,991,991,991,1722,1223,1744,1744,1742,1744,991,1654,1231,991,1744,991,1445,991,1052,991,1034,1561,1554,1089,991,1689,991,1744,1121,1744,991,1412,1237,1549,991,1500,1744,1744,1135,1744,991,1744,1744,1744,991,1744,991,1249,1744,1693,991,1677,1744,1224,1744,1726,991,1617,1562,991,1693,1187,991,1744,991,1744,1196,1685,1603,1275,1119,1167,1229,1297,1510,991,991,1260,1020,1232,1538,1626,1744,991,1744,1548,1670,1211,1501,1573,1643,991,1514,1058,1645,1744,991,991,1744,1091,991,1195,1744,1110,1206,1114,1677,1553,1650,1744,1744,1744,991,1744,1727,1740,991,1059,991,1744,1119,991,1174,1697,1744,1646,1744,1071,991,991,1740,1388,1744,1623,1074,1049,1142,1332,996,991,991,1744,1268,1744,991,1744,1588,991,1063,1156,1744,1514,991,1633,1307,1006,1289,991,1500,1744,1726,1493,991,1744,991,1230,1744,1550,991,1510,1744,1269,1744,1306,1117,1744,1066,1661,1305,1533,1115,991,1744,991,991,991,1017,1125,1744,1744,1481,991,1191,1690,991,991,1634,1655,991,991,1744,1744,1061,991,991,1744,991,1111,1744,1413,1744,1744,1744,1744,1293,1557,1615,1744,997,1744,991,1629,991,1042,1396,991,1622,1727,991,1527,1695,991,1525,1096,1624,1744,1744,1744,1744,1551,1744,1744,1103,1601,1219,991,1177,1179,1744,991,1098,991,1185,1281,1001,1041,1744,1419,1395,991,1744,991,1606,1744,1015,1553,1744,1744,991,1127,1744,991,1244,1744,1744,1139,1514,1512,1744,1503,1226,991,991,1558,1608,1257,1617,1678,1254,991,1703,991,991,1744,991,1744,1033,1644,1272,1066,991,1076,1744,1541,1658,1744,1613,1692,991,1298,991,1187,1577,1598,1117,1744,1399,1744,1508,1744,1147,1744,1744,1744,1744,1134,1254,1595,991,1114,1726,991,1744,1099,1700,1730,1514,1033,1744,991,1521,1496,1744,1414,1622,991,991,1744,991,1744,991,991,991,1008,1696,1744,1744,1744,1202,1744,1744,1744,1275,1744,1611,991,1733,991,991,1462,991,1744,1614,991,1744],\"coloraxis\":\"coloraxis\",\"symbol\":\"circle\"},\"mode\":\"markers\",\"name\":\"\",\"showlegend\":false,\"x\":[1004,1744,991,1744,1226,1220,1167,1744,991,1635,1203,1054,1196,1056,1744,1639,991,1136,1744,1069,991,1744,1074,1744,1685,1130,1301,991,1744,1744,991,1721,1744,1709,1744,1226,1648,991,991,1198,991,1290,991,1744,991,1710,1412,991,1655,991,1667,1744,991,991,1249,1744,1469,991,991,1691,1236,1577,1744,1600,1579,1260,1021,1744,1589,991,1724,991,1218,1744,1378,991,1744,1233,1618,991,1563,1693,1522,1090,1687,991,1518,1025,1744,991,1546,1709,1659,991,1182,991,1089,1534,1622,1744,1293,1641,1744,1245,991,1496,1744,1517,1744,1622,1092,991,1694,1744,1401,1470,991,991,1135,991,1586,1744,1023,991,1640,991,1744,1744,1649,1729,991,991,1688,1236,991,1686,1344,1437,1081,1352,1744,1744,991,1744,1488,1645,991,991,1693,1744,991,1190,1593,991,1195,1744,991,991,991,1744,1698,1744,1481,1506,1020,991,1015,1682,991,1445,1744,1243,991,1055,1744,991,1021,1744,991,1489,991,1744,1252,1077,1524,1049,1744,991,991,1744,991,1744,1744,1507,1499,1526,1744,1627,1744,1744,1744,991,1005,991,1698,991,991,991,1744,1004,1694,1244,991,1744,1744,1744,1744,1517,1744,1744,1643,1015,1700,991,991,1003,1072,991,1027,991,1716,1744,1699,1626,1730,996,1277,991,1744,1402,1160,1744,1744,1744,991,991,1024,1600,1276,1159,1024,991,1286,1744,991,991,1744,1744,1744,1744,1057,991,1744,1744,1615,1744,1296,1554,1737,991,1678,1744,1464,1744,1556,1170,991,1160,1570,1476,991,1059,1712,991,1192,1744,991,1728,1744,1497,1173,1640,1744,1342,1744,1744,1567,1188,991,991,991,1171,1744,1744,1145,991,1657,1638,1284,1273,1185,1538,1744,1656,1287,1744,1744,1425,991,1052,1744,991,1524,1744,1263,1744,1401,991,1660,991,1744,1199,991,1571,1744,1131,1062,1744,1572,1535,1744,1744,1203,1610,991,991,1623,1019,1575,991,1744,991,1744,1503,1744,1739,991,991,1744,1502,1568,991,1289,1744,1730,1513,1744,1744,1702,1726,1243,1550,1744,1435,1729,1572,1145,1043,1332,991,991,1685,991,1008,1744,1744,991,1694,1625,1744,1744,991,991,1279,1547,991,1673,1296,1744,1678,991,1067,991,1744,1257,1069,991,1449,1154,991,1613,1744,1511,1744,1238,991,991,1736,991,1299,991,1634,1320,991,1150,991,1668,1744,1744,1744,1668,1444,1121,1514,1256,991,991,1631,1001,1618,1744,1159,1744,1008,1563,1723,1543,1231,1744,1744,1744,1095,1057,991,991,1666,1517,1744,991,991,1137,1687,1662,1065,1621,991,1221,1577,991,1368,1744,1525,1180,1122,1744,1744,991,1744,991,1744,991,1616,1284,991,1238,1236,1664,1537,1731,991,991,1370,1685,1549,1539,991,991,1072,1239,1362,1744,1744,1744,991,1066,1153,1744,1095,1100,1300,1744,1744,1121,991,1744,1582,1225,1727,1712,1089,1532,1301,991,991,1686,1332,991,1300,991,991,1105,991,1608,1744,1744,1744,1068,1744,1744,1744,1057,1744,1577,991,1744,1527,1248,1555,1744,991,991,1744,1147,1744,991,1472,1689,1208,1268,1640,991,1744,1744,1675,991,1256,1744,991,991,991,991,1744,991,1674,1681,1744,1505,991,1680,991,1227,1124,1744,1261,1164,1313,1723,1144,1740,1163,991,1744,991,1744,991,991,1127,1629,1656,1676,991,1663,1744,991,1183,991,1245,1144,991,1736,1744,1744,991,1022,1744,1083,991,1744,991,1744,1744,1744,1128,991,1141,1537,991,1744,1152,1744,1744,1744,991,991,991,991,1744,1744,991,991,1661,991,1276,1744,1744,1533,1257,1353,1672,1097,1744,1083,1218,1744,991,1003,1078,1133,1494,991,991,991,1744,1010,1404,1305,1647,1433,991,991,991,1744,1595,991,991,1018,1578,1660,991,1744,991,1744,991,991,991,991,1520,991,1638,1744,991,991,1744,1678,991,1110,1744,1282,991,1545,991,991,1014,991,1651,1288,1661,1578,1744,1403,991,1628,1287,1438,1351,991,1177,991,1207,1561,1156,1744,1190,1744,1527,991,991,1290,1274,1041,991,1525,1744,1537,1744,1152,1288,991,1730,991,1744,991,1124,991,991,991,1744,1744,991,1392,1744,1576,1022,1640,991,1729,991,1562,1203,1744,1707,998,1675,1744,1574,1070,1125,1744,1361,1744,991,1596,1644,1041,991,991,1744,1063,1298,1744,1575,1463,1164,1744,991,1197,1744,991,991,1050,1744,991,991,991,1087,1170,1744,1744,991,991,1607,991,1744,991,1744,1301,1041,1593,991,991,1717,1248,1223,1744,991,1089,1574,1335,1744,1744,1280,1744,1744,991,1744,1744,1744,1618,1582,1050,1744,1744,1744,1636,1744,1744,991,1627,1652,1744,1463,1302,1294,1685,1744,1036,1688,1707,991,1528,1744,1744,1135,991,991,1216,1728,1677,1463,1739,991,1744,1744,1513,991,1744,991,1744,1744,1744,1744,1239,991,1744,1303,991,1744,1610,991,1626,1596,1653,1609,1503,1232,1744,1511,1072,1291,1744,991,1744,1540,1712,991,991,991,1113,1183,991,996,1730,1697,1744,1744,1633,991,1744,1744,991,1179,1744,1744,1744,1122,1744,1635,1514,1242,1744,1650,1744,1594,1217,1744,1143,1129,991,991,1215,991,1672,1744,1324,1198,1347,1744,1569,1548,1143,1127,991,1744,1744,1744,1744,1744,991,991,991,1483,991,1464,991,1744,1664,1293,1681,1073,991,1617,1744,991,991,1744,1744,991,1537,1502,1016,1502,1497,991,1744,1523,991,1671,1293,1615,1526,1744,1600,1122,991,1678,991,991,991,991,1744,1058,991,1744,1603,991,1397,1604,1533,1744,1097,991,991,1535,1558,1696,1744,991,1539,1594,1074,991,991,991,1445,1623,1744,1546,1673,1744,1114,991,1675,1590,1639,1712,1118,991,1190,1243,1657,1008,1658,1381,991,1166,1239,1231,1744,1744,1577,1744,1109,1744,1257,991,1380,1744,1744,1744,1744,1744,1744,1573,1438,991,1280,991,1744,1554,1744,1744,1351,991,1598,1744,1584,991,1650,1606,1152,1744,1744,994,1566,991,1744,1241,1744,1531,991,1716,1637,1286,1694,991,1677,991,1115,1723,1013,1143,1676,991,1744,991,991,1247,1420,991,1227,1626,991,1576,991,991,991,1717,1195,991,991,1744,991,1459,991,1647,991,1744,1080,1292,1744,1744,1621,1744,1521,991,1296,1027,1744,991,1744,991,1744,1658,1611,1339,991,1744,1227,991,991,1631,991,1258,1536,991,991,1180,1167,1698,1051,991,1042,1744,991,1287,1744,1744,1744,1642,1744,991,1744,991,991,991,1499,1744,991,991,1744,1721,1734,991,1265,1744,1008,1120,1100,1098,1470,991,1432,991,1149,991,991,1744,1744,1587,1744,1744,1622,1744,1010,1526,991,1239,1538,1744,1536,1744,1709,1282,1319,994,991,1744,991,1677,991,1128,1360,991,1227,1720,1003,1744,991,1655,991,991,1744,1001,1646,991,991,1278,1051,1054,991,1744,1744,991,1514,1125,1394,1609,1744,1015,991,1617,1744,1548,1660,991,991,1744,1280,1636,1744,1203,1122,1574,1374,1744,1370,1362,1744,1020,991,1023,1344,1689,1744,1744,991,1688,1744,1078,1637,1019,1198,1002,1088,1703,991,1744,1112,991,1744,1666,1744,1276,1079,1744,1744,1257,1744,1661,991,1607,1744,991,991,1540,1744,1744,1494,1744,991,1479,1574,991,1744,1379,1621,991,991,1485,991,991,1729,1102,1744,1744,1744,1091,991,991,991,1473,1699,1026,1570,1479,1744,991,1325,1558,1133,1744,991,1657,991,991,1744,1744,1297,1744,996,991,1506,1095,1329,1130,1299,991,1738,1744,991,1267,991,1175,1744,1428,991,1637,1744,1128,1213,1744,991,1508,1538,1723,1161,1676,1744,1744,1101,1240,1266,1021,1713,1563,991,1744,1744,991,1744,1744,1170,1294,1386,1506,1744,991,1298,1615,1744,991,1270,1045,1093,991,1617,1744,1744,1744,991,1744,1042,1566,1380,1047,991,1036,1744,1744,1744,1272,991,1744,991,1744,1673,1744,991,1622,1744,1744,991,1744,1601,1617,1015,1572,1744,1744,1238,1556,1543,1534,1635,1450,1117,991,991,991,1744,1717,991,1744,1744,991,1624,991,991,991,1034,1744,991,991,1744,1026,1375,991,1744,1333,1093,1191,1744,991,1100,1294,1744,1045,1253,1472,1744,1634,1744,1744,991,991,991,991,1625,1729,1744,1019,1212,1234,991,991,1555,1711,1064,991,1252,1744,1013,1080,991,1058,991,991,991,991,1109,1211,1450,1277,1568,995,1304,991,991,1744,1563,1107,991,1512,1061,1744,1655,991,1192,1670,1532,1744,1296,1744,991,991,1519,1107,1744,991,1261,1744,1104,991,1639,991,1572,1744,1219,1033,991,991,1537,1579,1744,1584,1744,1744,1204,1165,1109,991,1600,1170,1288,1598,991,991,991,1086,1744,1052,1744,1652,1607,1229,1744,1677,991,991,991,1744,991,1055,1390,1599,1591,1265,991,1122,991,1670,1338,1319,1710,1744,1058,1251,1710,991,991,1027,1223,1422,1081,1603,1744,1219,1744,1208,991,991,1610,1744,991,991,991,1158,1744,991,1650,1663,1744,1744,1744,1630,1016,1744,1185,1478,991,1744,1744,1645,1744,1744,1465,1744,1693,1737,1111,1744,1568,991,991,1565,1706,1616,1531,1636,1744,991,1046,1465,1399,1126,1368,991,1550,1744,1538,1744,991,1744,1194,1502,1649,991,1744,1381,991,1684,1740,1744,991,991,1744,1553,991,1628,991,1734,991,994,1033,1462,1662,1744,1042,991,991,1562,1425,1744,1744,1558,1702,1744,1538,1744,1744,991,991,1512,1744,1402,991,1625,1724,1744,1692,1184,991,991,1535,991,1294,1744,1110,991,1132,991,1744,991,1744,1252,1234,1744,991,991,1053,1744,1744,991,1191,1025,1392,1744,1290,1744,1279,991,1744,1502,991,1744,991,1142,1674,991,1274,991,1744,1598,991,1744,1121,1182,1744,1744,991,1625,991,1183,991,1040,991,991,1156,991,1655,1693,1014,1148,1744,1744,1404,1545,1634,1268,1682,1744,1337,991,1744,1042,1613,1270,997,991,1744,1591,1744,1744,991,1376,1744,1311,991,991,1464,991,1744,1018,1694,1112,991,1282,1639,1501,991,1744,1518,1744,1070,1744,1188,1494,1744,991,1564,1211,1662,1530,991,991,991,1195,1428,991,991,991,991,1744,1744,1744,1744,1648,1522,991,1744,1082,1338,1559,991,1744,1197,1744,1744,1744,1519,1744,991,991,1344,991,1098,1190,1590,1040,1524,1132,1699,1204,1003,1610,1744,1676,991,1265,1585,991,1744,991,1744,991,1744,1398,991,1504,991,1045,1149,1666,1210,1523,991,1744,1191,1641,991,1588,1272,991,1228,991,991,1744,1617,1744,1040,991,1354,1739,991,1484,1744,1711,991,1744,1283,1155,991,1744,1211,1248,1744,1030,1254,1744,1622,991,1744,1628,991,1587,1081,1744,991,991,991,1742,1304,1510,1744,1540,1023,991,1624,1612,1723,991,1744,1528,1081,1002,991,1744,1237,1242,1700,1744,991,1503,1549,991,1277,991,1744,991,1543,1363,1584,1744,991,1531,1003,1010,1744,1744,1188,1164,1744,1176,1503,1621,991,1257,991,1744,991,1573,991,1148,1513,991,1744,1597,1058,1438,1616,991,991,1714,1334,1744,1098,1010,1195,991,1272,1324,1744,1438,991,1236,1744,1078,991,1669,1073,1273,1235,1400,1598,1744,991,991,1744,1744,1288,1615,1026,1598,1744,1744,1744,1083,991,1744,1595,1274,1744,991,1652,1211,991,991,991,1091,1066,1744,1451,1744,1744,1744,1744,1147,1232,1264,991,991,1064,991,1744,1665,1744,1231,1413,1744,1071,1614,1302,1744,991,1586,1744,1582,1109,991,1687,1744,1744,1656,991,991,1228,1744,991,991,1744,1726,1744,991,1653,1261,1744,991,1744,1744,991,1744,1701,991,1744,1544,991,1175,1744,1744,1744,1075,1056,991,1002,991,991,1432,991,1743,1744,1055,1641,991,991,1704,991,1734,1033,991,1744,991,1275,1173,1502,1187,1744,1744,991,1744,1507,991,1744,1607,1607,1744,1121,1744,991,991,991,1292,991,1744,1454,1053,1115,1498,992,991,991,1114,991,1705,991,1101,1104,1085,1015,1389,1179,991,991,1744,991,1285,991,1744,1285,991,991,1744,1697,991,1210,1467,1412,1124,1744,1632,1021,1448,1744,991,1412,1153,1690,1307,1635,991,1438,1505,1635,1631,1585,1117,1296,1238,1744,1744,1744,991,991,1586,991,1436,1019,1203,1027,1744,1744,1711,1744,1083,991,1624,1122,1744,991,1744,1744,1744,1744,1075,991,1166,991,991,1744,1687,1744,1620,991,1542,1551,1744,1522,1539,1744,1744,1744,1159,1438,991,1292,1691,1744,1174,1744,1582,1744,1237,1744,1129,991,1056,1585,1744,1744,991,991,1744,1576,991,991,1744,1744,1744,991,1589,1390,1744,1145,991,1174,1744,1477,1017,991,1515,1071,1744,1744,991,1744,1452,1605,991,991,1525,1577,1002,1744,991,1530,991,991,1254,1129,1272,1085,1744,994,1744,1544,1740,1676,1209,1397,1028,1063,991,1732,1100,1182,1744,1298,1581,1520,991,1744,991,1744,1599,1320,1527,991,991,1744,1744,1662,991,1142,991,1744,1021,1097,1744,1744,1067,991,1744,991,991,1550,1744,991,1638,1744,991,1627,991,991,1140,1658,1112,1584,1744,991,991,1744,1015,1125,1744,1744,1744,1222,1587,1744,1744,991,991,1170,1744,1159,1288,1724,1130,1744,991,1237,1599,991,1292,1229,991,1744,1744,991,1744,1687,991,1109,1333,1744,991,1633,1513,1744,1581,1239,1414,991,991,1582,1454,1226,991,1744,1744,1252,1601,1515,1638,1744,1647,1158,1744,1744,1252,1744,1744,1369,1167,1744,1512,1611,1744,1539,1744,991,991,991,1021,1282,1254,1511,991,991,1744,1744,1744,991,991,1744,1543,1744,991,1422,1744,991,1462,991,1098,1326,1744,1032,991,1366,1744,1744,1744,1744,1744,991,1210,1744,1574,1525,991,1642,1382,1744,991,1744,991,1744,1047,991,991,991,991,1217,1209,1600,991,1295,1005,991,1260,1052,1718,1286,991,1206,1744,1300,1010,1062,1744,1157,1744,1083,1730,1682,1610,1460,991,1116,991,1744,1580,1202,997,1744,1297,1576,1603,991,991,1744,1744,991,1275,1744,1744,1744,1257,1028,991,991,1744,1744,1189,1089,1744,1744,991,1601,1744,1539,1744,1282,1661,1529,1744,1596,991,991,1744,1744,1744,1679,991,1744,1507,1744,1744,991,991,1152,1277,1633,991,1387,1017,1643,1079,991,1542,991,991,991,1000,1258,991,1186,1335,1744,991,1253,1744,991,991,1078,1744,1744,1069,1744,991,1216,1744,1675,1721,1719,991,1218,1178,1551,1562,1700,1263,1664,1073,991,1744,991,991,1744,1001,1734,991,1244,1744,1025,1744,1744,1128,991,1744,991,991,1005,1744,991,1744,991,991,991,1285,991,1744,991,991,1019,991,991,1496,1422,1744,991,1079,1696,1669,1230,1286,1474,1744,1403,1253,1633,1744,1268,1744,1692,1108,1744,991,1684,1744,991,1148,1026,1734,1744,1047,1744,1189,1316,991,1708,991,1744,1744,1744,1744,991,1614,991,1744,1602,1744,1744,991,1744,991,1744,991,991,991,991,1744,991,1136,1597,1598,1673,991,1744,1744,1744,1306,1744,1178,1744,1744,1444,991,991,1254,1744,1619,1744,991,1744,1744,991,1667,1204,1653,991,991,991,991,1060,1744,991,991,1035,1614,1744,1413,1625,991,991,1276,1744,1711,1260,1744,991,1233,1009,991,1649,1744,1233,991,1082,1068,1744,1524,1744,991,991,1212,1685,1744,1744,1467,1714,1104,1081,991,991,991,1478,991,991,1505,1159,991,1000,1554,1368,1744,991,1744,1744,991,991,1744,993,1744,1744,1543,1470,1673,1744,1744,991,1251,1744,1705,1504,991,1618,991,1255,1600,1031,991,1429,1505,1744,1003,1744,991,1591,1524,1611,991,1453,1562,1671,1744,991,1116,1544,1694,1744,991,991,991,1197,1744,1744,991,1305,991,991,991,1744,1636,1615,1565,1703,1693,1744,1051,1266,1348,1005,1589,1182,1273,1596,1676,1240,991,1464,1329,1744,991,1744,1744,991,1192,1071,1176,1101,1146,991,1744,1744,1422,1667,1634,1587,1641,1673,1744,1744,1034,991,1577,1682,1652,1744,1116,991,1589,991,1222,1337,1535,1538,1376,1744,991,1094,1744,1554,1520,1744,991,1500,991,1744,1235,1744,1744,991,1685,1744,1602,1665,1744,991,1705,991,1744,1262,1744,1611,1744,991,1037,1187,1361,999,1020,1651,991,991,1697,1063,991,1540,1123,991,991,991,1241,1744,991,1592,1552,1220,1628,1744,1744,1744,1744,1744,1261,991,1661,1744,1730,991,1673,1548,1227,1004,1509,1092,1744,1217,1649,991,1237,1156,992,1302,1744,1001,1744,1530,1744,1502,1744,1132,991,1223,1738,1057,991,1072,1375,1122,1526,991,1192,1220,1744,1315,991,1222,1744,991,1430,1744,1630,1744,991,1744,991,991,991,991,1151,1541,1509,1706,991,1189,1744,1024,1744,1744,991,1162,1124,1744,1256,1611,1399,1738,1744,991,1744,1272,1690,1502,991,1060,991,1240,1540,1744,991,1744,1744,1744,1047,991,991,1591,1744,1027,1181,1744,1161,991,1744,991,991,1014,991,991,1744,1048,1069,991,991,1658,1744,1512,1744,991,991,1622,991,991,991,991,1744,1744,1354,1744,1168,1744,1122,1666,1744,1744,1744,1159,991,1082,1079,1112,1188,1744,1642,1032,1657,1060,991,1744,1511,1177,1744,991,1744,991,1744,1688,991,1597,1670,1744,991,991,1631,1624,1744,991,991,1328,1734,991,1744,1694,1744,1612,1407,1229,1674,1523,1744,1146,1744,1712,991,1101,1744,991,1530,1744,1311,991,1559,991,1182,1744,1136,1337,1744,991,1666,1744,991,991,1259,1555,1033,1275,1744,991,1488,1591,1075,1603,1744,1504,1744,1279,1744,1066,991,991,1363,991,991,991,991,1507,999,1632,1162,1744,1321,991,1275,1744,998,1744,1655,1644,1744,1216,1716,991,1078,1744,1223,1655,1192,991,991,1060,991,1744,1744,1744,1296,991,1321,1070,991,991,991,991,1744,1703,1744,1169,991,1744,991,1669,1028,991,1266,1744,1744,1300,1614,1175,1294,991,1744,1744,1744,1744,991,1626,1657,1744,991,1744,991,991,1744,1522,1744,1572,1507,1330,1373,1118,1591,1404,1744,1744,1744,1650,1035,991,991,991,991,1592,1350,1245,1563,991,1744,1110,991,1708,991,1744,1649,1323,1744,1514,1669,1744,1459,1744,1165,1132,991,991,1277,1028,1572,1507,1002,1023,1506,1348,1125,1066,1744,1459,991,1744,991,1205,991,1710,1154,1744,1221,991,1744,1119,991,1224,1520,1070,1719,991,1624,1590,991,1744,991,998,991,991,1744,991,1744,1744,1744,991,1060,1601,1703,1744,1145,1678,1262,1138,1744,1277,1639,1580,1744,991,1033,1744,1744,1563,1744,1698,1689,1680,1170,1030,1338,1217,1744,1744,1691,1689,1703,1744,1545,1686,1136,1744,991,1057,991,1457,1021,1519,991,1744,991,1744,991,1486,1215,991,991,991,991,1609,1689,1744,1178,1530,1622,1013,1244,1744,1744,1744,1722,1182,1246,991,1434,1081,991,991,1744,1581,1731,1243,1184,1704,991,991,991,1650,991,991,1419,1744,1010,1011,1744,1225,1252,1744,1729,1717,1091,1629,1724,1198,1329,1634,991,1744,1446,1034,1722,1744,1529,1074,1744,1229,1215,1648,1744,1744,1527,991,1744,1744,1094,1744,991,1697,1744,1656,1738,1155,991,1744,1199,1658,1744,1744,1621,1660,1037,991,991,1642,1618,1645,1150,1744,1744,1058,1720,1719,1191,1744,1039,991,1744,991,1744,1744,1474,991,1744,991,1744,1464,1290,991,1744,1199,1631,1576,1148,1744,1744,1744,1744,991,991,1044,1180,1095,1202,991,1313,991,1744,991,991,1718,1086,991,1744,1730,1180,1607,1182,1539,1636,1088,1229,991,1209,1744,991,1744,1744,991,1737,991,1219,1272,991,1741,1744,1744,991,1344,991,1744,1744,991,1081,1198,991,1611,991,1634,1744,1744,1711,1744,991,1744,991,1299,991,1726,1744,991,1405,1009,1525,1744,1250,991,1744,1744,991,991,1695,991,1744,1536,991,1553,991,1245,1662,1744,1744,1744,991,1101,1518,1049,991,991,1744,991,991,991,991,991,1744,1301,1261,1744,991,1587,1744,1137,991,1125,1635,1744,1072,1744,1720,991,1744,1744,1227,1253,1278,991,1186,1744,991,1661,1536,991,991,1356,991,1558,1440,991,1255,1009,1065,1065,991,1045,991,1744,994,1744,1744,991,1399,1744,1519,1605,1230,991,1590,1734,991,991,991,1739,1127,991,991,991,1026,1346,1744,991,1542,1744,1291,991,991,1579,1047,1660,991,1744,1109,995,1744,1529,1034,1302,991,1020,991,1744,1653,1744,1508,1292,1744,991,1744,1744,1199,1181,1068,1686,1744,1259,1744,1744,1144,991,1515,991,1671,1047,1595,1299,1626,991,1089,1744,1708,1697,1744,1744,1744,1744,991,1711,1583,1274,1356,1144,1129,991,991,1501,1744,1449,1700,1744,1178,1460,1744,1103,992,1268,1744,991,1236,1256,1071,1217,1488,1744,1623,1585,1744,1662,991,1744,991,1744,1617,1733,991,1081,1243,1430,1707,1317,1128,1744,1091,1744,1744,1095,1744,1744,1744,1695,1099,1547,991,1744,1541,1744,1208,991,1744,991,1262,991,1225,991,1647,1344,991,991,1744,991,1744,1021,1126,1744,1059,1625,1080,1744,1696,1744,1499,1744,1505,1744,1665,1391,1744,1514,991,1744,1744,991,1215,1744,1691,1294,1744,991,1640,991,1744,1744,1674,991,991,1744,1167,1566,1053,1744,1744,1612,1418,1032,1430,991,991,1709,1128,1731,1620,1581,1672,1266,1298,1744,1744,1058,991,1256,1744,991,1031,1114,1567,1282,991,1510,1005,1744,991,1103,1386,1588,991,1241,1571,991,1707,1744,991,1000,1744,991,1180,1219,991,1133,1153,1618,1246,1744,1744,1744,991,1517,1721,1231,1090,1590,1353,1610,1744,1029,1285,1210,991,991,1744,991,1563,1634,1483,1744,1638,1744,991,1744,1021,1448,991,1514,1744,1744,1615,1744,1744,1119,991,1417,1278,1050,1706,991,1744,991,1142,1668,991,1744,991,1744,1000,1209,991,991,1624,991,991,991,1744,1296,1624,1630,1257,1163,1652,1566,1669,1009,991,1744,1744,1623,1602,1143,991,1744,991,1510,1025,991,1609,991,1109,991,1744,1526,1744,1366,991,1744,1744,1236,1291,1744,991,991,1574,1290,1574,991,1047,1744,1511,1744,1744,1744,1550,1744,1540,1744,1454,1744,1528,991,1389,991,1244,1566,1539,1283,1132,991,991,1025,991,991,991,1530,1744,991,1532,1744,1373,1528,1744,1132,1744,1036,1504,1744,1609,991,1665,1744,1157,1744,1181,1653,1744,1531,1629,1081,1041,1175,991,1722,1475,1522,1556,1286,1744,991,1178,1626,1589,1165,991,1144,1201,991,1501,1289,1741,1585,991,1172,1321,991,1744,991,991,991,1744,1744,1023,991,1485,1744,1744,1181,1308,991,1744,991,1727,1744,1157,1744,1138,991,1744,1744,991,1744,1729,991,991,1587,1282,991,991,991,1744,1744,1486,1742,1744,1214,1257,991,1744,1605,1188,1213,991,1744,991,1744,1744,1744,1199,1228,1744,1744,1287,1369,1744,1082,1636,991,1744,1655,991,1101,991,1135,1308,991,991,1725,1665,1744,1744,1665,1537,991,991,991,1744,991,991,1080,1045,1530,1132,1744,1744,1138,1744,1115,991,1586,1103,991,1727,1672,1581,1744,1668,1263,991,1145,1074,1707,1744,991,1178,1261,991,1167,1575,1177,1069,991,991,1744,1692,1744,991,1639,991,1744,1744,1744,991,1662,1744,1270,1744,1028,1744,991,991,1744,1744,1744,1083,1744,1707,991,1519,1744,1043,991,1539,1279,1568,1744,1566,1744,1729,1569,1744,1744,1271,1527,991,1206,1744,991,991,991,1534,1744,1512,991,1581,1238,1173,991,1684,1744,991,1026,1744,1282,1744,991,1564,1566,1266,1744,1649,1081,1744,991,991,1744,991,1744,1744,991,991,991,991,1725,1744,991,991,1624,1744,1381,991,1034,1744,1744,1085,1744,991,1341,1377,1744,1594,1016,1744,1242,991,991,1120,991,1083,991,1725,1194,1052,991,1369,1744,1228,1236,1744,1018,1744,1602,1744,991,1744,1424,991,1643,991,1744,1744,1744,1644,1744,1744,1016,991,1304,991,1476,1219,991,1532,1640,1744,991,1744,1159,991,1744,1645,991,1612,1744,1193,1350,1744,1744,991,1744,1677,1538,1744,1098,1146,1744,1578,1207,1125,991,1483,1423,1744,1028,1744,1215,1275,991,1323,1527,1744,1041,1062,1407,1744,1226,1198,1249,1310,1744,1032,1666,1212,991,991,1744,1744,1305,1373,1744,1744,991,1634,991,991,1744,991,1744,1541,1615,1683,1744,1629,1030,1733,991,991,1035,1744,1158,1744,1488,1704,1139,1138,991,1744,991,1583,1261,1138,1704,991,1744,1671,1586,1149,991,1142,1014,1744,991,1527,1597,991,991,1210,991,1370,1229,1744,1231,998,991,1141,1089,1744,1618,1571,1181,1495,1451,1273,1435,1707,1080,1634,1744,1584,1112,1232,1744,1744,991,1155,991,1744,1744,1744,991,1367,996,1686,1140,1538,1570,991,1151,1317,1744,991,997,1669,1744,1744,991,1744,1744,1628,991,1130,1622,1744,1744,1662,1230,1087,1265,991,1744,991,1076,1744,1228,1670,1245,991,1634,1597,1650,1744,991,1744,1744,991,991,991,1574,1037,991,1180,1110,1744,1484,991,1232,1744,1744,1251,991,991,1156,1607,1744,1744,991,1253,1744,991,1719,1503,991,1744,998,991,1166,1744,1606,1744,991,1573,1744,991,1538,1744,1744,1263,991,1744,991,1744,991,1073,1203,1300,1514,1744,1214,1554,1744,1675,991,991,1744,1744,1723,991,1064,1744,1744,1669,1593,1744,1744,991,991,1445,991,1744,1589,1744,1000,1744,1135,991,1160,1163,1057,991,1163,1643,1744,1268,1744,1085,1744,991,991,1685,1744,1744,991,1256,991,1744,1744,1705,991,991,1744,1676,1744,1591,1154,1744,991,1565,1699,1142,1268,1731,1744,991,991,1540,1226,991,1657,1503,1744,1572,1744,1744,991,1156,1564,991,1744,991,1744,1667,1744,1252,1744,1599,1744,1744,1744,1280,1333,1128,1744,1344,1538,1545,1279,1116,991,991,1101,1087,1744,1744,1744,1740,1744,1744,1744,1744,1582,1256,1715,1744,1238,1128,991,1744,991,1031,1724,1143,991,1744,1384,1744,1000,991,1744,991,1212,991,991,1635,991,1229,1083,1431,1670,1667,1744,1744,1744,1744,1713,991,1276,1702,1744,1632,1243,1744,1744,991,991,1107,991,1744,1162,1558,1269,991,1281,1517,1344,1705,995,991,1705,1604,1238,991,1744,991,1744,991,1524,991,1403,1211,991,1016,1574,1185,1437,1744,1195,1055,1744,991,1744,1558,991,991,1001,1744,1421,1744,991,1721,1744,991,991,991,1744,1744,991,1744,1613,991,1744,991,1744,1334,1267,1530,1458,1744,1521,1005,991,991,1204,1072,1744,1082,1518,1180,1525,1732,1744,1744,991,1744,1698,991,1152,1588,991,1616,1536,991,1722,1651,1744,1519,991,1744,991,991,1735,1744,1744,1744,991,1744,1365,1489,1576,991,1733,1346,1075,991,1051,1744,1037,1505,1195,1236,1376,1744,1214,991,1122,1532,1337,1703,1310,1533,1013,1744,991,1097,1363,1153,1744,991,991,1744,1744,1026,1744,1408,1744,1547,991,1267,991,1608,1236,1209,1703,1149,1402,1531,1744,1082,1555,1744,1735,1067,1744,991,1744,991,1702,1032,1685,991,991,1744,1744,1744,1129,1744,1299,1211,1690,1744,991,1744,1027,1744,1704,991,1744,991,991,1501,991,1716,991,1195,1651,991,1566,1356,1621,1744,1055,1744,1354,1337,991,1744,1532,1507,991,1264,991,1085,1632,1744,1244,1695,1744,1131,1699,991,1674,991,991,1003,1594,1744,991,1744,1744,1526,1520,1743,1744,1396,991,1744,991,1744,991,1744,1250,1744,991,1744,1620,991,1143,1052,991,991,1276,1549,1744,1294,1284,991,991,1596,1222,1744,1048,991,1182,1591,991,1137,1744,1744,1677,1744,1744,1549,1689,1691,1367,1345,1539,1214,1744,1744,1744,1617,991,1261,1238,1477,993,1637,1163,1399,1744,1744,1744,991,1744,1721,1171,1479,1313,1744,1067,1275,1744,1630,1275,991,991,1191,991,1713,1542,991,1609,1744,991,1182,1078,1744,1578,1119,991,1682,1451,1744,991,991,1744,1744,1121,1744,1744,1398,1359,1126,1038,1744,991,1662,1744,1038,1572,1163,991,1744,1128,1657,1078,1500,991,1744,991,1531,1559,1744,991,1744,991,991,991,1686,1548,1474,1016,1744,1030,1030,1479,1635,1744,1725,991,1082,1468,1226,1108,1614,991,991,1112,1744,1001,1636,1068,1646,1744,1744,1536,991,1108,1002,991,1438,1416,1744,1744,991,1744,1084,991,1272,991,1289,1222,1744,1744,1744,1550,1091,1515,991,991,991,1211,1158,1744,991,1129,1000,991,1601,991,1744,1074,1744,1706,991,991,1744,1744,1744,1050,1725,991,1018,1011,1307,1744,1262,991,1087,1744,991,991,991,991,991,991,1744,1470,1105,1744,991,1326,991,991,1072,1648,1744,1616,1605,1094,991,991,1744,1744,1459,1459,1744,1744,1627,1014,1537,1614,1516,991,1129,991,1166,1744,1300,1145,1744,1168,991,1185,1151,991,991,991,1505,1208,1400,1205,991,1744,1098,1744,1243,991,991,1744,991,991,1283,1715,1655,1013,991,1744,991,1149,1255,1160,1544,1058,1744,991,1374,1072,1087,1645,991,1587,1531,1689,991,1744,1545,1550,1744,1744,1552,991,1635,1121,1241,1744,1264,1558,991,991,1248,991,1410,1744,1744,1744,1744,991,1502,991,991,1341,1571,991,1206,1465,991,1744,991,991,1671,1740,1633,991,1267,991,1744,1148,1744,991,1121,1744,1744,1280,1184,1744,1062,991,1626,991,1627,1744,1740,991,1474,1114,1188,1273,1744,1550,1208,1231,991,1578,991,1744,1595,1744,991,1697,1744,1744,991,1592,1744,991,991,1738,991,1662,1744,991,991,1009,1522,1274,1744,1744,991,1744,1245,1510,1562,991,1124,1744,1744,1151,1744,1464,991,991,1744,1067,991,1536,1505,991,1514,1181,1744,1744,1061,1520,1564,1744,1120,1147,1087,991,991,1494,1649,1297,991,1523,1704,991,991,1024,1707,1744,1680,1617,991,991,1744,991,1744,1744,1744,1351,1744,1744,1199,991,1053,1744,991,1744,991,991,1150,1744,991,991,1128,991,1669,1096,1595,1744,1298,1744,991,1744,1054,1744,1057,1616,1500,991,1262,1700,1605,1192,1199,991,1539,991,1124,1397,1419,1214,1512,991,1446,1138,1744,991,1744,1744,1541,1625,991,991,1087,1083,1744,1562,1600,1216,1333,1564,1366,1245,1314,991,1511,1067,1005,1148,1501,1559,1744,1536,1744,991,1744,991,1744,1744,1744,1352,991,1744,991,1270,991,1094,991,1655,1622,1744,1442,1614,1567,991,1744,1270,1022,1000,1429,1515,991,991,1685,1483,991,1157,1350,1702,1744,1356,991,991,1324,1156,1327,1117,1284,1744,1264,1649,1245,1422,991,1744,991,1744,1266,1744,1527,1124,1654,1722,991,991,1640,1271,1628,1553,991,991,1744,1726,1644,1744,1122,1744,1420,1744,1686,1744,1744,991,991,1091,1093,1744,1744,1555,1139,991,991,1631,1615,991,1537,991,1744,991,1538,1188,1068,1034,991,1744,1100,1744,991,1636,1744,1533,1530,991,1744,1267,1744,1744,1223,1724,1072,991,1744,1273,1275,1047,1597,1586,1744,1744,1303,991,1428,991,1744,1738,991,991,1196,1128,1092,1744,1744,1736,1559,1708,991,1403,1085,991,1291,1744,991,1169,1401,991,991,1744,1744,1616,1505,1072,1253,1744,1744,1274,1709,1744,1591,1674,1730,991,1718,1744,991,991,1569,1744,991,1744,991,1744,991,991,1744,991,1734,991,1744,1688,1721,991,1590,1719,991,1744,1215,991,1609,1226,1478,1041,1420,1744,1093,1683,1165,1083,1744,1102,1565,1744,1615,991,991,1744,991,1744,1744,1031,1604,991,1666,991,1744,1744,1194,1744,991,1638,1744,991,1184,1744,991,1624,1077,1729,1065,1671,991,1181,991,1744,1744,1067,1085,1064,991,1744,1637,991,1138,1724,1017,991,1744,991,1744,1362,1627,991,991,1744,991,991,1592,1245,1479,1259,1744,991,1744,1744,1655,1197,991,991,991,1625,1143,991,1168,1744,1744,1722,1541,1409,1744,1744,1217,1057,991,1608,1010,1170,991,991,991,1502,1110,991,1744,1744,1181,1567,991,1630,1503,1744,1299,991,1708,1230,1744,1180,1744,1533,991,1404,991,1744,991,993,1257,1280,1337,1744,1744,1719,1636,1264,991,1744,1232,991,1744,991,1744,1744,991,1744,1744,991,991,1323,1744,1744,1684,1556,991,991,991,991,1137,1132,1744,1744,1744,991,1744,1640,1232,991,1114,1444,1744,1642,991,1595,1744,1692,1744,1256,1744,1541,991,1744,1519,991,991,991,1551,991,1196,1589,1744,1744,1744,991,1744,1700,1744,1716,991,1505,991,991,1320,1744,1697,1744,1229,1549,1744,1654,1224,991,1166,991,1744,1527,1744,1744,1574,1744,991,1030,991,1600,1270,1150,1744,1744,1744,1217,1668,1668,1435,991,1744,1255,1744,1744,1743,1545,991,1349,1744,1696,1727,991,1744,1744,1744,1544,1744,991,1066,1673,1744,991,991,991,1744,1744,991,1213,1541,1401,1637,1299,1160,991,1496,991,1744,991,1744,1744,991,991,991,1744,1744,1420,1744,1744,1459,1744,1155,1707,991,1744,1506,991,1661,991,1609,1250,1744,991,1744,1744,991,1639,991,991,1511,991,1744,991,991,1744,991,1343,1021,991,1573,1744,1744,1347,1744,1744,1037,1365,1179,1514,1103,991,1571,1502,1737,1252,1584,1658,1744,1057,991,991,1741,1744,1265,1744,1744,1744,1531,1744,1288,1738,1010,991,1635,991,991,1063,1744,1358,1744,1207,1744,1744,1296,1012,991,1224,1587,991,991,1665,1003,991,1081,1744,1118,1283,991,1744,1744,1744,1744,1070,1545,1700,1511,1104,991,1605,1558,1550,991,991,991,1102,991,1744,991,1644,1081,1744,1611,1138,1744,1744,1678,991,1691,1278,1744,1744,991,1207,991,1651,991,1085,1166,991,991,1005,1554,1245,1744,991,1214,1743,1035,1744,1744,1744,991,991,1088,1362,1744,1097,1295,1607,1606,1291,1418,1317,1744,993,1153,991,1582,1115,1112,1678,1503,1744,991,991,1506,1640,991,1409,1633,1139,1101,1744,1119,1744,1744,1692,1655,991,1647,1239,1471,1505,991,1744,1191,1061,1744,1015,1744,1287,1576,991,1626,1262,1261,1015,1195,991,1744,1744,1732,991,1744,1744,991,991,1007,1744,1693,1538,1744,991,1744,1061,1744,1664,991,1744,1668,1205,991,1744,1014,991,1545,1045,1744,991,1744,1744,1692,1744,1114,1744,1744,1527,1744,1206,991,1231,1735,1266,1744,1744,1295,991,1744,1361,1744,1055,991,1118,1451,1744,991,1744,1744,1744,1741,1065,991,991,991,1744,991,1744,1579,991,1667,1184,1733,1106,1744,1055,1735,991,1335,991,1095,1477,1744,1744,1599,991,1198,991,1637,1678,1023,991,1032,991,991,991,991,1744,991,991,1053,1596,1368,1544,1486,1285,1501,1744,1117,1561,991,1212,1744,1744,991,991,1696,991,991,1414,1744,991,991,1380,1744,991,1115,991,991,1744,1744,1625,991,1534,1082,1279,1544,1101,1230,991,991,991,1744,1744,1628,1736,1744,991,1217,1601,1201,991,1744,1023,1744,991,1653,1452,1744,1744,1606,1744,991,991,1504,1121,1744,1105,1528,1712,991,991,991,1418,1155,1061,1744,991,1744,1713,991,1744,991,1744,1744,1377,1744,1568,1210,1179,991,1235,1735,991,991,1744,1641,1718,991,991,1744,1744,1744,1528,1744,1639,991,991,991,1278,991,1744,1358,991,991,1744,1744,991,1035,1744,991,1206,991,1690,991,1136,1268,1012,1198,1152,1034,1744,991,1744,991,991,1744,1744,1744,991,991,1700,1505,1589,1744,991,1724,991,1744,1239,991,991,1744,1050,1744,1078,1744,1170,991,1744,1744,1134,1057,1630,1744,1209,1068,1366,1727,1673,1744,1022,1744,991,1241,993,991,1744,1744,1104,1509,1744,1735,991,1148,1744,991,1189,1744,1212,1136,1059,1744,1744,1744,1609,1744,1744,991,1744,1533,991,991,1083,1721,1276,991,991,1159,991,991,991,1744,1648,1538,991,1201,991,1545,1206,1694,1656,991,991,991,1548,991,1744,1744,1744,1744,1744,1519,1744,991,1022,991,1716,991,991,1036,1682,991,991,991,991,991,1048,1744,991,991,1744,1744,1412,991,1000,991,1297,991,1505,1744,1578,991,1744,1744,991,1068,1521,1572,1744,991,1586,1744,991,1165,991,1744,1744,1640,1282,991,1508,1744,1744,1200,1743,991,1325,1569,1019,1524,1202,991,1744,1693,991,1071,1744,1744,1016,991,991,1500,1744,1704,1744,1541,1178,1473,991,1701,1169,1684,1569,1232,991,1583,991,1702,991,1744,1744,991,1744,1005,1638,1294,1653,1744,1744,1252,1744,1337,1561,1517,1744,991,991,1562,1744,991,1582,1348,1744,1737,1744,1744,1554,1039,1703,991,1226,1744,1744,1062,991,1032,1015,1744,991,991,1744,991,1155,1650,1744,1509,1389,1149,1402,1744,1632,1604,1220,1616,1015,1744,1264,1744,1269,1650,1639,1744,1744,1142,991,991,1316,1744,991,1357,1744,1201,1634,1097,1542,991,1656,1173,999,1002,1744,991,1355,1744,1744,1540,1677,1744,1248,1290,991,1080,991,991,1744,1744,991,991,1246,1410,1744,1710,991,1727,1101,1721,1623,1684,1671,1279,1737,1719,1543,1650,1744,1631,1744,1744,991,1197,1187,1409,1696,1075,1113,1027,991,1657,1681,1061,1301,991,1046,1744,991,1744,991,1744,1744,1176,1144,991,1308,1096,1744,1601,1638,1538,991,1692,1650,1089,1528,1512,1744,991,1174,991,1082,991,991,991,991,1722,1223,1744,1744,1742,1744,991,1654,1231,991,1744,991,1445,991,1052,991,1034,1561,1554,1089,991,1689,991,1744,1121,1744,991,1412,1237,1549,991,1500,1744,1744,1135,1744,991,1744,1744,1744,991,1744,991,1249,1744,1693,991,1677,1744,1224,1744,1726,991,1617,1562,991,1693,1187,991,1744,991,1744,1196,1685,1603,1275,1119,1167,1229,1297,1510,991,991,1260,1020,1232,1538,1626,1744,991,1744,1548,1670,1211,1501,1573,1643,991,1514,1058,1645,1744,991,991,1744,1091,991,1195,1744,1110,1206,1114,1677,1553,1650,1744,1744,1744,991,1744,1727,1740,991,1059,991,1744,1119,991,1174,1697,1744,1646,1744,1071,991,991,1740,1388,1744,1623,1074,1049,1142,1332,996,991,991,1744,1268,1744,991,1744,1588,991,1063,1156,1744,1514,991,1633,1307,1006,1289,991,1500,1744,1726,1493,991,1744,991,1230,1744,1550,991,1510,1744,1269,1744,1306,1117,1744,1066,1661,1305,1533,1115,991,1744,991,991,991,1017,1125,1744,1744,1481,991,1191,1690,991,991,1634,1655,991,991,1744,1744,1061,991,991,1744,991,1111,1744,1413,1744,1744,1744,1744,1293,1557,1615,1744,997,1744,991,1629,991,1042,1396,991,1622,1727,991,1527,1695,991,1525,1096,1624,1744,1744,1744,1744,1551,1744,1744,1103,1601,1219,991,1177,1179,1744,991,1098,991,1185,1281,1001,1041,1744,1419,1395,991,1744,991,1606,1744,1015,1553,1744,1744,991,1127,1744,991,1244,1744,1744,1139,1514,1512,1744,1503,1226,991,991,1558,1608,1257,1617,1678,1254,991,1703,991,991,1744,991,1744,1033,1644,1272,1066,991,1076,1744,1541,1658,1744,1613,1692,991,1298,991,1187,1577,1598,1117,1744,1399,1744,1508,1744,1147,1744,1744,1744,1744,1134,1254,1595,991,1114,1726,991,1744,1099,1700,1730,1514,1033,1744,991,1521,1496,1744,1414,1622,991,991,1744,991,1744,991,991,991,1008,1696,1744,1744,1744,1202,1744,1744,1744,1275,1744,1611,991,1733,991,991,1462,991,1744,1614,991,1744],\"xaxis\":\"x\",\"y\":[8124400,22781941,13672408,10063653,7717313,13002093,8785897,17640263,8599784,8528251,15460830,9837169,9099021,9743177,16414161,9019552,11359965,8660489,22157385,11232696,9461549,11515372,10002847,14577130,13130325,13905300,8368365,9166824,11882434,13464561,9439900,15513979,10702831,13471591,18478191,5239698,9528316,10819523,11972645,8603978,7402837,8201955,6054496,19867776,3779441,21186337,8823087,5512842,13163828,6185784,11362753,17976166,5837413,4108764,9033213,14118319,9897904,6098963,10079914,9896884,9255369,12582910,14700118,12397652,14073061,7213740,12210141,13932343,12749693,10715485,9466999,7482031,13090419,14671115,10423293,9190684,12238735,10170568,9726203,6903700,10299127,13351965,18135236,10304376,13113085,10900422,18216248,11426944,13250584,11732447,14825026,10861682,14188956,11060310,10281471,9895773,9330756,8251996,13651305,14386494,13693157,10663419,12602262,5233151,8003625,8971826,12729658,12196843,15691527,14198084,8516922,7552336,10858491,19955937,10633056,7682662,9469654,5919689,9697353,4547346,15103380,24309201,10056410,11665156,18391963,6862108,14121017,13712532,19734543,13328517,8364230,7539941,12245828,12540840,7234604,10925799,11522927,10792235,6437756,6871656,12054125,20230531,6149457,13145488,9049717,7905231,10178637,12895904,16208565,11584406,7940194,8437847,9573076,9577633,10116248,16851463,9151728,8735798,10323083,17531842,12970592,23467870,10564901,11045554,8187058,9535416,8684907,19464831,8532226,6161039,15365847,13828056,5223945,7658936,11493244,4156812,9625051,18803694,5406870,8591779,8860817,10645747,9795113,10398168,9187694,10724260,9130616,11645669,9796068,19943173,9897563,12730811,22903178,14418587,9435528,14491033,22025014,9479325,11324174,13634663,13973995,4565613,12796413,4342430,12011582,6685085,8696227,7710077,9542407,4990626,13166035,8342435,5990775,13646867,11323045,14737593,18792965,7489941,14325499,15810287,16425768,11707278,13075938,4690799,12412482,10624770,6905036,5004120,7701797,6731106,10929652,15159786,12027749,10164294,15564764,9386601,16275974,10584531,12779752,7335725,9823528,15989821,21421926,10361919,11717387,7689444,12502508,10940878,10084326,9425312,5009668,9435297,9565199,13372022,8093365,8325240,13791106,14216456,19253603,15575062,9400896,11441627,12922315,14808412,8436282,11900953,10338673,10688922,14893077,6046272,12560595,21005151,9920740,9157147,9768764,9490994,7994845,9534946,6778606,12239696,5674312,8343753,14432415,7791992,5678812,17120558,4988023,15643404,17776916,7319928,8483274,18519085,11323914,10093152,14127168,11747605,8166250,10379212,4047163,6197930,10024553,6493193,21461141,17810855,5857396,6974574,10877718,10123254,16864527,7779564,10539031,20423305,10703027,11466516,15734279,12240513,16497510,9050403,8738038,8291370,12710342,7803840,11672274,15130317,11041216,11664534,7928914,8965757,18588188,8863855,14311645,9417077,8246582,13399659,16804511,10503346,5618545,12866619,8516565,11990068,22861680,12796192,13571827,16356891,6895848,7744750,12439620,6903319,10576954,8279261,13023948,8458953,17069431,11843908,9840719,21440036,9131987,8878226,13584064,8724596,6711751,11289967,15234515,12998811,11061108,12931120,9442995,12924044,12910286,7144872,16037480,13129341,17291017,10289679,11097459,21730938,14869088,8608519,8748929,6535181,8736484,11637327,6357660,9189606,14178461,17912656,12306099,14757719,19140335,15573762,22986067,11317696,7213013,10292349,10635482,5366970,12739823,11181402,17729823,14333356,8374237,8294742,12344939,12584880,14312412,10493571,6912682,9419775,8187320,13215576,10688276,12497260,10963454,9861858,12043525,8799343,8052561,14605410,8949118,9852118,5963657,13354053,11580789,7501284,7275244,7773369,14292074,11120813,13900376,18388162,10767832,9675482,9389474,9556670,10415859,6165176,13649903,9891468,11070976,12012500,13802781,6512453,11627306,13183433,16385318,12031575,13532929,10702820,14664415,12999489,23276726,10401251,9271868,6560764,7223486,12446949,20689845,20557014,8527268,8538768,9242304,20531471,13582205,9127102,10504036,8544671,10324934,13967845,11038488,11514420,19513567,18339520,9867465,7219934,20409562,13639348,8646740,12171304,8326199,11226809,5566158,10303530,10369969,10897224,9710390,9733183,13888001,19101819,14260443,9236974,8521418,9672765,7379652,12691798,19001228,12209527,9395721,12353708,11229326,12754077,14736537,12294256,13130224,11132408,12877532,15067411,9933308,5784433,10632252,11494813,12418314,13280491,8636148,12368116,10736383,17955530,10028999,12352973,16578273,8997829,12104774,10256030,6587571,8180996,10508728,11921131,14125509,9493169,5125998,6823737,7946771,3188283,9770644,18363695,10442812,17710210,7882774,9397550,10099999,21271432,8468249,17325651,12556305,5540483,15318555,11360019,10156374,9183132,18703806,9501844,9167491,15915142,10619400,23833612,7326002,12197399,13952607,12674496,11264923,10839286,5893894,11873211,11592651,13916210,7425843,5970294,23423844,11952238,5125393,10989711,11379601,10886899,8849132,13831520,11262230,22546933,10015637,6768948,7737173,6896718,11110971,8234267,23302529,10117032,13669130,10073536,20706016,15583010,17559459,10911366,8117703,7976208,7521612,15358298,6219108,7881799,10118977,14831644,15651468,13531357,8568048,15359851,13665708,8748608,9993044,10252379,8135759,7733533,7140483,11893766,11829510,18939869,8652135,9433845,12300528,9890719,9380141,23631847,8483266,20598604,12553236,15864394,10365167,6674591,14425269,10367059,11986970,12333030,8598124,13316988,20261651,18598419,4951572,9239032,9724395,10241972,20413854,18029655,5083185,9541244,12937737,12947285,13320971,16527271,12559309,10050277,13262273,9556128,7895144,13300557,11055678,7449031,13501034,14720837,12976235,6696347,13411641,10117599,9887897,8516453,7587419,5983651,22956057,9124761,6924517,7051336,10853737,10411426,9498738,10529748,8294475,12766500,9989135,8024150,12595831,11629753,18522257,14228863,11971703,13576365,8902564,13598372,8114110,8889749,11724247,9614994,14401038,6550648,13185991,16978075,9578814,7045108,9804811,13995834,7337925,7285475,12196550,9652972,9890821,8807254,12460210,5934030,9534540,13171747,14196346,5178126,11030874,10096351,13600324,5634808,11005860,7658186,14709195,7053637,6522414,10364515,11218954,6129529,6331910,14123737,10569119,16637155,13111757,10803163,8133101,7693994,7230526,10084145,9558735,14420291,4581865,13041263,10688250,12811575,11353180,10228221,16315432,5541602,11189285,11132826,15428317,13473238,8540660,4998048,7233923,6222560,11413657,12581994,12312106,8957673,14176271,11489396,13462209,11224109,8509503,12410899,10674637,18232042,6931010,11483959,9599606,8226755,8762161,21483766,12455284,10311150,12847436,15478513,9497603,10667459,5592170,11814467,12312533,11061745,9680097,8925686,14780232,9706407,7113904,11171647,10382294,8662414,8750548,21195025,5106748,10380975,10474265,11715324,8113785,10423325,12676517,9291078,8503672,9150893,8587774,10598655,10136577,14783717,9665043,7769300,7826425,8020367,11711447,8751167,8715825,14676841,9528890,8416761,10586371,8353873,15068088,9133180,10910695,24969043,10305454,10400967,11629022,13804650,17419500,21367202,7109108,18300509,10451744,8763038,15420080,15657469,23376897,13267109,8489626,14847192,12411766,15011630,12014622,9173606,21622910,20580987,5181100,12722467,6353206,23717970,13506216,9483366,9159783,9384884,8016334,10451958,20516401,21120989,8380933,8651587,15692852,14000962,9081886,7704785,8053306,10090112,11575591,12460773,6191020,10805773,3495933,16348449,13810749,8401389,13008996,12611741,5115642,22162676,13234211,13660815,11252276,5571983,8801959,14001568,8955480,9188391,19450908,13610197,9954445,9942947,14082753,11873680,9991394,18841049,9745944,9882606,7077692,13499128,10493835,11568482,9640246,16156083,8615880,20381989,10296757,11952148,9091956,8855065,14566034,5468125,10116222,11173046,13287452,13067163,13877384,20381529,8489564,14588569,22926829,7983040,10486145,8984032,16481036,13028396,7835697,14870325,11451832,12589794,9800516,12535151,15106399,8678520,10338729,14845073,10331958,5576208,9537452,8584034,7630426,15737888,6663978,11482691,19193298,9374984,11181945,8814621,11942546,9214540,13858925,9715109,9510836,4145062,11210686,17843149,8427339,20026062,9909428,7599013,8325989,7301516,10574123,8187930,9555041,9926492,18569231,13911076,9477550,19319476,10044028,7619912,12653981,12490862,13070743,8286785,11851861,15703677,8748399,8685700,7064266,7379848,9933592,8581284,6851254,14695924,7372723,6640505,7712783,14578512,13148428,9536868,15158390,13120523,8254642,6885503,15319692,5496233,6422644,8381154,6111960,11673617,9659139,9997642,11844490,14964383,11015659,10510944,13621748,13589248,14482135,9055863,11177794,5427635,18854117,7364899,9920430,13605626,6188498,11496453,13577270,14653003,10657254,8058953,13593765,9310511,10925967,14329693,8874293,17419750,18572449,9620147,8525865,11427150,21069421,20670252,8512138,8660059,10007780,9998924,9895471,12746253,9697958,14832706,14051918,8229964,10527176,10202076,9995874,12747307,13109822,7081930,13440387,10552221,10842545,14379743,3963015,9219858,9328596,14921214,14726330,11262659,14860036,11079244,9897008,14506608,7862111,11149608,9261872,14606097,10039504,9344769,13172601,10519560,8264986,13676417,9967943,8535004,8714953,11050562,8040648,10439058,12986268,23993576,7486520,11719297,12526795,12384127,11086771,15466464,7082607,11114890,8104207,9456525,11092177,11998586,10301451,9328758,10206904,9338807,9545616,10024594,6286111,15869836,8731502,14116717,4122469,11990681,11274384,9699576,9660589,9217115,7576725,11246278,9055573,5579234,9054245,4151755,7649946,9997277,11677945,7171124,20563479,4505004,10855852,8494086,10154431,7195584,15640760,10936622,10165183,11985909,9926106,7966712,11988175,13509910,12127910,9988342,9608313,12036258,8080767,10718271,9515376,12911378,9970890,13410144,11738698,7270225,15903154,5312129,9130469,10865976,10819531,5084888,11556487,13379879,6858555,9198858,8835288,10883114,10992759,8503241,9049377,6770513,9844849,9738574,9705266,13726917,17134143,7647693,12259671,16638959,7623549,12511882,9780344,9055326,5949059,10435309,21630978,8049658,7468216,14026892,10831763,19902735,12194995,10153813,11303190,13332914,13776726,5754198,10957553,9703977,7747373,12018100,6419830,14366130,7297473,9261913,10557550,14890567,18318276,22074014,11252715,11132128,15738029,10161113,18397978,6920206,6179582,10043913,21674579,13684693,13277294,8572993,15772617,5017051,10817934,7645458,19548240,9470455,11116094,4813873,10158136,13330268,9867069,10971706,11955521,7431591,18114886,8846388,9214382,6767599,8881033,16267923,10074396,21709208,9340709,9513904,15137400,9617354,7995502,9428702,17344268,15016134,5800069,8328968,8573261,7317325,13535011,13701937,8090390,7311290,11879372,14687605,19268128,12164580,7158990,12271368,12032323,14677543,14238925,12955712,6444073,8264290,11443817,10452650,14253235,8015175,6265948,21692408,8336261,9190652,12781214,9855019,21396748,15407460,11705331,11093757,13336231,12634954,9731632,10009580,9411901,13610593,13148233,8881178,21871423,8540625,13915781,10514017,7959563,15754888,10630523,10797896,10742363,8801728,13463129,15424860,8686969,15707801,21453046,9679642,13023999,10940724,8964583,7754896,13242100,21671759,9767589,9485174,21871843,6445119,8854570,12365745,9304586,13206970,10771297,13480009,2642292,5991345,8485690,8765685,7387914,14640261,15207475,17458434,16756989,10934262,13172843,11147710,12929018,13675308,8711136,11949243,10494513,11156896,9030865,12995115,6492140,8901375,13104617,9770208,11579776,9499211,11435847,8739450,14118900,12567072,11531940,10502077,18805506,9464275,8974943,8953459,8752143,10568976,8893037,11226418,3248175,11136240,12661883,5644500,9697291,7303872,11312198,21236995,13794696,8251549,14214245,14536578,10010672,7361018,16447690,8914998,7235330,20802864,13281279,11010397,9507261,11919485,13527254,9314749,11115477,8537136,9697457,8308138,5888320,12680685,11563729,10997710,9535327,12231790,10824713,13021132,10850549,14559738,6875966,21826675,6688598,10127615,10298864,10679570,7536822,15210626,3757062,9082915,7401988,8929748,8778971,12505899,13914690,4403981,10054171,6424394,11894494,12789077,7201640,8405919,8571270,13560150,12346361,12526614,9373354,9487203,13310490,11841321,20539285,8898930,9800986,7447527,11738565,12155156,13953537,6655296,20514551,13266221,15297480,12098149,12802439,14331678,15495995,10557294,12862574,18894028,18159837,9371447,11334919,8597380,8396307,7804245,5761896,14183533,21265547,9019224,17165488,12936360,7070874,5657796,8579458,8529765,9086500,6422850,11299387,9626231,7155606,22223513,13182764,6021748,3139654,13627752,10253018,9861305,8105816,17688256,6782425,15493170,15898573,10561436,9111963,6374808,13884542,21097807,14045342,17030127,14310551,9965961,9432893,7803024,7653157,10723199,7927303,21165663,10718095,12890911,7734095,3746961,9140092,9182775,11664671,13678974,8507545,8939210,8380668,10858827,8693459,6629917,12648341,12109447,4150161,9880945,5256862,5512625,9479406,7289884,14286636,13276587,12610177,7171841,5018902,6454329,14158522,14490669,13680923,8193051,19216896,10862481,11702009,21389508,5655001,9164795,8457136,11764654,10407453,6896799,17923824,5523373,11010621,13202357,4729720,14274314,7684700,10245129,14792212,10145832,8100385,9259687,5916504,7171086,11615891,6312395,8328699,7920906,8269704,7864225,9782645,13208562,11187937,14968971,11905605,7869576,8556885,8984031,12245845,12823776,8871786,9319205,13879585,6695561,6752083,9234720,14638759,10299785,8115506,14773284,7344182,6551068,8248935,20989259,13266662,9308557,8225776,12378116,13046977,8590816,12600036,6338514,8341111,9274505,10518323,11566561,8908662,7018261,8544753,13489329,8288560,11570960,12262465,8807926,14823684,19251579,5158919,6436507,7939692,7173348,14777014,12778313,14821885,15343296,7740672,10988631,6658371,6672577,4676868,13271466,11452025,9822251,5515056,5589414,10864389,16469708,9602227,17902321,13435821,7417409,9077466,15180436,7658013,4724281,21205186,12870821,4703982,8844850,12176545,14155716,14574868,20371746,16920278,6780820,11597868,12026107,13228220,9045550,20104225,13048869,5454280,11170813,20728326,15307348,10548397,18302135,14116459,17441201,8417966,11298231,10838256,11230107,9255794,7194785,6654100,11653582,14951181,11697559,15322029,10385561,12797609,14258363,9953243,19499386,7960838,12855536,8675704,12792083,15969505,14394465,21701916,5406512,10039188,8804480,7070920,7323021,13296779,9427447,11106440,5433719,11322449,12140677,4671167,20047647,10401625,5554839,7908054,7422948,12097335,10289253,12828260,9438007,11394690,10739001,18695329,18601288,17383027,15699312,11958857,10615314,14451965,12113225,13818372,7877824,12484290,12942079,13949425,14271386,14456658,3829713,8084979,14780324,13747892,9655431,12500188,8997674,8538495,14175830,10472807,21028331,7056417,16281150,15617768,14222993,11885244,9299913,9596153,13785749,20936063,15485485,10178620,10220553,11201449,12937537,14268785,9152927,21445053,10246333,10478481,21838769,13207340,8954122,21647281,9162806,13319592,10878586,11749142,9764463,6227048,15390057,20664882,6739694,20527595,6129883,10511955,13523837,17655954,10036011,14459763,13046359,10893027,5213611,8086933,12023419,7049152,9520407,11380075,10286542,10683238,13628408,8449062,14539053,13088624,9612972,14686266,8627684,11498834,12814401,10093268,8533703,6370788,13661576,11036025,18292573,9544431,12586672,6481631,10498634,8821645,15049429,12358954,12522641,8591565,21155324,6878459,9291782,8108272,6580115,10841050,11580189,9692412,19609460,13924924,6812501,11371537,7395749,11258490,5977954,14434305,7032402,11996490,5389929,15486440,10160018,8695656,21504447,7159347,10620522,9006795,14013404,11437144,8626392,7740767,7335340,10578078,13865886,6665490,7465380,5641494,7229234,13235999,11911829,15297254,14301130,5632840,12256402,12571010,13254237,13436184,7761373,6007705,6402792,10204281,9542020,16337696,10167622,12410049,6061409,12056929,7225137,10315242,8074057,7450129,9204307,6844237,10138356,10064484,10543401,8657697,20416501,10601304,14216850,13007770,8470287,21195423,9865134,9625480,18451535,10215374,12639654,9789701,18297297,13294004,16668076,7830299,6236910,8324344,9073476,11692354,8609596,13569002,8699913,8539102,11122673,23127868,11103841,10120902,7834046,11988878,7966464,12591432,10383314,8365896,8068122,8089366,13600404,19391563,4704016,8506208,5464781,12328430,12181249,7157451,12587005,12053968,7221179,17314320,9933380,6480515,6085999,12443355,13739121,6024314,18121333,5978791,9422762,15775481,11894719,11636435,21752736,6368746,7407136,12011688,11703795,15205620,12599883,9645631,6881714,8940971,11426779,11804418,22254683,19985271,7741688,7926865,13636195,9124325,14786271,12371927,21336784,14870813,6332307,10600600,9416762,14668252,13851220,14480622,7685278,13172078,7636400,11264761,19365866,8983975,10535804,9915629,21605484,7600131,19884934,13250888,11575456,22050304,7376465,12144984,10188790,10144374,13147122,11215494,14650932,13452964,14246669,11371032,12154686,9515109,5366406,9861228,5177962,13682577,6821085,8895355,9118305,10791971,10096774,8145861,12833506,13072218,7392850,6863303,6237298,12293986,9144343,9830213,12416220,20797424,6904620,9594059,11302889,5544718,10310984,9725471,19849400,14156869,12211930,11780065,7976987,8657382,9908918,14462271,9975828,11599352,13618717,6617062,11839786,14464934,12606234,10352290,16080373,15124407,16395991,10772656,14454389,12303147,9753433,13949167,18074446,10032214,7928764,12432434,12217102,14967120,12813170,11636986,9908766,7813504,13403663,8308463,11693032,15519392,9964765,11143521,11103500,22892240,17262015,10364728,21408638,9707480,8923036,10676047,10093935,8275012,10334256,10426295,20334958,12609090,15349825,14402095,9586495,19342792,10642195,10899281,11090880,12739542,8231964,11087636,14292011,13093137,10456190,6681382,11765490,7417249,13766929,14887121,9207969,6881438,11643645,21434610,8578050,6147941,15643171,15122331,15754117,8251578,11787904,15555703,10336497,7727239,13474040,7326749,7978600,22251835,12660776,11639340,13524533,7646874,13076674,7250061,15324118,13503592,11876207,7896213,9668867,8526427,11998838,6729077,10091147,9594547,6266972,11535577,13679565,8527480,16799117,6790922,10278948,11473565,3611644,13305495,8371690,9676814,10471998,6773241,14541031,9935594,9913389,14156511,21866761,12201327,5609100,18345635,17830681,7300218,8368471,9049035,14849241,13508625,11081013,14329960,7155106,10725430,12305376,10701043,7970562,16581159,6190930,12998759,10206776,9609602,10943792,4515445,11731626,14202338,9379467,12274061,12417767,8136216,14942010,9074189,13625661,9439894,11028070,9747493,10214891,13956947,10733053,16589316,11870678,15238985,12481443,7347865,12870818,22153941,13041768,9299841,10375908,6044887,12385584,13486671,21484800,7162048,9767830,12852611,12709506,10233116,11350863,13458672,20678150,9699328,10001162,10588097,13112324,11707217,9429382,12815331,12360594,13276673,11920601,9665675,16980097,12222704,8479225,5456454,8515759,10700325,10088538,12306879,10974918,14017669,12276841,11682856,10482286,10761387,13228153,5412184,4948256,9429200,13799878,20881872,7336515,13441057,11231352,9955282,11079610,8970675,5138831,14803880,3159395,7890418,21785405,11852465,15666678,9676393,3977875,10986166,13032645,12347895,9713577,10393087,16446515,15303588,11340913,12974198,15452085,7613457,11000696,13214792,13403193,13901365,10549841,13249570,10339792,7246955,9647705,15154821,7768359,7201018,18518094,12373083,16738397,5482332,11050000,12323198,13200560,7118892,6246937,15445474,20063637,15189227,7714669,19666839,8473047,13582687,12253523,8527299,13421475,22216107,10363468,10298430,8042427,12054884,9666655,11289759,14799918,8348642,16339610,8504762,12284178,7817117,5768216,12595912,9761905,8009441,16185505,8217580,18155399,11181973,6821816,9088800,6834564,10403859,9259251,11211537,12076727,9795769,13615970,12826300,9343489,11109848,13323845,7477049,10978415,8382015,9269800,9456023,11366245,12389257,16662246,8205914,7913596,7621273,16794059,7080140,12129667,10666179,12526761,19676579,7029365,10135829,14740331,18901344,13666090,5741546,8987842,6900519,7280474,9704875,15469948,7246688,17249729,9486060,10981249,14848200,8704803,2796025,13040917,18626148,9346577,11061707,12220530,8174439,6430145,7528558,5366704,6825393,14878881,12204152,11437198,16826576,7056837,7582436,13146381,7935219,13574693,14210941,16416101,11230837,11013304,11304674,10532382,21368434,11194865,9307848,6211748,21694013,10914398,10279377,12943030,10341593,11631945,5816193,9945356,10172371,4141825,9884760,9676407,7027133,14923091,13499745,10202931,13698626,10235855,4048127,9575771,9020968,12884413,12610059,14870840,12229067,15067558,9948333,11055466,10022496,7285740,8125960,11160336,9412484,8300886,4379898,13724494,11590241,11233184,11457613,13359472,11462002,10249471,9249366,11019222,14435487,18504977,6739076,12251327,13957476,11847087,9954789,16699037,17852947,21085676,11434595,11089797,12486036,8938381,6844388,11979610,5549827,9720573,6132713,6738178,10088730,7199881,8288480,9971257,11473523,6199543,6076596,11947865,11583343,18714666,10668630,10220536,9244040,7048735,13807574,12711220,13860563,8843035,17152616,8159497,5955180,12588449,11525577,11011893,12577247,14907750,23015205,9839004,11219085,13674956,12514108,12166905,10611155,11767741,13321766,9909284,6951486,17333227,6909137,21433867,8613361,8134204,6114621,12569402,10871421,11608605,7757558,19213761,11151404,9605248,10598965,6530505,12604572,8522772,11428299,10005760,8084012,13274415,19624066,14421112,7691006,8955261,14487771,8123605,20623807,14758527,20278215,9575793,10827689,6111509,9796054,5952818,8543170,14632315,13646526,13388085,9520949,23056438,10491572,12842676,11147714,9628060,5517150,22007083,12160077,7106074,6283053,12486906,13339083,17392480,6565252,11799506,7085496,8357122,20823260,12312668,10939993,10928662,15421895,13966822,4713210,8617892,12589183,18668565,15985016,12034679,12756242,11085018,16663493,9846774,8180835,6450226,17546191,15235084,15349437,10593754,11424402,17462164,10630856,9876923,10141273,8637018,8751322,7641415,10801987,9593097,3430234,12584646,9889570,9557327,13877975,8901099,10676289,7461217,7342388,12814831,6746067,5454108,11866760,12814422,8340914,8861684,5834146,16358800,17726898,9194588,9095697,14591616,23556652,20162843,9246864,9051772,7762497,8568277,13293835,20493556,16695965,20079510,12801618,7282009,12200656,18998358,20790613,14554378,11913620,20219844,9874688,5303482,22841320,9208958,5485209,12324196,4869376,19806751,8707135,11547394,14753767,10111892,14388963,17414576,13256061,8202184,13766029,8558873,5917784,8731691,16570926,10744595,13834681,8607112,6830886,6216039,13434886,7440277,11042590,10449772,6950150,10416979,4944603,9082616,11705265,7295414,12824888,10722935,7509706,13729741,18638801,15438486,8232429,9175477,17422954,7130310,7523943,11408014,22925427,8672825,20004537,14293040,5645173,15132999,9949962,15073379,14230713,6820546,8454769,14751641,12537626,21861976,10885321,10664994,15110317,9975882,8250130,11297072,5428509,14833984,21632142,16705879,7398237,8233403,13115690,6838452,12450997,12031566,13809022,8921525,4914615,12036509,12196728,17529379,10448433,5669909,7549068,5189490,12641560,9145746,10024278,9318440,20927776,16255100,8173883,14146415,12143129,13538884,10535651,13127053,11079304,11027162,13070034,13051353,7592130,9382114,11308891,13647750,18658823,11661335,7210208,13743249,17918213,5734992,10649162,14292099,9786703,8211613,4485668,9281874,4639231,5283835,17239084,8100544,5568659,4610489,11387077,14541823,10785386,16701400,6855972,8652975,8999912,18737275,12624522,11721528,15589809,4155648,15599007,14941327,8475792,13454197,13352088,8473356,8417454,9621931,8722622,9445011,14546001,19341737,9569221,7804314,14716958,13854567,16987413,12624993,7650984,19107376,9823708,10258918,9637561,13916588,6175192,9690383,10908755,8724330,13566676,8298057,5007982,9672203,11325736,11471765,13406902,9018216,20516161,20986801,8186921,9451431,11963231,7834540,11242105,14163658,12461043,10881412,18908918,12871524,22446412,6663613,14345440,18747571,12996788,10253471,10620746,11189494,9877802,10312515,10277779,13214080,6810604,13155577,12831277,11994453,11264615,10121584,4240431,20079041,12705425,6450365,8189342,11686163,9649317,9551792,11526162,8965698,8460315,19444555,12752075,14003765,11984231,8876485,7611051,10638837,15055083,10619683,8114321,9922289,8932690,6448451,7836537,11076931,9994772,14087646,8995769,14371109,14506778,11930511,14430149,14090883,10092812,13100366,12794900,10460732,10555272,9922565,10685570,14590396,8741098,11183023,10083420,13537772,7101230,9845136,19789643,8580026,12624132,7633290,9585170,13842281,10169876,7332019,19274192,15433241,13197113,13737645,6725505,14658980,7374210,11422365,15111131,13281718,12698749,8353398,13894508,21209843,12391144,13495773,8845057,6639258,13660886,11983749,10199108,9878547,11318845,14804151,10478523,22976907,6845993,4143550,13206116,19912352,16431463,15195600,6982807,8906756,5543242,15365851,11010277,21799167,23803439,7728367,19396919,10305412,18332426,12621766,12779212,8781448,20513043,8490245,13972157,8654131,13882718,9928009,11258828,7594127,9043338,10194902,10572579,9689546,12455564,12670312,7480725,8990597,11644365,8142981,7355040,18168541,14151176,7186346,7869632,8739645,10872181,10839711,7633319,11095392,18141179,13364585,11504010,15517378,16169236,15139578,12210147,22676389,12170854,3172322,8421763,24018589,20341786,7641741,13883509,10234017,9143331,9758062,14586637,14207169,13298645,10762628,8564199,2973477,14523032,11832323,14022218,7609116,14044569,7957132,13933422,8848740,15313432,10943862,15050151,6680347,8638336,11461658,13971154,7569823,6476000,13006308,7478592,9385291,11783879,5983779,7259045,6199365,16526982,13399945,12908428,14404603,20049042,10620118,6876617,12933846,9966894,11234262,8216330,21926048,4666664,9236397,6185833,5063032,8592716,13920602,14154173,14329214,8689597,7759548,13994243,14299773,17490219,12295397,9938410,13748146,7444272,13960475,14567229,12625417,9653335,14789143,10403830,8854514,13777399,10715745,9233770,6609767,8385001,9408382,11909302,13185962,13597262,23614136,7656816,13704577,10570583,15036000,12282552,12795299,6428981,12611546,15006276,7116186,10779169,9785807,9691318,4796690,13216930,7465113,9052445,10172574,4616003,3429014,12487939,13722418,7277873,10060132,7285133,14442393,14274960,10193140,19460095,3768608,10942269,7357162,7460553,5574805,11432093,7083848,13666686,21437853,9948528,14807131,15008083,9341337,9050810,9195633,14610832,19176568,8492761,8322507,7935270,8287534,10160929,5043740,9859239,13973096,15370974,7380204,12058508,12795399,7999641,10474627,10077466,11041291,15282262,6350930,13182516,11779305,13500081,10053581,3795684,7569846,10698392,12632173,4838339,8926812,9722574,9720731,19046402,3294720,4424645,9734364,16015764,10885617,22776724,11053196,11038409,8953152,9729341,9928737,14086079,12873923,12574884,9338220,8508803,19787945,7864011,6997890,10339219,8632850,18301349,13698515,6207435,12100740,14407333,4569130,15935052,16862149,8618744,7276816,13527254,10689441,7665832,17439103,14696146,7055917,15739749,19639473,4283876,8870201,11634339,7307209,12807413,9240925,10164244,10404061,11287757,7067860,16358203,14335884,14072252,12618599,6930320,7481552,8044431,7310828,5271044,5683478,8374496,16234498,12400436,12583468,8716033,18217591,9899858,7607303,10748585,23721299,9009824,10491201,14502665,11414232,13894873,16482525,10025647,14214233,13758966,10634520,8867030,10477193,8391640,7155094,5658926,12725672,8752491,14529316,12311184,11645512,11773601,9380742,10116579,15115930,4928791,10318710,8923229,6498625,14013950,19722522,23259213,15815909,8527034,12517056,10074810,21776061,9722186,10078976,9825577,23643369,18168149,15012941,16455907,7361921,9834437,11319910,23056356,12405375,23190223,15309372,6865535,18832691,9836358,16506778,8238250,21154323,8266311,10491520,23600457,14704709,15630186,14308876,19378601,12556492,10254541,8636379,12358695,8996634,21134979,13665669,15549818,10056943,9481374,10318704,7322340,8867034,14212672,19456368,14118347,14155749,6483286,7399042,13180117,11174757,5700816,22155707,9143157,18949116,13008841,12594197,11880709,11272435,13477821,16330613,9981224,13498855,8003525,8197681,4466672,11921337,14911452,11676704,12829421,8182051,10424127,11255625,8223767,8310305,13503762,10730044,17329961,8795022,6789365,14579317,11379237,10894666,7785636,14295811,8035834,12782390,8694651,9424369,9446091,6978703,11335115,9142472,18367069,5976482,14290218,7964574,8255045,11456002,9306504,13205258,9192027,6437074,10838580,7447394,11482234,7782223,13562388,22681808,17270568,12786852,11222867,10730291,22535997,15252296,9801575,12381651,12441051,14933733,23493065,11127725,11899881,20135221,23339935,3393899,8419478,17767838,16231873,6446239,14774893,14386171,19406498,13928477,9338799,5408069,7224960,15624406,14099090,18697710,12329564,15473364,13037084,8908458,6342070,11065451,9172017,8861392,8919685,14178250,2253935,8192976,14866552,13611932,6556889,18077498,6699741,14377307,8448836,15276363,9716717,11444082,9702380,5214913,12896691,9211093,11797559,12677253,11034913,11421023,10681164,11310905,15380123,8597657,12137704,9305778,12007282,16050763,14897593,8747820,7372418,9284287,9037577,6336099,18615644,8647344,10810098,10251536,10307755,8225552,8178567,5642050,6710088,12144026,5777643,9962148,8283161,12172827,9199291,11679420,20657351,8678894,9913310,16625553,11636761,14635728,7091942,16231588,15441281,9554873,4575963,21669477,8346676,13110082,11781018,9452154,12536281,13884998,11697461,13663875,19587816,13905730,11075053,14174774,14401076,15593824,10814916,10372157,14219175,21137174,8025165,13485827,8117240,10046285,12647138,12211562,22211878,10192844,6865579,9043436,10297148,18486044,13579981,13149303,16926764,9721331,8543569,7854625,7492346,16061409,11415680,9686789,5375664,14764454,16285393,7900295,12620418,11057919,13782979,13837968,9032243,5989214,23167417,11020882,11562480,14308612,8013223,6143259,13921614,8037243,15245971,12562104,8895975,8311066,12531771,13122104,20045497,8119396,11573124,21760861,13357604,14294780,13209674,10887403,8217358,8974016,14690287,10669084,10793953,10496342,11145024,9132360,16299640,6820836,4946795,15154768,7305777,10515005,14678457,12811189,9348573,14419358,13760521,17744002,6001608,6832864,8540768,6902991,15503658,10077563,5740622,12417133,13779699,4622955,13868489,4672400,11679787,10896535,9280523,12643316,15868576,19678686,7688082,13820638,6250753,7210880,13324515,8098476,9079134,14354645,8435839,9773188,11866572,15562156,15261924,10600547,15143500,16949158,7535074,21460214,11071674,16574854,7718250,8037795,14783009,5289815,10699463,13691636,20609126,11920750,16225690,6287494,13111402,13131882,7899990,8849345,13671409,11041969,8972543,10613913,8830740,6812027,7458724,15141884,8891381,11338783,20494719,8932495,9791999,8763376,13014524,11618707,6683036,8422420,13973207,10376644,9823069,4628531,8642777,10242458,14517294,12862024,10096694,19853696,9323342,9041121,22858374,10869747,8016334,9553701,11204891,13996145,8920694,20479346,8799214,6188028,16888334,12881660,6638058,11517464,11093077,4870547,13459912,13515668,10798668,8990816,9182265,7511011,11363024,7619899,9064155,8316858,8315616,6417143,10467778,13923830,7165643,10274283,4054455,9273075,5786000,9107905,9798081,11288943,13062751,3795197,11680140,11688708,13585023,12683609,14603074,7870992,13901784,10618679,11232253,8820090,8982050,13338748,9168739,10495993,8940061,11790920,12772389,7894901,11399512,11735089,11327820,11839550,7229164,5943168,8684064,13248632,9431288,19335042,9515504,13782733,10411211,8449705,12567787,12525057,8938031,11851056,7159771,13841757,6832174,14545763,12833113,11636008,12564988,9504260,21971570,4175730,14529136,10306671,7644277,11458212,9414298,12639399,14211285,10015397,14212306,15219478,13092388,7989391,11353800,10042142,11178306,6436026,18327604,8475559,13543974,5325431,13688873,12096784,14312268,14742961,13250064,11956452,14637173,16548277,4097486,14558414,11369501,11294830,7058040,9220543,9445554,9425117,8675535,9594775,12070552,5731736,12403664,9076496,10727630,9664772,13814213,13639322,8886913,10460088,12011262,5428752,7823880,6342483,15021495,12397660,7410353,18369951,14302277,18830994,12926248,9044450,11012940,12814557,9405319,12834991,10774881,15615167,7473329,11464423,8559579,7935576,10194702,12470313,5723932,12081121,7998139,12447529,15104072,14513691,12349613,14377932,14754178,12581759,13903449,14033022,10974138,12375340,14726913,11277041,11570490,6188390,14662390,8652769,11268966,8711344,4514685,8321680,11740212,9476915,7371487,8782209,13017469,5979914,11695280,9777520,9671896,13429835,14645556,10556172,10664680,12999730,14233578,11291414,14097448,15079324,18104919,17823116,13296838,7033878,13649788,17660240,10744615,14481560,14534041,3647424,17494542,14763478,15587364,16175636,12180880,7786864,10678238,9714957,12923652,10164223,13878039,7861512,11142190,18235062,8252324,18012039,10502150,13800427,13637317,9142911,9482495,10015044,13669096,12841868,4905151,14541712,12591774,11879591,14557788,14157572,15230699,9440652,12453934,14583699,13562566,8994031,9660761,9806292,16029892,10243482,9555887,10075832,12071961,9701574,8599001,17017471,7833916,7277356,11039066,7978642,8940447,12057514,10989732,9350247,12254580,9168030,18144952,15288578,6847733,8707767,14219204,3412363,9227664,10378924,9303090,9742572,8692621,17286495,8522483,19249475,12435397,14298043,12405504,12110890,9843331,6076504,5110573,14565791,8040399,14074118,15639684,13951324,12233649,12983267,4424821,9336744,10595516,7591242,11796485,10106828,9299701,22813564,14684768,22879655,8891881,16392927,8706485,14093315,6695271,12807237,13620376,11410179,8480741,11477266,12902159,13850904,8793362,13166083,9835841,11679665,13697234,6665084,14091903,7032855,10357503,9589735,12697647,14864804,9297771,21294089,8452647,6948282,10727782,9525022,13922515,5349681,13258940,7101992,11948113,10434004,8079720,13572717,10294410,12571810,12605231,7115273,7545489,5578040,6514965,12491559,10394978,15499913,12853693,13199364,5201266,21631855,9134164,11173832,13853373,8105592,18429736,12915576,13232606,7340204,10382747,19344030,13858905,10445904,3263830,12582803,12525878,13977614,10951135,12238966,9401096,6417728,8660103,14087478,13860790,10811745,9044570,13919440,9861950,15059430,13055488,10799993,8952254,19368022,13885352,9700848,7627712,11962561,14297780,7504397,10217473,8531811,8973127,12114586,11898329,15984264,14109889,8793977,6479877,7987832,11342048,6630463,5676370,7056404,11336103,9181686,11201871,9310120,9079106,8246959,10187290,5687644,15427203,9409150,21034772,16316004,11883587,8471736,8270164,15146119,13087684,17586676,10192235,11560438,12840553,12275740,20696806,10218449,9515603,10119669,10285028,10422923,8876987,11814570,11218904,15546349,12146740,10610804,8992975,13406800,12554528,7882461,8725130,9761742,14884891,6723611,14158484,18159051,11043881,12716556,9511142,10118769,9039018,4765435,21532100,8108887,8887802,6705727,11042828,12950123,5033757,6922099,8637762,14285052,13755541,8872951,9727863,4029432,14096269,9973001,8633472,13653956,9795484,22792953,14394495,6570956,13613927,20690699,9235546,10473123,11345971,6960072,11224340,9513739,11494127,8809964,7040225,8174045,14610787,11117632,13361212,21927151,14491273,10385180,7112880,5639605,17916305,14337170,13251190,10529866,11515007,17129028,9229489,16281436,14685073,11494017,8372587,12303577,18137395,9362231,11630850,9640924,11788883,9636711,10669735,7006348,12196432,10556040,10353233,8872693,6865736,11521301,8745027,10973726,7085496,10327652,11974040,11938244,21022240,21275978,18500909,12116132,8611644,3544982,14613802,8009183,13656306,13167012,9944520,12829256,6304490,13687363,10631324,12323609,12109767,6473870,11380103,11350375,10951560,5699356,7782298,19818843,18857517,20699335,14832042,8283402,7768802,7205393,13369217,13644847,18398886,7290165,6977969,10049070,7899907,10113111,8110425,7315863,4926810,5363492,7890716,10634736,18697062,22342343,12080074,10051299,4720698,9314019,13974224,15678720,11076783,8328280,15122368,10694890,13658558,10621328,18053179,9749897,5814647,12246665,16290965,10915872,14811539,14408516,14328394,8231614,12875464,23045886,7864233,7859266,10475808,7157336,11048400,18400116,10550540,15869854,21402436,11635720,13270513,15641347,10575258,10628283,5889620,8263649,12126081,3394015,9696553,7584133,5844159,17522461,9905367,6794698,7488201,10966346,9243333,12939624,10829052,14840397,8090598,5864456,12961896,8359157,13389925,10271490,15678555,10932564,6822172,14529944,8970259,6126881,16060144,8198372,13685704,14642876,10234889,12434716,13542609,6519793,7060495,6979244,3383957,15468469,13126056,9403972,9393573,9215913,11492406,10601981,7422888,8842242,10676012,20586843,10535552,12396274,13029573,7573122,15054576,12751102,10580661,11179814,13674647,8379144,8363352,7471317,10888597,12311948,9407060,10227185,11544592,5641349,15415792,7621990,8342042,23560953,8720700,8502318,14589459,7828669,11717481,10221404,17003563,8054509,14816194,11460928,7973542,9064110,9784901,15179563,15041962,12982851,11038889,16200653,16583490,8385535,10007991,9258941,9595294,9490400,12956009,4792010,10053040,10305851,12256150,8285592,12582106,5017100,14494986,21691585,7301805,10071761,12728663,13011863,10311715,7393114,13892573,14874946,6574167,10925851,11023140,11587482,17416426,10043417,14402577,13392099,20393118,12919239,9712024,9819916,7194075,15234454,15306138,8767342,10744159,11210734,8634866,6575423,9324169,10760313,15972095,14065523,9217361,10132308,22112294,5411631,6401721,9715732,12956555,15445663,11811191,11613961,9917577,10977268,8389140,22110498,17362741,9393869,13052015,13503606,9578082,8249097,10369415,8964534,11062432,9409730,8687029,11959968,14146529,9058890,12546757,11894033,13853768,13107689,14137542,6904765,6981776,7094572,23120343,6106320,12042051,8756454,11760789,6317842,14014467,11714078,14478626,6111696,10246583,10929005,10761708,20999217,7238592,21676345,6734533,11027605,12459868,7191257,8292284,11896751,11942547,5773680,7946218,13223618,8881284,7308450,11761161,7493394,11868647,9849482,12830445,9222265,6811351,9078168,11976512,13443880,14158645,12347690,10505772,10758675,7925821,14418891,6919500,12124280,11392695,11405667,14549259,13228366,12025220,5405265,9111039,11845308,13012053,10178356,9966494,7726399,13886520,16262141,12884538,5992296,7443693,9327587,7037506,5356050,15041877,8592098,7381517,8013672,8129130,15486596,14716171,9910168,14119371,11643863,9908306,4095575,13732862,18205874,11137563,7915727,9294689,10260369,9790155,12662447,7877210,11139516,7154922,10101519,9465088,13679503,7433685,6518519,13671344,13705708,14002726,13001647,9026637,15616478,12199312,15723870,16963365,6378768,13208179,13249208,5321578,10295012,6013252,12655976,8029756,6789448,12302681,12633955,13617394,9549767,13365786,14640585,23093588,23187726,16508079,7076200,5848230,9108011,16157611,21848944,13315208,7218600,14648982,18438253,3775008,9998308,12885434,7997228,22247899,9344240,8330494,11619699,22121001,13048325,14672974,11617659,18887311,10495208,6565620,13129757,10291554,7532916,8617441,7572034,10578361,6351291,15343216,7562875,13921060,16183782,12008360,11342237,14588792,10110304,13109755,8272126,13376206,12549065,10003755,14830450,22931417,12933060,4153550,14900142,14649384,11231743,12941712,15201114,14962712,13086728,9941166,11219710,11424937,5419601,21924843,13461022,8213265,12769306,22468427,9146675,6746923,7849855,10718830,9682469,5202121,8024968,12658551,22289485,7865278,13571763,4796690,14398770,7619110,8786513,10305495,18091350,12805400,5255738,10858692,6727268,10631760,18507352,14828855,4160402,12210833,11061948,10811063,14678150,10034282,4686605,16497540,10517698,11777873,10192056,8748224,13644949,20544574,9974473,8808479,10630459,14969157,9907363,7816136,12850643,8838941,13545138,11481747,13686536,14787084,9449018,15147789,13128937,9790583,19652546,14158882,14233770,11360635,12858199,10638360,21308869,13415080,7874818,18361577,22776224,11952155,10398018,4823006,15455746,9645862,13152214,12107918,16587531,10286496,8026208,11094078,10616561,13833994,13532423,15177157,14293103,12819985,13328714,20938697,12515595,8240425,9526914,15760335,9754794,7405461,6274800,10206172,4391382,22113894,14010346,9239398,16285599,14814085,8433776,11306554,11839581,17864903,6542055,7639626,13532908,8047782,10113022,8645792,7413647,12923925,10934449,11767698,10128354,8534707,12535296,11926889,9821467,17550229,14776398,9936686,15647042,7428566,9659500,14116817,12984359,19896949,10199230,11714706,11650158,4245626,10777409,7710675,8669846,14614352,14386628,8184469,8759570,7895167,10701892,20575457,11211193,8786228,13400249,10108546,11316346,13421607,13703508,6860140,15888288,7778425,14906888,9404301,9086832,10995927,10265258,11238187,10965393,14019224,7570344,7234007,9585036,15106011,15005792,9101193,11444870,7298293,14928437,12770659,9862453,6283053,7305239,11961814,12739581,14661943,8316686,13452171,17064520,12790194,9149816,8353537,13172278,24340227,9708595,11829798,13285937,7622796,16189223,8193163,12337714,6047711,16290100,13696903,9128958,15257217,10144514,12689216,11793087,7418441,8177086,12316175,13838470,10745433,9258448,7408563,14075405,15937206,19678952,9962941,10800563,11827148,10210656,9689273,10497282,18401673,6164589,14868844,12846047,11121651,14212440,15038882,9648839,18370265,8475861,17459514,7630259,5550929,21629078,10403223,17845991,11487630,7438463,13882123,10496049,9235071,21402611,4747367,8376504,10343802,14496223,9992426,10296495,15062444,8761595,6913487,14334381,10143671,10488167,22827053,9833515,8289256,10472134,12261783,10481277,12443908,9819107,9124012,8367063,12061896,8403212,9286566,6305688,9393466,16503443,3628841,10506194,14914441,10556797,6978034,12120578,9021833,12059220,7342128,10317629,8410711,11937004,7710003,12452280,12901290,12040537,12735416,8053173,18944628,17202386,11230888,18969439,12834705,11648448,9202294,14096504,8643644,12057506,8613847,8691455,9445971,14620982,11063936,8446108,12796846,13160176,21329859,13181336,13229247,11934321,8546271,14787371,12039006,9841364,18340513,8217985,13187998,14744490,6845286,15559272,10985452,8754686,9137481,8241325,19821002,9382951,13653542,14437046,9190836,13073861,9128503,9276611,11453777,9961641,23395805,5029111,10864279,3199416,15461151,13517003,10334114,4616343,7187745,6672462,14328847,10470650,12703708,11314401,13248833,10249598,8929706,7686720,5749354,14040402,4971287,9232040,8165036,17891829,21083398,9345490,13204231,15070373,13643187,9189314,10130579,15814997,8901721,13475328,11489742,6587619,8895138,6699978,17590135,8164452,11940799,9331420,15828344,15864510,12432467,4439424,13359931,6338514,12633000,11655353,8858863,11253304,8972595,8659947,8345568,12820351,19633255,10989888,13621361,6836550,10556087,8029500,7534086,4195592,12926399,13397361,9278819,8869297,9634153,14630275,12352735,13065609,14009018,6407037,9341647,13090002,9601228,18559798,14474162,15802694,7739749,5971257,13639766,13153773,10540774,11451123,14126527,11308476,11303240,19218399,12189174,16263177,8187464,12807789,11211984,9316303,8687102,7137730,15215450,8873574,9874411,12239710,14446247,9274493,8402341,8769985,13422038,6242704,13188755,18395302,7953998,9741000,8697790,7786400,14333267,9068867,15129130,11058535,9806762,12733407,8896431,11159154,15451900,10915503,4215210,13656356,14892476,8751046,15173453,9165780,14630901,9774201,10536750,10521222,14267582,8533546,7258321,11051882,9841364,18819511,11738015,6571103,20202841,10456458,13498229,7842660,13922265,6364981,20733111,10714585,15740267,7790380,13862051,5400263,11346119,7000321,5161202,8366963,6939975,11516891,14277889,11084485,12168531,7412129,4660819,9912585,12659558,10030313,8630272,8604928,9406829,11464713,6019211,10263705,11784681,8573261,7923524,15379484,12383406,11654563,14137337,7452822,10177571,14432363,21549386,7794831,8354904,13052630,12990745,7987510,7404781,8978055,10959585,14155815,8580866,11339546,6432759,9044230,9706779,10226125,10950396,12205394,10645899,15434288,13918178,14684444,11870777,11220907,8690053,7090163,7203600,10997182,9363369,12380155,8183010,6855521,12134715,10245614,12741055,6782706,11663323,9673388,11618842,16709571,8086676,11362072,18364185,11902884,12818635,8215972,10196873,9591339,8494658,8392157,8792742,12676017,5180959,3962588,14504216,12055839,7766996,8615790,5504219,8875012,7807091,8505509,13833703,11393929,13556496,11878949,4962298,10844820,8518720,5988761,10743436,6117418,12795681,14779978,11016580,9844365,9165049,8790039,10077175,10417980,9558551,9566828,10420434,13704162,16198569,8858835,7977016,12581843,12144026,9163527,10519569,5717852,4935744,12335060,11319518,9276442,14747963,12673481,10244513,9809476,11745479,5551042,10620439,10298160,15830312,7444830,9626094,9419425,7803998,9072116,8572852,12590052,5594736,6997612,3364923,14579922,8585777,5198687,12965404,14205085,9814350,6183761,12195613,23843333,11865994,6554315,6411433,10657632,12741654,7738763,10056182,10895304,12476726,8087030,12835929,10470291,8746608,12125056,9070912,11913452,5767041,14068749,6914767,11220573,19456374,14198095,12522584,10843268,12132881,9511193,7873201,9335752,11394541,9887609,11498614,10239653,15772566,4903461,8366824,13076923,13048048,18127675,21320371,9015801,18824144,4741755,7444138,8952262,13037181,11045060,10045626,11730975,7515473,9042538,9216271,6267760,7226208,16394042,15178614,7219575,8690864,8500004,23378516,9627678,17097880,5012011,7773624,19760244,11233806,15076021,14621344,21455787,9163398,12317075,9501767,6779790,10909279,12846786,12636571,9724606,12091086,10232305,13538371,9673157,17325158,7483296,10581519,14869112,12906148,10001712,9152331,13082966,19551249,20492444,7833074,12302994,16010211,16045719,5516700,8619678,13681916,6109490,7268612,16460598,8633544,19135346,14667587,8468253,10839921,7215677,14021840,11086128,11981904,12212710,8309512,23637346,8141229,11620581,7978410,7697879,13824993,16835360,15796877,7965992,18052509,8111655,12708788,5573829,10240456,10245824,11573519,11230678,10336175,11331515,9418438,12560575,12624869,13303580,13084555,12371332,14326689,10635212,10311237,5674048,8873583,6513387,4876571,14025243,13913936,17339969,3958242,12599392,12954249,6812814,7955792,7531902,11713732,13205641,8242508,14694412,8745595,12583995,22314841,4082678,14190413,6713878,22843754,9804094,11570041,12110723,8641794,12558706,9700492,17633369,7977081,9602202,6926853,11655176,9421219,14989938,7660449,8213087,15712479,6116768,12430572,7801804,11375107,16336697,11157280,12108907,10084581,11560489,6653279,12394749,9306206,14091587,7979652,8560730,10693089,13045819,20857585,7680235,8046290,9608945,15776078,12982749,9015374,12895872,9532023,6478583,11470813,4862189,10489601,13586429,20265408,7303271,12665230,11246722,8880179,13873802,6314981,8032178,10190760,8950102,13794753,12511338,11587959,14035224,11328725,10029318,8045054,9059054,8067514,12201247,7475282,8113560,11031756,12424126,8603315,14707566,21386655,11532009,9309174,6530492,15585006,10135144,12591844,10395663,14580931,7546969,9893576,8086072,9297331,13881623,7599043,12516556,4762314,8886318,13401885,19823365,9494729,14208094,13912747,5976878,15209576,10100384,9425438,10068500,9391612,20923190,12963496,8117292,20771496,14385197,10827666,7329584,10535912,15722797,14558379,8700595,9581780,11253341,9665313,14760312,10548362,9899261,15336794,15877111,9401239,13601388,11537666,14362005,9226486,11000111,8898603,14217043,9425611,22779671,9340078,8209125,10727729,13878428,11738964,4389562,11507831,9678263,7569719,19302056,6015120,9352221,10967812,8457702,10746863,13381228,9349988,15430393,14640103,15229560,14156380,12659768,21046404,11158646,9874027,9489198,9701031,15423813,10654099,13678371,8954974,6808222,10090215,9523042,11450196,8281922,8813221,13105701,8995403,4541419,11712379,10210947,12991327,8783268,7727455,20820731,8635200,14039648,9025409,12346541,12338467,13294534,13175510,12048400,8941041,9566189,17170343,22838130,10151822,17103778,12056044,6944967,10135767,10331222,7385855,7566615,13089717,10278517,19894688,17550092,9936093,5860965,10705059,11477521,11173115,20145243,10046137,7890571,8464386,11420800,8192381,13612191,14224336,9533125,13597435,13321013,7191990,12605463,10471879,6555726,9618703,16712469,11104429,15783931,9312780,12172884,9053296,18298245,15262089,9267685,8918684,7010850,9532585,11914392,14161540,11707605,20637668,13983698,14185008,15153210,14411810,5666700,16928405,11520558,9108112,9890171,12659977,13088154,5302573,13669875,4806355,18916472,5446174,4732467,14846685,11161821,16697698,7366350,11772750,11046001,11372528,11023219,12122995,16409727,8187919,12671509,10982127,5883803,12266915,10559336,10716953,14407601,8633100,23609988,9980696,8915659,7925395,13509998,10640344,9277236,14638030,13348867,9472061,9643506,12056044,14819916,8037606,9589441,10348518,7484171,6676353,9176092,14006756,6763569,22118021,19355218,6859083,13250257,7453638,11510740,16577533,11011698,8812550,12106845,8132410,7661842,10203590,9466131,12779078,12906116,6965343,8968533,9761788,13487958,12750883,8556373,8696330,14768466,10148025,13359503,12476628,8526191,8043127,13574681,9690812,4208466,9998889,9598220,8753600,8684222,9177596,6446070,11665684,11655770,11531883,7894050,6806379,8677972,13598977,12498231,13290757,10544484,14325708,14673921,12223888,8456908,13125607,4154734,11997954,14545712,12976211,14514461,13508073,15997214,12012775,11233200,8283692,8938761,17476610,13585002,9111889,14471781,13127531,20210984,7640720,14576235,5314860,6681826,6131855,8208687,11286633,7652323,22653010,16294505,11883656,10887651,4996125,9071744,11470430,12056058,8680997,9664188,21800136,15738359,15992925,8887098,16245454,11934473,5743704,10985723,8031524,9678437,9618731,9761975,7103304,15985206,9934535,12796780,12747863,12090508,16076850,16064011,8049794,18339019,7853286,3842786,14636337,10756740,11654222,22311105,5872791,21080868,11384038,4916383,8385960,10692402,11776523,19945452,10511821,19310650,7408939,10693959,6081367,6284309,10581798,7771124,13557054,12242111,12941196,6955988,16007859,10769501,15892762,8548937,5655328,6943913,14177928,13419919,11153584,10047904,21358357,9926768,22258475,8932451,10954234,19252436,6610860,10629450,12965462,11516273,7071281,7459891,12557194,10170170,13221862,7604363,15148240,21610323,21650915,4630081,22962065,13956736,17140096,19878998,9188148,8610100,7265803,7460507,8186022,13123849,9029490,11518089,10602400,17370938,8349395,13043162,9982752,5904408,15443272,10259915,14490276,12365200,8240334,18711016,14314642,19297924,12098445,14380670,9141054,18834836,8830036,9255825,20875295,21360690,23534529,6030024,11392178,10721416,11375276,7619002,9895169,10611423,13457409,14788932,13160562,19848749,12388322,7441052,12415419,10273110,13998859,9854795,23476321,13184493,13401640,14552409,21440207,8454118,11575230,15393926,13809842,7111748,7469926,8715055,15119515,14299783,8294846,6986571,5830822,8461168,9078924,12319008,10030128,8925994,10318133,8769214,12657942,9217410,15832291,9270771,5944040,10321347,5339689,19643910,22343040,7403795,14199523,13851385,10047353,9406405,10224803,21215220,6506316,10745349,8628630,8885312,19675497,12890794,11910925,10696986,14586896,6171924,12458060,22062106,6951441,18569776,8027324,5653218,10919578,13207519,11800789,7478209,9668950,13797844,4752189,8047685,12983253,5839184,8473977,21092715,21868203,6775562,20207596,16003065,10444577,8201398,10714802,12661011,14071578,9318879,18174476,7818735,8134317,10508256,7460040,13049067,23088741,10604615,6893840,7999152,21630078,15114904,7274137,16215259,14331637,17127334,14678995,10095390,11099671,13786334,7174123,10243837,14487130,5576340,5188050,10384903,19982115,9864834,8953358,9286513,13815341,11200329,12269035,8681788,7612644,12235845,7708388,9005768,12386993,7885207,12986299,9862388,11388547,16079908,9018507,8757701,12054702,13498485,16983984,21746240,12178744,8166685,17579780,15244529,13223959,8637949,8751428,11660702,12559828,9447505,11707135,7534183,5571095,8792911,8056669,15683379,9162161,8275042,9201816,10891403,14995874,10443635,20688076,10874436,14218987,13929377,19020636,12303434,22207706,12696020,7053470,14142441,8455278,7379321,8821520,13139940,15451576,6356804,4406566,8878064,8861271,11663236,12465264,8334553,13405221,9768075,13870927,14873108,15918197,14497156,13865573,11780425,7781522,7865989,14793008,9761243,7836409,15800527,8110424,8630870,9934606,12276162,21493450,7520936,10187897,8414758,10409495,9711456,6398655,7400850,12754275,13506041,6637052,8890272,10377882,10414172,7426850,9285873,10268667,15135059,14323103,13542784,10677630,16354006,14608404,10583699,14491520,6383972,7175806,10409531,11861669,10585946,6560131,8095385,14330470,10466959,12906125,7840967,11145164,10374971,10233982,8982350,9469010,13769717,11512374,9535657,14749669,8333178,16192081,11394328,14681154,13155662,10868144,15170959,6666847,11003223,7807049,15860792,13486781,7172949,24200534,12840237,15874569,9842501,13456279,14856973,7054893,14092933,9531862,14893508,5972482,11613473,11139589,8097835,10139180,14061684,14187558,5386313,19846483,12550934,10425221,15254662,10157047,13972322,12149759,12707216,14274473,9828254,8006430,9864515,15765189,7291209,8228532,14030020,12061750,9973637,21543051,11275771,11603347,10503899,10679003,8423495,5813646,12190861,11554043,12804076,21769558,15716841,11529822,9193086,12130986,6733468,4244506,21760263,3489289,13183858,20004028,12536495,13947660,4032225,11441343,9295120,17964899,9194955,14829259,7619824,9507249,5379000,11742414,8223218,8866304,16389120,11858583,10035484,9390497,10368832,12675620,7171431,9122134,4861570,12193867,10390826,6273383,7209077,8224084,19329785,7594241,9831895,8148179,13163346,5729178,13771441,13202285,9662714,8225518,13265973,10167234,11880544,4535591,9343778,12655720,23061858,5290088,8962379,9945570,10305953,6367089,11014125,16646724,8018619,9744287,12005064,21777234,5773640,12595671,11756054,4284239,13802328,12373620,14936243,5657252,10050741,10180561,11633845,11971504,14168025,5805648,8216602,5548488,8926580,15257400,21181695,13533251,11153205,11875459,6374185,11157542,13691262,9980775,6034942,19821489,9292058,17601350,9628652,19895660,10906942,22498616,12026072,11937048,21213930,8564168,10636876,17292438,7468923,13574010,9312093,7404818,12873774,9886626,8311558,3986132,6942539,14060743,10583907,18352280,9377721,12742066,13319387,10747815,18030536,6524648,24788923,18385667,6472366,19398496,8259927,11720936,6256076,10105089,8391161,22837255,7862293,7026030,23635103,13745933,12521425,7492358,9467166,9410981,14621859,22307330,8221635,15272636,11651850,5075280,8813143,7483499,10996554,8771682,12302598,7643360,6460212,11473186,14194732,14633430,7473704,8522426,17198292,11589979,6091633,7231627,20069493,7305525,9071384,14556199,7364034,14475255,6784335,12499376,22326003,9151421,12655600,10377411,8408647,10770660,21203272,15198520,5259144,6331665,19928260,12681970,7684786,13413362,12969378,10341739,8363340,11721671,10769205,4153559,8337631,17266683,7974270,14164684,13021401,20681768,14456049,5041215,12594247,11993291,10130955,4194836,12666748,17234909,9387020,13869884,7968740,20682606,12196466,15584888,11836799,14167261,7033595,10513503,10576545,9250899,11035513,13554710,9561108,9691344,17970094,10130229,11123742,9011167,14082647,10694877,15216831,13085591,11325046,8981344,6522894,13587348,20659536,14475328,9228413,21798999,19003887,8912169,19334223,15070553,8890838,11353073,8996385,9247381,9894473,12356032,6583431,9422695,6987379,10063687,8319061,15346891,8733272,18297947,7628762,8780566,5290115,9055378,8819333,15641305,13369095,9459632,9739418,6776831,12666370,9127926,11589854,9054748,18943206,11817866,22743483,12785472,14484998,6132942,8537207,6468289,12687729,8438035,8863086,10611844,9719939,7930492,12647844,5274496,9088956,6728976,9950703,20880403,7675405,6066572,13750282,15833991,10213368,10488807,10215398,8659649,10450440,6103636,12912975,9269715,14794260,8927111,16974102,8491338,8641133,9485157,8958121,11963035,16151474,9044028,7543221,11274968,7524212,12941971,4995038,15748974,20568515,20376434,6156762,7829085,11744886,16256981,21369043,10682578,20832717,7776627,9172075,9375248,10176243,5683125,12988008,10159581,23911722,8543895,9335236,6808641,10629615,9984879,9287862,8153047,8334144,8101571,21297216,10360290,15455880,13110680,13252573,12941429,6889526,21422594,7635180,20924900,19177260,10207704,10421355,10105752,6879241,16688276,7444525,7389056,9144873,10079347,14533817,14014640,12818611,11603831,14265012,14595422,17016691,11697451,20585816,9183974,8867981,18980273,13377048,6064345,7358891,10468105,13585236,9035957,8633578,12737590,12574205,9855356,19865061,15182481,13396502,7602774,17138132,8270438,10328445,12169932,13176204,10386626,9566596,10903474,12573652,13807470,9280492,8619612,15616677,11165735,7575747,12366799,11391702,10840190,11769755,9540826,11617727,13642757,9640943,18820349,9476179,15289485,8771991,9479243,9915830,10528835,8734497,9873144,14365089,15147348,17081976,12123842,8816455,10320510,9250824,19316106,9511976,11849336,19665448,15350685,9435815,13509530,11855777,6484724,14063171,7697074,11900169,9667258,11839955,5983163,13686304,17360054,10764830,8887591,11825632,14684920,11415894,9779766,12454890,6096001,8480362,3247769,10726968,19288667,7834492,10922020,8523831,10264534,15054541,11148089,11313032,16373928,4141452,11792239,13368720,13123772,19274186,9639297,16054649,20008348,8781308,15722687,21153061,13422265,15864407,12097048,7479168,8786513,12938107,9845881,9366574,11040404,14697171,11459349,7948892,7635934,8824486,9890924,7149034,9378823,4649955,21054771,10903014,19079781,13087728,9658229,14240924,7003682,9139602,5926730,12643933,10391110,22026259,19990366,14413319,7868044,7323154,9273475,15149812,8801877,9093056,11856384,15809470,8772582,10026801,10322810,15851909,4630923,12002947,6489716,6766567,10003569,8973729,16374041,13926539,13553169,12440693,5101865,7923489,11318359,11219238,13683935,9640104,10276975,9070899,9191439,11762571,9527969,12738968,18756508,7864153,8484099,10510486,6325968,23453523,8840438,17101360,7528652,9267384,9979208,14227135,7807936,9574806,16363147,22558526,8186423,14199569,8105465,17945604,13958351,7231022,8782597,15020699,7031762,10216882,10069202,15552579,3312090,10143307,13103451,7956661,23124838,15844599,6075240,5075637,12233442,8559679,6676241,8699590,8131857,14029529,3210770,19774106,9517001,7726456,10870756,14771817,6899706,8466036,9506594,7279675,13064512,8444373,6103547,13044801,6522927,12680742,8588590,12689571,10720569,4548670,23066273,9141694,12284950,10647894,11630435,8607974,19874794,8613918,13338489,9805199,11859897,20083876,10768193,10093761,14742612,11610445,10067818,15286825,21751326,15680706,16387489,11161935,10824902,11738722,8058882,18043698,21174871,13850732,9530068,15575968,11032213,15922577,7800611,7038404,4885961,10843875,10198536,6096726,12771848,7862576,14021081,13023799,17586229,7537467,7446321,7266523,10173814,12508538,11023034,8438318,7732699,11244066,5762896,6850780,8723447,6161547,8774633,13778910,8327187,22162912,4955483,12765164,10068329,6401865,8617954,8824621,12957652,9347955,9419159,10659671,13185240,8079403,7773451,10762126,8479826,12045108,9787674,14721179,7862536,12310929,6614877,15385553,13789372,10524651,7496698,18111569,11597943,14162276,15266181,5295801,10292950,15047171,12461587,13166099,7658961,10028071,4401798,8640261,10603594,7496588,9198019,9371252,9356479,7685899,15359223,14479427,7499971,12062054,10093728,14105473,5605864,6659700,12865438,14740946,8738289,4842069,18042481,15901223,8989412,5836457,10247278,16479044,6808500,14832481,13291804,9936170,18387308,11872889,21001214,12643491,10178570,15291266,14141782,14778075,7436550,17562939,8770459,9393327,5839225,5346833,6340138,9316727,7873068,10949953,8823308,6849347,14850662,5867956,13838590,6857691,12718590,10741454,15309603,8431772,13417034,10182375,14211457,11566806,6588810,10906885,10007856,8954832,12804716,9575676,15729761,9677828,13685055,11357572,9233098,6718564,13730203,14384053,15262852,9192032,8217256,7253025,17273409,8569896,9714789,12881636,8228755,12157091,23466688,9522503,10378601,8667079,10635701,7754960,10469228,10610466,22612591,10321094,7935888,10839853,9173199,6247826,14905357,6199254,6777466,14116253,19369571,10842533,13578437,14994760,11240585,7416910,21634323,6943913,6472605,14649700,4720702,11257619,8267910,11948525,9911673,10136505,13210287,13100706,14931182,13397429,11192402,13409261,6816598,11323273,11184491,14502855,11336131,8642934,14545781,13428571,7443851,15984159,9877014,13623187,10902045,15816190,13985444,10359930,14890833,11814880,22181428,13097563,10242515,13363077,9084270,7511271,12720386,6470363,14359802,8481980,20432103,16035149,11804887,12113843,11316960,5950140,13943393,8445184,23980067,14478659,13648327,8410300,7976695,15009216,10281707,11652168,7799876,12529888,4853840,9694826,7515036,14656480,11650296,12009816,8868650,9881853,15188530,13827791,9967387,14703996,14586240,7629813,20515684,6559608,6066763,9922324,5668827,11370222,8835792,9051448,10405469],\"yaxis\":\"y\",\"type\":\"scattergl\"}],                        {\"template\":{\"data\":{\"bar\":[{\"error_x\":{\"color\":\"#2a3f5f\"},\"error_y\":{\"color\":\"#2a3f5f\"},\"marker\":{\"line\":{\"color\":\"#E5ECF6\",\"width\":0.5},\"pattern\":{\"fillmode\":\"overlay\",\"size\":10,\"solidity\":0.2}},\"type\":\"bar\"}],\"barpolar\":[{\"marker\":{\"line\":{\"color\":\"#E5ECF6\",\"width\":0.5},\"pattern\":{\"fillmode\":\"overlay\",\"size\":10,\"solidity\":0.2}},\"type\":\"barpolar\"}],\"carpet\":[{\"aaxis\":{\"endlinecolor\":\"#2a3f5f\",\"gridcolor\":\"white\",\"linecolor\":\"white\",\"minorgridcolor\":\"white\",\"startlinecolor\":\"#2a3f5f\"},\"baxis\":{\"endlinecolor\":\"#2a3f5f\",\"gridcolor\":\"white\",\"linecolor\":\"white\",\"minorgridcolor\":\"white\",\"startlinecolor\":\"#2a3f5f\"},\"type\":\"carpet\"}],\"choropleth\":[{\"colorbar\":{\"outlinewidth\":0,\"ticks\":\"\"},\"type\":\"choropleth\"}],\"contour\":[{\"colorbar\":{\"outlinewidth\":0,\"ticks\":\"\"},\"colorscale\":[[0.0,\"#0d0887\"],[0.1111111111111111,\"#46039f\"],[0.2222222222222222,\"#7201a8\"],[0.3333333333333333,\"#9c179e\"],[0.4444444444444444,\"#bd3786\"],[0.5555555555555556,\"#d8576b\"],[0.6666666666666666,\"#ed7953\"],[0.7777777777777778,\"#fb9f3a\"],[0.8888888888888888,\"#fdca26\"],[1.0,\"#f0f921\"]],\"type\":\"contour\"}],\"contourcarpet\":[{\"colorbar\":{\"outlinewidth\":0,\"ticks\":\"\"},\"type\":\"contourcarpet\"}],\"heatmap\":[{\"colorbar\":{\"outlinewidth\":0,\"ticks\":\"\"},\"colorscale\":[[0.0,\"#0d0887\"],[0.1111111111111111,\"#46039f\"],[0.2222222222222222,\"#7201a8\"],[0.3333333333333333,\"#9c179e\"],[0.4444444444444444,\"#bd3786\"],[0.5555555555555556,\"#d8576b\"],[0.6666666666666666,\"#ed7953\"],[0.7777777777777778,\"#fb9f3a\"],[0.8888888888888888,\"#fdca26\"],[1.0,\"#f0f921\"]],\"type\":\"heatmap\"}],\"heatmapgl\":[{\"colorbar\":{\"outlinewidth\":0,\"ticks\":\"\"},\"colorscale\":[[0.0,\"#0d0887\"],[0.1111111111111111,\"#46039f\"],[0.2222222222222222,\"#7201a8\"],[0.3333333333333333,\"#9c179e\"],[0.4444444444444444,\"#bd3786\"],[0.5555555555555556,\"#d8576b\"],[0.6666666666666666,\"#ed7953\"],[0.7777777777777778,\"#fb9f3a\"],[0.8888888888888888,\"#fdca26\"],[1.0,\"#f0f921\"]],\"type\":\"heatmapgl\"}],\"histogram\":[{\"marker\":{\"pattern\":{\"fillmode\":\"overlay\",\"size\":10,\"solidity\":0.2}},\"type\":\"histogram\"}],\"histogram2d\":[{\"colorbar\":{\"outlinewidth\":0,\"ticks\":\"\"},\"colorscale\":[[0.0,\"#0d0887\"],[0.1111111111111111,\"#46039f\"],[0.2222222222222222,\"#7201a8\"],[0.3333333333333333,\"#9c179e\"],[0.4444444444444444,\"#bd3786\"],[0.5555555555555556,\"#d8576b\"],[0.6666666666666666,\"#ed7953\"],[0.7777777777777778,\"#fb9f3a\"],[0.8888888888888888,\"#fdca26\"],[1.0,\"#f0f921\"]],\"type\":\"histogram2d\"}],\"histogram2dcontour\":[{\"colorbar\":{\"outlinewidth\":0,\"ticks\":\"\"},\"colorscale\":[[0.0,\"#0d0887\"],[0.1111111111111111,\"#46039f\"],[0.2222222222222222,\"#7201a8\"],[0.3333333333333333,\"#9c179e\"],[0.4444444444444444,\"#bd3786\"],[0.5555555555555556,\"#d8576b\"],[0.6666666666666666,\"#ed7953\"],[0.7777777777777778,\"#fb9f3a\"],[0.8888888888888888,\"#fdca26\"],[1.0,\"#f0f921\"]],\"type\":\"histogram2dcontour\"}],\"mesh3d\":[{\"colorbar\":{\"outlinewidth\":0,\"ticks\":\"\"},\"type\":\"mesh3d\"}],\"parcoords\":[{\"line\":{\"colorbar\":{\"outlinewidth\":0,\"ticks\":\"\"}},\"type\":\"parcoords\"}],\"pie\":[{\"automargin\":true,\"type\":\"pie\"}],\"scatter\":[{\"marker\":{\"colorbar\":{\"outlinewidth\":0,\"ticks\":\"\"}},\"type\":\"scatter\"}],\"scatter3d\":[{\"line\":{\"colorbar\":{\"outlinewidth\":0,\"ticks\":\"\"}},\"marker\":{\"colorbar\":{\"outlinewidth\":0,\"ticks\":\"\"}},\"type\":\"scatter3d\"}],\"scattercarpet\":[{\"marker\":{\"colorbar\":{\"outlinewidth\":0,\"ticks\":\"\"}},\"type\":\"scattercarpet\"}],\"scattergeo\":[{\"marker\":{\"colorbar\":{\"outlinewidth\":0,\"ticks\":\"\"}},\"type\":\"scattergeo\"}],\"scattergl\":[{\"marker\":{\"colorbar\":{\"outlinewidth\":0,\"ticks\":\"\"}},\"type\":\"scattergl\"}],\"scattermapbox\":[{\"marker\":{\"colorbar\":{\"outlinewidth\":0,\"ticks\":\"\"}},\"type\":\"scattermapbox\"}],\"scatterpolar\":[{\"marker\":{\"colorbar\":{\"outlinewidth\":0,\"ticks\":\"\"}},\"type\":\"scatterpolar\"}],\"scatterpolargl\":[{\"marker\":{\"colorbar\":{\"outlinewidth\":0,\"ticks\":\"\"}},\"type\":\"scatterpolargl\"}],\"scatterternary\":[{\"marker\":{\"colorbar\":{\"outlinewidth\":0,\"ticks\":\"\"}},\"type\":\"scatterternary\"}],\"surface\":[{\"colorbar\":{\"outlinewidth\":0,\"ticks\":\"\"},\"colorscale\":[[0.0,\"#0d0887\"],[0.1111111111111111,\"#46039f\"],[0.2222222222222222,\"#7201a8\"],[0.3333333333333333,\"#9c179e\"],[0.4444444444444444,\"#bd3786\"],[0.5555555555555556,\"#d8576b\"],[0.6666666666666666,\"#ed7953\"],[0.7777777777777778,\"#fb9f3a\"],[0.8888888888888888,\"#fdca26\"],[1.0,\"#f0f921\"]],\"type\":\"surface\"}],\"table\":[{\"cells\":{\"fill\":{\"color\":\"#EBF0F8\"},\"line\":{\"color\":\"white\"}},\"header\":{\"fill\":{\"color\":\"#C8D4E3\"},\"line\":{\"color\":\"white\"}},\"type\":\"table\"}]},\"layout\":{\"annotationdefaults\":{\"arrowcolor\":\"#2a3f5f\",\"arrowhead\":0,\"arrowwidth\":1},\"autotypenumbers\":\"strict\",\"coloraxis\":{\"colorbar\":{\"outlinewidth\":0,\"ticks\":\"\"}},\"colorscale\":{\"diverging\":[[0,\"#8e0152\"],[0.1,\"#c51b7d\"],[0.2,\"#de77ae\"],[0.3,\"#f1b6da\"],[0.4,\"#fde0ef\"],[0.5,\"#f7f7f7\"],[0.6,\"#e6f5d0\"],[0.7,\"#b8e186\"],[0.8,\"#7fbc41\"],[0.9,\"#4d9221\"],[1,\"#276419\"]],\"sequential\":[[0.0,\"#0d0887\"],[0.1111111111111111,\"#46039f\"],[0.2222222222222222,\"#7201a8\"],[0.3333333333333333,\"#9c179e\"],[0.4444444444444444,\"#bd3786\"],[0.5555555555555556,\"#d8576b\"],[0.6666666666666666,\"#ed7953\"],[0.7777777777777778,\"#fb9f3a\"],[0.8888888888888888,\"#fdca26\"],[1.0,\"#f0f921\"]],\"sequentialminus\":[[0.0,\"#0d0887\"],[0.1111111111111111,\"#46039f\"],[0.2222222222222222,\"#7201a8\"],[0.3333333333333333,\"#9c179e\"],[0.4444444444444444,\"#bd3786\"],[0.5555555555555556,\"#d8576b\"],[0.6666666666666666,\"#ed7953\"],[0.7777777777777778,\"#fb9f3a\"],[0.8888888888888888,\"#fdca26\"],[1.0,\"#f0f921\"]]},\"colorway\":[\"#636efa\",\"#EF553B\",\"#00cc96\",\"#ab63fa\",\"#FFA15A\",\"#19d3f3\",\"#FF6692\",\"#B6E880\",\"#FF97FF\",\"#FECB52\"],\"font\":{\"color\":\"#2a3f5f\"},\"geo\":{\"bgcolor\":\"white\",\"lakecolor\":\"white\",\"landcolor\":\"#E5ECF6\",\"showlakes\":true,\"showland\":true,\"subunitcolor\":\"white\"},\"hoverlabel\":{\"align\":\"left\"},\"hovermode\":\"closest\",\"mapbox\":{\"style\":\"light\"},\"paper_bgcolor\":\"white\",\"plot_bgcolor\":\"#E5ECF6\",\"polar\":{\"angularaxis\":{\"gridcolor\":\"white\",\"linecolor\":\"white\",\"ticks\":\"\"},\"bgcolor\":\"#E5ECF6\",\"radialaxis\":{\"gridcolor\":\"white\",\"linecolor\":\"white\",\"ticks\":\"\"}},\"scene\":{\"xaxis\":{\"backgroundcolor\":\"#E5ECF6\",\"gridcolor\":\"white\",\"gridwidth\":2,\"linecolor\":\"white\",\"showbackground\":true,\"ticks\":\"\",\"zerolinecolor\":\"white\"},\"yaxis\":{\"backgroundcolor\":\"#E5ECF6\",\"gridcolor\":\"white\",\"gridwidth\":2,\"linecolor\":\"white\",\"showbackground\":true,\"ticks\":\"\",\"zerolinecolor\":\"white\"},\"zaxis\":{\"backgroundcolor\":\"#E5ECF6\",\"gridcolor\":\"white\",\"gridwidth\":2,\"linecolor\":\"white\",\"showbackground\":true,\"ticks\":\"\",\"zerolinecolor\":\"white\"}},\"shapedefaults\":{\"line\":{\"color\":\"#2a3f5f\"}},\"ternary\":{\"aaxis\":{\"gridcolor\":\"white\",\"linecolor\":\"white\",\"ticks\":\"\"},\"baxis\":{\"gridcolor\":\"white\",\"linecolor\":\"white\",\"ticks\":\"\"},\"bgcolor\":\"#E5ECF6\",\"caxis\":{\"gridcolor\":\"white\",\"linecolor\":\"white\",\"ticks\":\"\"}},\"title\":{\"x\":0.05},\"xaxis\":{\"automargin\":true,\"gridcolor\":\"white\",\"linecolor\":\"white\",\"ticks\":\"\",\"title\":{\"standoff\":15},\"zerolinecolor\":\"white\",\"zerolinewidth\":2},\"yaxis\":{\"automargin\":true,\"gridcolor\":\"white\",\"linecolor\":\"white\",\"ticks\":\"\",\"title\":{\"standoff\":15},\"zerolinecolor\":\"white\",\"zerolinewidth\":2}}},\"xaxis\":{\"anchor\":\"y\",\"domain\":[0.0,1.0],\"title\":{\"text\":\"INT_SQFT\"}},\"yaxis\":{\"anchor\":\"x\",\"domain\":[0.0,1.0],\"title\":{\"text\":\"Total_price\"}},\"coloraxis\":{\"colorbar\":{\"title\":{\"text\":\"INT_SQFT\"}},\"colorscale\":[[0.0,\"#0d0887\"],[0.1111111111111111,\"#46039f\"],[0.2222222222222222,\"#7201a8\"],[0.3333333333333333,\"#9c179e\"],[0.4444444444444444,\"#bd3786\"],[0.5555555555555556,\"#d8576b\"],[0.6666666666666666,\"#ed7953\"],[0.7777777777777778,\"#fb9f3a\"],[0.8888888888888888,\"#fdca26\"],[1.0,\"#f0f921\"]]},\"legend\":{\"tracegroupgap\":0},\"title\":{\"text\":\"<b>sq.ft vs sales price<br>\"}},                        {\"responsive\": true}                    ).then(function(){\n",
              "                            \n",
              "var gd = document.getElementById('a952493f-47a7-4589-a4b9-dcc9e08322a0');\n",
              "var x = new MutationObserver(function (mutations, observer) {{\n",
              "        var display = window.getComputedStyle(gd).display;\n",
              "        if (!display || display === 'none') {{\n",
              "            console.log([gd, 'removed!']);\n",
              "            Plotly.purge(gd);\n",
              "            observer.disconnect();\n",
              "        }}\n",
              "}});\n",
              "\n",
              "// Listen for the removal of the full notebook cells\n",
              "var notebookContainer = gd.closest('#notebook-container');\n",
              "if (notebookContainer) {{\n",
              "    x.observe(notebookContainer, {childList: true});\n",
              "}}\n",
              "\n",
              "// Listen for the clearing of the current output cell\n",
              "var outputEl = gd.closest('.output');\n",
              "if (outputEl) {{\n",
              "    x.observe(outputEl, {childList: true});\n",
              "}}\n",
              "\n",
              "                        })                };                            </script>        </div>\n",
              "</body>\n",
              "</html>"
            ]
          },
          "metadata": {}
        }
      ]
    },
    {
      "cell_type": "code",
      "source": [
        "#creating the data frame for bedroom and total price\n",
        "x2=pd.DataFrame(df2.groupby(\"N_BEDROOM\")[\"Total_price\"].mean())\n",
        "y2=df2[\"N_BEDROOM\"].unique()\n",
        "y2=sorted(y2)\n",
        " \n",
        "\n",
        "data2={\"N_BEDROOM\":y2,\"Average_price\":x2[\"Total_price\"]}\n",
        "temp2 = pd.DataFrame(data2)\n",
        "temp2"
      ],
      "metadata": {
        "colab": {
          "base_uri": "https://localhost:8080/",
          "height": 206
        },
        "id": "Q3yo3ozdai_5",
        "outputId": "6c641604-83f8-480c-8823-8d77d9fa53a1"
      },
      "execution_count": 269,
      "outputs": [
        {
          "output_type": "execute_result",
          "data": {
            "text/plain": [
              "           N_BEDROOM  Average_price\n",
              "N_BEDROOM                          \n",
              "1                  1   1.021732e+07\n",
              "2                  2   1.238871e+07\n",
              "3                  3   1.314589e+07\n",
              "4                  4   1.527997e+07"
            ],
            "text/html": [
              "\n",
              "  <div id=\"df-3b508f2c-594d-42c8-b7cb-3f0c597f5963\">\n",
              "    <div class=\"colab-df-container\">\n",
              "      <div>\n",
              "<style scoped>\n",
              "    .dataframe tbody tr th:only-of-type {\n",
              "        vertical-align: middle;\n",
              "    }\n",
              "\n",
              "    .dataframe tbody tr th {\n",
              "        vertical-align: top;\n",
              "    }\n",
              "\n",
              "    .dataframe thead th {\n",
              "        text-align: right;\n",
              "    }\n",
              "</style>\n",
              "<table border=\"1\" class=\"dataframe\">\n",
              "  <thead>\n",
              "    <tr style=\"text-align: right;\">\n",
              "      <th></th>\n",
              "      <th>N_BEDROOM</th>\n",
              "      <th>Average_price</th>\n",
              "    </tr>\n",
              "    <tr>\n",
              "      <th>N_BEDROOM</th>\n",
              "      <th></th>\n",
              "      <th></th>\n",
              "    </tr>\n",
              "  </thead>\n",
              "  <tbody>\n",
              "    <tr>\n",
              "      <th>1</th>\n",
              "      <td>1</td>\n",
              "      <td>1.021732e+07</td>\n",
              "    </tr>\n",
              "    <tr>\n",
              "      <th>2</th>\n",
              "      <td>2</td>\n",
              "      <td>1.238871e+07</td>\n",
              "    </tr>\n",
              "    <tr>\n",
              "      <th>3</th>\n",
              "      <td>3</td>\n",
              "      <td>1.314589e+07</td>\n",
              "    </tr>\n",
              "    <tr>\n",
              "      <th>4</th>\n",
              "      <td>4</td>\n",
              "      <td>1.527997e+07</td>\n",
              "    </tr>\n",
              "  </tbody>\n",
              "</table>\n",
              "</div>\n",
              "      <button class=\"colab-df-convert\" onclick=\"convertToInteractive('df-3b508f2c-594d-42c8-b7cb-3f0c597f5963')\"\n",
              "              title=\"Convert this dataframe to an interactive table.\"\n",
              "              style=\"display:none;\">\n",
              "        \n",
              "  <svg xmlns=\"http://www.w3.org/2000/svg\" height=\"24px\"viewBox=\"0 0 24 24\"\n",
              "       width=\"24px\">\n",
              "    <path d=\"M0 0h24v24H0V0z\" fill=\"none\"/>\n",
              "    <path d=\"M18.56 5.44l.94 2.06.94-2.06 2.06-.94-2.06-.94-.94-2.06-.94 2.06-2.06.94zm-11 1L8.5 8.5l.94-2.06 2.06-.94-2.06-.94L8.5 2.5l-.94 2.06-2.06.94zm10 10l.94 2.06.94-2.06 2.06-.94-2.06-.94-.94-2.06-.94 2.06-2.06.94z\"/><path d=\"M17.41 7.96l-1.37-1.37c-.4-.4-.92-.59-1.43-.59-.52 0-1.04.2-1.43.59L10.3 9.45l-7.72 7.72c-.78.78-.78 2.05 0 2.83L4 21.41c.39.39.9.59 1.41.59.51 0 1.02-.2 1.41-.59l7.78-7.78 2.81-2.81c.8-.78.8-2.07 0-2.86zM5.41 20L4 18.59l7.72-7.72 1.47 1.35L5.41 20z\"/>\n",
              "  </svg>\n",
              "      </button>\n",
              "      \n",
              "  <style>\n",
              "    .colab-df-container {\n",
              "      display:flex;\n",
              "      flex-wrap:wrap;\n",
              "      gap: 12px;\n",
              "    }\n",
              "\n",
              "    .colab-df-convert {\n",
              "      background-color: #E8F0FE;\n",
              "      border: none;\n",
              "      border-radius: 50%;\n",
              "      cursor: pointer;\n",
              "      display: none;\n",
              "      fill: #1967D2;\n",
              "      height: 32px;\n",
              "      padding: 0 0 0 0;\n",
              "      width: 32px;\n",
              "    }\n",
              "\n",
              "    .colab-df-convert:hover {\n",
              "      background-color: #E2EBFA;\n",
              "      box-shadow: 0px 1px 2px rgba(60, 64, 67, 0.3), 0px 1px 3px 1px rgba(60, 64, 67, 0.15);\n",
              "      fill: #174EA6;\n",
              "    }\n",
              "\n",
              "    [theme=dark] .colab-df-convert {\n",
              "      background-color: #3B4455;\n",
              "      fill: #D2E3FC;\n",
              "    }\n",
              "\n",
              "    [theme=dark] .colab-df-convert:hover {\n",
              "      background-color: #434B5C;\n",
              "      box-shadow: 0px 1px 3px 1px rgba(0, 0, 0, 0.15);\n",
              "      filter: drop-shadow(0px 1px 2px rgba(0, 0, 0, 0.3));\n",
              "      fill: #FFFFFF;\n",
              "    }\n",
              "  </style>\n",
              "\n",
              "      <script>\n",
              "        const buttonEl =\n",
              "          document.querySelector('#df-3b508f2c-594d-42c8-b7cb-3f0c597f5963 button.colab-df-convert');\n",
              "        buttonEl.style.display =\n",
              "          google.colab.kernel.accessAllowed ? 'block' : 'none';\n",
              "\n",
              "        async function convertToInteractive(key) {\n",
              "          const element = document.querySelector('#df-3b508f2c-594d-42c8-b7cb-3f0c597f5963');\n",
              "          const dataTable =\n",
              "            await google.colab.kernel.invokeFunction('convertToInteractive',\n",
              "                                                     [key], {});\n",
              "          if (!dataTable) return;\n",
              "\n",
              "          const docLinkHtml = 'Like what you see? Visit the ' +\n",
              "            '<a target=\"_blank\" href=https://colab.research.google.com/notebooks/data_table.ipynb>data table notebook</a>'\n",
              "            + ' to learn more about interactive tables.';\n",
              "          element.innerHTML = '';\n",
              "          dataTable['output_type'] = 'display_data';\n",
              "          await google.colab.output.renderOutput(dataTable, element);\n",
              "          const docLink = document.createElement('div');\n",
              "          docLink.innerHTML = docLinkHtml;\n",
              "          element.appendChild(docLink);\n",
              "        }\n",
              "      </script>\n",
              "    </div>\n",
              "  </div>\n",
              "  "
            ]
          },
          "metadata": {},
          "execution_count": 269
        }
      ]
    },
    {
      "cell_type": "code",
      "source": [
        "fig4=px.bar(temp2,x=\"N_BEDROOM\",y=\"Average_price\",color=\"N_BEDROOM\",title=\"<b>bedroom vs Average_price<br>\")\n",
        "fig4"
      ],
      "metadata": {
        "colab": {
          "base_uri": "https://localhost:8080/",
          "height": 542
        },
        "id": "4BpxAX9gYHX0",
        "outputId": "c00355e6-7dec-4bc1-e44b-df22a777888d"
      },
      "execution_count": 270,
      "outputs": [
        {
          "output_type": "display_data",
          "data": {
            "text/html": [
              "<html>\n",
              "<head><meta charset=\"utf-8\" /></head>\n",
              "<body>\n",
              "    <div>            <script src=\"https://cdnjs.cloudflare.com/ajax/libs/mathjax/2.7.5/MathJax.js?config=TeX-AMS-MML_SVG\"></script><script type=\"text/javascript\">if (window.MathJax) {MathJax.Hub.Config({SVG: {font: \"STIX-Web\"}});}</script>                <script type=\"text/javascript\">window.PlotlyConfig = {MathJaxConfig: 'local'};</script>\n",
              "        <script src=\"https://cdn.plot.ly/plotly-2.8.3.min.js\"></script>                <div id=\"c36e3a82-9a19-42b9-a4dc-73a43a7531f0\" class=\"plotly-graph-div\" style=\"height:525px; width:100%;\"></div>            <script type=\"text/javascript\">                                    window.PLOTLYENV=window.PLOTLYENV || {};                                    if (document.getElementById(\"c36e3a82-9a19-42b9-a4dc-73a43a7531f0\")) {                    Plotly.newPlot(                        \"c36e3a82-9a19-42b9-a4dc-73a43a7531f0\",                        [{\"alignmentgroup\":\"True\",\"hovertemplate\":\"N_BEDROOM=%{marker.color}<br>Average_price=%{y}<extra></extra>\",\"legendgroup\":\"\",\"marker\":{\"color\":[1,2,3,4],\"coloraxis\":\"coloraxis\",\"pattern\":{\"shape\":\"\"}},\"name\":\"\",\"offsetgroup\":\"\",\"orientation\":\"v\",\"showlegend\":false,\"textposition\":\"auto\",\"x\":[1,2,3,4],\"xaxis\":\"x\",\"y\":[10217319.58061954,12388706.27620275,13145890.27027027,15279969.335968379],\"yaxis\":\"y\",\"type\":\"bar\"}],                        {\"template\":{\"data\":{\"bar\":[{\"error_x\":{\"color\":\"#2a3f5f\"},\"error_y\":{\"color\":\"#2a3f5f\"},\"marker\":{\"line\":{\"color\":\"#E5ECF6\",\"width\":0.5},\"pattern\":{\"fillmode\":\"overlay\",\"size\":10,\"solidity\":0.2}},\"type\":\"bar\"}],\"barpolar\":[{\"marker\":{\"line\":{\"color\":\"#E5ECF6\",\"width\":0.5},\"pattern\":{\"fillmode\":\"overlay\",\"size\":10,\"solidity\":0.2}},\"type\":\"barpolar\"}],\"carpet\":[{\"aaxis\":{\"endlinecolor\":\"#2a3f5f\",\"gridcolor\":\"white\",\"linecolor\":\"white\",\"minorgridcolor\":\"white\",\"startlinecolor\":\"#2a3f5f\"},\"baxis\":{\"endlinecolor\":\"#2a3f5f\",\"gridcolor\":\"white\",\"linecolor\":\"white\",\"minorgridcolor\":\"white\",\"startlinecolor\":\"#2a3f5f\"},\"type\":\"carpet\"}],\"choropleth\":[{\"colorbar\":{\"outlinewidth\":0,\"ticks\":\"\"},\"type\":\"choropleth\"}],\"contour\":[{\"colorbar\":{\"outlinewidth\":0,\"ticks\":\"\"},\"colorscale\":[[0.0,\"#0d0887\"],[0.1111111111111111,\"#46039f\"],[0.2222222222222222,\"#7201a8\"],[0.3333333333333333,\"#9c179e\"],[0.4444444444444444,\"#bd3786\"],[0.5555555555555556,\"#d8576b\"],[0.6666666666666666,\"#ed7953\"],[0.7777777777777778,\"#fb9f3a\"],[0.8888888888888888,\"#fdca26\"],[1.0,\"#f0f921\"]],\"type\":\"contour\"}],\"contourcarpet\":[{\"colorbar\":{\"outlinewidth\":0,\"ticks\":\"\"},\"type\":\"contourcarpet\"}],\"heatmap\":[{\"colorbar\":{\"outlinewidth\":0,\"ticks\":\"\"},\"colorscale\":[[0.0,\"#0d0887\"],[0.1111111111111111,\"#46039f\"],[0.2222222222222222,\"#7201a8\"],[0.3333333333333333,\"#9c179e\"],[0.4444444444444444,\"#bd3786\"],[0.5555555555555556,\"#d8576b\"],[0.6666666666666666,\"#ed7953\"],[0.7777777777777778,\"#fb9f3a\"],[0.8888888888888888,\"#fdca26\"],[1.0,\"#f0f921\"]],\"type\":\"heatmap\"}],\"heatmapgl\":[{\"colorbar\":{\"outlinewidth\":0,\"ticks\":\"\"},\"colorscale\":[[0.0,\"#0d0887\"],[0.1111111111111111,\"#46039f\"],[0.2222222222222222,\"#7201a8\"],[0.3333333333333333,\"#9c179e\"],[0.4444444444444444,\"#bd3786\"],[0.5555555555555556,\"#d8576b\"],[0.6666666666666666,\"#ed7953\"],[0.7777777777777778,\"#fb9f3a\"],[0.8888888888888888,\"#fdca26\"],[1.0,\"#f0f921\"]],\"type\":\"heatmapgl\"}],\"histogram\":[{\"marker\":{\"pattern\":{\"fillmode\":\"overlay\",\"size\":10,\"solidity\":0.2}},\"type\":\"histogram\"}],\"histogram2d\":[{\"colorbar\":{\"outlinewidth\":0,\"ticks\":\"\"},\"colorscale\":[[0.0,\"#0d0887\"],[0.1111111111111111,\"#46039f\"],[0.2222222222222222,\"#7201a8\"],[0.3333333333333333,\"#9c179e\"],[0.4444444444444444,\"#bd3786\"],[0.5555555555555556,\"#d8576b\"],[0.6666666666666666,\"#ed7953\"],[0.7777777777777778,\"#fb9f3a\"],[0.8888888888888888,\"#fdca26\"],[1.0,\"#f0f921\"]],\"type\":\"histogram2d\"}],\"histogram2dcontour\":[{\"colorbar\":{\"outlinewidth\":0,\"ticks\":\"\"},\"colorscale\":[[0.0,\"#0d0887\"],[0.1111111111111111,\"#46039f\"],[0.2222222222222222,\"#7201a8\"],[0.3333333333333333,\"#9c179e\"],[0.4444444444444444,\"#bd3786\"],[0.5555555555555556,\"#d8576b\"],[0.6666666666666666,\"#ed7953\"],[0.7777777777777778,\"#fb9f3a\"],[0.8888888888888888,\"#fdca26\"],[1.0,\"#f0f921\"]],\"type\":\"histogram2dcontour\"}],\"mesh3d\":[{\"colorbar\":{\"outlinewidth\":0,\"ticks\":\"\"},\"type\":\"mesh3d\"}],\"parcoords\":[{\"line\":{\"colorbar\":{\"outlinewidth\":0,\"ticks\":\"\"}},\"type\":\"parcoords\"}],\"pie\":[{\"automargin\":true,\"type\":\"pie\"}],\"scatter\":[{\"marker\":{\"colorbar\":{\"outlinewidth\":0,\"ticks\":\"\"}},\"type\":\"scatter\"}],\"scatter3d\":[{\"line\":{\"colorbar\":{\"outlinewidth\":0,\"ticks\":\"\"}},\"marker\":{\"colorbar\":{\"outlinewidth\":0,\"ticks\":\"\"}},\"type\":\"scatter3d\"}],\"scattercarpet\":[{\"marker\":{\"colorbar\":{\"outlinewidth\":0,\"ticks\":\"\"}},\"type\":\"scattercarpet\"}],\"scattergeo\":[{\"marker\":{\"colorbar\":{\"outlinewidth\":0,\"ticks\":\"\"}},\"type\":\"scattergeo\"}],\"scattergl\":[{\"marker\":{\"colorbar\":{\"outlinewidth\":0,\"ticks\":\"\"}},\"type\":\"scattergl\"}],\"scattermapbox\":[{\"marker\":{\"colorbar\":{\"outlinewidth\":0,\"ticks\":\"\"}},\"type\":\"scattermapbox\"}],\"scatterpolar\":[{\"marker\":{\"colorbar\":{\"outlinewidth\":0,\"ticks\":\"\"}},\"type\":\"scatterpolar\"}],\"scatterpolargl\":[{\"marker\":{\"colorbar\":{\"outlinewidth\":0,\"ticks\":\"\"}},\"type\":\"scatterpolargl\"}],\"scatterternary\":[{\"marker\":{\"colorbar\":{\"outlinewidth\":0,\"ticks\":\"\"}},\"type\":\"scatterternary\"}],\"surface\":[{\"colorbar\":{\"outlinewidth\":0,\"ticks\":\"\"},\"colorscale\":[[0.0,\"#0d0887\"],[0.1111111111111111,\"#46039f\"],[0.2222222222222222,\"#7201a8\"],[0.3333333333333333,\"#9c179e\"],[0.4444444444444444,\"#bd3786\"],[0.5555555555555556,\"#d8576b\"],[0.6666666666666666,\"#ed7953\"],[0.7777777777777778,\"#fb9f3a\"],[0.8888888888888888,\"#fdca26\"],[1.0,\"#f0f921\"]],\"type\":\"surface\"}],\"table\":[{\"cells\":{\"fill\":{\"color\":\"#EBF0F8\"},\"line\":{\"color\":\"white\"}},\"header\":{\"fill\":{\"color\":\"#C8D4E3\"},\"line\":{\"color\":\"white\"}},\"type\":\"table\"}]},\"layout\":{\"annotationdefaults\":{\"arrowcolor\":\"#2a3f5f\",\"arrowhead\":0,\"arrowwidth\":1},\"autotypenumbers\":\"strict\",\"coloraxis\":{\"colorbar\":{\"outlinewidth\":0,\"ticks\":\"\"}},\"colorscale\":{\"diverging\":[[0,\"#8e0152\"],[0.1,\"#c51b7d\"],[0.2,\"#de77ae\"],[0.3,\"#f1b6da\"],[0.4,\"#fde0ef\"],[0.5,\"#f7f7f7\"],[0.6,\"#e6f5d0\"],[0.7,\"#b8e186\"],[0.8,\"#7fbc41\"],[0.9,\"#4d9221\"],[1,\"#276419\"]],\"sequential\":[[0.0,\"#0d0887\"],[0.1111111111111111,\"#46039f\"],[0.2222222222222222,\"#7201a8\"],[0.3333333333333333,\"#9c179e\"],[0.4444444444444444,\"#bd3786\"],[0.5555555555555556,\"#d8576b\"],[0.6666666666666666,\"#ed7953\"],[0.7777777777777778,\"#fb9f3a\"],[0.8888888888888888,\"#fdca26\"],[1.0,\"#f0f921\"]],\"sequentialminus\":[[0.0,\"#0d0887\"],[0.1111111111111111,\"#46039f\"],[0.2222222222222222,\"#7201a8\"],[0.3333333333333333,\"#9c179e\"],[0.4444444444444444,\"#bd3786\"],[0.5555555555555556,\"#d8576b\"],[0.6666666666666666,\"#ed7953\"],[0.7777777777777778,\"#fb9f3a\"],[0.8888888888888888,\"#fdca26\"],[1.0,\"#f0f921\"]]},\"colorway\":[\"#636efa\",\"#EF553B\",\"#00cc96\",\"#ab63fa\",\"#FFA15A\",\"#19d3f3\",\"#FF6692\",\"#B6E880\",\"#FF97FF\",\"#FECB52\"],\"font\":{\"color\":\"#2a3f5f\"},\"geo\":{\"bgcolor\":\"white\",\"lakecolor\":\"white\",\"landcolor\":\"#E5ECF6\",\"showlakes\":true,\"showland\":true,\"subunitcolor\":\"white\"},\"hoverlabel\":{\"align\":\"left\"},\"hovermode\":\"closest\",\"mapbox\":{\"style\":\"light\"},\"paper_bgcolor\":\"white\",\"plot_bgcolor\":\"#E5ECF6\",\"polar\":{\"angularaxis\":{\"gridcolor\":\"white\",\"linecolor\":\"white\",\"ticks\":\"\"},\"bgcolor\":\"#E5ECF6\",\"radialaxis\":{\"gridcolor\":\"white\",\"linecolor\":\"white\",\"ticks\":\"\"}},\"scene\":{\"xaxis\":{\"backgroundcolor\":\"#E5ECF6\",\"gridcolor\":\"white\",\"gridwidth\":2,\"linecolor\":\"white\",\"showbackground\":true,\"ticks\":\"\",\"zerolinecolor\":\"white\"},\"yaxis\":{\"backgroundcolor\":\"#E5ECF6\",\"gridcolor\":\"white\",\"gridwidth\":2,\"linecolor\":\"white\",\"showbackground\":true,\"ticks\":\"\",\"zerolinecolor\":\"white\"},\"zaxis\":{\"backgroundcolor\":\"#E5ECF6\",\"gridcolor\":\"white\",\"gridwidth\":2,\"linecolor\":\"white\",\"showbackground\":true,\"ticks\":\"\",\"zerolinecolor\":\"white\"}},\"shapedefaults\":{\"line\":{\"color\":\"#2a3f5f\"}},\"ternary\":{\"aaxis\":{\"gridcolor\":\"white\",\"linecolor\":\"white\",\"ticks\":\"\"},\"baxis\":{\"gridcolor\":\"white\",\"linecolor\":\"white\",\"ticks\":\"\"},\"bgcolor\":\"#E5ECF6\",\"caxis\":{\"gridcolor\":\"white\",\"linecolor\":\"white\",\"ticks\":\"\"}},\"title\":{\"x\":0.05},\"xaxis\":{\"automargin\":true,\"gridcolor\":\"white\",\"linecolor\":\"white\",\"ticks\":\"\",\"title\":{\"standoff\":15},\"zerolinecolor\":\"white\",\"zerolinewidth\":2},\"yaxis\":{\"automargin\":true,\"gridcolor\":\"white\",\"linecolor\":\"white\",\"ticks\":\"\",\"title\":{\"standoff\":15},\"zerolinecolor\":\"white\",\"zerolinewidth\":2}}},\"xaxis\":{\"anchor\":\"y\",\"domain\":[0.0,1.0],\"title\":{\"text\":\"N_BEDROOM\"}},\"yaxis\":{\"anchor\":\"x\",\"domain\":[0.0,1.0],\"title\":{\"text\":\"Average_price\"}},\"coloraxis\":{\"colorbar\":{\"title\":{\"text\":\"N_BEDROOM\"}},\"colorscale\":[[0.0,\"#0d0887\"],[0.1111111111111111,\"#46039f\"],[0.2222222222222222,\"#7201a8\"],[0.3333333333333333,\"#9c179e\"],[0.4444444444444444,\"#bd3786\"],[0.5555555555555556,\"#d8576b\"],[0.6666666666666666,\"#ed7953\"],[0.7777777777777778,\"#fb9f3a\"],[0.8888888888888888,\"#fdca26\"],[1.0,\"#f0f921\"]]},\"legend\":{\"tracegroupgap\":0},\"title\":{\"text\":\"<b>bedroom vs Average_price<br>\"},\"barmode\":\"relative\"},                        {\"responsive\": true}                    ).then(function(){\n",
              "                            \n",
              "var gd = document.getElementById('c36e3a82-9a19-42b9-a4dc-73a43a7531f0');\n",
              "var x = new MutationObserver(function (mutations, observer) {{\n",
              "        var display = window.getComputedStyle(gd).display;\n",
              "        if (!display || display === 'none') {{\n",
              "            console.log([gd, 'removed!']);\n",
              "            Plotly.purge(gd);\n",
              "            observer.disconnect();\n",
              "        }}\n",
              "}});\n",
              "\n",
              "// Listen for the removal of the full notebook cells\n",
              "var notebookContainer = gd.closest('#notebook-container');\n",
              "if (notebookContainer) {{\n",
              "    x.observe(notebookContainer, {childList: true});\n",
              "}}\n",
              "\n",
              "// Listen for the clearing of the current output cell\n",
              "var outputEl = gd.closest('.output');\n",
              "if (outputEl) {{\n",
              "    x.observe(outputEl, {childList: true});\n",
              "}}\n",
              "\n",
              "                        })                };                            </script>        </div>\n",
              "</body>\n",
              "</html>"
            ]
          },
          "metadata": {}
        }
      ]
    },
    {
      "cell_type": "code",
      "source": [
        "#creating the data frame for bathroom and sales price\n",
        "x3=pd.DataFrame(df2.groupby(\"N_BATHROOM\")[\"Total_price\"].mean())\n",
        "y3=df2[\"N_BATHROOM\"].unique()\n",
        "y3=sorted(y3)\n",
        " \n",
        "\n",
        "data3={\"N_BATHROOM\":y3,\"Average_price\":x3[\"Total_price\"]}\n",
        "temp3 = pd.DataFrame(data3)\n",
        "temp3"
      ],
      "metadata": {
        "colab": {
          "base_uri": "https://localhost:8080/",
          "height": 143
        },
        "id": "cw1YwV6cYniJ",
        "outputId": "e0c82211-2edd-4129-be66-759d86353714"
      },
      "execution_count": 271,
      "outputs": [
        {
          "output_type": "execute_result",
          "data": {
            "text/plain": [
              "            N_BATHROOM  Average_price\n",
              "N_BATHROOM                           \n",
              "1                    1   1.115868e+07\n",
              "2                    2   1.232071e+07"
            ],
            "text/html": [
              "\n",
              "  <div id=\"df-a4d3a7d0-85fd-487a-a5bd-eb26030d085d\">\n",
              "    <div class=\"colab-df-container\">\n",
              "      <div>\n",
              "<style scoped>\n",
              "    .dataframe tbody tr th:only-of-type {\n",
              "        vertical-align: middle;\n",
              "    }\n",
              "\n",
              "    .dataframe tbody tr th {\n",
              "        vertical-align: top;\n",
              "    }\n",
              "\n",
              "    .dataframe thead th {\n",
              "        text-align: right;\n",
              "    }\n",
              "</style>\n",
              "<table border=\"1\" class=\"dataframe\">\n",
              "  <thead>\n",
              "    <tr style=\"text-align: right;\">\n",
              "      <th></th>\n",
              "      <th>N_BATHROOM</th>\n",
              "      <th>Average_price</th>\n",
              "    </tr>\n",
              "    <tr>\n",
              "      <th>N_BATHROOM</th>\n",
              "      <th></th>\n",
              "      <th></th>\n",
              "    </tr>\n",
              "  </thead>\n",
              "  <tbody>\n",
              "    <tr>\n",
              "      <th>1</th>\n",
              "      <td>1</td>\n",
              "      <td>1.115868e+07</td>\n",
              "    </tr>\n",
              "    <tr>\n",
              "      <th>2</th>\n",
              "      <td>2</td>\n",
              "      <td>1.232071e+07</td>\n",
              "    </tr>\n",
              "  </tbody>\n",
              "</table>\n",
              "</div>\n",
              "      <button class=\"colab-df-convert\" onclick=\"convertToInteractive('df-a4d3a7d0-85fd-487a-a5bd-eb26030d085d')\"\n",
              "              title=\"Convert this dataframe to an interactive table.\"\n",
              "              style=\"display:none;\">\n",
              "        \n",
              "  <svg xmlns=\"http://www.w3.org/2000/svg\" height=\"24px\"viewBox=\"0 0 24 24\"\n",
              "       width=\"24px\">\n",
              "    <path d=\"M0 0h24v24H0V0z\" fill=\"none\"/>\n",
              "    <path d=\"M18.56 5.44l.94 2.06.94-2.06 2.06-.94-2.06-.94-.94-2.06-.94 2.06-2.06.94zm-11 1L8.5 8.5l.94-2.06 2.06-.94-2.06-.94L8.5 2.5l-.94 2.06-2.06.94zm10 10l.94 2.06.94-2.06 2.06-.94-2.06-.94-.94-2.06-.94 2.06-2.06.94z\"/><path d=\"M17.41 7.96l-1.37-1.37c-.4-.4-.92-.59-1.43-.59-.52 0-1.04.2-1.43.59L10.3 9.45l-7.72 7.72c-.78.78-.78 2.05 0 2.83L4 21.41c.39.39.9.59 1.41.59.51 0 1.02-.2 1.41-.59l7.78-7.78 2.81-2.81c.8-.78.8-2.07 0-2.86zM5.41 20L4 18.59l7.72-7.72 1.47 1.35L5.41 20z\"/>\n",
              "  </svg>\n",
              "      </button>\n",
              "      \n",
              "  <style>\n",
              "    .colab-df-container {\n",
              "      display:flex;\n",
              "      flex-wrap:wrap;\n",
              "      gap: 12px;\n",
              "    }\n",
              "\n",
              "    .colab-df-convert {\n",
              "      background-color: #E8F0FE;\n",
              "      border: none;\n",
              "      border-radius: 50%;\n",
              "      cursor: pointer;\n",
              "      display: none;\n",
              "      fill: #1967D2;\n",
              "      height: 32px;\n",
              "      padding: 0 0 0 0;\n",
              "      width: 32px;\n",
              "    }\n",
              "\n",
              "    .colab-df-convert:hover {\n",
              "      background-color: #E2EBFA;\n",
              "      box-shadow: 0px 1px 2px rgba(60, 64, 67, 0.3), 0px 1px 3px 1px rgba(60, 64, 67, 0.15);\n",
              "      fill: #174EA6;\n",
              "    }\n",
              "\n",
              "    [theme=dark] .colab-df-convert {\n",
              "      background-color: #3B4455;\n",
              "      fill: #D2E3FC;\n",
              "    }\n",
              "\n",
              "    [theme=dark] .colab-df-convert:hover {\n",
              "      background-color: #434B5C;\n",
              "      box-shadow: 0px 1px 3px 1px rgba(0, 0, 0, 0.15);\n",
              "      filter: drop-shadow(0px 1px 2px rgba(0, 0, 0, 0.3));\n",
              "      fill: #FFFFFF;\n",
              "    }\n",
              "  </style>\n",
              "\n",
              "      <script>\n",
              "        const buttonEl =\n",
              "          document.querySelector('#df-a4d3a7d0-85fd-487a-a5bd-eb26030d085d button.colab-df-convert');\n",
              "        buttonEl.style.display =\n",
              "          google.colab.kernel.accessAllowed ? 'block' : 'none';\n",
              "\n",
              "        async function convertToInteractive(key) {\n",
              "          const element = document.querySelector('#df-a4d3a7d0-85fd-487a-a5bd-eb26030d085d');\n",
              "          const dataTable =\n",
              "            await google.colab.kernel.invokeFunction('convertToInteractive',\n",
              "                                                     [key], {});\n",
              "          if (!dataTable) return;\n",
              "\n",
              "          const docLinkHtml = 'Like what you see? Visit the ' +\n",
              "            '<a target=\"_blank\" href=https://colab.research.google.com/notebooks/data_table.ipynb>data table notebook</a>'\n",
              "            + ' to learn more about interactive tables.';\n",
              "          element.innerHTML = '';\n",
              "          dataTable['output_type'] = 'display_data';\n",
              "          await google.colab.output.renderOutput(dataTable, element);\n",
              "          const docLink = document.createElement('div');\n",
              "          docLink.innerHTML = docLinkHtml;\n",
              "          element.appendChild(docLink);\n",
              "        }\n",
              "      </script>\n",
              "    </div>\n",
              "  </div>\n",
              "  "
            ]
          },
          "metadata": {},
          "execution_count": 271
        }
      ]
    },
    {
      "cell_type": "code",
      "source": [
        "fig5=px.bar(temp3,x=\"N_BATHROOM\",y=\"Average_price\",color=\"N_BATHROOM\",title=\"<b>bathroom vs Average_price<br>\")\n",
        "fig5"
      ],
      "metadata": {
        "colab": {
          "base_uri": "https://localhost:8080/",
          "height": 542
        },
        "id": "8QdAn4k9ZElP",
        "outputId": "960f1e80-bea6-45db-b458-ef6bdbd3aea1"
      },
      "execution_count": 272,
      "outputs": [
        {
          "output_type": "display_data",
          "data": {
            "text/html": [
              "<html>\n",
              "<head><meta charset=\"utf-8\" /></head>\n",
              "<body>\n",
              "    <div>            <script src=\"https://cdnjs.cloudflare.com/ajax/libs/mathjax/2.7.5/MathJax.js?config=TeX-AMS-MML_SVG\"></script><script type=\"text/javascript\">if (window.MathJax) {MathJax.Hub.Config({SVG: {font: \"STIX-Web\"}});}</script>                <script type=\"text/javascript\">window.PlotlyConfig = {MathJaxConfig: 'local'};</script>\n",
              "        <script src=\"https://cdn.plot.ly/plotly-2.8.3.min.js\"></script>                <div id=\"a4909692-fd26-4d7e-8de4-efe4459b10c7\" class=\"plotly-graph-div\" style=\"height:525px; width:100%;\"></div>            <script type=\"text/javascript\">                                    window.PLOTLYENV=window.PLOTLYENV || {};                                    if (document.getElementById(\"a4909692-fd26-4d7e-8de4-efe4459b10c7\")) {                    Plotly.newPlot(                        \"a4909692-fd26-4d7e-8de4-efe4459b10c7\",                        [{\"alignmentgroup\":\"True\",\"hovertemplate\":\"N_BATHROOM=%{marker.color}<br>Average_price=%{y}<extra></extra>\",\"legendgroup\":\"\",\"marker\":{\"color\":[1,2],\"coloraxis\":\"coloraxis\",\"pattern\":{\"shape\":\"\"}},\"name\":\"\",\"offsetgroup\":\"\",\"orientation\":\"v\",\"showlegend\":false,\"textposition\":\"auto\",\"x\":[1,2],\"xaxis\":\"x\",\"y\":[11158678.165916862,12320706.649601065],\"yaxis\":\"y\",\"type\":\"bar\"}],                        {\"template\":{\"data\":{\"bar\":[{\"error_x\":{\"color\":\"#2a3f5f\"},\"error_y\":{\"color\":\"#2a3f5f\"},\"marker\":{\"line\":{\"color\":\"#E5ECF6\",\"width\":0.5},\"pattern\":{\"fillmode\":\"overlay\",\"size\":10,\"solidity\":0.2}},\"type\":\"bar\"}],\"barpolar\":[{\"marker\":{\"line\":{\"color\":\"#E5ECF6\",\"width\":0.5},\"pattern\":{\"fillmode\":\"overlay\",\"size\":10,\"solidity\":0.2}},\"type\":\"barpolar\"}],\"carpet\":[{\"aaxis\":{\"endlinecolor\":\"#2a3f5f\",\"gridcolor\":\"white\",\"linecolor\":\"white\",\"minorgridcolor\":\"white\",\"startlinecolor\":\"#2a3f5f\"},\"baxis\":{\"endlinecolor\":\"#2a3f5f\",\"gridcolor\":\"white\",\"linecolor\":\"white\",\"minorgridcolor\":\"white\",\"startlinecolor\":\"#2a3f5f\"},\"type\":\"carpet\"}],\"choropleth\":[{\"colorbar\":{\"outlinewidth\":0,\"ticks\":\"\"},\"type\":\"choropleth\"}],\"contour\":[{\"colorbar\":{\"outlinewidth\":0,\"ticks\":\"\"},\"colorscale\":[[0.0,\"#0d0887\"],[0.1111111111111111,\"#46039f\"],[0.2222222222222222,\"#7201a8\"],[0.3333333333333333,\"#9c179e\"],[0.4444444444444444,\"#bd3786\"],[0.5555555555555556,\"#d8576b\"],[0.6666666666666666,\"#ed7953\"],[0.7777777777777778,\"#fb9f3a\"],[0.8888888888888888,\"#fdca26\"],[1.0,\"#f0f921\"]],\"type\":\"contour\"}],\"contourcarpet\":[{\"colorbar\":{\"outlinewidth\":0,\"ticks\":\"\"},\"type\":\"contourcarpet\"}],\"heatmap\":[{\"colorbar\":{\"outlinewidth\":0,\"ticks\":\"\"},\"colorscale\":[[0.0,\"#0d0887\"],[0.1111111111111111,\"#46039f\"],[0.2222222222222222,\"#7201a8\"],[0.3333333333333333,\"#9c179e\"],[0.4444444444444444,\"#bd3786\"],[0.5555555555555556,\"#d8576b\"],[0.6666666666666666,\"#ed7953\"],[0.7777777777777778,\"#fb9f3a\"],[0.8888888888888888,\"#fdca26\"],[1.0,\"#f0f921\"]],\"type\":\"heatmap\"}],\"heatmapgl\":[{\"colorbar\":{\"outlinewidth\":0,\"ticks\":\"\"},\"colorscale\":[[0.0,\"#0d0887\"],[0.1111111111111111,\"#46039f\"],[0.2222222222222222,\"#7201a8\"],[0.3333333333333333,\"#9c179e\"],[0.4444444444444444,\"#bd3786\"],[0.5555555555555556,\"#d8576b\"],[0.6666666666666666,\"#ed7953\"],[0.7777777777777778,\"#fb9f3a\"],[0.8888888888888888,\"#fdca26\"],[1.0,\"#f0f921\"]],\"type\":\"heatmapgl\"}],\"histogram\":[{\"marker\":{\"pattern\":{\"fillmode\":\"overlay\",\"size\":10,\"solidity\":0.2}},\"type\":\"histogram\"}],\"histogram2d\":[{\"colorbar\":{\"outlinewidth\":0,\"ticks\":\"\"},\"colorscale\":[[0.0,\"#0d0887\"],[0.1111111111111111,\"#46039f\"],[0.2222222222222222,\"#7201a8\"],[0.3333333333333333,\"#9c179e\"],[0.4444444444444444,\"#bd3786\"],[0.5555555555555556,\"#d8576b\"],[0.6666666666666666,\"#ed7953\"],[0.7777777777777778,\"#fb9f3a\"],[0.8888888888888888,\"#fdca26\"],[1.0,\"#f0f921\"]],\"type\":\"histogram2d\"}],\"histogram2dcontour\":[{\"colorbar\":{\"outlinewidth\":0,\"ticks\":\"\"},\"colorscale\":[[0.0,\"#0d0887\"],[0.1111111111111111,\"#46039f\"],[0.2222222222222222,\"#7201a8\"],[0.3333333333333333,\"#9c179e\"],[0.4444444444444444,\"#bd3786\"],[0.5555555555555556,\"#d8576b\"],[0.6666666666666666,\"#ed7953\"],[0.7777777777777778,\"#fb9f3a\"],[0.8888888888888888,\"#fdca26\"],[1.0,\"#f0f921\"]],\"type\":\"histogram2dcontour\"}],\"mesh3d\":[{\"colorbar\":{\"outlinewidth\":0,\"ticks\":\"\"},\"type\":\"mesh3d\"}],\"parcoords\":[{\"line\":{\"colorbar\":{\"outlinewidth\":0,\"ticks\":\"\"}},\"type\":\"parcoords\"}],\"pie\":[{\"automargin\":true,\"type\":\"pie\"}],\"scatter\":[{\"marker\":{\"colorbar\":{\"outlinewidth\":0,\"ticks\":\"\"}},\"type\":\"scatter\"}],\"scatter3d\":[{\"line\":{\"colorbar\":{\"outlinewidth\":0,\"ticks\":\"\"}},\"marker\":{\"colorbar\":{\"outlinewidth\":0,\"ticks\":\"\"}},\"type\":\"scatter3d\"}],\"scattercarpet\":[{\"marker\":{\"colorbar\":{\"outlinewidth\":0,\"ticks\":\"\"}},\"type\":\"scattercarpet\"}],\"scattergeo\":[{\"marker\":{\"colorbar\":{\"outlinewidth\":0,\"ticks\":\"\"}},\"type\":\"scattergeo\"}],\"scattergl\":[{\"marker\":{\"colorbar\":{\"outlinewidth\":0,\"ticks\":\"\"}},\"type\":\"scattergl\"}],\"scattermapbox\":[{\"marker\":{\"colorbar\":{\"outlinewidth\":0,\"ticks\":\"\"}},\"type\":\"scattermapbox\"}],\"scatterpolar\":[{\"marker\":{\"colorbar\":{\"outlinewidth\":0,\"ticks\":\"\"}},\"type\":\"scatterpolar\"}],\"scatterpolargl\":[{\"marker\":{\"colorbar\":{\"outlinewidth\":0,\"ticks\":\"\"}},\"type\":\"scatterpolargl\"}],\"scatterternary\":[{\"marker\":{\"colorbar\":{\"outlinewidth\":0,\"ticks\":\"\"}},\"type\":\"scatterternary\"}],\"surface\":[{\"colorbar\":{\"outlinewidth\":0,\"ticks\":\"\"},\"colorscale\":[[0.0,\"#0d0887\"],[0.1111111111111111,\"#46039f\"],[0.2222222222222222,\"#7201a8\"],[0.3333333333333333,\"#9c179e\"],[0.4444444444444444,\"#bd3786\"],[0.5555555555555556,\"#d8576b\"],[0.6666666666666666,\"#ed7953\"],[0.7777777777777778,\"#fb9f3a\"],[0.8888888888888888,\"#fdca26\"],[1.0,\"#f0f921\"]],\"type\":\"surface\"}],\"table\":[{\"cells\":{\"fill\":{\"color\":\"#EBF0F8\"},\"line\":{\"color\":\"white\"}},\"header\":{\"fill\":{\"color\":\"#C8D4E3\"},\"line\":{\"color\":\"white\"}},\"type\":\"table\"}]},\"layout\":{\"annotationdefaults\":{\"arrowcolor\":\"#2a3f5f\",\"arrowhead\":0,\"arrowwidth\":1},\"autotypenumbers\":\"strict\",\"coloraxis\":{\"colorbar\":{\"outlinewidth\":0,\"ticks\":\"\"}},\"colorscale\":{\"diverging\":[[0,\"#8e0152\"],[0.1,\"#c51b7d\"],[0.2,\"#de77ae\"],[0.3,\"#f1b6da\"],[0.4,\"#fde0ef\"],[0.5,\"#f7f7f7\"],[0.6,\"#e6f5d0\"],[0.7,\"#b8e186\"],[0.8,\"#7fbc41\"],[0.9,\"#4d9221\"],[1,\"#276419\"]],\"sequential\":[[0.0,\"#0d0887\"],[0.1111111111111111,\"#46039f\"],[0.2222222222222222,\"#7201a8\"],[0.3333333333333333,\"#9c179e\"],[0.4444444444444444,\"#bd3786\"],[0.5555555555555556,\"#d8576b\"],[0.6666666666666666,\"#ed7953\"],[0.7777777777777778,\"#fb9f3a\"],[0.8888888888888888,\"#fdca26\"],[1.0,\"#f0f921\"]],\"sequentialminus\":[[0.0,\"#0d0887\"],[0.1111111111111111,\"#46039f\"],[0.2222222222222222,\"#7201a8\"],[0.3333333333333333,\"#9c179e\"],[0.4444444444444444,\"#bd3786\"],[0.5555555555555556,\"#d8576b\"],[0.6666666666666666,\"#ed7953\"],[0.7777777777777778,\"#fb9f3a\"],[0.8888888888888888,\"#fdca26\"],[1.0,\"#f0f921\"]]},\"colorway\":[\"#636efa\",\"#EF553B\",\"#00cc96\",\"#ab63fa\",\"#FFA15A\",\"#19d3f3\",\"#FF6692\",\"#B6E880\",\"#FF97FF\",\"#FECB52\"],\"font\":{\"color\":\"#2a3f5f\"},\"geo\":{\"bgcolor\":\"white\",\"lakecolor\":\"white\",\"landcolor\":\"#E5ECF6\",\"showlakes\":true,\"showland\":true,\"subunitcolor\":\"white\"},\"hoverlabel\":{\"align\":\"left\"},\"hovermode\":\"closest\",\"mapbox\":{\"style\":\"light\"},\"paper_bgcolor\":\"white\",\"plot_bgcolor\":\"#E5ECF6\",\"polar\":{\"angularaxis\":{\"gridcolor\":\"white\",\"linecolor\":\"white\",\"ticks\":\"\"},\"bgcolor\":\"#E5ECF6\",\"radialaxis\":{\"gridcolor\":\"white\",\"linecolor\":\"white\",\"ticks\":\"\"}},\"scene\":{\"xaxis\":{\"backgroundcolor\":\"#E5ECF6\",\"gridcolor\":\"white\",\"gridwidth\":2,\"linecolor\":\"white\",\"showbackground\":true,\"ticks\":\"\",\"zerolinecolor\":\"white\"},\"yaxis\":{\"backgroundcolor\":\"#E5ECF6\",\"gridcolor\":\"white\",\"gridwidth\":2,\"linecolor\":\"white\",\"showbackground\":true,\"ticks\":\"\",\"zerolinecolor\":\"white\"},\"zaxis\":{\"backgroundcolor\":\"#E5ECF6\",\"gridcolor\":\"white\",\"gridwidth\":2,\"linecolor\":\"white\",\"showbackground\":true,\"ticks\":\"\",\"zerolinecolor\":\"white\"}},\"shapedefaults\":{\"line\":{\"color\":\"#2a3f5f\"}},\"ternary\":{\"aaxis\":{\"gridcolor\":\"white\",\"linecolor\":\"white\",\"ticks\":\"\"},\"baxis\":{\"gridcolor\":\"white\",\"linecolor\":\"white\",\"ticks\":\"\"},\"bgcolor\":\"#E5ECF6\",\"caxis\":{\"gridcolor\":\"white\",\"linecolor\":\"white\",\"ticks\":\"\"}},\"title\":{\"x\":0.05},\"xaxis\":{\"automargin\":true,\"gridcolor\":\"white\",\"linecolor\":\"white\",\"ticks\":\"\",\"title\":{\"standoff\":15},\"zerolinecolor\":\"white\",\"zerolinewidth\":2},\"yaxis\":{\"automargin\":true,\"gridcolor\":\"white\",\"linecolor\":\"white\",\"ticks\":\"\",\"title\":{\"standoff\":15},\"zerolinecolor\":\"white\",\"zerolinewidth\":2}}},\"xaxis\":{\"anchor\":\"y\",\"domain\":[0.0,1.0],\"title\":{\"text\":\"N_BATHROOM\"}},\"yaxis\":{\"anchor\":\"x\",\"domain\":[0.0,1.0],\"title\":{\"text\":\"Average_price\"}},\"coloraxis\":{\"colorbar\":{\"title\":{\"text\":\"N_BATHROOM\"}},\"colorscale\":[[0.0,\"#0d0887\"],[0.1111111111111111,\"#46039f\"],[0.2222222222222222,\"#7201a8\"],[0.3333333333333333,\"#9c179e\"],[0.4444444444444444,\"#bd3786\"],[0.5555555555555556,\"#d8576b\"],[0.6666666666666666,\"#ed7953\"],[0.7777777777777778,\"#fb9f3a\"],[0.8888888888888888,\"#fdca26\"],[1.0,\"#f0f921\"]]},\"legend\":{\"tracegroupgap\":0},\"title\":{\"text\":\"<b>bathroom vs Average_price<br>\"},\"barmode\":\"relative\"},                        {\"responsive\": true}                    ).then(function(){\n",
              "                            \n",
              "var gd = document.getElementById('a4909692-fd26-4d7e-8de4-efe4459b10c7');\n",
              "var x = new MutationObserver(function (mutations, observer) {{\n",
              "        var display = window.getComputedStyle(gd).display;\n",
              "        if (!display || display === 'none') {{\n",
              "            console.log([gd, 'removed!']);\n",
              "            Plotly.purge(gd);\n",
              "            observer.disconnect();\n",
              "        }}\n",
              "}});\n",
              "\n",
              "// Listen for the removal of the full notebook cells\n",
              "var notebookContainer = gd.closest('#notebook-container');\n",
              "if (notebookContainer) {{\n",
              "    x.observe(notebookContainer, {childList: true});\n",
              "}}\n",
              "\n",
              "// Listen for the clearing of the current output cell\n",
              "var outputEl = gd.closest('.output');\n",
              "if (outputEl) {{\n",
              "    x.observe(outputEl, {childList: true});\n",
              "}}\n",
              "\n",
              "                        })                };                            </script>        </div>\n",
              "</body>\n",
              "</html>"
            ]
          },
          "metadata": {}
        }
      ]
    },
    {
      "cell_type": "code",
      "source": [
        "x4=pd.DataFrame(df2.groupby(\"N_ROOM\")[\"Total_price\"].mean())\n",
        "y4=df2[\"N_ROOM\"].unique()\n",
        "y4=sorted(y4)\n",
        " \n",
        "\n",
        "data4={\"N_ROOM\":y4,\"Average_price\":x4[\"Total_price\"]}\n",
        "temp4 = pd.DataFrame(data4)\n",
        "temp4"
      ],
      "metadata": {
        "colab": {
          "base_uri": "https://localhost:8080/",
          "height": 238
        },
        "id": "Otu_z3-rhHMf",
        "outputId": "05a47339-77aa-4e84-9810-af51b701acf0"
      },
      "execution_count": 273,
      "outputs": [
        {
          "output_type": "execute_result",
          "data": {
            "text/plain": [
              "        N_ROOM  Average_price\n",
              "N_ROOM                       \n",
              "2            2   7.311850e+06\n",
              "3            3   9.698487e+06\n",
              "4            4   1.225616e+07\n",
              "5            5   1.483646e+07\n",
              "6            6   1.527997e+07"
            ],
            "text/html": [
              "\n",
              "  <div id=\"df-717d2d5b-3ed0-4745-b5c2-96f8b2324e45\">\n",
              "    <div class=\"colab-df-container\">\n",
              "      <div>\n",
              "<style scoped>\n",
              "    .dataframe tbody tr th:only-of-type {\n",
              "        vertical-align: middle;\n",
              "    }\n",
              "\n",
              "    .dataframe tbody tr th {\n",
              "        vertical-align: top;\n",
              "    }\n",
              "\n",
              "    .dataframe thead th {\n",
              "        text-align: right;\n",
              "    }\n",
              "</style>\n",
              "<table border=\"1\" class=\"dataframe\">\n",
              "  <thead>\n",
              "    <tr style=\"text-align: right;\">\n",
              "      <th></th>\n",
              "      <th>N_ROOM</th>\n",
              "      <th>Average_price</th>\n",
              "    </tr>\n",
              "    <tr>\n",
              "      <th>N_ROOM</th>\n",
              "      <th></th>\n",
              "      <th></th>\n",
              "    </tr>\n",
              "  </thead>\n",
              "  <tbody>\n",
              "    <tr>\n",
              "      <th>2</th>\n",
              "      <td>2</td>\n",
              "      <td>7.311850e+06</td>\n",
              "    </tr>\n",
              "    <tr>\n",
              "      <th>3</th>\n",
              "      <td>3</td>\n",
              "      <td>9.698487e+06</td>\n",
              "    </tr>\n",
              "    <tr>\n",
              "      <th>4</th>\n",
              "      <td>4</td>\n",
              "      <td>1.225616e+07</td>\n",
              "    </tr>\n",
              "    <tr>\n",
              "      <th>5</th>\n",
              "      <td>5</td>\n",
              "      <td>1.483646e+07</td>\n",
              "    </tr>\n",
              "    <tr>\n",
              "      <th>6</th>\n",
              "      <td>6</td>\n",
              "      <td>1.527997e+07</td>\n",
              "    </tr>\n",
              "  </tbody>\n",
              "</table>\n",
              "</div>\n",
              "      <button class=\"colab-df-convert\" onclick=\"convertToInteractive('df-717d2d5b-3ed0-4745-b5c2-96f8b2324e45')\"\n",
              "              title=\"Convert this dataframe to an interactive table.\"\n",
              "              style=\"display:none;\">\n",
              "        \n",
              "  <svg xmlns=\"http://www.w3.org/2000/svg\" height=\"24px\"viewBox=\"0 0 24 24\"\n",
              "       width=\"24px\">\n",
              "    <path d=\"M0 0h24v24H0V0z\" fill=\"none\"/>\n",
              "    <path d=\"M18.56 5.44l.94 2.06.94-2.06 2.06-.94-2.06-.94-.94-2.06-.94 2.06-2.06.94zm-11 1L8.5 8.5l.94-2.06 2.06-.94-2.06-.94L8.5 2.5l-.94 2.06-2.06.94zm10 10l.94 2.06.94-2.06 2.06-.94-2.06-.94-.94-2.06-.94 2.06-2.06.94z\"/><path d=\"M17.41 7.96l-1.37-1.37c-.4-.4-.92-.59-1.43-.59-.52 0-1.04.2-1.43.59L10.3 9.45l-7.72 7.72c-.78.78-.78 2.05 0 2.83L4 21.41c.39.39.9.59 1.41.59.51 0 1.02-.2 1.41-.59l7.78-7.78 2.81-2.81c.8-.78.8-2.07 0-2.86zM5.41 20L4 18.59l7.72-7.72 1.47 1.35L5.41 20z\"/>\n",
              "  </svg>\n",
              "      </button>\n",
              "      \n",
              "  <style>\n",
              "    .colab-df-container {\n",
              "      display:flex;\n",
              "      flex-wrap:wrap;\n",
              "      gap: 12px;\n",
              "    }\n",
              "\n",
              "    .colab-df-convert {\n",
              "      background-color: #E8F0FE;\n",
              "      border: none;\n",
              "      border-radius: 50%;\n",
              "      cursor: pointer;\n",
              "      display: none;\n",
              "      fill: #1967D2;\n",
              "      height: 32px;\n",
              "      padding: 0 0 0 0;\n",
              "      width: 32px;\n",
              "    }\n",
              "\n",
              "    .colab-df-convert:hover {\n",
              "      background-color: #E2EBFA;\n",
              "      box-shadow: 0px 1px 2px rgba(60, 64, 67, 0.3), 0px 1px 3px 1px rgba(60, 64, 67, 0.15);\n",
              "      fill: #174EA6;\n",
              "    }\n",
              "\n",
              "    [theme=dark] .colab-df-convert {\n",
              "      background-color: #3B4455;\n",
              "      fill: #D2E3FC;\n",
              "    }\n",
              "\n",
              "    [theme=dark] .colab-df-convert:hover {\n",
              "      background-color: #434B5C;\n",
              "      box-shadow: 0px 1px 3px 1px rgba(0, 0, 0, 0.15);\n",
              "      filter: drop-shadow(0px 1px 2px rgba(0, 0, 0, 0.3));\n",
              "      fill: #FFFFFF;\n",
              "    }\n",
              "  </style>\n",
              "\n",
              "      <script>\n",
              "        const buttonEl =\n",
              "          document.querySelector('#df-717d2d5b-3ed0-4745-b5c2-96f8b2324e45 button.colab-df-convert');\n",
              "        buttonEl.style.display =\n",
              "          google.colab.kernel.accessAllowed ? 'block' : 'none';\n",
              "\n",
              "        async function convertToInteractive(key) {\n",
              "          const element = document.querySelector('#df-717d2d5b-3ed0-4745-b5c2-96f8b2324e45');\n",
              "          const dataTable =\n",
              "            await google.colab.kernel.invokeFunction('convertToInteractive',\n",
              "                                                     [key], {});\n",
              "          if (!dataTable) return;\n",
              "\n",
              "          const docLinkHtml = 'Like what you see? Visit the ' +\n",
              "            '<a target=\"_blank\" href=https://colab.research.google.com/notebooks/data_table.ipynb>data table notebook</a>'\n",
              "            + ' to learn more about interactive tables.';\n",
              "          element.innerHTML = '';\n",
              "          dataTable['output_type'] = 'display_data';\n",
              "          await google.colab.output.renderOutput(dataTable, element);\n",
              "          const docLink = document.createElement('div');\n",
              "          docLink.innerHTML = docLinkHtml;\n",
              "          element.appendChild(docLink);\n",
              "        }\n",
              "      </script>\n",
              "    </div>\n",
              "  </div>\n",
              "  "
            ]
          },
          "metadata": {},
          "execution_count": 273
        }
      ]
    },
    {
      "cell_type": "code",
      "source": [
        "fig6=px.bar(temp4,x=\"N_ROOM\",y=\"Average_price\",color=\"N_ROOM\",title=\"<b>room vs Average_price<br>\")\n",
        "fig6"
      ],
      "metadata": {
        "colab": {
          "base_uri": "https://localhost:8080/",
          "height": 542
        },
        "id": "Ows8L6RGiu_I",
        "outputId": "fe00f6a2-3a47-4837-b93e-6cf3cf6831f2"
      },
      "execution_count": 274,
      "outputs": [
        {
          "output_type": "display_data",
          "data": {
            "text/html": [
              "<html>\n",
              "<head><meta charset=\"utf-8\" /></head>\n",
              "<body>\n",
              "    <div>            <script src=\"https://cdnjs.cloudflare.com/ajax/libs/mathjax/2.7.5/MathJax.js?config=TeX-AMS-MML_SVG\"></script><script type=\"text/javascript\">if (window.MathJax) {MathJax.Hub.Config({SVG: {font: \"STIX-Web\"}});}</script>                <script type=\"text/javascript\">window.PlotlyConfig = {MathJaxConfig: 'local'};</script>\n",
              "        <script src=\"https://cdn.plot.ly/plotly-2.8.3.min.js\"></script>                <div id=\"fc92ef0b-9ce9-4660-b27c-8ed9f93bb44c\" class=\"plotly-graph-div\" style=\"height:525px; width:100%;\"></div>            <script type=\"text/javascript\">                                    window.PLOTLYENV=window.PLOTLYENV || {};                                    if (document.getElementById(\"fc92ef0b-9ce9-4660-b27c-8ed9f93bb44c\")) {                    Plotly.newPlot(                        \"fc92ef0b-9ce9-4660-b27c-8ed9f93bb44c\",                        [{\"alignmentgroup\":\"True\",\"hovertemplate\":\"N_ROOM=%{marker.color}<br>Average_price=%{y}<extra></extra>\",\"legendgroup\":\"\",\"marker\":{\"color\":[2,3,4,5,6],\"coloraxis\":\"coloraxis\",\"pattern\":{\"shape\":\"\"}},\"name\":\"\",\"offsetgroup\":\"\",\"orientation\":\"v\",\"showlegend\":false,\"textposition\":\"auto\",\"x\":[2,3,4,5,6],\"xaxis\":\"x\",\"y\":[7311850.213275299,9698486.536423841,12256160.83510429,14836458.315235008,15279969.335968379],\"yaxis\":\"y\",\"type\":\"bar\"}],                        {\"template\":{\"data\":{\"bar\":[{\"error_x\":{\"color\":\"#2a3f5f\"},\"error_y\":{\"color\":\"#2a3f5f\"},\"marker\":{\"line\":{\"color\":\"#E5ECF6\",\"width\":0.5},\"pattern\":{\"fillmode\":\"overlay\",\"size\":10,\"solidity\":0.2}},\"type\":\"bar\"}],\"barpolar\":[{\"marker\":{\"line\":{\"color\":\"#E5ECF6\",\"width\":0.5},\"pattern\":{\"fillmode\":\"overlay\",\"size\":10,\"solidity\":0.2}},\"type\":\"barpolar\"}],\"carpet\":[{\"aaxis\":{\"endlinecolor\":\"#2a3f5f\",\"gridcolor\":\"white\",\"linecolor\":\"white\",\"minorgridcolor\":\"white\",\"startlinecolor\":\"#2a3f5f\"},\"baxis\":{\"endlinecolor\":\"#2a3f5f\",\"gridcolor\":\"white\",\"linecolor\":\"white\",\"minorgridcolor\":\"white\",\"startlinecolor\":\"#2a3f5f\"},\"type\":\"carpet\"}],\"choropleth\":[{\"colorbar\":{\"outlinewidth\":0,\"ticks\":\"\"},\"type\":\"choropleth\"}],\"contour\":[{\"colorbar\":{\"outlinewidth\":0,\"ticks\":\"\"},\"colorscale\":[[0.0,\"#0d0887\"],[0.1111111111111111,\"#46039f\"],[0.2222222222222222,\"#7201a8\"],[0.3333333333333333,\"#9c179e\"],[0.4444444444444444,\"#bd3786\"],[0.5555555555555556,\"#d8576b\"],[0.6666666666666666,\"#ed7953\"],[0.7777777777777778,\"#fb9f3a\"],[0.8888888888888888,\"#fdca26\"],[1.0,\"#f0f921\"]],\"type\":\"contour\"}],\"contourcarpet\":[{\"colorbar\":{\"outlinewidth\":0,\"ticks\":\"\"},\"type\":\"contourcarpet\"}],\"heatmap\":[{\"colorbar\":{\"outlinewidth\":0,\"ticks\":\"\"},\"colorscale\":[[0.0,\"#0d0887\"],[0.1111111111111111,\"#46039f\"],[0.2222222222222222,\"#7201a8\"],[0.3333333333333333,\"#9c179e\"],[0.4444444444444444,\"#bd3786\"],[0.5555555555555556,\"#d8576b\"],[0.6666666666666666,\"#ed7953\"],[0.7777777777777778,\"#fb9f3a\"],[0.8888888888888888,\"#fdca26\"],[1.0,\"#f0f921\"]],\"type\":\"heatmap\"}],\"heatmapgl\":[{\"colorbar\":{\"outlinewidth\":0,\"ticks\":\"\"},\"colorscale\":[[0.0,\"#0d0887\"],[0.1111111111111111,\"#46039f\"],[0.2222222222222222,\"#7201a8\"],[0.3333333333333333,\"#9c179e\"],[0.4444444444444444,\"#bd3786\"],[0.5555555555555556,\"#d8576b\"],[0.6666666666666666,\"#ed7953\"],[0.7777777777777778,\"#fb9f3a\"],[0.8888888888888888,\"#fdca26\"],[1.0,\"#f0f921\"]],\"type\":\"heatmapgl\"}],\"histogram\":[{\"marker\":{\"pattern\":{\"fillmode\":\"overlay\",\"size\":10,\"solidity\":0.2}},\"type\":\"histogram\"}],\"histogram2d\":[{\"colorbar\":{\"outlinewidth\":0,\"ticks\":\"\"},\"colorscale\":[[0.0,\"#0d0887\"],[0.1111111111111111,\"#46039f\"],[0.2222222222222222,\"#7201a8\"],[0.3333333333333333,\"#9c179e\"],[0.4444444444444444,\"#bd3786\"],[0.5555555555555556,\"#d8576b\"],[0.6666666666666666,\"#ed7953\"],[0.7777777777777778,\"#fb9f3a\"],[0.8888888888888888,\"#fdca26\"],[1.0,\"#f0f921\"]],\"type\":\"histogram2d\"}],\"histogram2dcontour\":[{\"colorbar\":{\"outlinewidth\":0,\"ticks\":\"\"},\"colorscale\":[[0.0,\"#0d0887\"],[0.1111111111111111,\"#46039f\"],[0.2222222222222222,\"#7201a8\"],[0.3333333333333333,\"#9c179e\"],[0.4444444444444444,\"#bd3786\"],[0.5555555555555556,\"#d8576b\"],[0.6666666666666666,\"#ed7953\"],[0.7777777777777778,\"#fb9f3a\"],[0.8888888888888888,\"#fdca26\"],[1.0,\"#f0f921\"]],\"type\":\"histogram2dcontour\"}],\"mesh3d\":[{\"colorbar\":{\"outlinewidth\":0,\"ticks\":\"\"},\"type\":\"mesh3d\"}],\"parcoords\":[{\"line\":{\"colorbar\":{\"outlinewidth\":0,\"ticks\":\"\"}},\"type\":\"parcoords\"}],\"pie\":[{\"automargin\":true,\"type\":\"pie\"}],\"scatter\":[{\"marker\":{\"colorbar\":{\"outlinewidth\":0,\"ticks\":\"\"}},\"type\":\"scatter\"}],\"scatter3d\":[{\"line\":{\"colorbar\":{\"outlinewidth\":0,\"ticks\":\"\"}},\"marker\":{\"colorbar\":{\"outlinewidth\":0,\"ticks\":\"\"}},\"type\":\"scatter3d\"}],\"scattercarpet\":[{\"marker\":{\"colorbar\":{\"outlinewidth\":0,\"ticks\":\"\"}},\"type\":\"scattercarpet\"}],\"scattergeo\":[{\"marker\":{\"colorbar\":{\"outlinewidth\":0,\"ticks\":\"\"}},\"type\":\"scattergeo\"}],\"scattergl\":[{\"marker\":{\"colorbar\":{\"outlinewidth\":0,\"ticks\":\"\"}},\"type\":\"scattergl\"}],\"scattermapbox\":[{\"marker\":{\"colorbar\":{\"outlinewidth\":0,\"ticks\":\"\"}},\"type\":\"scattermapbox\"}],\"scatterpolar\":[{\"marker\":{\"colorbar\":{\"outlinewidth\":0,\"ticks\":\"\"}},\"type\":\"scatterpolar\"}],\"scatterpolargl\":[{\"marker\":{\"colorbar\":{\"outlinewidth\":0,\"ticks\":\"\"}},\"type\":\"scatterpolargl\"}],\"scatterternary\":[{\"marker\":{\"colorbar\":{\"outlinewidth\":0,\"ticks\":\"\"}},\"type\":\"scatterternary\"}],\"surface\":[{\"colorbar\":{\"outlinewidth\":0,\"ticks\":\"\"},\"colorscale\":[[0.0,\"#0d0887\"],[0.1111111111111111,\"#46039f\"],[0.2222222222222222,\"#7201a8\"],[0.3333333333333333,\"#9c179e\"],[0.4444444444444444,\"#bd3786\"],[0.5555555555555556,\"#d8576b\"],[0.6666666666666666,\"#ed7953\"],[0.7777777777777778,\"#fb9f3a\"],[0.8888888888888888,\"#fdca26\"],[1.0,\"#f0f921\"]],\"type\":\"surface\"}],\"table\":[{\"cells\":{\"fill\":{\"color\":\"#EBF0F8\"},\"line\":{\"color\":\"white\"}},\"header\":{\"fill\":{\"color\":\"#C8D4E3\"},\"line\":{\"color\":\"white\"}},\"type\":\"table\"}]},\"layout\":{\"annotationdefaults\":{\"arrowcolor\":\"#2a3f5f\",\"arrowhead\":0,\"arrowwidth\":1},\"autotypenumbers\":\"strict\",\"coloraxis\":{\"colorbar\":{\"outlinewidth\":0,\"ticks\":\"\"}},\"colorscale\":{\"diverging\":[[0,\"#8e0152\"],[0.1,\"#c51b7d\"],[0.2,\"#de77ae\"],[0.3,\"#f1b6da\"],[0.4,\"#fde0ef\"],[0.5,\"#f7f7f7\"],[0.6,\"#e6f5d0\"],[0.7,\"#b8e186\"],[0.8,\"#7fbc41\"],[0.9,\"#4d9221\"],[1,\"#276419\"]],\"sequential\":[[0.0,\"#0d0887\"],[0.1111111111111111,\"#46039f\"],[0.2222222222222222,\"#7201a8\"],[0.3333333333333333,\"#9c179e\"],[0.4444444444444444,\"#bd3786\"],[0.5555555555555556,\"#d8576b\"],[0.6666666666666666,\"#ed7953\"],[0.7777777777777778,\"#fb9f3a\"],[0.8888888888888888,\"#fdca26\"],[1.0,\"#f0f921\"]],\"sequentialminus\":[[0.0,\"#0d0887\"],[0.1111111111111111,\"#46039f\"],[0.2222222222222222,\"#7201a8\"],[0.3333333333333333,\"#9c179e\"],[0.4444444444444444,\"#bd3786\"],[0.5555555555555556,\"#d8576b\"],[0.6666666666666666,\"#ed7953\"],[0.7777777777777778,\"#fb9f3a\"],[0.8888888888888888,\"#fdca26\"],[1.0,\"#f0f921\"]]},\"colorway\":[\"#636efa\",\"#EF553B\",\"#00cc96\",\"#ab63fa\",\"#FFA15A\",\"#19d3f3\",\"#FF6692\",\"#B6E880\",\"#FF97FF\",\"#FECB52\"],\"font\":{\"color\":\"#2a3f5f\"},\"geo\":{\"bgcolor\":\"white\",\"lakecolor\":\"white\",\"landcolor\":\"#E5ECF6\",\"showlakes\":true,\"showland\":true,\"subunitcolor\":\"white\"},\"hoverlabel\":{\"align\":\"left\"},\"hovermode\":\"closest\",\"mapbox\":{\"style\":\"light\"},\"paper_bgcolor\":\"white\",\"plot_bgcolor\":\"#E5ECF6\",\"polar\":{\"angularaxis\":{\"gridcolor\":\"white\",\"linecolor\":\"white\",\"ticks\":\"\"},\"bgcolor\":\"#E5ECF6\",\"radialaxis\":{\"gridcolor\":\"white\",\"linecolor\":\"white\",\"ticks\":\"\"}},\"scene\":{\"xaxis\":{\"backgroundcolor\":\"#E5ECF6\",\"gridcolor\":\"white\",\"gridwidth\":2,\"linecolor\":\"white\",\"showbackground\":true,\"ticks\":\"\",\"zerolinecolor\":\"white\"},\"yaxis\":{\"backgroundcolor\":\"#E5ECF6\",\"gridcolor\":\"white\",\"gridwidth\":2,\"linecolor\":\"white\",\"showbackground\":true,\"ticks\":\"\",\"zerolinecolor\":\"white\"},\"zaxis\":{\"backgroundcolor\":\"#E5ECF6\",\"gridcolor\":\"white\",\"gridwidth\":2,\"linecolor\":\"white\",\"showbackground\":true,\"ticks\":\"\",\"zerolinecolor\":\"white\"}},\"shapedefaults\":{\"line\":{\"color\":\"#2a3f5f\"}},\"ternary\":{\"aaxis\":{\"gridcolor\":\"white\",\"linecolor\":\"white\",\"ticks\":\"\"},\"baxis\":{\"gridcolor\":\"white\",\"linecolor\":\"white\",\"ticks\":\"\"},\"bgcolor\":\"#E5ECF6\",\"caxis\":{\"gridcolor\":\"white\",\"linecolor\":\"white\",\"ticks\":\"\"}},\"title\":{\"x\":0.05},\"xaxis\":{\"automargin\":true,\"gridcolor\":\"white\",\"linecolor\":\"white\",\"ticks\":\"\",\"title\":{\"standoff\":15},\"zerolinecolor\":\"white\",\"zerolinewidth\":2},\"yaxis\":{\"automargin\":true,\"gridcolor\":\"white\",\"linecolor\":\"white\",\"ticks\":\"\",\"title\":{\"standoff\":15},\"zerolinecolor\":\"white\",\"zerolinewidth\":2}}},\"xaxis\":{\"anchor\":\"y\",\"domain\":[0.0,1.0],\"title\":{\"text\":\"N_ROOM\"}},\"yaxis\":{\"anchor\":\"x\",\"domain\":[0.0,1.0],\"title\":{\"text\":\"Average_price\"}},\"coloraxis\":{\"colorbar\":{\"title\":{\"text\":\"N_ROOM\"}},\"colorscale\":[[0.0,\"#0d0887\"],[0.1111111111111111,\"#46039f\"],[0.2222222222222222,\"#7201a8\"],[0.3333333333333333,\"#9c179e\"],[0.4444444444444444,\"#bd3786\"],[0.5555555555555556,\"#d8576b\"],[0.6666666666666666,\"#ed7953\"],[0.7777777777777778,\"#fb9f3a\"],[0.8888888888888888,\"#fdca26\"],[1.0,\"#f0f921\"]]},\"legend\":{\"tracegroupgap\":0},\"title\":{\"text\":\"<b>room vs Average_price<br>\"},\"barmode\":\"relative\"},                        {\"responsive\": true}                    ).then(function(){\n",
              "                            \n",
              "var gd = document.getElementById('fc92ef0b-9ce9-4660-b27c-8ed9f93bb44c');\n",
              "var x = new MutationObserver(function (mutations, observer) {{\n",
              "        var display = window.getComputedStyle(gd).display;\n",
              "        if (!display || display === 'none') {{\n",
              "            console.log([gd, 'removed!']);\n",
              "            Plotly.purge(gd);\n",
              "            observer.disconnect();\n",
              "        }}\n",
              "}});\n",
              "\n",
              "// Listen for the removal of the full notebook cells\n",
              "var notebookContainer = gd.closest('#notebook-container');\n",
              "if (notebookContainer) {{\n",
              "    x.observe(notebookContainer, {childList: true});\n",
              "}}\n",
              "\n",
              "// Listen for the clearing of the current output cell\n",
              "var outputEl = gd.closest('.output');\n",
              "if (outputEl) {{\n",
              "    x.observe(outputEl, {childList: true});\n",
              "}}\n",
              "\n",
              "                        })                };                            </script>        </div>\n",
              "</body>\n",
              "</html>"
            ]
          },
          "metadata": {}
        }
      ]
    },
    {
      "cell_type": "code",
      "source": [
        "a= [df2.loc[(df2.DIST_MAINROAD>i) & (df2.DIST_MAINROAD<(i+25)),'Total_price'].mean() for i in range(0,200,25)]\n",
        "a"
      ],
      "metadata": {
        "colab": {
          "base_uri": "https://localhost:8080/"
        },
        "id": "wSQbLCSlVpgb",
        "outputId": "5c3293e5-5e2c-42bb-d7b9-0ce5c27f0db8"
      },
      "execution_count": 275,
      "outputs": [
        {
          "output_type": "execute_result",
          "data": {
            "text/plain": [
              "[11417416.258302582,\n",
              " 11355667.68119266,\n",
              " 11363685.728351127,\n",
              " 11225578.22497188,\n",
              " 11307453.68150685,\n",
              " 11592332.415584415,\n",
              " 11591459.745891277,\n",
              " 11516065.714459294]"
            ]
          },
          "metadata": {},
          "execution_count": 275
        }
      ]
    },
    {
      "cell_type": "code",
      "source": [
        "import matplotlib.pyplot as plt\n",
        "plt.scatter(x=list(range(0,200,25)),y=a)\n",
        "plt.xlabel('DIST_MAINROAD')\n",
        "plt.ylabel('Total_price')\n",
        "plt.title('DIST_MAINROAD vs SALES PREIVE')"
      ],
      "metadata": {
        "colab": {
          "base_uri": "https://localhost:8080/",
          "height": 639
        },
        "id": "KhKqE3EGdupU",
        "outputId": "f59e5ed9-3890-4bb2-c110-58c401be150c"
      },
      "execution_count": 276,
      "outputs": [
        {
          "output_type": "execute_result",
          "data": {
            "text/plain": [
              "Text(0.5, 1.0, 'DIST_MAINROAD vs SALES PREIVE')"
            ]
          },
          "metadata": {},
          "execution_count": 276
        },
        {
          "output_type": "display_data",
          "data": {
            "text/plain": [
              "<Figure size 1440x720 with 1 Axes>"
            ],
            "image/png": "[encoded data removed]"
          },
          "metadata": {
            "needs_background": "light"
          }
        }
      ]
    },
    {
      "cell_type": "markdown",
      "source": [
        "#**Machine learning model**"
      ],
      "metadata": {
        "id": "P50BrGYjkrCe"
      }
    },
    {
      "cell_type": "code",
      "source": [
        "data=df2\n",
        "data.info()"
      ],
      "metadata": {
        "colab": {
          "base_uri": "https://localhost:8080/"
        },
        "id": "YB6fRR_jky5C",
        "outputId": "45083242-88a3-4d66-b734-bb68ae229093"
      },
      "execution_count": 293,
      "outputs": [
        {
          "output_type": "stream",
          "name": "stdout",
          "text": [
            "<class 'pandas.core.frame.DataFrame'>\n",
            "Int64Index: 7061 entries, 0 to 7108\n",
            "Data columns (total 24 columns):\n",
            " #   Column         Non-Null Count  Dtype         \n",
            "---  ------         --------------  -----         \n",
            " 0   PRT_ID         7061 non-null   object        \n",
            " 1   AREA           7061 non-null   int64         \n",
            " 2   INT_SQFT       7061 non-null   int64         \n",
            " 3   DATE_SALE      7061 non-null   datetime64[ns]\n",
            " 4   DIST_MAINROAD  7061 non-null   int64         \n",
            " 5   N_BEDROOM      7061 non-null   int64         \n",
            " 6   N_BATHROOM     7061 non-null   int64         \n",
            " 7   N_ROOM         7061 non-null   int64         \n",
            " 8   SALE_COND      7061 non-null   int64         \n",
            " 9   PARK_FACIL     7061 non-null   int64         \n",
            " 10  DATE_BUILD     7061 non-null   datetime64[ns]\n",
            " 11  BUILDTYPE      7061 non-null   int64         \n",
            " 12  UTILITY_AVAIL  7061 non-null   object        \n",
            " 13  STREET         7061 non-null   object        \n",
            " 14  MZZONE         7061 non-null   object        \n",
            " 15  QS_ROOMS       7061 non-null   float64       \n",
            " 16  QS_BATHROOM    7061 non-null   float64       \n",
            " 17  QS_BEDROOM     7061 non-null   float64       \n",
            " 18  QS_OVERALL     7061 non-null   float64       \n",
            " 19  REG_FEE        7061 non-null   int64         \n",
            " 20  COMMIS         7061 non-null   int64         \n",
            " 21  SALES_PRICE    7061 non-null   float64       \n",
            " 22  HOUSE_AGE      7061 non-null   int64         \n",
            " 23  Total_price    7061 non-null   int64         \n",
            "dtypes: datetime64[ns](2), float64(5), int64(13), object(4)\n",
            "memory usage: 1.6+ MB\n"
          ]
        }
      ]
    },
    {
      "cell_type": "code",
      "source": [
        "#Encoding catagorical data\n",
        "from sklearn import preprocessing\n",
        "label_encoder=preprocessing.LabelEncoder()"
      ],
      "metadata": {
        "id": "2qMOqt37mmGu"
      },
      "execution_count": 294,
      "outputs": []
    },
    {
      "cell_type": "code",
      "source": [
        "#Label starts from 0 in alphabetical order.\n",
        "data[\"SALE_COND\"]=label_encoder.fit_transform(data[\"SALE_COND\"])\n",
        "data[\"AREA\"]=label_encoder.fit_transform(data[\"AREA\"])\n",
        "data[\"PARK_FACIL\"]=label_encoder.fit_transform(data[\"PARK_FACIL\"])\n",
        "data[\"BUILDTYPE\"]=label_encoder.fit_transform(data[\"BUILDTYPE\"])\n",
        "\n"
      ],
      "metadata": {
        "colab": {
          "base_uri": "https://localhost:8080/"
        },
        "id": "LqpGHSHGoHDg",
        "outputId": "5ef65799-e418-435e-9c45-c1a369dcdf8b"
      },
      "execution_count": 295,
      "outputs": [
        {
          "output_type": "stream",
          "name": "stderr",
          "text": [
            "/usr/local/lib/python3.7/dist-packages/ipykernel_launcher.py:2: SettingWithCopyWarning:\n",
            "\n",
            "\n",
            "A value is trying to be set on a copy of a slice from a DataFrame.\n",
            "Try using .loc[row_indexer,col_indexer] = value instead\n",
            "\n",
            "See the caveats in the documentation: https://pandas.pydata.org/pandas-docs/stable/user_guide/indexing.html#returning-a-view-versus-a-copy\n",
            "\n",
            "/usr/local/lib/python3.7/dist-packages/ipykernel_launcher.py:3: SettingWithCopyWarning:\n",
            "\n",
            "\n",
            "A value is trying to be set on a copy of a slice from a DataFrame.\n",
            "Try using .loc[row_indexer,col_indexer] = value instead\n",
            "\n",
            "See the caveats in the documentation: https://pandas.pydata.org/pandas-docs/stable/user_guide/indexing.html#returning-a-view-versus-a-copy\n",
            "\n",
            "/usr/local/lib/python3.7/dist-packages/ipykernel_launcher.py:4: SettingWithCopyWarning:\n",
            "\n",
            "\n",
            "A value is trying to be set on a copy of a slice from a DataFrame.\n",
            "Try using .loc[row_indexer,col_indexer] = value instead\n",
            "\n",
            "See the caveats in the documentation: https://pandas.pydata.org/pandas-docs/stable/user_guide/indexing.html#returning-a-view-versus-a-copy\n",
            "\n",
            "/usr/local/lib/python3.7/dist-packages/ipykernel_launcher.py:5: SettingWithCopyWarning:\n",
            "\n",
            "\n",
            "A value is trying to be set on a copy of a slice from a DataFrame.\n",
            "Try using .loc[row_indexer,col_indexer] = value instead\n",
            "\n",
            "See the caveats in the documentation: https://pandas.pydata.org/pandas-docs/stable/user_guide/indexing.html#returning-a-view-versus-a-copy\n",
            "\n"
          ]
        }
      ]
    },
    {
      "cell_type": "code",
      "source": [
        "data.head()\n"
      ],
      "metadata": {
        "colab": {
          "base_uri": "https://localhost:8080/",
          "height": 386
        },
        "id": "-ax9YW5nxCaP",
        "outputId": "a59f7493-ba75-4b7c-d81f-2abb5e11764e"
      },
      "execution_count": 296,
      "outputs": [
        {
          "output_type": "execute_result",
          "data": {
            "text/plain": [
              "   PRT_ID  AREA  INT_SQFT  DATE_SALE  DIST_MAINROAD  N_BEDROOM  N_BATHROOM  \\\n",
              "0  P03210     4      1004 2011-04-05            131          1           1   \n",
              "1  P09411     1      1744 2006-12-19             26          2           1   \n",
              "2  P01812     0       991 2012-04-02             70          1           1   \n",
              "3  P05346     6      1744 2010-03-13             14          3           2   \n",
              "4  P06210     4      1226 2009-05-10             84          1           1   \n",
              "\n",
              "   N_ROOM  SALE_COND  PARK_FACIL  ... MZZONE  QS_ROOMS QS_BATHROOM QS_BEDROOM  \\\n",
              "0       3          0           1  ...      A       4.0         3.9        4.9   \n",
              "1       5          0           0  ...     RH       4.9         4.2        2.5   \n",
              "2       3          0           1  ...     RL       4.1         3.8        2.2   \n",
              "3       5          2           0  ...      I       4.7         3.9        3.6   \n",
              "4       3          0           1  ...      C       3.0         2.5        4.1   \n",
              "\n",
              "  QS_OVERALL  REG_FEE  COMMIS  SALES_PRICE  HOUSE_AGE  Total_price  \n",
              "0      4.330   380000  144400    8272100.0         44      8124400  \n",
              "1      3.765   760122  304049   12993900.0         11     22781941  \n",
              "2      3.090   421094   92114   12993900.0         20     13672408  \n",
              "3      4.010   356321   77042    9630290.0         22     10063653  \n",
              "4      3.290   237000   74063    8272100.0         30      7717313  \n",
              "\n",
              "[5 rows x 24 columns]"
            ],
            "text/html": [
              "\n",
              "  <div id=\"df-e2943c16-44ba-42c6-ac4e-1a24a15659d9\">\n",
              "    <div class=\"colab-df-container\">\n",
              "      <div>\n",
              "<style scoped>\n",
              "    .dataframe tbody tr th:only-of-type {\n",
              "        vertical-align: middle;\n",
              "    }\n",
              "\n",
              "    .dataframe tbody tr th {\n",
              "        vertical-align: top;\n",
              "    }\n",
              "\n",
              "    .dataframe thead th {\n",
              "        text-align: right;\n",
              "    }\n",
              "</style>\n",
              "<table border=\"1\" class=\"dataframe\">\n",
              "  <thead>\n",
              "    <tr style=\"text-align: right;\">\n",
              "      <th></th>\n",
              "      <th>PRT_ID</th>\n",
              "      <th>AREA</th>\n",
              "      <th>INT_SQFT</th>\n",
              "      <th>DATE_SALE</th>\n",
              "      <th>DIST_MAINROAD</th>\n",
              "      <th>N_BEDROOM</th>\n",
              "      <th>N_BATHROOM</th>\n",
              "      <th>N_ROOM</th>\n",
              "      <th>SALE_COND</th>\n",
              "      <th>PARK_FACIL</th>\n",
              "      <th>...</th>\n",
              "      <th>MZZONE</th>\n",
              "      <th>QS_ROOMS</th>\n",
              "      <th>QS_BATHROOM</th>\n",
              "      <th>QS_BEDROOM</th>\n",
              "      <th>QS_OVERALL</th>\n",
              "      <th>REG_FEE</th>\n",
              "      <th>COMMIS</th>\n",
              "      <th>SALES_PRICE</th>\n",
              "      <th>HOUSE_AGE</th>\n",
              "      <th>Total_price</th>\n",
              "    </tr>\n",
              "  </thead>\n",
              "  <tbody>\n",
              "    <tr>\n",
              "      <th>0</th>\n",
              "      <td>P03210</td>\n",
              "      <td>4</td>\n",
              "      <td>1004</td>\n",
              "      <td>2011-04-05</td>\n",
              "      <td>131</td>\n",
              "      <td>1</td>\n",
              "      <td>1</td>\n",
              "      <td>3</td>\n",
              "      <td>0</td>\n",
              "      <td>1</td>\n",
              "      <td>...</td>\n",
              "      <td>A</td>\n",
              "      <td>4.0</td>\n",
              "      <td>3.9</td>\n",
              "      <td>4.9</td>\n",
              "      <td>4.330</td>\n",
              "      <td>380000</td>\n",
              "      <td>144400</td>\n",
              "      <td>8272100.0</td>\n",
              "      <td>44</td>\n",
              "      <td>8124400</td>\n",
              "    </tr>\n",
              "    <tr>\n",
              "      <th>1</th>\n",
              "      <td>P09411</td>\n",
              "      <td>1</td>\n",
              "      <td>1744</td>\n",
              "      <td>2006-12-19</td>\n",
              "      <td>26</td>\n",
              "      <td>2</td>\n",
              "      <td>1</td>\n",
              "      <td>5</td>\n",
              "      <td>0</td>\n",
              "      <td>0</td>\n",
              "      <td>...</td>\n",
              "      <td>RH</td>\n",
              "      <td>4.9</td>\n",
              "      <td>4.2</td>\n",
              "      <td>2.5</td>\n",
              "      <td>3.765</td>\n",
              "      <td>760122</td>\n",
              "      <td>304049</td>\n",
              "      <td>12993900.0</td>\n",
              "      <td>11</td>\n",
              "      <td>22781941</td>\n",
              "    </tr>\n",
              "    <tr>\n",
              "      <th>2</th>\n",
              "      <td>P01812</td>\n",
              "      <td>0</td>\n",
              "      <td>991</td>\n",
              "      <td>2012-04-02</td>\n",
              "      <td>70</td>\n",
              "      <td>1</td>\n",
              "      <td>1</td>\n",
              "      <td>3</td>\n",
              "      <td>0</td>\n",
              "      <td>1</td>\n",
              "      <td>...</td>\n",
              "      <td>RL</td>\n",
              "      <td>4.1</td>\n",
              "      <td>3.8</td>\n",
              "      <td>2.2</td>\n",
              "      <td>3.090</td>\n",
              "      <td>421094</td>\n",
              "      <td>92114</td>\n",
              "      <td>12993900.0</td>\n",
              "      <td>20</td>\n",
              "      <td>13672408</td>\n",
              "    </tr>\n",
              "    <tr>\n",
              "      <th>3</th>\n",
              "      <td>P05346</td>\n",
              "      <td>6</td>\n",
              "      <td>1744</td>\n",
              "      <td>2010-03-13</td>\n",
              "      <td>14</td>\n",
              "      <td>3</td>\n",
              "      <td>2</td>\n",
              "      <td>5</td>\n",
              "      <td>2</td>\n",
              "      <td>0</td>\n",
              "      <td>...</td>\n",
              "      <td>I</td>\n",
              "      <td>4.7</td>\n",
              "      <td>3.9</td>\n",
              "      <td>3.6</td>\n",
              "      <td>4.010</td>\n",
              "      <td>356321</td>\n",
              "      <td>77042</td>\n",
              "      <td>9630290.0</td>\n",
              "      <td>22</td>\n",
              "      <td>10063653</td>\n",
              "    </tr>\n",
              "    <tr>\n",
              "      <th>4</th>\n",
              "      <td>P06210</td>\n",
              "      <td>4</td>\n",
              "      <td>1226</td>\n",
              "      <td>2009-05-10</td>\n",
              "      <td>84</td>\n",
              "      <td>1</td>\n",
              "      <td>1</td>\n",
              "      <td>3</td>\n",
              "      <td>0</td>\n",
              "      <td>1</td>\n",
              "      <td>...</td>\n",
              "      <td>C</td>\n",
              "      <td>3.0</td>\n",
              "      <td>2.5</td>\n",
              "      <td>4.1</td>\n",
              "      <td>3.290</td>\n",
              "      <td>237000</td>\n",
              "      <td>74063</td>\n",
              "      <td>8272100.0</td>\n",
              "      <td>30</td>\n",
              "      <td>7717313</td>\n",
              "    </tr>\n",
              "  </tbody>\n",
              "</table>\n",
              "<p>5 rows × 24 columns</p>\n",
              "</div>\n",
              "      <button class=\"colab-df-convert\" onclick=\"convertToInteractive('df-e2943c16-44ba-42c6-ac4e-1a24a15659d9')\"\n",
              "              title=\"Convert this dataframe to an interactive table.\"\n",
              "              style=\"display:none;\">\n",
              "        \n",
              "  <svg xmlns=\"http://www.w3.org/2000/svg\" height=\"24px\"viewBox=\"0 0 24 24\"\n",
              "       width=\"24px\">\n",
              "    <path d=\"M0 0h24v24H0V0z\" fill=\"none\"/>\n",
              "    <path d=\"M18.56 5.44l.94 2.06.94-2.06 2.06-.94-2.06-.94-.94-2.06-.94 2.06-2.06.94zm-11 1L8.5 8.5l.94-2.06 2.06-.94-2.06-.94L8.5 2.5l-.94 2.06-2.06.94zm10 10l.94 2.06.94-2.06 2.06-.94-2.06-.94-.94-2.06-.94 2.06-2.06.94z\"/><path d=\"M17.41 7.96l-1.37-1.37c-.4-.4-.92-.59-1.43-.59-.52 0-1.04.2-1.43.59L10.3 9.45l-7.72 7.72c-.78.78-.78 2.05 0 2.83L4 21.41c.39.39.9.59 1.41.59.51 0 1.02-.2 1.41-.59l7.78-7.78 2.81-2.81c.8-.78.8-2.07 0-2.86zM5.41 20L4 18.59l7.72-7.72 1.47 1.35L5.41 20z\"/>\n",
              "  </svg>\n",
              "      </button>\n",
              "      \n",
              "  <style>\n",
              "    .colab-df-container {\n",
              "      display:flex;\n",
              "      flex-wrap:wrap;\n",
              "      gap: 12px;\n",
              "    }\n",
              "\n",
              "    .colab-df-convert {\n",
              "      background-color: #E8F0FE;\n",
              "      border: none;\n",
              "      border-radius: 50%;\n",
              "      cursor: pointer;\n",
              "      display: none;\n",
              "      fill: #1967D2;\n",
              "      height: 32px;\n",
              "      padding: 0 0 0 0;\n",
              "      width: 32px;\n",
              "    }\n",
              "\n",
              "    .colab-df-convert:hover {\n",
              "      background-color: #E2EBFA;\n",
              "      box-shadow: 0px 1px 2px rgba(60, 64, 67, 0.3), 0px 1px 3px 1px rgba(60, 64, 67, 0.15);\n",
              "      fill: #174EA6;\n",
              "    }\n",
              "\n",
              "    [theme=dark] .colab-df-convert {\n",
              "      background-color: #3B4455;\n",
              "      fill: #D2E3FC;\n",
              "    }\n",
              "\n",
              "    [theme=dark] .colab-df-convert:hover {\n",
              "      background-color: #434B5C;\n",
              "      box-shadow: 0px 1px 3px 1px rgba(0, 0, 0, 0.15);\n",
              "      filter: drop-shadow(0px 1px 2px rgba(0, 0, 0, 0.3));\n",
              "      fill: #FFFFFF;\n",
              "    }\n",
              "  </style>\n",
              "\n",
              "      <script>\n",
              "        const buttonEl =\n",
              "          document.querySelector('#df-e2943c16-44ba-42c6-ac4e-1a24a15659d9 button.colab-df-convert');\n",
              "        buttonEl.style.display =\n",
              "          google.colab.kernel.accessAllowed ? 'block' : 'none';\n",
              "\n",
              "        async function convertToInteractive(key) {\n",
              "          const element = document.querySelector('#df-e2943c16-44ba-42c6-ac4e-1a24a15659d9');\n",
              "          const dataTable =\n",
              "            await google.colab.kernel.invokeFunction('convertToInteractive',\n",
              "                                                     [key], {});\n",
              "          if (!dataTable) return;\n",
              "\n",
              "          const docLinkHtml = 'Like what you see? Visit the ' +\n",
              "            '<a target=\"_blank\" href=https://colab.research.google.com/notebooks/data_table.ipynb>data table notebook</a>'\n",
              "            + ' to learn more about interactive tables.';\n",
              "          element.innerHTML = '';\n",
              "          dataTable['output_type'] = 'display_data';\n",
              "          await google.colab.output.renderOutput(dataTable, element);\n",
              "          const docLink = document.createElement('div');\n",
              "          docLink.innerHTML = docLinkHtml;\n",
              "          element.appendChild(docLink);\n",
              "        }\n",
              "      </script>\n",
              "    </div>\n",
              "  </div>\n",
              "  "
            ]
          },
          "metadata": {},
          "execution_count": 296
        }
      ]
    },
    {
      "cell_type": "markdown",
      "source": [
        "#**Linear Regression**"
      ],
      "metadata": {
        "id": "l3roikWB8kCG"
      }
    },
    {
      "cell_type": "code",
      "source": [
        "x=data[['AREA','INT_SQFT','N_BEDROOM','N_BATHROOM','N_ROOM','HOUSE_AGE']].values\n",
        "y=data['Total_price'].values"
      ],
      "metadata": {
        "id": "YcvXLPGMyVmg"
      },
      "execution_count": 281,
      "outputs": []
    },
    {
      "cell_type": "code",
      "source": [
        "from sklearn.model_selection import train_test_split"
      ],
      "metadata": {
        "id": "WfA9vTcn1I60"
      },
      "execution_count": 282,
      "outputs": []
    },
    {
      "cell_type": "code",
      "source": [
        "x_train,x_test,y_train,y_test= train_test_split(x,y,test_size=0.2,random_state=0)\n",
        "len(x_train)\n",
        "len(x_test)"
      ],
      "metadata": {
        "colab": {
          "base_uri": "https://localhost:8080/"
        },
        "id": "_TqpbbhE1mzD",
        "outputId": "d798955a-ad8a-4cea-8a83-75a1167f6051"
      },
      "execution_count": 283,
      "outputs": [
        {
          "output_type": "execute_result",
          "data": {
            "text/plain": [
              "1413"
            ]
          },
          "metadata": {},
          "execution_count": 283
        }
      ]
    },
    {
      "cell_type": "code",
      "source": [
        "from sklearn.linear_model import LinearRegression\n",
        "clf = LinearRegression()\n",
        "clf.fit(x_train,y_train)\n",
        "clf.predict(x_test)\n",
        "y_test\n"
      ],
      "metadata": {
        "colab": {
          "base_uri": "https://localhost:8080/"
        },
        "id": "9Bg_LxUz2Msa",
        "outputId": "4d9ffaa2-ac81-4171-e7bd-6cfcc1e2a898"
      },
      "execution_count": 284,
      "outputs": [
        {
          "output_type": "execute_result",
          "data": {
            "text/plain": [
              "array([ 9975882,  9938410,  7869632, ..., 11161821,  5454280, 17383027])"
            ]
          },
          "metadata": {},
          "execution_count": 284
        }
      ]
    },
    {
      "cell_type": "code",
      "source": [
        "clf.score(x_test,y_test)"
      ],
      "metadata": {
        "colab": {
          "base_uri": "https://localhost:8080/"
        },
        "id": "I35j8zEp38Fe",
        "outputId": "db3bfad5-c43e-4126-f9e0-1a9e046e77e4"
      },
      "execution_count": 286,
      "outputs": [
        {
          "output_type": "execute_result",
          "data": {
            "text/plain": [
              "0.5098449661997819"
            ]
          },
          "metadata": {},
          "execution_count": 286
        }
      ]
    },
    {
      "cell_type": "code",
      "source": [
        "# assigning cross valitation for better model score\n",
        "from sklearn.model_selection import ShuffleSplit\n",
        "from sklearn.model_selection import cross_val_score\n",
        "cv = ShuffleSplit(n_splits=5, test_size=0.2, random_state=0)\n",
        "cross_val_score(LinearRegression(),x,y,cv=cv)"
      ],
      "metadata": {
        "colab": {
          "base_uri": "https://localhost:8080/"
        },
        "id": "KssV5P3bBFRn",
        "outputId": "4cdbb8c2-801f-48b0-ff93-97c83bcd04c2"
      },
      "execution_count": 297,
      "outputs": [
        {
          "output_type": "execute_result",
          "data": {
            "text/plain": [
              "array([0.50984497, 0.52489081, 0.52682575, 0.51815464, 0.53454614])"
            ]
          },
          "metadata": {},
          "execution_count": 297
        }
      ]
    },
    {
      "cell_type": "markdown",
      "source": [
        "#**Decision Tree**"
      ],
      "metadata": {
        "id": "snhX0mpu892B"
      }
    },
    {
      "cell_type": "code",
      "source": [
        "x=data[['AREA','INT_SQFT','N_BEDROOM','N_BATHROOM','N_ROOM','HOUSE_AGE']].values\n",
        "y=data['Total_price'].values"
      ],
      "metadata": {
        "id": "ro6tKPMx9l_Q"
      },
      "execution_count": 329,
      "outputs": []
    },
    {
      "cell_type": "code",
      "source": [
        "from sklearn.model_selection import train_test_split"
      ],
      "metadata": {
        "id": "DtJQPpQZ9tll"
      },
      "execution_count": 288,
      "outputs": []
    },
    {
      "cell_type": "code",
      "source": [
        "x_train,x_test,y_train,y_test= train_test_split(x,y,test_size=0.2,random_state=0)\n",
        "len(x_train)\n",
        "len(x_test)"
      ],
      "metadata": {
        "colab": {
          "base_uri": "https://localhost:8080/"
        },
        "id": "gT7AONYt9_fN",
        "outputId": "2073c318-e334-47b6-df73-ffc29ecf4637"
      },
      "execution_count": 289,
      "outputs": [
        {
          "output_type": "execute_result",
          "data": {
            "text/plain": [
              "1413"
            ]
          },
          "metadata": {},
          "execution_count": 289
        }
      ]
    },
    {
      "cell_type": "code",
      "source": [
        "from sklearn import tree\n",
        "model=tree.DecisionTreeClassifier()\n",
        "model.fit(x_train,y_train)\n",
        "model.predict(x_test)\n",
        "y_test\n"
      ],
      "metadata": {
        "colab": {
          "base_uri": "https://localhost:8080/"
        },
        "id": "amUd5lku-Ass",
        "outputId": "18948b59-c59d-42a8-9cab-26892987e4fc"
      },
      "execution_count": 291,
      "outputs": [
        {
          "output_type": "execute_result",
          "data": {
            "text/plain": [
              "array([ 9975882,  9938410,  7869632, ..., 11161821,  5454280, 17383027])"
            ]
          },
          "metadata": {},
          "execution_count": 291
        }
      ]
    },
    {
      "cell_type": "code",
      "source": [
        "model.score(x_test,y_test)"
      ],
      "metadata": {
        "colab": {
          "base_uri": "https://localhost:8080/"
        },
        "id": "UqR4rCdn-wjy",
        "outputId": "5dc83b6e-7240-4d1c-aca3-d5e0f3d3c296"
      },
      "execution_count": 292,
      "outputs": [
        {
          "output_type": "execute_result",
          "data": {
            "text/plain": [
              "0.0"
            ]
          },
          "metadata": {},
          "execution_count": 292
        }
      ]
    },
    {
      "cell_type": "markdown",
      "source": [
        "#**SVM**"
      ],
      "metadata": {
        "id": "LJUN_oJyLLJv"
      }
    },
    {
      "cell_type": "code",
      "source": [
        "x=data[['AREA','INT_SQFT','N_BEDROOM','N_BATHROOM','N_ROOM','HOUSE_AGE']].values\n",
        "y=data['Total_price'].values"
      ],
      "metadata": {
        "id": "uD56rZTeLPHj"
      },
      "execution_count": 330,
      "outputs": []
    },
    {
      "cell_type": "code",
      "source": [
        "from sklearn.model_selection import train_test_split"
      ],
      "metadata": {
        "id": "TWwNfnJqLTL_"
      },
      "execution_count": 331,
      "outputs": []
    },
    {
      "cell_type": "code",
      "source": [
        "x_train,x_test,y_train,y_test= train_test_split(x,y,test_size=0.2,random_state=0)\n",
        "len(x_train)\n",
        "len(x_test)"
      ],
      "metadata": {
        "colab": {
          "base_uri": "https://localhost:8080/"
        },
        "id": "FyDx9PoGLXDU",
        "outputId": "2531f0b4-9d88-4e91-e799-c4a68154fbcf"
      },
      "execution_count": 332,
      "outputs": [
        {
          "output_type": "execute_result",
          "data": {
            "text/plain": [
              "1413"
            ]
          },
          "metadata": {},
          "execution_count": 332
        }
      ]
    },
    {
      "cell_type": "code",
      "source": [
        "from sklearn.svm import SVC"
      ],
      "metadata": {
        "id": "EBbt88xmLXKb"
      },
      "execution_count": 333,
      "outputs": []
    },
    {
      "cell_type": "code",
      "source": [
        "model = SVC()\n",
        "model.fit(x_train,y_train)\n"
      ],
      "metadata": {
        "colab": {
          "base_uri": "https://localhost:8080/"
        },
        "id": "44gUnM9_LXTa",
        "outputId": "2f435a5c-c232-4996-9db5-5d50249159f9"
      },
      "execution_count": 337,
      "outputs": [
        {
          "output_type": "execute_result",
          "data": {
            "text/plain": [
              "SVC()"
            ]
          },
          "metadata": {},
          "execution_count": 337
        }
      ]
    },
    {
      "cell_type": "code",
      "source": [
        "model.score(x_test,y_test)"
      ],
      "metadata": {
        "id": "Cj0uwmNqOcOO"
      },
      "execution_count": null,
      "outputs": []
    }
  ]
}